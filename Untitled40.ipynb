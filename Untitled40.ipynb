{
  "nbformat": 4,
  "nbformat_minor": 0,
  "metadata": {
    "colab": {
      "name": "Untitled40.ipynb",
      "provenance": [],
      "authorship_tag": "ABX9TyPvR8B0zPE7pVAGoCSPMY8M",
      "include_colab_link": true
    },
    "kernelspec": {
      "name": "python3",
      "display_name": "Python 3"
    },
    "language_info": {
      "name": "python"
    }
  },
  "cells": [
    {
      "cell_type": "markdown",
      "metadata": {
        "id": "view-in-github",
        "colab_type": "text"
      },
      "source": [
        "<a href=\"https://colab.research.google.com/github/kamarshahein/Epsilon/blob/main/Untitled40.ipynb\" target=\"_parent\"><img src=\"https://colab.research.google.com/assets/colab-badge.svg\" alt=\"Open In Colab\"/></a>"
      ]
    },
    {
      "cell_type": "code",
      "execution_count": null,
      "metadata": {
        "colab": {
          "base_uri": "https://localhost:8080/"
        },
        "id": "S641azkLofYc",
        "outputId": "1c5ece69-cbcb-46b9-db8b-55064ce54bae"
      },
      "outputs": [
        {
          "output_type": "stream",
          "name": "stdout",
          "text": [
            "Looking in indexes: https://pypi.org/simple, https://us-python.pkg.dev/colab-wheels/public/simple/\n",
            "Collecting python-bidi\n",
            "  Downloading python_bidi-0.4.2-py2.py3-none-any.whl (30 kB)\n",
            "Requirement already satisfied: six in /usr/local/lib/python3.7/dist-packages (from python-bidi) (1.15.0)\n",
            "Installing collected packages: python-bidi\n",
            "Successfully installed python-bidi-0.4.2\n"
          ]
        }
      ],
      "source": [
        "! pip install python-bidi "
      ]
    },
    {
      "cell_type": "code",
      "source": [
        "!pip install chart_studio"
      ],
      "metadata": {
        "colab": {
          "base_uri": "https://localhost:8080/"
        },
        "id": "vkYx2MEq3URb",
        "outputId": "401d1013-aa74-44c7-9027-b4be200880ad"
      },
      "execution_count": null,
      "outputs": [
        {
          "output_type": "stream",
          "name": "stdout",
          "text": [
            "Looking in indexes: https://pypi.org/simple, https://us-python.pkg.dev/colab-wheels/public/simple/\n",
            "Collecting chart_studio\n",
            "  Downloading chart_studio-1.1.0-py3-none-any.whl (64 kB)\n",
            "\u001b[K     |████████████████████████████████| 64 kB 1.9 MB/s \n",
            "\u001b[?25hCollecting retrying>=1.3.3\n",
            "  Downloading retrying-1.3.3.tar.gz (10 kB)\n",
            "Requirement already satisfied: six in /usr/local/lib/python3.7/dist-packages (from chart_studio) (1.15.0)\n",
            "Requirement already satisfied: requests in /usr/local/lib/python3.7/dist-packages (from chart_studio) (2.23.0)\n",
            "Requirement already satisfied: plotly in /usr/local/lib/python3.7/dist-packages (from chart_studio) (5.5.0)\n",
            "Requirement already satisfied: tenacity>=6.2.0 in /usr/local/lib/python3.7/dist-packages (from plotly->chart_studio) (8.0.1)\n",
            "Requirement already satisfied: urllib3!=1.25.0,!=1.25.1,<1.26,>=1.21.1 in /usr/local/lib/python3.7/dist-packages (from requests->chart_studio) (1.24.3)\n",
            "Requirement already satisfied: certifi>=2017.4.17 in /usr/local/lib/python3.7/dist-packages (from requests->chart_studio) (2022.6.15)\n",
            "Requirement already satisfied: chardet<4,>=3.0.2 in /usr/local/lib/python3.7/dist-packages (from requests->chart_studio) (3.0.4)\n",
            "Requirement already satisfied: idna<3,>=2.5 in /usr/local/lib/python3.7/dist-packages (from requests->chart_studio) (2.10)\n",
            "Building wheels for collected packages: retrying\n",
            "  Building wheel for retrying (setup.py) ... \u001b[?25l\u001b[?25hdone\n",
            "  Created wheel for retrying: filename=retrying-1.3.3-py3-none-any.whl size=11447 sha256=eac0acba081759b8baeaf145844e01678f2236d793c972a7f91d3c70287e2f16\n",
            "  Stored in directory: /root/.cache/pip/wheels/f9/8d/8d/f6af3f7f9eea3553bc2fe6d53e4b287dad18b06a861ac56ddf\n",
            "Successfully built retrying\n",
            "Installing collected packages: retrying, chart-studio\n",
            "Successfully installed chart-studio-1.1.0 retrying-1.3.3\n"
          ]
        }
      ]
    },
    {
      "cell_type": "code",
      "source": [
        "import chart_studio\n",
        "import chart_studio.plotly as py\n",
        "import chart_studio.tools as tls"
      ],
      "metadata": {
        "id": "TV5fIdb_3dxu"
      },
      "execution_count": null,
      "outputs": []
    },
    {
      "cell_type": "code",
      "source": [
        ""
      ],
      "metadata": {
        "id": "WOlEkueH37aU"
      },
      "execution_count": null,
      "outputs": []
    },
    {
      "cell_type": "code",
      "source": [
        ""
      ],
      "metadata": {
        "id": "MdQ_Un9P37hj"
      },
      "execution_count": null,
      "outputs": []
    },
    {
      "cell_type": "code",
      "source": [
        "!pip install arabic-reshaper"
      ],
      "metadata": {
        "colab": {
          "base_uri": "https://localhost:8080/"
        },
        "id": "cWLw6LCpojUE",
        "outputId": "61487cc0-26d0-4bce-ce27-92d85d241aba"
      },
      "execution_count": null,
      "outputs": [
        {
          "output_type": "stream",
          "name": "stdout",
          "text": [
            "Looking in indexes: https://pypi.org/simple, https://us-python.pkg.dev/colab-wheels/public/simple/\n",
            "Collecting arabic-reshaper\n",
            "  Downloading arabic_reshaper-2.1.3-py3-none-any.whl (20 kB)\n",
            "Requirement already satisfied: future in /usr/local/lib/python3.7/dist-packages (from arabic-reshaper) (0.16.0)\n",
            "Requirement already satisfied: setuptools in /usr/local/lib/python3.7/dist-packages (from arabic-reshaper) (57.4.0)\n",
            "Installing collected packages: arabic-reshaper\n",
            "Successfully installed arabic-reshaper-2.1.3\n"
          ]
        }
      ]
    },
    {
      "cell_type": "code",
      "source": [
        "!pip install python-bidi"
      ],
      "metadata": {
        "colab": {
          "base_uri": "https://localhost:8080/"
        },
        "id": "kiTQAzIGojuu",
        "outputId": "b9ee929f-d49f-41a9-9976-eba5db804459"
      },
      "execution_count": null,
      "outputs": [
        {
          "output_type": "stream",
          "name": "stdout",
          "text": [
            "Looking in indexes: https://pypi.org/simple, https://us-python.pkg.dev/colab-wheels/public/simple/\n",
            "Requirement already satisfied: python-bidi in /usr/local/lib/python3.7/dist-packages (0.4.2)\n",
            "Requirement already satisfied: six in /usr/local/lib/python3.7/dist-packages (from python-bidi) (1.15.0)\n"
          ]
        }
      ]
    },
    {
      "cell_type": "code",
      "source": [
        "! pip install wordcloud \n"
      ],
      "metadata": {
        "colab": {
          "base_uri": "https://localhost:8080/"
        },
        "id": "eVIzutSSolmf",
        "outputId": "93bd917c-fa7b-4d42-b243-932969b6659f"
      },
      "execution_count": null,
      "outputs": [
        {
          "output_type": "stream",
          "name": "stdout",
          "text": [
            "Looking in indexes: https://pypi.org/simple, https://us-python.pkg.dev/colab-wheels/public/simple/\n",
            "Requirement already satisfied: wordcloud in /usr/local/lib/python3.7/dist-packages (1.8.2.2)\n",
            "Requirement already satisfied: pillow in /usr/local/lib/python3.7/dist-packages (from wordcloud) (7.1.2)\n",
            "Requirement already satisfied: matplotlib in /usr/local/lib/python3.7/dist-packages (from wordcloud) (3.2.2)\n",
            "Requirement already satisfied: numpy>=1.6.1 in /usr/local/lib/python3.7/dist-packages (from wordcloud) (1.21.6)\n",
            "Requirement already satisfied: python-dateutil>=2.1 in /usr/local/lib/python3.7/dist-packages (from matplotlib->wordcloud) (2.8.2)\n",
            "Requirement already satisfied: cycler>=0.10 in /usr/local/lib/python3.7/dist-packages (from matplotlib->wordcloud) (0.11.0)\n",
            "Requirement already satisfied: kiwisolver>=1.0.1 in /usr/local/lib/python3.7/dist-packages (from matplotlib->wordcloud) (1.4.4)\n",
            "Requirement already satisfied: pyparsing!=2.0.4,!=2.1.2,!=2.1.6,>=2.0.1 in /usr/local/lib/python3.7/dist-packages (from matplotlib->wordcloud) (3.0.9)\n",
            "Requirement already satisfied: typing-extensions in /usr/local/lib/python3.7/dist-packages (from kiwisolver>=1.0.1->matplotlib->wordcloud) (4.1.1)\n",
            "Requirement already satisfied: six>=1.5 in /usr/local/lib/python3.7/dist-packages (from python-dateutil>=2.1->matplotlib->wordcloud) (1.15.0)\n"
          ]
        }
      ]
    },
    {
      "cell_type": "code",
      "source": [
        "! pip install PyArabic\n"
      ],
      "metadata": {
        "colab": {
          "base_uri": "https://localhost:8080/"
        },
        "id": "iyxTrPObonV4",
        "outputId": "ee84692f-fd9e-4af7-eb06-e0e3b6957caf"
      },
      "execution_count": null,
      "outputs": [
        {
          "output_type": "stream",
          "name": "stdout",
          "text": [
            "Looking in indexes: https://pypi.org/simple, https://us-python.pkg.dev/colab-wheels/public/simple/\n",
            "Collecting PyArabic\n",
            "  Downloading PyArabic-0.6.15-py3-none-any.whl (126 kB)\n",
            "\u001b[K     |████████████████████████████████| 126 kB 4.1 MB/s \n",
            "\u001b[?25hRequirement already satisfied: six>=1.14.0 in /usr/local/lib/python3.7/dist-packages (from PyArabic) (1.15.0)\n",
            "Installing collected packages: PyArabic\n",
            "Successfully installed PyArabic-0.6.15\n"
          ]
        }
      ]
    },
    {
      "cell_type": "code",
      "source": [
        "!pip install arabic-reshaper"
      ],
      "metadata": {
        "colab": {
          "base_uri": "https://localhost:8080/"
        },
        "id": "m9Atlsifopnn",
        "outputId": "24cb2aae-5bc6-4010-d33b-1e73ed4b8282"
      },
      "execution_count": null,
      "outputs": [
        {
          "output_type": "stream",
          "name": "stdout",
          "text": [
            "Looking in indexes: https://pypi.org/simple, https://us-python.pkg.dev/colab-wheels/public/simple/\n",
            "Requirement already satisfied: arabic-reshaper in /usr/local/lib/python3.7/dist-packages (2.1.3)\n",
            "Requirement already satisfied: setuptools in /usr/local/lib/python3.7/dist-packages (from arabic-reshaper) (57.4.0)\n",
            "Requirement already satisfied: future in /usr/local/lib/python3.7/dist-packages (from arabic-reshaper) (0.16.0)\n"
          ]
        }
      ]
    },
    {
      "cell_type": "code",
      "source": [
        "from sklearn.feature_extraction.text import CountVectorizer\n",
        "import pyarabic.araby as araby           # pip install PyArabic\n",
        "import matplotlib.pyplot as plt\n",
        "from wordcloud import WordCloud          # pip install wordcloud\n",
        "import seaborn as sns\n",
        "from arabic_reshaper import reshape      # pip install arabic-reshaper\n",
        "from bidi.algorithm import get_display   # pip install python-bidi\n",
        "import numpy as np # linear algebra\n",
        "import pandas as pd # data processing, CSV file I/O (e.g. pd.read_csv)\n",
        "import arabic_reshaper\n",
        "# Input data files are available in the read-only \"../input/\" directory\n",
        "# For example, running this (by clicking run or pressing Shift+Enter) will list all files under the input directory\n",
        "\n",
        "import os\n",
        "for dirname, _, filenames in os.walk('/kaggle/input'):\n",
        "    for filename in filenames:\n",
        "        print(os.path.join(dirname, filename))"
      ],
      "metadata": {
        "id": "Q610xfMdotrr"
      },
      "execution_count": null,
      "outputs": []
    },
    {
      "cell_type": "code",
      "source": [
        "df = pd.read_excel('/content/3 محافظات.xlsx')"
      ],
      "metadata": {
        "id": "H48bzGwaowmk"
      },
      "execution_count": null,
      "outputs": []
    },
    {
      "cell_type": "code",
      "source": [
        "df.head(5)"
      ],
      "metadata": {
        "colab": {
          "base_uri": "https://localhost:8080/",
          "height": 528
        },
        "id": "-65u-SVRo_li",
        "outputId": "be55b140-815b-466f-a681-301f388b4e19"
      },
      "execution_count": null,
      "outputs": [
        {
          "output_type": "execute_result",
          "data": {
            "text/plain": [
              "                                محور  \\\n",
              "0        التنمية الإقتصادية والتشغيل   \n",
              "1        التنمية الإقتصادية والتشغيل   \n",
              "2        التنمية الإقتصادية والتشغيل   \n",
              "3  تحسين المعيشة والإستثمار في البشر   \n",
              "4   تحسين جودة خدمات التنمية البشرية   \n",
              "\n",
              "                                            البرنامج  \\\n",
              "0                                 تعزيز قدرات الشباب   \n",
              "1  إتاحة التمويل للمشروعات المتوسطة والصغيرة ومتن...   \n",
              "2  إتاحة التمويل للمشروعات المتوسطة والصغيرة ومتن...   \n",
              "3                                 توفير السكن اللائق   \n",
              "4                               تطوير الخدمات الصحية   \n",
              "\n",
              "                          جهة الإسناد الرئيسية  \\\n",
              "0                          وزارة القوى العاملة   \n",
              "1              وزارة التموين والتجارة الداخلية   \n",
              "2                           رئاسة مجلس الوزراء   \n",
              "3  وزارة الإسكان والمرافق والمجتمعات العمرانية   \n",
              "4                          وزارة الصحة والسكان   \n",
              "\n",
              "                                          اسم التدخل  \\\n",
              "0            تنظيم وحدات تدريب متنقلة لقرية ابو راشد   \n",
              "1  منفذ جمعيتي (المرحلة الرابعة) : الاسم / رشا نش...   \n",
              "2  إتاحة تمويل للمشروعات الصغيرة ومتناهية الصغر م...   \n",
              "3                               توفير وحدات سكن كريم   \n",
              "4     توفير عيادة طبية متنقلة لخدمة أهالي قرى المركز   \n",
              "\n",
              "   الإعتماد المالي(ألف جنيه)  المنصرف (ألف جنيه)  نسبة الإنجاز المالي (%)  \\\n",
              "0                        112                 112                      100   \n",
              "1                        200                 200                      100   \n",
              "2                       8569                8569                      100   \n",
              "3                       1504                   0                        0   \n",
              "4                      19000                   0                        0   \n",
              "\n",
              "   نسبة الإنجاز العيني (%)                     مؤشر الأداء علي مستوي المخرجات  \\\n",
              "0                      100                               إجمالي عدد المتدربين   \n",
              "1                      100                      عدد فرص العمل التي تم توفيرها   \n",
              "2                      100                    عدد فرص العمل الناتجة عن القروض   \n",
              "3                        0  عدد منازل الأسر الأولى بالرعاية التى تم رفع كف...   \n",
              "4                        0       عدد العيادات الطبية المتنقلة التي تم توفيرها   \n",
              "\n",
              "   قيمة مؤشر الأداء على مستوى المخرجات (المستهدف)  \\\n",
              "0                                              70   \n",
              "1                                               3   \n",
              "2                                             463   \n",
              "3                                               9   \n",
              "4                                              10   \n",
              "\n",
              "   قيمة مؤشر الأداء على مستوى المخرجات (المنفذ)        وحدة القياس  \\\n",
              "0                                          70.0              متدرب   \n",
              "1                                           3.0               فرصة   \n",
              "2                                         463.0               فرصة   \n",
              "3                                           NaN               منزل   \n",
              "4                                           NaN  عيادة طبية متنقلة   \n",
              "\n",
              "  اسم المحافظة اسم القرية  \n",
              "0        دمياط    كفر سعد  \n",
              "1        دمياط    كفر سعد  \n",
              "2        دمياط    كفر سعد  \n",
              "3        دمياط    كفر سعد  \n",
              "4        دمياط    كفر سعد  "
            ],
            "text/html": [
              "\n",
              "  <div id=\"df-4f11119a-943b-4752-a022-9958540675a6\">\n",
              "    <div class=\"colab-df-container\">\n",
              "      <div>\n",
              "<style scoped>\n",
              "    .dataframe tbody tr th:only-of-type {\n",
              "        vertical-align: middle;\n",
              "    }\n",
              "\n",
              "    .dataframe tbody tr th {\n",
              "        vertical-align: top;\n",
              "    }\n",
              "\n",
              "    .dataframe thead th {\n",
              "        text-align: right;\n",
              "    }\n",
              "</style>\n",
              "<table border=\"1\" class=\"dataframe\">\n",
              "  <thead>\n",
              "    <tr style=\"text-align: right;\">\n",
              "      <th></th>\n",
              "      <th>محور</th>\n",
              "      <th>البرنامج</th>\n",
              "      <th>جهة الإسناد الرئيسية</th>\n",
              "      <th>اسم التدخل</th>\n",
              "      <th>الإعتماد المالي(ألف جنيه)</th>\n",
              "      <th>المنصرف (ألف جنيه)</th>\n",
              "      <th>نسبة الإنجاز المالي (%)</th>\n",
              "      <th>نسبة الإنجاز العيني (%)</th>\n",
              "      <th>مؤشر الأداء علي مستوي المخرجات</th>\n",
              "      <th>قيمة مؤشر الأداء على مستوى المخرجات (المستهدف)</th>\n",
              "      <th>قيمة مؤشر الأداء على مستوى المخرجات (المنفذ)</th>\n",
              "      <th>وحدة القياس</th>\n",
              "      <th>اسم المحافظة</th>\n",
              "      <th>اسم القرية</th>\n",
              "    </tr>\n",
              "  </thead>\n",
              "  <tbody>\n",
              "    <tr>\n",
              "      <th>0</th>\n",
              "      <td>التنمية الإقتصادية والتشغيل</td>\n",
              "      <td>تعزيز قدرات الشباب</td>\n",
              "      <td>وزارة القوى العاملة</td>\n",
              "      <td>تنظيم وحدات تدريب متنقلة لقرية ابو راشد</td>\n",
              "      <td>112</td>\n",
              "      <td>112</td>\n",
              "      <td>100</td>\n",
              "      <td>100</td>\n",
              "      <td>إجمالي عدد المتدربين</td>\n",
              "      <td>70</td>\n",
              "      <td>70.0</td>\n",
              "      <td>متدرب</td>\n",
              "      <td>دمياط</td>\n",
              "      <td>كفر سعد</td>\n",
              "    </tr>\n",
              "    <tr>\n",
              "      <th>1</th>\n",
              "      <td>التنمية الإقتصادية والتشغيل</td>\n",
              "      <td>إتاحة التمويل للمشروعات المتوسطة والصغيرة ومتن...</td>\n",
              "      <td>وزارة التموين والتجارة الداخلية</td>\n",
              "      <td>منفذ جمعيتي (المرحلة الرابعة) : الاسم / رشا نش...</td>\n",
              "      <td>200</td>\n",
              "      <td>200</td>\n",
              "      <td>100</td>\n",
              "      <td>100</td>\n",
              "      <td>عدد فرص العمل التي تم توفيرها</td>\n",
              "      <td>3</td>\n",
              "      <td>3.0</td>\n",
              "      <td>فرصة</td>\n",
              "      <td>دمياط</td>\n",
              "      <td>كفر سعد</td>\n",
              "    </tr>\n",
              "    <tr>\n",
              "      <th>2</th>\n",
              "      <td>التنمية الإقتصادية والتشغيل</td>\n",
              "      <td>إتاحة التمويل للمشروعات المتوسطة والصغيرة ومتن...</td>\n",
              "      <td>رئاسة مجلس الوزراء</td>\n",
              "      <td>إتاحة تمويل للمشروعات الصغيرة ومتناهية الصغر م...</td>\n",
              "      <td>8569</td>\n",
              "      <td>8569</td>\n",
              "      <td>100</td>\n",
              "      <td>100</td>\n",
              "      <td>عدد فرص العمل الناتجة عن القروض</td>\n",
              "      <td>463</td>\n",
              "      <td>463.0</td>\n",
              "      <td>فرصة</td>\n",
              "      <td>دمياط</td>\n",
              "      <td>كفر سعد</td>\n",
              "    </tr>\n",
              "    <tr>\n",
              "      <th>3</th>\n",
              "      <td>تحسين المعيشة والإستثمار في البشر</td>\n",
              "      <td>توفير السكن اللائق</td>\n",
              "      <td>وزارة الإسكان والمرافق والمجتمعات العمرانية</td>\n",
              "      <td>توفير وحدات سكن كريم</td>\n",
              "      <td>1504</td>\n",
              "      <td>0</td>\n",
              "      <td>0</td>\n",
              "      <td>0</td>\n",
              "      <td>عدد منازل الأسر الأولى بالرعاية التى تم رفع كف...</td>\n",
              "      <td>9</td>\n",
              "      <td>NaN</td>\n",
              "      <td>منزل</td>\n",
              "      <td>دمياط</td>\n",
              "      <td>كفر سعد</td>\n",
              "    </tr>\n",
              "    <tr>\n",
              "      <th>4</th>\n",
              "      <td>تحسين جودة خدمات التنمية البشرية</td>\n",
              "      <td>تطوير الخدمات الصحية</td>\n",
              "      <td>وزارة الصحة والسكان</td>\n",
              "      <td>توفير عيادة طبية متنقلة لخدمة أهالي قرى المركز</td>\n",
              "      <td>19000</td>\n",
              "      <td>0</td>\n",
              "      <td>0</td>\n",
              "      <td>0</td>\n",
              "      <td>عدد العيادات الطبية المتنقلة التي تم توفيرها</td>\n",
              "      <td>10</td>\n",
              "      <td>NaN</td>\n",
              "      <td>عيادة طبية متنقلة</td>\n",
              "      <td>دمياط</td>\n",
              "      <td>كفر سعد</td>\n",
              "    </tr>\n",
              "  </tbody>\n",
              "</table>\n",
              "</div>\n",
              "      <button class=\"colab-df-convert\" onclick=\"convertToInteractive('df-4f11119a-943b-4752-a022-9958540675a6')\"\n",
              "              title=\"Convert this dataframe to an interactive table.\"\n",
              "              style=\"display:none;\">\n",
              "        \n",
              "  <svg xmlns=\"http://www.w3.org/2000/svg\" height=\"24px\"viewBox=\"0 0 24 24\"\n",
              "       width=\"24px\">\n",
              "    <path d=\"M0 0h24v24H0V0z\" fill=\"none\"/>\n",
              "    <path d=\"M18.56 5.44l.94 2.06.94-2.06 2.06-.94-2.06-.94-.94-2.06-.94 2.06-2.06.94zm-11 1L8.5 8.5l.94-2.06 2.06-.94-2.06-.94L8.5 2.5l-.94 2.06-2.06.94zm10 10l.94 2.06.94-2.06 2.06-.94-2.06-.94-.94-2.06-.94 2.06-2.06.94z\"/><path d=\"M17.41 7.96l-1.37-1.37c-.4-.4-.92-.59-1.43-.59-.52 0-1.04.2-1.43.59L10.3 9.45l-7.72 7.72c-.78.78-.78 2.05 0 2.83L4 21.41c.39.39.9.59 1.41.59.51 0 1.02-.2 1.41-.59l7.78-7.78 2.81-2.81c.8-.78.8-2.07 0-2.86zM5.41 20L4 18.59l7.72-7.72 1.47 1.35L5.41 20z\"/>\n",
              "  </svg>\n",
              "      </button>\n",
              "      \n",
              "  <style>\n",
              "    .colab-df-container {\n",
              "      display:flex;\n",
              "      flex-wrap:wrap;\n",
              "      gap: 12px;\n",
              "    }\n",
              "\n",
              "    .colab-df-convert {\n",
              "      background-color: #E8F0FE;\n",
              "      border: none;\n",
              "      border-radius: 50%;\n",
              "      cursor: pointer;\n",
              "      display: none;\n",
              "      fill: #1967D2;\n",
              "      height: 32px;\n",
              "      padding: 0 0 0 0;\n",
              "      width: 32px;\n",
              "    }\n",
              "\n",
              "    .colab-df-convert:hover {\n",
              "      background-color: #E2EBFA;\n",
              "      box-shadow: 0px 1px 2px rgba(60, 64, 67, 0.3), 0px 1px 3px 1px rgba(60, 64, 67, 0.15);\n",
              "      fill: #174EA6;\n",
              "    }\n",
              "\n",
              "    [theme=dark] .colab-df-convert {\n",
              "      background-color: #3B4455;\n",
              "      fill: #D2E3FC;\n",
              "    }\n",
              "\n",
              "    [theme=dark] .colab-df-convert:hover {\n",
              "      background-color: #434B5C;\n",
              "      box-shadow: 0px 1px 3px 1px rgba(0, 0, 0, 0.15);\n",
              "      filter: drop-shadow(0px 1px 2px rgba(0, 0, 0, 0.3));\n",
              "      fill: #FFFFFF;\n",
              "    }\n",
              "  </style>\n",
              "\n",
              "      <script>\n",
              "        const buttonEl =\n",
              "          document.querySelector('#df-4f11119a-943b-4752-a022-9958540675a6 button.colab-df-convert');\n",
              "        buttonEl.style.display =\n",
              "          google.colab.kernel.accessAllowed ? 'block' : 'none';\n",
              "\n",
              "        async function convertToInteractive(key) {\n",
              "          const element = document.querySelector('#df-4f11119a-943b-4752-a022-9958540675a6');\n",
              "          const dataTable =\n",
              "            await google.colab.kernel.invokeFunction('convertToInteractive',\n",
              "                                                     [key], {});\n",
              "          if (!dataTable) return;\n",
              "\n",
              "          const docLinkHtml = 'Like what you see? Visit the ' +\n",
              "            '<a target=\"_blank\" href=https://colab.research.google.com/notebooks/data_table.ipynb>data table notebook</a>'\n",
              "            + ' to learn more about interactive tables.';\n",
              "          element.innerHTML = '';\n",
              "          dataTable['output_type'] = 'display_data';\n",
              "          await google.colab.output.renderOutput(dataTable, element);\n",
              "          const docLink = document.createElement('div');\n",
              "          docLink.innerHTML = docLinkHtml;\n",
              "          element.appendChild(docLink);\n",
              "        }\n",
              "      </script>\n",
              "    </div>\n",
              "  </div>\n",
              "  "
            ]
          },
          "metadata": {},
          "execution_count": 13
        }
      ]
    },
    {
      "cell_type": "code",
      "source": [
        "df.describe()"
      ],
      "metadata": {
        "colab": {
          "base_uri": "https://localhost:8080/",
          "height": 362
        },
        "id": "Clhm8UPtpCeS",
        "outputId": "a4213bfd-043c-4b16-c660-bb7ea3292c71"
      },
      "execution_count": null,
      "outputs": [
        {
          "output_type": "execute_result",
          "data": {
            "text/plain": [
              "       الإعتماد المالي(ألف جنيه)  المنصرف (ألف جنيه)  نسبة الإنجاز المالي (%)  \\\n",
              "count                  95.000000           95.000000                95.000000   \n",
              "mean                14413.410526         1810.252632                32.473684   \n",
              "std                 39563.500790         4686.312709                43.178462   \n",
              "min                     0.000000            0.000000                 0.000000   \n",
              "25%                   341.000000            0.000000                 0.000000   \n",
              "50%                  1920.000000            0.000000                 0.000000   \n",
              "75%                  9284.500000          549.000000                92.500000   \n",
              "max                300000.000000        23152.000000               100.000000   \n",
              "\n",
              "       نسبة الإنجاز العيني (%)  \\\n",
              "count                95.000000   \n",
              "mean                 36.347368   \n",
              "std                  43.619917   \n",
              "min                   0.000000   \n",
              "25%                   0.000000   \n",
              "50%                  13.000000   \n",
              "75%                 100.000000   \n",
              "max                 100.000000   \n",
              "\n",
              "       قيمة مؤشر الأداء على مستوى المخرجات (المستهدف)  \\\n",
              "count                                       95.000000   \n",
              "mean                                      1313.768421   \n",
              "std                                       3561.056365   \n",
              "min                                          1.000000   \n",
              "25%                                          1.000000   \n",
              "50%                                         10.000000   \n",
              "75%                                        729.000000   \n",
              "max                                      21000.000000   \n",
              "\n",
              "       قيمة مؤشر الأداء على مستوى المخرجات (المنفذ)  \n",
              "count                                     34.000000  \n",
              "mean                                     123.088235  \n",
              "std                                      319.197229  \n",
              "min                                        0.000000  \n",
              "25%                                        1.000000  \n",
              "50%                                        5.000000  \n",
              "75%                                       50.000000  \n",
              "max                                     1631.000000  "
            ],
            "text/html": [
              "\n",
              "  <div id=\"df-e92b4e8f-83bf-451f-abb8-4f862bf373b6\">\n",
              "    <div class=\"colab-df-container\">\n",
              "      <div>\n",
              "<style scoped>\n",
              "    .dataframe tbody tr th:only-of-type {\n",
              "        vertical-align: middle;\n",
              "    }\n",
              "\n",
              "    .dataframe tbody tr th {\n",
              "        vertical-align: top;\n",
              "    }\n",
              "\n",
              "    .dataframe thead th {\n",
              "        text-align: right;\n",
              "    }\n",
              "</style>\n",
              "<table border=\"1\" class=\"dataframe\">\n",
              "  <thead>\n",
              "    <tr style=\"text-align: right;\">\n",
              "      <th></th>\n",
              "      <th>الإعتماد المالي(ألف جنيه)</th>\n",
              "      <th>المنصرف (ألف جنيه)</th>\n",
              "      <th>نسبة الإنجاز المالي (%)</th>\n",
              "      <th>نسبة الإنجاز العيني (%)</th>\n",
              "      <th>قيمة مؤشر الأداء على مستوى المخرجات (المستهدف)</th>\n",
              "      <th>قيمة مؤشر الأداء على مستوى المخرجات (المنفذ)</th>\n",
              "    </tr>\n",
              "  </thead>\n",
              "  <tbody>\n",
              "    <tr>\n",
              "      <th>count</th>\n",
              "      <td>95.000000</td>\n",
              "      <td>95.000000</td>\n",
              "      <td>95.000000</td>\n",
              "      <td>95.000000</td>\n",
              "      <td>95.000000</td>\n",
              "      <td>34.000000</td>\n",
              "    </tr>\n",
              "    <tr>\n",
              "      <th>mean</th>\n",
              "      <td>14413.410526</td>\n",
              "      <td>1810.252632</td>\n",
              "      <td>32.473684</td>\n",
              "      <td>36.347368</td>\n",
              "      <td>1313.768421</td>\n",
              "      <td>123.088235</td>\n",
              "    </tr>\n",
              "    <tr>\n",
              "      <th>std</th>\n",
              "      <td>39563.500790</td>\n",
              "      <td>4686.312709</td>\n",
              "      <td>43.178462</td>\n",
              "      <td>43.619917</td>\n",
              "      <td>3561.056365</td>\n",
              "      <td>319.197229</td>\n",
              "    </tr>\n",
              "    <tr>\n",
              "      <th>min</th>\n",
              "      <td>0.000000</td>\n",
              "      <td>0.000000</td>\n",
              "      <td>0.000000</td>\n",
              "      <td>0.000000</td>\n",
              "      <td>1.000000</td>\n",
              "      <td>0.000000</td>\n",
              "    </tr>\n",
              "    <tr>\n",
              "      <th>25%</th>\n",
              "      <td>341.000000</td>\n",
              "      <td>0.000000</td>\n",
              "      <td>0.000000</td>\n",
              "      <td>0.000000</td>\n",
              "      <td>1.000000</td>\n",
              "      <td>1.000000</td>\n",
              "    </tr>\n",
              "    <tr>\n",
              "      <th>50%</th>\n",
              "      <td>1920.000000</td>\n",
              "      <td>0.000000</td>\n",
              "      <td>0.000000</td>\n",
              "      <td>13.000000</td>\n",
              "      <td>10.000000</td>\n",
              "      <td>5.000000</td>\n",
              "    </tr>\n",
              "    <tr>\n",
              "      <th>75%</th>\n",
              "      <td>9284.500000</td>\n",
              "      <td>549.000000</td>\n",
              "      <td>92.500000</td>\n",
              "      <td>100.000000</td>\n",
              "      <td>729.000000</td>\n",
              "      <td>50.000000</td>\n",
              "    </tr>\n",
              "    <tr>\n",
              "      <th>max</th>\n",
              "      <td>300000.000000</td>\n",
              "      <td>23152.000000</td>\n",
              "      <td>100.000000</td>\n",
              "      <td>100.000000</td>\n",
              "      <td>21000.000000</td>\n",
              "      <td>1631.000000</td>\n",
              "    </tr>\n",
              "  </tbody>\n",
              "</table>\n",
              "</div>\n",
              "      <button class=\"colab-df-convert\" onclick=\"convertToInteractive('df-e92b4e8f-83bf-451f-abb8-4f862bf373b6')\"\n",
              "              title=\"Convert this dataframe to an interactive table.\"\n",
              "              style=\"display:none;\">\n",
              "        \n",
              "  <svg xmlns=\"http://www.w3.org/2000/svg\" height=\"24px\"viewBox=\"0 0 24 24\"\n",
              "       width=\"24px\">\n",
              "    <path d=\"M0 0h24v24H0V0z\" fill=\"none\"/>\n",
              "    <path d=\"M18.56 5.44l.94 2.06.94-2.06 2.06-.94-2.06-.94-.94-2.06-.94 2.06-2.06.94zm-11 1L8.5 8.5l.94-2.06 2.06-.94-2.06-.94L8.5 2.5l-.94 2.06-2.06.94zm10 10l.94 2.06.94-2.06 2.06-.94-2.06-.94-.94-2.06-.94 2.06-2.06.94z\"/><path d=\"M17.41 7.96l-1.37-1.37c-.4-.4-.92-.59-1.43-.59-.52 0-1.04.2-1.43.59L10.3 9.45l-7.72 7.72c-.78.78-.78 2.05 0 2.83L4 21.41c.39.39.9.59 1.41.59.51 0 1.02-.2 1.41-.59l7.78-7.78 2.81-2.81c.8-.78.8-2.07 0-2.86zM5.41 20L4 18.59l7.72-7.72 1.47 1.35L5.41 20z\"/>\n",
              "  </svg>\n",
              "      </button>\n",
              "      \n",
              "  <style>\n",
              "    .colab-df-container {\n",
              "      display:flex;\n",
              "      flex-wrap:wrap;\n",
              "      gap: 12px;\n",
              "    }\n",
              "\n",
              "    .colab-df-convert {\n",
              "      background-color: #E8F0FE;\n",
              "      border: none;\n",
              "      border-radius: 50%;\n",
              "      cursor: pointer;\n",
              "      display: none;\n",
              "      fill: #1967D2;\n",
              "      height: 32px;\n",
              "      padding: 0 0 0 0;\n",
              "      width: 32px;\n",
              "    }\n",
              "\n",
              "    .colab-df-convert:hover {\n",
              "      background-color: #E2EBFA;\n",
              "      box-shadow: 0px 1px 2px rgba(60, 64, 67, 0.3), 0px 1px 3px 1px rgba(60, 64, 67, 0.15);\n",
              "      fill: #174EA6;\n",
              "    }\n",
              "\n",
              "    [theme=dark] .colab-df-convert {\n",
              "      background-color: #3B4455;\n",
              "      fill: #D2E3FC;\n",
              "    }\n",
              "\n",
              "    [theme=dark] .colab-df-convert:hover {\n",
              "      background-color: #434B5C;\n",
              "      box-shadow: 0px 1px 3px 1px rgba(0, 0, 0, 0.15);\n",
              "      filter: drop-shadow(0px 1px 2px rgba(0, 0, 0, 0.3));\n",
              "      fill: #FFFFFF;\n",
              "    }\n",
              "  </style>\n",
              "\n",
              "      <script>\n",
              "        const buttonEl =\n",
              "          document.querySelector('#df-e92b4e8f-83bf-451f-abb8-4f862bf373b6 button.colab-df-convert');\n",
              "        buttonEl.style.display =\n",
              "          google.colab.kernel.accessAllowed ? 'block' : 'none';\n",
              "\n",
              "        async function convertToInteractive(key) {\n",
              "          const element = document.querySelector('#df-e92b4e8f-83bf-451f-abb8-4f862bf373b6');\n",
              "          const dataTable =\n",
              "            await google.colab.kernel.invokeFunction('convertToInteractive',\n",
              "                                                     [key], {});\n",
              "          if (!dataTable) return;\n",
              "\n",
              "          const docLinkHtml = 'Like what you see? Visit the ' +\n",
              "            '<a target=\"_blank\" href=https://colab.research.google.com/notebooks/data_table.ipynb>data table notebook</a>'\n",
              "            + ' to learn more about interactive tables.';\n",
              "          element.innerHTML = '';\n",
              "          dataTable['output_type'] = 'display_data';\n",
              "          await google.colab.output.renderOutput(dataTable, element);\n",
              "          const docLink = document.createElement('div');\n",
              "          docLink.innerHTML = docLinkHtml;\n",
              "          element.appendChild(docLink);\n",
              "        }\n",
              "      </script>\n",
              "    </div>\n",
              "  </div>\n",
              "  "
            ]
          },
          "metadata": {},
          "execution_count": 14
        }
      ]
    },
    {
      "cell_type": "code",
      "source": [
        "df.isnull()"
      ],
      "metadata": {
        "colab": {
          "base_uri": "https://localhost:8080/",
          "height": 502
        },
        "id": "qVdAz7-hpGAp",
        "outputId": "f2ba199c-4a64-4015-ce5e-7042e3f6c5ae"
      },
      "execution_count": null,
      "outputs": [
        {
          "output_type": "execute_result",
          "data": {
            "text/plain": [
              "     محور  البرنامج  جهة الإسناد الرئيسية  اسم التدخل  \\\n",
              "0   False     False                 False       False   \n",
              "1   False     False                 False       False   \n",
              "2   False     False                 False       False   \n",
              "3   False     False                 False       False   \n",
              "4   False     False                 False       False   \n",
              "..    ...       ...                   ...         ...   \n",
              "90  False     False                 False       False   \n",
              "91  False     False                 False       False   \n",
              "92  False     False                 False       False   \n",
              "93  False     False                 False       False   \n",
              "94  False     False                 False       False   \n",
              "\n",
              "    الإعتماد المالي(ألف جنيه)  المنصرف (ألف جنيه)  نسبة الإنجاز المالي (%)  \\\n",
              "0                       False               False                    False   \n",
              "1                       False               False                    False   \n",
              "2                       False               False                    False   \n",
              "3                       False               False                    False   \n",
              "4                       False               False                    False   \n",
              "..                        ...                 ...                      ...   \n",
              "90                      False               False                    False   \n",
              "91                      False               False                    False   \n",
              "92                      False               False                    False   \n",
              "93                      False               False                    False   \n",
              "94                      False               False                    False   \n",
              "\n",
              "    نسبة الإنجاز العيني (%)  مؤشر الأداء علي مستوي المخرجات  \\\n",
              "0                     False                           False   \n",
              "1                     False                           False   \n",
              "2                     False                           False   \n",
              "3                     False                           False   \n",
              "4                     False                           False   \n",
              "..                      ...                             ...   \n",
              "90                    False                           False   \n",
              "91                    False                           False   \n",
              "92                    False                           False   \n",
              "93                    False                           False   \n",
              "94                    False                           False   \n",
              "\n",
              "    قيمة مؤشر الأداء على مستوى المخرجات (المستهدف)  \\\n",
              "0                                            False   \n",
              "1                                            False   \n",
              "2                                            False   \n",
              "3                                            False   \n",
              "4                                            False   \n",
              "..                                             ...   \n",
              "90                                           False   \n",
              "91                                           False   \n",
              "92                                           False   \n",
              "93                                           False   \n",
              "94                                           False   \n",
              "\n",
              "    قيمة مؤشر الأداء على مستوى المخرجات (المنفذ)  وحدة القياس  اسم المحافظة  \\\n",
              "0                                          False        False         False   \n",
              "1                                          False        False         False   \n",
              "2                                          False        False         False   \n",
              "3                                           True        False         False   \n",
              "4                                           True        False         False   \n",
              "..                                           ...          ...           ...   \n",
              "90                                         False        False         False   \n",
              "91                                         False        False         False   \n",
              "92                                         False        False         False   \n",
              "93                                         False        False         False   \n",
              "94                                         False        False         False   \n",
              "\n",
              "    اسم القرية  \n",
              "0        False  \n",
              "1        False  \n",
              "2        False  \n",
              "3        False  \n",
              "4        False  \n",
              "..         ...  \n",
              "90       False  \n",
              "91       False  \n",
              "92       False  \n",
              "93       False  \n",
              "94       False  \n",
              "\n",
              "[95 rows x 14 columns]"
            ],
            "text/html": [
              "\n",
              "  <div id=\"df-d64e6251-8f63-4e94-92ab-13f52ae10036\">\n",
              "    <div class=\"colab-df-container\">\n",
              "      <div>\n",
              "<style scoped>\n",
              "    .dataframe tbody tr th:only-of-type {\n",
              "        vertical-align: middle;\n",
              "    }\n",
              "\n",
              "    .dataframe tbody tr th {\n",
              "        vertical-align: top;\n",
              "    }\n",
              "\n",
              "    .dataframe thead th {\n",
              "        text-align: right;\n",
              "    }\n",
              "</style>\n",
              "<table border=\"1\" class=\"dataframe\">\n",
              "  <thead>\n",
              "    <tr style=\"text-align: right;\">\n",
              "      <th></th>\n",
              "      <th>محور</th>\n",
              "      <th>البرنامج</th>\n",
              "      <th>جهة الإسناد الرئيسية</th>\n",
              "      <th>اسم التدخل</th>\n",
              "      <th>الإعتماد المالي(ألف جنيه)</th>\n",
              "      <th>المنصرف (ألف جنيه)</th>\n",
              "      <th>نسبة الإنجاز المالي (%)</th>\n",
              "      <th>نسبة الإنجاز العيني (%)</th>\n",
              "      <th>مؤشر الأداء علي مستوي المخرجات</th>\n",
              "      <th>قيمة مؤشر الأداء على مستوى المخرجات (المستهدف)</th>\n",
              "      <th>قيمة مؤشر الأداء على مستوى المخرجات (المنفذ)</th>\n",
              "      <th>وحدة القياس</th>\n",
              "      <th>اسم المحافظة</th>\n",
              "      <th>اسم القرية</th>\n",
              "    </tr>\n",
              "  </thead>\n",
              "  <tbody>\n",
              "    <tr>\n",
              "      <th>0</th>\n",
              "      <td>False</td>\n",
              "      <td>False</td>\n",
              "      <td>False</td>\n",
              "      <td>False</td>\n",
              "      <td>False</td>\n",
              "      <td>False</td>\n",
              "      <td>False</td>\n",
              "      <td>False</td>\n",
              "      <td>False</td>\n",
              "      <td>False</td>\n",
              "      <td>False</td>\n",
              "      <td>False</td>\n",
              "      <td>False</td>\n",
              "      <td>False</td>\n",
              "    </tr>\n",
              "    <tr>\n",
              "      <th>1</th>\n",
              "      <td>False</td>\n",
              "      <td>False</td>\n",
              "      <td>False</td>\n",
              "      <td>False</td>\n",
              "      <td>False</td>\n",
              "      <td>False</td>\n",
              "      <td>False</td>\n",
              "      <td>False</td>\n",
              "      <td>False</td>\n",
              "      <td>False</td>\n",
              "      <td>False</td>\n",
              "      <td>False</td>\n",
              "      <td>False</td>\n",
              "      <td>False</td>\n",
              "    </tr>\n",
              "    <tr>\n",
              "      <th>2</th>\n",
              "      <td>False</td>\n",
              "      <td>False</td>\n",
              "      <td>False</td>\n",
              "      <td>False</td>\n",
              "      <td>False</td>\n",
              "      <td>False</td>\n",
              "      <td>False</td>\n",
              "      <td>False</td>\n",
              "      <td>False</td>\n",
              "      <td>False</td>\n",
              "      <td>False</td>\n",
              "      <td>False</td>\n",
              "      <td>False</td>\n",
              "      <td>False</td>\n",
              "    </tr>\n",
              "    <tr>\n",
              "      <th>3</th>\n",
              "      <td>False</td>\n",
              "      <td>False</td>\n",
              "      <td>False</td>\n",
              "      <td>False</td>\n",
              "      <td>False</td>\n",
              "      <td>False</td>\n",
              "      <td>False</td>\n",
              "      <td>False</td>\n",
              "      <td>False</td>\n",
              "      <td>False</td>\n",
              "      <td>True</td>\n",
              "      <td>False</td>\n",
              "      <td>False</td>\n",
              "      <td>False</td>\n",
              "    </tr>\n",
              "    <tr>\n",
              "      <th>4</th>\n",
              "      <td>False</td>\n",
              "      <td>False</td>\n",
              "      <td>False</td>\n",
              "      <td>False</td>\n",
              "      <td>False</td>\n",
              "      <td>False</td>\n",
              "      <td>False</td>\n",
              "      <td>False</td>\n",
              "      <td>False</td>\n",
              "      <td>False</td>\n",
              "      <td>True</td>\n",
              "      <td>False</td>\n",
              "      <td>False</td>\n",
              "      <td>False</td>\n",
              "    </tr>\n",
              "    <tr>\n",
              "      <th>...</th>\n",
              "      <td>...</td>\n",
              "      <td>...</td>\n",
              "      <td>...</td>\n",
              "      <td>...</td>\n",
              "      <td>...</td>\n",
              "      <td>...</td>\n",
              "      <td>...</td>\n",
              "      <td>...</td>\n",
              "      <td>...</td>\n",
              "      <td>...</td>\n",
              "      <td>...</td>\n",
              "      <td>...</td>\n",
              "      <td>...</td>\n",
              "      <td>...</td>\n",
              "    </tr>\n",
              "    <tr>\n",
              "      <th>90</th>\n",
              "      <td>False</td>\n",
              "      <td>False</td>\n",
              "      <td>False</td>\n",
              "      <td>False</td>\n",
              "      <td>False</td>\n",
              "      <td>False</td>\n",
              "      <td>False</td>\n",
              "      <td>False</td>\n",
              "      <td>False</td>\n",
              "      <td>False</td>\n",
              "      <td>False</td>\n",
              "      <td>False</td>\n",
              "      <td>False</td>\n",
              "      <td>False</td>\n",
              "    </tr>\n",
              "    <tr>\n",
              "      <th>91</th>\n",
              "      <td>False</td>\n",
              "      <td>False</td>\n",
              "      <td>False</td>\n",
              "      <td>False</td>\n",
              "      <td>False</td>\n",
              "      <td>False</td>\n",
              "      <td>False</td>\n",
              "      <td>False</td>\n",
              "      <td>False</td>\n",
              "      <td>False</td>\n",
              "      <td>False</td>\n",
              "      <td>False</td>\n",
              "      <td>False</td>\n",
              "      <td>False</td>\n",
              "    </tr>\n",
              "    <tr>\n",
              "      <th>92</th>\n",
              "      <td>False</td>\n",
              "      <td>False</td>\n",
              "      <td>False</td>\n",
              "      <td>False</td>\n",
              "      <td>False</td>\n",
              "      <td>False</td>\n",
              "      <td>False</td>\n",
              "      <td>False</td>\n",
              "      <td>False</td>\n",
              "      <td>False</td>\n",
              "      <td>False</td>\n",
              "      <td>False</td>\n",
              "      <td>False</td>\n",
              "      <td>False</td>\n",
              "    </tr>\n",
              "    <tr>\n",
              "      <th>93</th>\n",
              "      <td>False</td>\n",
              "      <td>False</td>\n",
              "      <td>False</td>\n",
              "      <td>False</td>\n",
              "      <td>False</td>\n",
              "      <td>False</td>\n",
              "      <td>False</td>\n",
              "      <td>False</td>\n",
              "      <td>False</td>\n",
              "      <td>False</td>\n",
              "      <td>False</td>\n",
              "      <td>False</td>\n",
              "      <td>False</td>\n",
              "      <td>False</td>\n",
              "    </tr>\n",
              "    <tr>\n",
              "      <th>94</th>\n",
              "      <td>False</td>\n",
              "      <td>False</td>\n",
              "      <td>False</td>\n",
              "      <td>False</td>\n",
              "      <td>False</td>\n",
              "      <td>False</td>\n",
              "      <td>False</td>\n",
              "      <td>False</td>\n",
              "      <td>False</td>\n",
              "      <td>False</td>\n",
              "      <td>False</td>\n",
              "      <td>False</td>\n",
              "      <td>False</td>\n",
              "      <td>False</td>\n",
              "    </tr>\n",
              "  </tbody>\n",
              "</table>\n",
              "<p>95 rows × 14 columns</p>\n",
              "</div>\n",
              "      <button class=\"colab-df-convert\" onclick=\"convertToInteractive('df-d64e6251-8f63-4e94-92ab-13f52ae10036')\"\n",
              "              title=\"Convert this dataframe to an interactive table.\"\n",
              "              style=\"display:none;\">\n",
              "        \n",
              "  <svg xmlns=\"http://www.w3.org/2000/svg\" height=\"24px\"viewBox=\"0 0 24 24\"\n",
              "       width=\"24px\">\n",
              "    <path d=\"M0 0h24v24H0V0z\" fill=\"none\"/>\n",
              "    <path d=\"M18.56 5.44l.94 2.06.94-2.06 2.06-.94-2.06-.94-.94-2.06-.94 2.06-2.06.94zm-11 1L8.5 8.5l.94-2.06 2.06-.94-2.06-.94L8.5 2.5l-.94 2.06-2.06.94zm10 10l.94 2.06.94-2.06 2.06-.94-2.06-.94-.94-2.06-.94 2.06-2.06.94z\"/><path d=\"M17.41 7.96l-1.37-1.37c-.4-.4-.92-.59-1.43-.59-.52 0-1.04.2-1.43.59L10.3 9.45l-7.72 7.72c-.78.78-.78 2.05 0 2.83L4 21.41c.39.39.9.59 1.41.59.51 0 1.02-.2 1.41-.59l7.78-7.78 2.81-2.81c.8-.78.8-2.07 0-2.86zM5.41 20L4 18.59l7.72-7.72 1.47 1.35L5.41 20z\"/>\n",
              "  </svg>\n",
              "      </button>\n",
              "      \n",
              "  <style>\n",
              "    .colab-df-container {\n",
              "      display:flex;\n",
              "      flex-wrap:wrap;\n",
              "      gap: 12px;\n",
              "    }\n",
              "\n",
              "    .colab-df-convert {\n",
              "      background-color: #E8F0FE;\n",
              "      border: none;\n",
              "      border-radius: 50%;\n",
              "      cursor: pointer;\n",
              "      display: none;\n",
              "      fill: #1967D2;\n",
              "      height: 32px;\n",
              "      padding: 0 0 0 0;\n",
              "      width: 32px;\n",
              "    }\n",
              "\n",
              "    .colab-df-convert:hover {\n",
              "      background-color: #E2EBFA;\n",
              "      box-shadow: 0px 1px 2px rgba(60, 64, 67, 0.3), 0px 1px 3px 1px rgba(60, 64, 67, 0.15);\n",
              "      fill: #174EA6;\n",
              "    }\n",
              "\n",
              "    [theme=dark] .colab-df-convert {\n",
              "      background-color: #3B4455;\n",
              "      fill: #D2E3FC;\n",
              "    }\n",
              "\n",
              "    [theme=dark] .colab-df-convert:hover {\n",
              "      background-color: #434B5C;\n",
              "      box-shadow: 0px 1px 3px 1px rgba(0, 0, 0, 0.15);\n",
              "      filter: drop-shadow(0px 1px 2px rgba(0, 0, 0, 0.3));\n",
              "      fill: #FFFFFF;\n",
              "    }\n",
              "  </style>\n",
              "\n",
              "      <script>\n",
              "        const buttonEl =\n",
              "          document.querySelector('#df-d64e6251-8f63-4e94-92ab-13f52ae10036 button.colab-df-convert');\n",
              "        buttonEl.style.display =\n",
              "          google.colab.kernel.accessAllowed ? 'block' : 'none';\n",
              "\n",
              "        async function convertToInteractive(key) {\n",
              "          const element = document.querySelector('#df-d64e6251-8f63-4e94-92ab-13f52ae10036');\n",
              "          const dataTable =\n",
              "            await google.colab.kernel.invokeFunction('convertToInteractive',\n",
              "                                                     [key], {});\n",
              "          if (!dataTable) return;\n",
              "\n",
              "          const docLinkHtml = 'Like what you see? Visit the ' +\n",
              "            '<a target=\"_blank\" href=https://colab.research.google.com/notebooks/data_table.ipynb>data table notebook</a>'\n",
              "            + ' to learn more about interactive tables.';\n",
              "          element.innerHTML = '';\n",
              "          dataTable['output_type'] = 'display_data';\n",
              "          await google.colab.output.renderOutput(dataTable, element);\n",
              "          const docLink = document.createElement('div');\n",
              "          docLink.innerHTML = docLinkHtml;\n",
              "          element.appendChild(docLink);\n",
              "        }\n",
              "      </script>\n",
              "    </div>\n",
              "  </div>\n",
              "  "
            ]
          },
          "metadata": {},
          "execution_count": 15
        }
      ]
    },
    {
      "cell_type": "code",
      "source": [
        "df.info()"
      ],
      "metadata": {
        "colab": {
          "base_uri": "https://localhost:8080/"
        },
        "id": "3g512Yw5pM_R",
        "outputId": "c9003c70-e12e-43fd-d69e-649f0f9c9ce5"
      },
      "execution_count": null,
      "outputs": [
        {
          "output_type": "stream",
          "name": "stdout",
          "text": [
            "<class 'pandas.core.frame.DataFrame'>\n",
            "RangeIndex: 95 entries, 0 to 94\n",
            "Data columns (total 14 columns):\n",
            " #   Column                                          Non-Null Count  Dtype  \n",
            "---  ------                                          --------------  -----  \n",
            " 0   محور                                            95 non-null     object \n",
            " 1   البرنامج                                        95 non-null     object \n",
            " 2   جهة الإسناد الرئيسية                            95 non-null     object \n",
            " 3   اسم التدخل                                      95 non-null     object \n",
            " 4   الإعتماد المالي(ألف جنيه)                       95 non-null     int64  \n",
            " 5   المنصرف (ألف جنيه)                              95 non-null     int64  \n",
            " 6   نسبة الإنجاز المالي (%)                         95 non-null     int64  \n",
            " 7   نسبة الإنجاز العيني (%)                         95 non-null     int64  \n",
            " 8   مؤشر الأداء علي مستوي المخرجات                  95 non-null     object \n",
            " 9   قيمة مؤشر الأداء على مستوى المخرجات (المستهدف)  95 non-null     int64  \n",
            " 10  قيمة مؤشر الأداء على مستوى المخرجات (المنفذ)    34 non-null     float64\n",
            " 11  وحدة القياس                                     95 non-null     object \n",
            " 12  اسم المحافظة                                    95 non-null     object \n",
            " 13  اسم القرية                                      95 non-null     object \n",
            "dtypes: float64(1), int64(5), object(8)\n",
            "memory usage: 10.5+ KB\n"
          ]
        }
      ]
    },
    {
      "cell_type": "code",
      "source": [
        "#df['الإعتماد المالي(ألف جنيه)']=df['الإعتماد المالي(ألف جنيه)'].astype(float)"
      ],
      "metadata": {
        "id": "NzYqV49QpT2x"
      },
      "execution_count": null,
      "outputs": []
    },
    {
      "cell_type": "code",
      "source": [
        "#df['المنصرف (ألف جنيه)']=df['المنصرف (ألف جنيه)'].astype(float)"
      ],
      "metadata": {
        "id": "sqO0pbdUpY9t"
      },
      "execution_count": null,
      "outputs": []
    },
    {
      "cell_type": "code",
      "source": [
        "df.describe()"
      ],
      "metadata": {
        "colab": {
          "base_uri": "https://localhost:8080/",
          "height": 362
        },
        "id": "LDptCGhwpbJV",
        "outputId": "07e595ef-a36f-46ec-806e-9228fe5ee321"
      },
      "execution_count": null,
      "outputs": [
        {
          "output_type": "execute_result",
          "data": {
            "text/plain": [
              "       الإعتماد المالي(ألف جنيه)  المنصرف (ألف جنيه)  نسبة الإنجاز المالي (%)  \\\n",
              "count                  95.000000           95.000000                95.000000   \n",
              "mean                14413.410526         1810.252632                32.473684   \n",
              "std                 39563.500790         4686.312709                43.178462   \n",
              "min                     0.000000            0.000000                 0.000000   \n",
              "25%                   341.000000            0.000000                 0.000000   \n",
              "50%                  1920.000000            0.000000                 0.000000   \n",
              "75%                  9284.500000          549.000000                92.500000   \n",
              "max                300000.000000        23152.000000               100.000000   \n",
              "\n",
              "       نسبة الإنجاز العيني (%)  \\\n",
              "count                95.000000   \n",
              "mean                 36.347368   \n",
              "std                  43.619917   \n",
              "min                   0.000000   \n",
              "25%                   0.000000   \n",
              "50%                  13.000000   \n",
              "75%                 100.000000   \n",
              "max                 100.000000   \n",
              "\n",
              "       قيمة مؤشر الأداء على مستوى المخرجات (المستهدف)  \\\n",
              "count                                       95.000000   \n",
              "mean                                      1313.768421   \n",
              "std                                       3561.056365   \n",
              "min                                          1.000000   \n",
              "25%                                          1.000000   \n",
              "50%                                         10.000000   \n",
              "75%                                        729.000000   \n",
              "max                                      21000.000000   \n",
              "\n",
              "       قيمة مؤشر الأداء على مستوى المخرجات (المنفذ)  \n",
              "count                                     34.000000  \n",
              "mean                                     123.088235  \n",
              "std                                      319.197229  \n",
              "min                                        0.000000  \n",
              "25%                                        1.000000  \n",
              "50%                                        5.000000  \n",
              "75%                                       50.000000  \n",
              "max                                     1631.000000  "
            ],
            "text/html": [
              "\n",
              "  <div id=\"df-b2ae0811-acea-4680-9b9f-cef812531118\">\n",
              "    <div class=\"colab-df-container\">\n",
              "      <div>\n",
              "<style scoped>\n",
              "    .dataframe tbody tr th:only-of-type {\n",
              "        vertical-align: middle;\n",
              "    }\n",
              "\n",
              "    .dataframe tbody tr th {\n",
              "        vertical-align: top;\n",
              "    }\n",
              "\n",
              "    .dataframe thead th {\n",
              "        text-align: right;\n",
              "    }\n",
              "</style>\n",
              "<table border=\"1\" class=\"dataframe\">\n",
              "  <thead>\n",
              "    <tr style=\"text-align: right;\">\n",
              "      <th></th>\n",
              "      <th>الإعتماد المالي(ألف جنيه)</th>\n",
              "      <th>المنصرف (ألف جنيه)</th>\n",
              "      <th>نسبة الإنجاز المالي (%)</th>\n",
              "      <th>نسبة الإنجاز العيني (%)</th>\n",
              "      <th>قيمة مؤشر الأداء على مستوى المخرجات (المستهدف)</th>\n",
              "      <th>قيمة مؤشر الأداء على مستوى المخرجات (المنفذ)</th>\n",
              "    </tr>\n",
              "  </thead>\n",
              "  <tbody>\n",
              "    <tr>\n",
              "      <th>count</th>\n",
              "      <td>95.000000</td>\n",
              "      <td>95.000000</td>\n",
              "      <td>95.000000</td>\n",
              "      <td>95.000000</td>\n",
              "      <td>95.000000</td>\n",
              "      <td>34.000000</td>\n",
              "    </tr>\n",
              "    <tr>\n",
              "      <th>mean</th>\n",
              "      <td>14413.410526</td>\n",
              "      <td>1810.252632</td>\n",
              "      <td>32.473684</td>\n",
              "      <td>36.347368</td>\n",
              "      <td>1313.768421</td>\n",
              "      <td>123.088235</td>\n",
              "    </tr>\n",
              "    <tr>\n",
              "      <th>std</th>\n",
              "      <td>39563.500790</td>\n",
              "      <td>4686.312709</td>\n",
              "      <td>43.178462</td>\n",
              "      <td>43.619917</td>\n",
              "      <td>3561.056365</td>\n",
              "      <td>319.197229</td>\n",
              "    </tr>\n",
              "    <tr>\n",
              "      <th>min</th>\n",
              "      <td>0.000000</td>\n",
              "      <td>0.000000</td>\n",
              "      <td>0.000000</td>\n",
              "      <td>0.000000</td>\n",
              "      <td>1.000000</td>\n",
              "      <td>0.000000</td>\n",
              "    </tr>\n",
              "    <tr>\n",
              "      <th>25%</th>\n",
              "      <td>341.000000</td>\n",
              "      <td>0.000000</td>\n",
              "      <td>0.000000</td>\n",
              "      <td>0.000000</td>\n",
              "      <td>1.000000</td>\n",
              "      <td>1.000000</td>\n",
              "    </tr>\n",
              "    <tr>\n",
              "      <th>50%</th>\n",
              "      <td>1920.000000</td>\n",
              "      <td>0.000000</td>\n",
              "      <td>0.000000</td>\n",
              "      <td>13.000000</td>\n",
              "      <td>10.000000</td>\n",
              "      <td>5.000000</td>\n",
              "    </tr>\n",
              "    <tr>\n",
              "      <th>75%</th>\n",
              "      <td>9284.500000</td>\n",
              "      <td>549.000000</td>\n",
              "      <td>92.500000</td>\n",
              "      <td>100.000000</td>\n",
              "      <td>729.000000</td>\n",
              "      <td>50.000000</td>\n",
              "    </tr>\n",
              "    <tr>\n",
              "      <th>max</th>\n",
              "      <td>300000.000000</td>\n",
              "      <td>23152.000000</td>\n",
              "      <td>100.000000</td>\n",
              "      <td>100.000000</td>\n",
              "      <td>21000.000000</td>\n",
              "      <td>1631.000000</td>\n",
              "    </tr>\n",
              "  </tbody>\n",
              "</table>\n",
              "</div>\n",
              "      <button class=\"colab-df-convert\" onclick=\"convertToInteractive('df-b2ae0811-acea-4680-9b9f-cef812531118')\"\n",
              "              title=\"Convert this dataframe to an interactive table.\"\n",
              "              style=\"display:none;\">\n",
              "        \n",
              "  <svg xmlns=\"http://www.w3.org/2000/svg\" height=\"24px\"viewBox=\"0 0 24 24\"\n",
              "       width=\"24px\">\n",
              "    <path d=\"M0 0h24v24H0V0z\" fill=\"none\"/>\n",
              "    <path d=\"M18.56 5.44l.94 2.06.94-2.06 2.06-.94-2.06-.94-.94-2.06-.94 2.06-2.06.94zm-11 1L8.5 8.5l.94-2.06 2.06-.94-2.06-.94L8.5 2.5l-.94 2.06-2.06.94zm10 10l.94 2.06.94-2.06 2.06-.94-2.06-.94-.94-2.06-.94 2.06-2.06.94z\"/><path d=\"M17.41 7.96l-1.37-1.37c-.4-.4-.92-.59-1.43-.59-.52 0-1.04.2-1.43.59L10.3 9.45l-7.72 7.72c-.78.78-.78 2.05 0 2.83L4 21.41c.39.39.9.59 1.41.59.51 0 1.02-.2 1.41-.59l7.78-7.78 2.81-2.81c.8-.78.8-2.07 0-2.86zM5.41 20L4 18.59l7.72-7.72 1.47 1.35L5.41 20z\"/>\n",
              "  </svg>\n",
              "      </button>\n",
              "      \n",
              "  <style>\n",
              "    .colab-df-container {\n",
              "      display:flex;\n",
              "      flex-wrap:wrap;\n",
              "      gap: 12px;\n",
              "    }\n",
              "\n",
              "    .colab-df-convert {\n",
              "      background-color: #E8F0FE;\n",
              "      border: none;\n",
              "      border-radius: 50%;\n",
              "      cursor: pointer;\n",
              "      display: none;\n",
              "      fill: #1967D2;\n",
              "      height: 32px;\n",
              "      padding: 0 0 0 0;\n",
              "      width: 32px;\n",
              "    }\n",
              "\n",
              "    .colab-df-convert:hover {\n",
              "      background-color: #E2EBFA;\n",
              "      box-shadow: 0px 1px 2px rgba(60, 64, 67, 0.3), 0px 1px 3px 1px rgba(60, 64, 67, 0.15);\n",
              "      fill: #174EA6;\n",
              "    }\n",
              "\n",
              "    [theme=dark] .colab-df-convert {\n",
              "      background-color: #3B4455;\n",
              "      fill: #D2E3FC;\n",
              "    }\n",
              "\n",
              "    [theme=dark] .colab-df-convert:hover {\n",
              "      background-color: #434B5C;\n",
              "      box-shadow: 0px 1px 3px 1px rgba(0, 0, 0, 0.15);\n",
              "      filter: drop-shadow(0px 1px 2px rgba(0, 0, 0, 0.3));\n",
              "      fill: #FFFFFF;\n",
              "    }\n",
              "  </style>\n",
              "\n",
              "      <script>\n",
              "        const buttonEl =\n",
              "          document.querySelector('#df-b2ae0811-acea-4680-9b9f-cef812531118 button.colab-df-convert');\n",
              "        buttonEl.style.display =\n",
              "          google.colab.kernel.accessAllowed ? 'block' : 'none';\n",
              "\n",
              "        async function convertToInteractive(key) {\n",
              "          const element = document.querySelector('#df-b2ae0811-acea-4680-9b9f-cef812531118');\n",
              "          const dataTable =\n",
              "            await google.colab.kernel.invokeFunction('convertToInteractive',\n",
              "                                                     [key], {});\n",
              "          if (!dataTable) return;\n",
              "\n",
              "          const docLinkHtml = 'Like what you see? Visit the ' +\n",
              "            '<a target=\"_blank\" href=https://colab.research.google.com/notebooks/data_table.ipynb>data table notebook</a>'\n",
              "            + ' to learn more about interactive tables.';\n",
              "          element.innerHTML = '';\n",
              "          dataTable['output_type'] = 'display_data';\n",
              "          await google.colab.output.renderOutput(dataTable, element);\n",
              "          const docLink = document.createElement('div');\n",
              "          docLink.innerHTML = docLinkHtml;\n",
              "          element.appendChild(docLink);\n",
              "        }\n",
              "      </script>\n",
              "    </div>\n",
              "  </div>\n",
              "  "
            ]
          },
          "metadata": {},
          "execution_count": 19
        }
      ]
    },
    {
      "cell_type": "code",
      "source": [
        "df.isnull().sum()"
      ],
      "metadata": {
        "colab": {
          "base_uri": "https://localhost:8080/"
        },
        "id": "LgV9gL2ipdE6",
        "outputId": "ec4053dc-2a2b-4b3f-a873-909bf6754ef8"
      },
      "execution_count": null,
      "outputs": [
        {
          "output_type": "execute_result",
          "data": {
            "text/plain": [
              "محور                                               0\n",
              "البرنامج                                           0\n",
              "جهة الإسناد الرئيسية                               0\n",
              "اسم التدخل                                         0\n",
              "الإعتماد المالي(ألف جنيه)                          0\n",
              "المنصرف (ألف جنيه)                                 0\n",
              "نسبة الإنجاز المالي (%)                            0\n",
              "نسبة الإنجاز العيني (%)                            0\n",
              "مؤشر الأداء علي مستوي المخرجات                     0\n",
              "قيمة مؤشر الأداء على مستوى المخرجات (المستهدف)     0\n",
              "قيمة مؤشر الأداء على مستوى المخرجات (المنفذ)      61\n",
              "وحدة القياس                                        0\n",
              "اسم المحافظة                                       0\n",
              "اسم القرية                                         0\n",
              "dtype: int64"
            ]
          },
          "metadata": {},
          "execution_count": 20
        }
      ]
    },
    {
      "cell_type": "code",
      "source": [
        "df ['قيمة مؤشر الأداء على مستوى المخرجات (المنفذ)'] = df ['قيمة مؤشر الأداء على مستوى المخرجات (المنفذ)'].fillna (0)"
      ],
      "metadata": {
        "id": "2JNv_1q-tUlj"
      },
      "execution_count": null,
      "outputs": []
    },
    {
      "cell_type": "code",
      "source": [
        "df.isnull().sum()"
      ],
      "metadata": {
        "colab": {
          "base_uri": "https://localhost:8080/"
        },
        "id": "RmBmWgG5t2XP",
        "outputId": "17451e75-92c8-4e43-edc3-1f5690e491a5"
      },
      "execution_count": null,
      "outputs": [
        {
          "output_type": "execute_result",
          "data": {
            "text/plain": [
              "محور                                              0\n",
              "البرنامج                                          0\n",
              "جهة الإسناد الرئيسية                              0\n",
              "اسم التدخل                                        0\n",
              "الإعتماد المالي(ألف جنيه)                         0\n",
              "المنصرف (ألف جنيه)                                0\n",
              "نسبة الإنجاز المالي (%)                           0\n",
              "نسبة الإنجاز العيني (%)                           0\n",
              "مؤشر الأداء علي مستوي المخرجات                    0\n",
              "قيمة مؤشر الأداء على مستوى المخرجات (المستهدف)    0\n",
              "قيمة مؤشر الأداء على مستوى المخرجات (المنفذ)      0\n",
              "وحدة القياس                                       0\n",
              "اسم المحافظة                                      0\n",
              "اسم القرية                                        0\n",
              "dtype: int64"
            ]
          },
          "metadata": {},
          "execution_count": 22
        }
      ]
    },
    {
      "cell_type": "code",
      "source": [
        "df.dtypes\n",
        "#, palette=\"Spectral\""
      ],
      "metadata": {
        "colab": {
          "base_uri": "https://localhost:8080/"
        },
        "id": "2F4vbPFepfgE",
        "outputId": "dcd065fa-99f2-434f-a6ae-bbeb178ac04f"
      },
      "execution_count": null,
      "outputs": [
        {
          "output_type": "execute_result",
          "data": {
            "text/plain": [
              "محور                                               object\n",
              "البرنامج                                           object\n",
              "جهة الإسناد الرئيسية                               object\n",
              "اسم التدخل                                         object\n",
              "الإعتماد المالي(ألف جنيه)                           int64\n",
              "المنصرف (ألف جنيه)                                  int64\n",
              "نسبة الإنجاز المالي (%)                             int64\n",
              "نسبة الإنجاز العيني (%)                             int64\n",
              "مؤشر الأداء علي مستوي المخرجات                     object\n",
              "قيمة مؤشر الأداء على مستوى المخرجات (المستهدف)      int64\n",
              "قيمة مؤشر الأداء على مستوى المخرجات (المنفذ)      float64\n",
              "وحدة القياس                                        object\n",
              "اسم المحافظة                                       object\n",
              "اسم القرية                                         object\n",
              "dtype: object"
            ]
          },
          "metadata": {},
          "execution_count": 23
        }
      ]
    },
    {
      "cell_type": "code",
      "source": [
        "df['محور'].value_counts()"
      ],
      "metadata": {
        "colab": {
          "base_uri": "https://localhost:8080/"
        },
        "id": "66TdNe4OpjJ4",
        "outputId": "ecc94e06-9cd9-4a42-cf7c-b2078cd8a8ab"
      },
      "execution_count": null,
      "outputs": [
        {
          "output_type": "execute_result",
          "data": {
            "text/plain": [
              "تحسين مستوي خدمات البنية الأساسية والعمرانية    62\n",
              "تحسين جودة خدمات التنمية البشرية                15\n",
              "تحسين المعيشة والإستثمار في البشر               10\n",
              "التنمية الإقتصادية والتشغيل                      8\n",
              "Name: محور, dtype: int64"
            ]
          },
          "metadata": {},
          "execution_count": 24
        }
      ]
    },
    {
      "cell_type": "code",
      "source": [
        "df['البرنامج'].value_counts()"
      ],
      "metadata": {
        "colab": {
          "base_uri": "https://localhost:8080/"
        },
        "id": "hAEJkXZnplIm",
        "outputId": "48e4515a-a270-40cb-e969-95ec17eb4a25"
      },
      "execution_count": null,
      "outputs": [
        {
          "output_type": "execute_result",
          "data": {
            "text/plain": [
              "تطوير خدمات النقل                                           17\n",
              "توصيل خدمات الصرف الصحى                                     10\n",
              "تطوير الخدمات المحلية                                        9\n",
              "توفير السكن اللائق                                           7\n",
              "إتاحة التمويل للمشروعات المتوسطة والصغيرة ومتناهية الصغر     7\n",
              "تطوير الخدمات التعليمية                                      7\n",
              "تطوير الخدمات الصحية                                         6\n",
              "توصيل خدمات مياه الشرب                                       6\n",
              "تطوير شبكات الإتصالات                                        6\n",
              "تطوير الخدمات الزراعية وخدمات الري                           5\n",
              "تطوير الخدمات الأمنية                                        4\n",
              "تطوير خدمات الكهرباء                                         4\n",
              "تطوير خدمات الحماية والرعاية الاجتماعية                      3\n",
              "تعزيز قدرات الشباب                                           1\n",
              "تنمية الأسرة المصرية                                         1\n",
              "تطوير الخدمات الشبابية والرياضية                             1\n",
              "تطوير الخدمات الحكومية                                       1\n",
              "Name: البرنامج, dtype: int64"
            ]
          },
          "metadata": {},
          "execution_count": 25
        }
      ]
    },
    {
      "cell_type": "code",
      "source": [
        "df['جهة الإسناد الرئيسية'].value_counts()"
      ],
      "metadata": {
        "colab": {
          "base_uri": "https://localhost:8080/"
        },
        "id": "98TKeWGkpnF7",
        "outputId": "84519b06-0deb-4231-9e12-643bee61f905"
      },
      "execution_count": null,
      "outputs": [
        {
          "output_type": "execute_result",
          "data": {
            "text/plain": [
              "وزارة الإسكان والمرافق والمجتمعات العمرانية    19\n",
              "الهيئة الهندسية للقوات المسلحة                 18\n",
              "وزارة التنمية المحلية                          12\n",
              "وزارة التربية والتعليم والتعليم الفنى           7\n",
              "وزارة الإتصالات وتكنولوجيا المعلومات            6\n",
              "وزارة النقل                                     5\n",
              "وزارة التضامن الاجتماعى                         5\n",
              "رئاسة مجلس الوزراء                              4\n",
              "وزارة الموارد المائية والرى                     4\n",
              "وزاره الداخلية                                  4\n",
              "وزارة الصحة والسكان                             3\n",
              "وزارة الأوقاف                                   3\n",
              "وزارة القوى العاملة                             2\n",
              "وزارة التموين والتجارة الداخلية                 1\n",
              "رئاسة الجمهورية                                 1\n",
              "وزارة التجارة والصناعة                          1\n",
              "Name: جهة الإسناد الرئيسية, dtype: int64"
            ]
          },
          "metadata": {},
          "execution_count": 26
        }
      ]
    },
    {
      "cell_type": "code",
      "source": [
        "df['اسم التدخل'].value_counts()"
      ],
      "metadata": {
        "colab": {
          "base_uri": "https://localhost:8080/"
        },
        "id": "XDG0RcMMppQR",
        "outputId": "3feed93a-a031-4324-9f87-3dacbdb24ba8"
      },
      "execution_count": null,
      "outputs": [
        {
          "output_type": "execute_result",
          "data": {
            "text/plain": [
              "خفض معدل الأمية                                                                                          6\n",
              "توصيل شبكة الألياف الضوئية                                                                               6\n",
              "توفير وحدات سكن كريم                                                                                     5\n",
              "أعمال رصف اسفلت                                                                                          4\n",
              "إتاحة تمويل للمشروعات الصغيرة ومتناهية الصغر من خلال الهيئة العامة للرقابة المالية                       3\n",
              "                                                                                                        ..\n",
              "تطوير نقطة شرطية بالمصانع                                                                                1\n",
              "منفذ جمعيتي (المرحلة الرابعة) : الاسم / رشا نشأت راغب (قرية الأعصر)                                      1\n",
              "محطة رفع ا برج العرب (انشاء) ( محطة رفع 1 ببرج العرب + شبكة انحدار + خط طرد $) بقرية برج العرب القديم    1\n",
              "محطةرفع2 برج العرب (انشاء) ( محطة رفع 2 ببرج العرب ب شبكة انحدار + خط طرد $) بقرية برج العرب القديم      1\n",
              "شراء سيارة تليسكوب                                                                                       1\n",
              "Name: اسم التدخل, Length: 70, dtype: int64"
            ]
          },
          "metadata": {},
          "execution_count": 27
        }
      ]
    },
    {
      "cell_type": "code",
      "source": [
        "df['وحدة القياس'].value_counts()"
      ],
      "metadata": {
        "colab": {
          "base_uri": "https://localhost:8080/"
        },
        "id": "oHH5Y-J1prlR",
        "outputId": "4a510139-b34a-4d44-854b-65307a286166"
      },
      "execution_count": null,
      "outputs": [
        {
          "output_type": "execute_result",
          "data": {
            "text/plain": [
              "متر طولى             21\n",
              "مشروع                 8\n",
              "فرصة                  7\n",
              "مبني                  6\n",
              "مواطن                 6\n",
              "منزل                  6\n",
              "نقطة شرطة             4\n",
              "مسجد                  3\n",
              "عمود                  2\n",
              "وحدة                  2\n",
              "مولد ديزل             2\n",
              "ألف م3/يوم            2\n",
              "محطة                  2\n",
              "نقطة إسعاف            2\n",
              "عيادة طبية متنقلة     2\n",
              "قافلة طبية            1\n",
              "قافلة بيطرية          1\n",
              "وسيلة                 1\n",
              "طلمبة مياه            1\n",
              "وحدة محلية            1\n",
              "جراج                  1\n",
              "عملية                 1\n",
              "سقف                   1\n",
              "متدرب                 1\n",
              "مركز حكومي            1\n",
              "وحدة إطفاء            1\n",
              "محول                  1\n",
              "محطة مياه شرب         1\n",
              "بطاقة                 1\n",
              "مدرسة                 1\n",
              "مركز                  1\n",
              "مركز تأهيل            1\n",
              "موقف                  1\n",
              "سوق                   1\n",
              "ك. ف. أ               1\n",
              "Name: وحدة القياس, dtype: int64"
            ]
          },
          "metadata": {},
          "execution_count": 28
        }
      ]
    },
    {
      "cell_type": "code",
      "source": [
        "df['نسبة الإنجاز المالي (%)'].value_counts()"
      ],
      "metadata": {
        "colab": {
          "base_uri": "https://localhost:8080/"
        },
        "id": "nSLWWQqjptaw",
        "outputId": "f5d85905-2eab-452a-e680-0fc49d064a41"
      },
      "execution_count": null,
      "outputs": [
        {
          "output_type": "execute_result",
          "data": {
            "text/plain": [
              "0      51\n",
              "100    23\n",
              "16      3\n",
              "44      3\n",
              "50      2\n",
              "87      2\n",
              "1       2\n",
              "11      1\n",
              "41      1\n",
              "13      1\n",
              "12      1\n",
              "14      1\n",
              "59      1\n",
              "45      1\n",
              "36      1\n",
              "98      1\n",
              "Name: نسبة الإنجاز المالي (%), dtype: int64"
            ]
          },
          "metadata": {},
          "execution_count": 29
        }
      ]
    },
    {
      "cell_type": "code",
      "source": [
        "df['نسبة الإنجاز العيني (%)'].value_counts()"
      ],
      "metadata": {
        "colab": {
          "base_uri": "https://localhost:8080/"
        },
        "id": "EeQ8_GnGpwWJ",
        "outputId": "2cba6db5-c309-438a-90b6-b81c782d7b51"
      },
      "execution_count": null,
      "outputs": [
        {
          "output_type": "execute_result",
          "data": {
            "text/plain": [
              "0      40\n",
              "100    25\n",
              "1       5\n",
              "16      3\n",
              "15      2\n",
              "14      2\n",
              "55      1\n",
              "98      1\n",
              "20      1\n",
              "73      1\n",
              "40      1\n",
              "89      1\n",
              "87      1\n",
              "46      1\n",
              "49      1\n",
              "59      1\n",
              "47      1\n",
              "10      1\n",
              "12      1\n",
              "13      1\n",
              "68      1\n",
              "26      1\n",
              "33      1\n",
              "17      1\n",
              "Name: نسبة الإنجاز العيني (%), dtype: int64"
            ]
          },
          "metadata": {},
          "execution_count": 30
        }
      ]
    },
    {
      "cell_type": "code",
      "source": [
        "df['مؤشر الأداء علي مستوي المخرجات'].value_counts()"
      ],
      "metadata": {
        "colab": {
          "base_uri": "https://localhost:8080/"
        },
        "id": "UMMEJ5RzpzDg",
        "outputId": "bec68166-d030-4225-c19f-02f74c4fdfdc"
      },
      "execution_count": null,
      "outputs": [
        {
          "output_type": "execute_result",
          "data": {
            "text/plain": [
              "أطوال الطرق التى تم رصفها                                  9\n",
              "عدد مشروعات الصرف الصحي التقليدية                          8\n",
              "عدد منازل الأسر الأولى بالرعاية التى تم رفع كفائتها        6\n",
              "عدد المواطنين الذين تم محو أميتهم                          6\n",
              "عدد المباني المخدومة بشبكة الألياف الضوئية                 6\n",
              "عدد فرص العمل الناتجة عن القروض                            5\n",
              "عدد نقاط الشرطة التي تم إنشائها / تطويرها                  4\n",
              "أطوال الطرق الرئيسية التى تم رصفها                         4\n",
              "أطوال الترع التى تم تأهيلها وتبطينها / تدبيش الترع         3\n",
              "أطوال الطرق الترابية التي تم ثبيتها                        3\n",
              "عدد المساجد التي تم إنشائها/ تطويرها                       3\n",
              "أطوال شبكات المياه المضافة                                 2\n",
              "عدد الوحدات الصحية التى تم إنشائها / تطويرها               2\n",
              "عدد أعمدة الإنارة التى تم تركيبها                          2\n",
              "عدد مولدات الديزل                                          2\n",
              "طاقة محطات معالجة الصرف الصحي التي تم إنشائها / تطويرها    2\n",
              "عدد نقاط الإسعاف التي تم إنشائها/ تطويرها                  2\n",
              "عدد العيادات الطبية المتنقلة التي تم توفيرها               2\n",
              "عدد فرص العمل التي تم توفيرها                              2\n",
              "عدد جراجات الحملة الميكانيكية التي تم إنشائها / تطويرها    1\n",
              "عدد عمليات العيون التى تم إجرائها                          1\n",
              "إجمالي عدد المتدربين                                       1\n",
              "عدد المحطات التي تم إنشائها/ تطويرها                       1\n",
              "عدد الوحدات المحلية التى تم إنشائها / تطويرها              1\n",
              "عدد طلمبات المياه التي تم توريدها                          1\n",
              "عدد القوافل الطبية                                         1\n",
              "عدد القوافل البيطرية                                       1\n",
              "عدد وسائل نقل المخلفات التى تم توفيرها                     1\n",
              "عدد أسقف المنازل التي تم تركيبها                           1\n",
              "عدد بطاقات الرقم القومي المُصدرة                           1\n",
              "عدد مراكز الخدمات الحكومية التى تم إنشائها / تجديدها       1\n",
              "عدد وحدات الإطفاء التي تم إنشائها/ تطويرها                 1\n",
              "عدد المحولات الكهربائية التى تم تركيبها / رفع كفاءتها      1\n",
              "عدد محطات مياه الشرب التي تم إنشائها/ تطويرها              1\n",
              "عدد المدارس التي تم صيانتها                                1\n",
              "عدد مراكز الشباب التى تم إنشائها / تطويرها                 1\n",
              "عدد مراكز تأهيل المعاقين التي تم إنشائها/ تطويرها          1\n",
              "عدد المواقف التي تم إنشائها / تطويرها                      1\n",
              "عدد الأسواق التي تم إنشائها / تطويرها                      1\n",
              "عدد محطات السكك الحديدية المستهدف تطويرها                  1\n",
              "قدرات محولات الكهرباء المضافة                              1\n",
              "Name: مؤشر الأداء علي مستوي المخرجات, dtype: int64"
            ]
          },
          "metadata": {},
          "execution_count": 31
        }
      ]
    },
    {
      "cell_type": "code",
      "source": [
        "df['قيمة مؤشر الأداء على مستوى المخرجات (المستهدف)'].value_counts()"
      ],
      "metadata": {
        "colab": {
          "base_uri": "https://localhost:8080/"
        },
        "id": "RZ5tZs3cp3t3",
        "outputId": "838f699b-dff5-4c58-c030-74f3ecce43bd"
      },
      "execution_count": null,
      "outputs": [
        {
          "output_type": "execute_result",
          "data": {
            "text/plain": [
              "1        38\n",
              "2000      6\n",
              "50        6\n",
              "2         5\n",
              "3000      4\n",
              "75        3\n",
              "10        2\n",
              "5000      2\n",
              "6         1\n",
              "119       1\n",
              "2700      1\n",
              "868       1\n",
              "18530     1\n",
              "70        1\n",
              "13000     1\n",
              "115       1\n",
              "62        1\n",
              "272       1\n",
              "140       1\n",
              "2500      1\n",
              "232       1\n",
              "260       1\n",
              "35        1\n",
              "40        1\n",
              "3         1\n",
              "590       1\n",
              "1631      1\n",
              "41        1\n",
              "15000     1\n",
              "21000     1\n",
              "6000      1\n",
              "2115      1\n",
              "2070      1\n",
              "2250      1\n",
              "9         1\n",
              "463       1\n",
              "94        1\n",
              "Name: قيمة مؤشر الأداء على مستوى المخرجات (المستهدف), dtype: int64"
            ]
          },
          "metadata": {},
          "execution_count": 32
        }
      ]
    },
    {
      "cell_type": "code",
      "source": [
        "def CountPlot(col):\n",
        "    global df\n",
        "    # بياخد نسخه من الداتا و بيعمل بروسيس علي الكولوم الي احنا شغالين علية بس و لما الداله بتخلص شغل بتتمسح \n",
        "    df[col] = df[col].astype(str).apply(lambda x : arabic_reshaper.reshape(x)[::-1])\n",
        "    plt.figure(figsize=(15,8))\n",
        "    fig=sns.countplot(data=df,x=col, palette=\"Spectral\")\n",
        "    for p in fig.patches:\n",
        "        fig.annotate(f'\\n{p.get_height()}', (p.get_x()+0.2, p.get_height()), ha='center', va='top', color='black', size=18)\n",
        "    plt.xlabel(arabic_reshaper.reshape(col)[::-1])\n",
        "    plt.show()\n",
        "CountPlot('محور')"
      ],
      "metadata": {
        "colab": {
          "base_uri": "https://localhost:8080/",
          "height": 500
        },
        "id": "x1W5zAV_p6rr",
        "outputId": "b795609a-aae3-4b3c-fc0e-0678b80e1b71"
      },
      "execution_count": null,
      "outputs": [
        {
          "output_type": "display_data",
          "data": {
            "text/plain": [
              "<Figure size 1080x576 with 1 Axes>"
            ],
            "image/png": "[encoded data removed]"
          },
          "metadata": {
            "needs_background": "light"
          }
        }
      ]
    },
    {
      "cell_type": "code",
      "source": [
        "def CountPlot(col):\n",
        "    global df\n",
        "    # بياخد نسخه من الداتا و بيعمل بروسيس علي الكولوم الي احنا شغالين علية بس و لما الداله بتخلص شغل بتتمسح \n",
        "    df[col] = df[col].astype(str).apply(lambda x : arabic_reshaper.reshape(x)[::-1])\n",
        "    plt.figure(figsize=(15,8))\n",
        "    fig=sns.countplot(data=df,x=col, palette=\"Spectral\",)\n",
        "    plt.xlabel(arabic_reshaper.reshape(col)[::-1])\n",
        "    plt.show()\n",
        "CountPlot('البرنامج')"
      ],
      "metadata": {
        "colab": {
          "base_uri": "https://localhost:8080/",
          "height": 500
        },
        "id": "PohJqX3sp93f",
        "outputId": "884ba833-f332-43b9-bd39-3c892bed02c7"
      },
      "execution_count": null,
      "outputs": [
        {
          "output_type": "display_data",
          "data": {
            "text/plain": [
              "<Figure size 1080x576 with 1 Axes>"
            ],
            "image/png": "[encoded data removed]"
          },
          "metadata": {
            "needs_background": "light"
          }
        }
      ]
    },
    {
      "cell_type": "code",
      "source": [
        "def CountPlot(col):\n",
        "    global df\n",
        "    # بياخد نسخه من الداتا و بيعمل بروسيس علي الكولوم الي احنا شغالين علية بس و لما الداله بتخلص شغل بتتمسح \n",
        "    df[col] = df[col].astype(str).apply(lambda x : arabic_reshaper.reshape(x)[::-1])\n",
        "    plt.figure(figsize=(22,8))\n",
        "    sns.countplot(data=df,y=col, palette='YlGn')\n",
        "    plt.ylabel(arabic_reshaper.reshape(col)[::-1])\n",
        "    plt.show()\n",
        "CountPlot('جهة الإسناد الرئيسية')"
      ],
      "metadata": {
        "colab": {
          "base_uri": "https://localhost:8080/",
          "height": 399
        },
        "id": "l0lLUvklqB7R",
        "outputId": "d68c1f05-07c0-4713-891c-14ec3d913b7d"
      },
      "execution_count": null,
      "outputs": [
        {
          "output_type": "display_data",
          "data": {
            "text/plain": [
              "<Figure size 1584x576 with 1 Axes>"
            ],
            "image/png": "[encoded data removed]"
          },
          "metadata": {
            "needs_background": "light"
          }
        }
      ]
    },
    {
      "cell_type": "code",
      "source": [
        "def CountPlot(col):\n",
        "    global df\n",
        "    # بياخد نسخه من الداتا و بيعمل بروسيس علي الكولوم الي احنا شغالين علية بس و لما الداله بتخلص شغل بتتمسح \n",
        "    df[col] = df[col].astype(str).apply(lambda x : arabic_reshaper.reshape(x)[::-1])\n",
        "    plt.figure(figsize=(22,20))\n",
        "    sns.countplot(data=df,y=col, palette='YlGn')\n",
        "    plt.ylabel(arabic_reshaper.reshape(col)[::-1])\n",
        "    plt.show()\n",
        "CountPlot('اسم التدخل')"
      ],
      "metadata": {
        "colab": {
          "base_uri": "https://localhost:8080/",
          "height": 770
        },
        "id": "s4-Ie2LJqE1_",
        "outputId": "54a52fe3-dae6-4dc2-8af3-8e72996810ff"
      },
      "execution_count": null,
      "outputs": [
        {
          "output_type": "display_data",
          "data": {
            "text/plain": [
              "<Figure size 1584x1440 with 1 Axes>"
            ],
            "image/png": "[encoded data removed]"
          },
          "metadata": {
            "needs_background": "light"
          }
        }
      ]
    },
    {
      "cell_type": "code",
      "source": [
        "import plotly.express as px\n",
        "\n",
        "\n",
        "def CountPlot(col):\n",
        "    global df\n",
        "    # بياخد نسخه من الداتا و بيعمل بروسيس علي الكولوم الي احنا شغالين علية بس و لما الداله بتخلص شغل بتتمسح \n",
        "    df[col] = df[col].astype(str).apply(lambda x : arabic_reshaper.reshape(x)[::-1])\n",
        "    plt.figure(figsize=(19,19))\n",
        "    fig = px.pie(df,names=\"جهة الإسناد الرئيسية\" , \n",
        "                   color_discrete_sequence= px.colors.qualitative.Safe)\n",
        "    fig.show()\n",
        "CountPlot('جهة الإسناد الرئيسية')"
      ],
      "metadata": {
        "colab": {
          "base_uri": "https://localhost:8080/",
          "height": 559
        },
        "id": "_AN8pbEcqK9G",
        "outputId": "ff0a1a6e-3569-4bd4-b124-9ff01e631462"
      },
      "execution_count": null,
      "outputs": [
        {
          "output_type": "display_data",
          "data": {
            "text/html": [
              "<html>\n",
              "<head><meta charset=\"utf-8\" /></head>\n",
              "<body>\n",
              "    <div>            <script src=\"https://cdnjs.cloudflare.com/ajax/libs/mathjax/2.7.5/MathJax.js?config=TeX-AMS-MML_SVG\"></script><script type=\"text/javascript\">if (window.MathJax) {MathJax.Hub.Config({SVG: {font: \"STIX-Web\"}});}</script>                <script type=\"text/javascript\">window.PlotlyConfig = {MathJaxConfig: 'local'};</script>\n",
              "        <script src=\"https://cdn.plot.ly/plotly-2.8.3.min.js\"></script>                <div id=\"8be76e0a-4818-4999-972c-f113abe2d4cb\" class=\"plotly-graph-div\" style=\"height:525px; width:100%;\"></div>            <script type=\"text/javascript\">                                    window.PLOTLYENV=window.PLOTLYENV || {};                                    if (document.getElementById(\"8be76e0a-4818-4999-972c-f113abe2d4cb\")) {                    Plotly.newPlot(                        \"8be76e0a-4818-4999-972c-f113abe2d4cb\",                        [{\"domain\":{\"x\":[0.0,1.0],\"y\":[0.0,1.0]},\"hovertemplate\":\"\\u062c\\u0647\\u0629 \\u0627\\u0644\\u0625\\u0633\\u0646\\u0627\\u062f \\u0627\\u0644\\u0631\\u0626\\u064a\\u0633\\u064a\\u0629=%{label}<extra></extra>\",\"labels\":[\"\\ufeed\\ufeaf\\ufe8d\\ufead\\ufe93 \\ufe8d\\ufedf\\ufed8\\ufeee\\ufeef \\ufe8d\\ufedf\\ufecc\\ufe8e\\ufee3\\ufee0\\ufe94\",\"\\ufeed\\ufeaf\\ufe8d\\ufead\\ufe93 \\ufe8d\\ufedf\\ufe98\\ufee4\\ufeee\\ufef3\\ufee6 \\ufeed\\ufe8d\\ufedf\\ufe98\\ufea0\\ufe8e\\ufead\\ufe93 \\ufe8d\\ufedf\\ufeaa\\ufe8d\\ufea7\\ufee0\\ufef4\\ufe94\",\"\\ufead\\ufe8b\\ufe8e\\ufeb3\\ufe94 \\ufee3\\ufea0\\ufee0\\ufeb2 \\ufe8d\\ufedf\\ufeee\\ufeaf\\ufead\\ufe8d\\ufe80\",\"\\ufeed\\ufeaf\\ufe8d\\ufead\\ufe93 \\ufe8d\\ufef9\\ufeb3\\ufedc\\ufe8e\\ufee5 \\ufeed\\ufe8d\\ufedf\\ufee4\\ufeae\\ufe8d\\ufed3\\ufed6 \\ufeed\\ufe8d\\ufedf\\ufee4\\ufea0\\ufe98\\ufee4\\ufecc\\ufe8e\\ufe95 \\ufe8d\\ufedf\\ufecc\\ufee4\\ufeae\\ufe8d\\ufee7\\ufef4\\ufe94\",\"\\ufeed\\ufeaf\\ufe8d\\ufead\\ufe93 \\ufe8d\\ufedf\\ufebc\\ufea4\\ufe94 \\ufeed\\ufe8d\\ufedf\\ufeb4\\ufedc\\ufe8e\\ufee5\",\"\\ufeed\\ufeaf\\ufe8d\\ufead\\ufe93 \\ufe8d\\ufef9\\ufeb3\\ufedc\\ufe8e\\ufee5 \\ufeed\\ufe8d\\ufedf\\ufee4\\ufeae\\ufe8d\\ufed3\\ufed6 \\ufeed\\ufe8d\\ufedf\\ufee4\\ufea0\\ufe98\\ufee4\\ufecc\\ufe8e\\ufe95 \\ufe8d\\ufedf\\ufecc\\ufee4\\ufeae\\ufe8d\\ufee7\\ufef4\\ufe94\",\"\\ufeed\\ufeaf\\ufe8d\\ufead\\ufe93 \\ufe8d\\ufef9\\ufeb3\\ufedc\\ufe8e\\ufee5 \\ufeed\\ufe8d\\ufedf\\ufee4\\ufeae\\ufe8d\\ufed3\\ufed6 \\ufeed\\ufe8d\\ufedf\\ufee4\\ufea0\\ufe98\\ufee4\\ufecc\\ufe8e\\ufe95 \\ufe8d\\ufedf\\ufecc\\ufee4\\ufeae\\ufe8d\\ufee7\\ufef4\\ufe94\",\"\\ufeed\\ufeaf\\ufe8d\\ufead\\ufe93 \\ufe8d\\ufef9\\ufeb3\\ufedc\\ufe8e\\ufee5 \\ufeed\\ufe8d\\ufedf\\ufee4\\ufeae\\ufe8d\\ufed3\\ufed6 \\ufeed\\ufe8d\\ufedf\\ufee4\\ufea0\\ufe98\\ufee4\\ufecc\\ufe8e\\ufe95 \\ufe8d\\ufedf\\ufecc\\ufee4\\ufeae\\ufe8d\\ufee7\\ufef4\\ufe94\",\"\\ufeed\\ufeaf\\ufe8d\\ufead\\ufe93 \\ufe8d\\ufef9\\ufeb3\\ufedc\\ufe8e\\ufee5 \\ufeed\\ufe8d\\ufedf\\ufee4\\ufeae\\ufe8d\\ufed3\\ufed6 \\ufeed\\ufe8d\\ufedf\\ufee4\\ufea0\\ufe98\\ufee4\\ufecc\\ufe8e\\ufe95 \\ufe8d\\ufedf\\ufecc\\ufee4\\ufeae\\ufe8d\\ufee7\\ufef4\\ufe94\",\"\\ufeed\\ufeaf\\ufe8d\\ufead\\ufe93 \\ufe8d\\ufef9\\ufeb3\\ufedc\\ufe8e\\ufee5 \\ufeed\\ufe8d\\ufedf\\ufee4\\ufeae\\ufe8d\\ufed3\\ufed6 \\ufeed\\ufe8d\\ufedf\\ufee4\\ufea0\\ufe98\\ufee4\\ufecc\\ufe8e\\ufe95 \\ufe8d\\ufedf\\ufecc\\ufee4\\ufeae\\ufe8d\\ufee7\\ufef4\\ufe94\",\"\\ufeed\\ufeaf\\ufe8d\\ufead\\ufe93 \\ufe8d\\ufedf\\ufee8\\ufed8\\ufede\",\"\\ufeed\\ufeaf\\ufe8d\\ufead\\ufe93 \\ufe8d\\ufef9\\ufeb3\\ufedc\\ufe8e\\ufee5 \\ufeed\\ufe8d\\ufedf\\ufee4\\ufeae\\ufe8d\\ufed3\\ufed6 \\ufeed\\ufe8d\\ufedf\\ufee4\\ufea0\\ufe98\\ufee4\\ufecc\\ufe8e\\ufe95 \\ufe8d\\ufedf\\ufecc\\ufee4\\ufeae\\ufe8d\\ufee7\\ufef4\\ufe94\",\"\\ufeed\\ufeaf\\ufe8d\\ufead\\ufe93 \\ufe8d\\ufef9\\ufeb3\\ufedc\\ufe8e\\ufee5 \\ufeed\\ufe8d\\ufedf\\ufee4\\ufeae\\ufe8d\\ufed3\\ufed6 \\ufeed\\ufe8d\\ufedf\\ufee4\\ufea0\\ufe98\\ufee4\\ufecc\\ufe8e\\ufe95 \\ufe8d\\ufedf\\ufecc\\ufee4\\ufeae\\ufe8d\\ufee7\\ufef4\\ufe94\",\"\\ufeed\\ufeaf\\ufe8d\\ufead\\ufe93 \\ufe8d\\ufef9\\ufeb3\\ufedc\\ufe8e\\ufee5 \\ufeed\\ufe8d\\ufedf\\ufee4\\ufeae\\ufe8d\\ufed3\\ufed6 \\ufeed\\ufe8d\\ufedf\\ufee4\\ufea0\\ufe98\\ufee4\\ufecc\\ufe8e\\ufe95 \\ufe8d\\ufedf\\ufecc\\ufee4\\ufeae\\ufe8d\\ufee7\\ufef4\\ufe94\",\"\\ufeed\\ufeaf\\ufe8d\\ufead\\ufe93 \\ufe8d\\ufedf\\ufee4\\ufeee\\ufe8d\\ufead\\ufea9 \\ufe8d\\ufedf\\ufee4\\ufe8e\\ufe8b\\ufef4\\ufe94 \\ufeed\\ufe8d\\ufedf\\ufeae\\ufeef\",\"\\ufeed\\ufeaf\\ufe8d\\ufead\\ufe93 \\ufe8d\\ufef7\\ufeed\\ufed7\\ufe8e\\ufed1\",\"\\ufeed\\ufeaf\\ufe8d\\ufead\\ufe93 \\ufe8d\\ufedf\\ufee4\\ufeee\\ufe8d\\ufead\\ufea9 \\ufe8d\\ufedf\\ufee4\\ufe8e\\ufe8b\\ufef4\\ufe94 \\ufeed\\ufe8d\\ufedf\\ufeae\\ufeef\",\"\\ufeed\\ufeaf\\ufe8d\\ufead\\ufe93 \\ufe8d\\ufedf\\ufe98\\ufee8\\ufee4\\ufef4\\ufe94 \\ufe8d\\ufedf\\ufee4\\ufea4\\ufee0\\ufef4\\ufe94\",\"\\ufeed\\ufeaf\\ufe8d\\ufead\\ufe93 \\ufe8d\\ufef9\\ufeb3\\ufedc\\ufe8e\\ufee5 \\ufeed\\ufe8d\\ufedf\\ufee4\\ufeae\\ufe8d\\ufed3\\ufed6 \\ufeed\\ufe8d\\ufedf\\ufee4\\ufea0\\ufe98\\ufee4\\ufecc\\ufe8e\\ufe95 \\ufe8d\\ufedf\\ufecc\\ufee4\\ufeae\\ufe8d\\ufee7\\ufef4\\ufe94\",\"\\ufeed\\ufeaf\\ufe8d\\ufead\\ufe93 \\ufe8d\\ufef9\\ufeb3\\ufedc\\ufe8e\\ufee5 \\ufeed\\ufe8d\\ufedf\\ufee4\\ufeae\\ufe8d\\ufed3\\ufed6 \\ufeed\\ufe8d\\ufedf\\ufee4\\ufea0\\ufe98\\ufee4\\ufecc\\ufe8e\\ufe95 \\ufe8d\\ufedf\\ufecc\\ufee4\\ufeae\\ufe8d\\ufee7\\ufef4\\ufe94\",\"\\ufeed\\ufeaf\\ufe8d\\ufead\\ufe93 \\ufe8d\\ufef9\\ufeb3\\ufedc\\ufe8e\\ufee5 \\ufeed\\ufe8d\\ufedf\\ufee4\\ufeae\\ufe8d\\ufed3\\ufed6 \\ufeed\\ufe8d\\ufedf\\ufee4\\ufea0\\ufe98\\ufee4\\ufecc\\ufe8e\\ufe95 \\ufe8d\\ufedf\\ufecc\\ufee4\\ufeae\\ufe8d\\ufee7\\ufef4\\ufe94\",\"\\ufeed\\ufeaf\\ufe8d\\ufead\\ufe93 \\ufe8d\\ufedf\\ufee4\\ufeee\\ufe8d\\ufead\\ufea9 \\ufe8d\\ufedf\\ufee4\\ufe8e\\ufe8b\\ufef4\\ufe94 \\ufeed\\ufe8d\\ufedf\\ufeae\\ufeef\",\"\\ufeed\\ufeaf\\ufe8d\\ufead\\ufe93 \\ufe8d\\ufef9\\ufeb3\\ufedc\\ufe8e\\ufee5 \\ufeed\\ufe8d\\ufedf\\ufee4\\ufeae\\ufe8d\\ufed3\\ufed6 \\ufeed\\ufe8d\\ufedf\\ufee4\\ufea0\\ufe98\\ufee4\\ufecc\\ufe8e\\ufe95 \\ufe8d\\ufedf\\ufecc\\ufee4\\ufeae\\ufe8d\\ufee7\\ufef4\\ufe94\",\"\\ufeed\\ufeaf\\ufe8d\\ufead\\ufe93 \\ufe8d\\ufef9\\ufeb3\\ufedc\\ufe8e\\ufee5 \\ufeed\\ufe8d\\ufedf\\ufee4\\ufeae\\ufe8d\\ufed3\\ufed6 \\ufeed\\ufe8d\\ufedf\\ufee4\\ufea0\\ufe98\\ufee4\\ufecc\\ufe8e\\ufe95 \\ufe8d\\ufedf\\ufecc\\ufee4\\ufeae\\ufe8d\\ufee7\\ufef4\\ufe94\",\"\\ufeed\\ufeaf\\ufe8d\\ufead\\ufe93 \\ufe8d\\ufedf\\ufee8\\ufed8\\ufede\",\"\\ufeed\\ufeaf\\ufe8d\\ufead\\ufe93 \\ufe8d\\ufedf\\ufee8\\ufed8\\ufede\",\"\\ufeed\\ufeaf\\ufe8d\\ufead\\ufe93 \\ufe8d\\ufedf\\ufe98\\ufee8\\ufee4\\ufef4\\ufe94 \\ufe8d\\ufedf\\ufee4\\ufea4\\ufee0\\ufef4\\ufe94\",\"\\ufeed\\ufeaf\\ufe8d\\ufead\\ufe93 \\ufe8d\\ufedf\\ufee8\\ufed8\\ufede\",\"\\ufeed\\ufeaf\\ufe8d\\ufead\\ufe93 \\ufe8d\\ufef9\\ufeb3\\ufedc\\ufe8e\\ufee5 \\ufeed\\ufe8d\\ufedf\\ufee4\\ufeae\\ufe8d\\ufed3\\ufed6 \\ufeed\\ufe8d\\ufedf\\ufee4\\ufea0\\ufe98\\ufee4\\ufecc\\ufe8e\\ufe95 \\ufe8d\\ufedf\\ufecc\\ufee4\\ufeae\\ufe8d\\ufee7\\ufef4\\ufe94\",\"\\ufead\\ufe8b\\ufe8e\\ufeb3\\ufe94 \\ufee3\\ufea0\\ufee0\\ufeb2 \\ufe8d\\ufedf\\ufeee\\ufeaf\\ufead\\ufe8d\\ufe80\",\"\\ufeed\\ufeaf\\ufe8d\\ufead\\ufe93 \\ufe8d\\ufedf\\ufed8\\ufeee\\ufeef \\ufe8d\\ufedf\\ufecc\\ufe8e\\ufee3\\ufee0\\ufe94\",\"\\ufead\\ufe8b\\ufe8e\\ufeb3\\ufe94 \\ufee3\\ufea0\\ufee0\\ufeb2 \\ufe8d\\ufedf\\ufeee\\ufeaf\\ufead\\ufe8d\\ufe80\",\"\\ufead\\ufe8b\\ufe8e\\ufeb3\\ufe94 \\ufee3\\ufea0\\ufee0\\ufeb2 \\ufe8d\\ufedf\\ufeee\\ufeaf\\ufead\\ufe8d\\ufe80\",\"\\ufe8d\\ufedf\\ufeec\\ufef4\\ufe8c\\ufe94 \\ufe8d\\ufedf\\ufeec\\ufee8\\ufeaa\\ufeb3\\ufef4\\ufe94 \\ufedf\\ufee0\\ufed8\\ufeee\\ufe8d\\ufe95 \\ufe8d\\ufedf\\ufee4\\ufeb4\\ufee0\\ufea4\\ufe94\",\"\\ufe8d\\ufedf\\ufeec\\ufef4\\ufe8c\\ufe94 \\ufe8d\\ufedf\\ufeec\\ufee8\\ufeaa\\ufeb3\\ufef4\\ufe94 \\ufedf\\ufee0\\ufed8\\ufeee\\ufe8d\\ufe95 \\ufe8d\\ufedf\\ufee4\\ufeb4\\ufee0\\ufea4\\ufe94\",\"\\ufe8d\\ufedf\\ufeec\\ufef4\\ufe8c\\ufe94 \\ufe8d\\ufedf\\ufeec\\ufee8\\ufeaa\\ufeb3\\ufef4\\ufe94 \\ufedf\\ufee0\\ufed8\\ufeee\\ufe8d\\ufe95 \\ufe8d\\ufedf\\ufee4\\ufeb4\\ufee0\\ufea4\\ufe94\",\"\\ufe8d\\ufedf\\ufeec\\ufef4\\ufe8c\\ufe94 \\ufe8d\\ufedf\\ufeec\\ufee8\\ufeaa\\ufeb3\\ufef4\\ufe94 \\ufedf\\ufee0\\ufed8\\ufeee\\ufe8d\\ufe95 \\ufe8d\\ufedf\\ufee4\\ufeb4\\ufee0\\ufea4\\ufe94\",\"\\ufe8d\\ufedf\\ufeec\\ufef4\\ufe8c\\ufe94 \\ufe8d\\ufedf\\ufeec\\ufee8\\ufeaa\\ufeb3\\ufef4\\ufe94 \\ufedf\\ufee0\\ufed8\\ufeee\\ufe8d\\ufe95 \\ufe8d\\ufedf\\ufee4\\ufeb4\\ufee0\\ufea4\\ufe94\",\"\\ufeed\\ufeaf\\ufe8d\\ufead\\ufe93 \\ufe8d\\ufedf\\ufe98\\ufeae\\ufe91\\ufef4\\ufe94 \\ufeed\\ufe8d\\ufedf\\ufe98\\ufecc\\ufee0\\ufef4\\ufee2 \\ufeed\\ufe8d\\ufedf\\ufe98\\ufecc\\ufee0\\ufef4\\ufee2 \\ufe8d\\ufedf\\ufed4\\ufee8\\ufef0\",\"\\ufe8d\\ufedf\\ufeec\\ufef4\\ufe8c\\ufe94 \\ufe8d\\ufedf\\ufeec\\ufee8\\ufeaa\\ufeb3\\ufef4\\ufe94 \\ufedf\\ufee0\\ufed8\\ufeee\\ufe8d\\ufe95 \\ufe8d\\ufedf\\ufee4\\ufeb4\\ufee0\\ufea4\\ufe94\",\"\\ufe8d\\ufedf\\ufeec\\ufef4\\ufe8c\\ufe94 \\ufe8d\\ufedf\\ufeec\\ufee8\\ufeaa\\ufeb3\\ufef4\\ufe94 \\ufedf\\ufee0\\ufed8\\ufeee\\ufe8d\\ufe95 \\ufe8d\\ufedf\\ufee4\\ufeb4\\ufee0\\ufea4\\ufe94\",\"\\ufeed\\ufeaf\\ufe8d\\ufead\\ufe93 \\ufe8d\\ufedf\\ufe98\\ufeae\\ufe91\\ufef4\\ufe94 \\ufeed\\ufe8d\\ufedf\\ufe98\\ufecc\\ufee0\\ufef4\\ufee2 \\ufeed\\ufe8d\\ufedf\\ufe98\\ufecc\\ufee0\\ufef4\\ufee2 \\ufe8d\\ufedf\\ufed4\\ufee8\\ufef0\",\"\\ufeed\\ufeaf\\ufe8d\\ufead\\ufe93 \\ufe8d\\ufedf\\ufe98\\ufeae\\ufe91\\ufef4\\ufe94 \\ufeed\\ufe8d\\ufedf\\ufe98\\ufecc\\ufee0\\ufef4\\ufee2 \\ufeed\\ufe8d\\ufedf\\ufe98\\ufecc\\ufee0\\ufef4\\ufee2 \\ufe8d\\ufedf\\ufed4\\ufee8\\ufef0\",\"\\ufeed\\ufeaf\\ufe8d\\ufead\\ufe93 \\ufe8d\\ufedf\\ufe98\\ufeae\\ufe91\\ufef4\\ufe94 \\ufeed\\ufe8d\\ufedf\\ufe98\\ufecc\\ufee0\\ufef4\\ufee2 \\ufeed\\ufe8d\\ufedf\\ufe98\\ufecc\\ufee0\\ufef4\\ufee2 \\ufe8d\\ufedf\\ufed4\\ufee8\\ufef0\",\"\\ufead\\ufe8b\\ufe8e\\ufeb3\\ufe94 \\ufe8d\\ufedf\\ufea0\\ufee4\\ufeec\\ufeee\\ufead\\ufef3\\ufe94\",\"\\ufeed\\ufeaf\\ufe8d\\ufead\\ufe93 \\ufe8d\\ufedf\\ufe98\\ufeae\\ufe91\\ufef4\\ufe94 \\ufeed\\ufe8d\\ufedf\\ufe98\\ufecc\\ufee0\\ufef4\\ufee2 \\ufeed\\ufe8d\\ufedf\\ufe98\\ufecc\\ufee0\\ufef4\\ufee2 \\ufe8d\\ufedf\\ufed4\\ufee8\\ufef0\",\"\\ufeed\\ufeaf\\ufe8d\\ufead\\ufe93 \\ufe8d\\ufedf\\ufe98\\ufeae\\ufe91\\ufef4\\ufe94 \\ufeed\\ufe8d\\ufedf\\ufe98\\ufecc\\ufee0\\ufef4\\ufee2 \\ufeed\\ufe8d\\ufedf\\ufe98\\ufecc\\ufee0\\ufef4\\ufee2 \\ufe8d\\ufedf\\ufed4\\ufee8\\ufef0\",\"\\ufeed\\ufeaf\\ufe8d\\ufead\\ufe93 \\ufe8d\\ufedf\\ufebc\\ufea4\\ufe94 \\ufeed\\ufe8d\\ufedf\\ufeb4\\ufedc\\ufe8e\\ufee5\",\"\\ufeed\\ufeaf\\ufe8d\\ufead\\ufe93 \\ufe8d\\ufedf\\ufe98\\ufeae\\ufe91\\ufef4\\ufe94 \\ufeed\\ufe8d\\ufedf\\ufe98\\ufecc\\ufee0\\ufef4\\ufee2 \\ufeed\\ufe8d\\ufedf\\ufe98\\ufecc\\ufee0\\ufef4\\ufee2 \\ufe8d\\ufedf\\ufed4\\ufee8\\ufef0\",\"\\ufe8d\\ufedf\\ufeec\\ufef4\\ufe8c\\ufe94 \\ufe8d\\ufedf\\ufeec\\ufee8\\ufeaa\\ufeb3\\ufef4\\ufe94 \\ufedf\\ufee0\\ufed8\\ufeee\\ufe8d\\ufe95 \\ufe8d\\ufedf\\ufee4\\ufeb4\\ufee0\\ufea4\\ufe94\",\"\\ufeed\\ufeaf\\ufe8d\\ufead\\ufe93 \\ufe8d\\ufef9\\ufe97\\ufebc\\ufe8e\\ufefb\\ufe95 \\ufeed\\ufe97\\ufedc\\ufee8\\ufeee\\ufedf\\ufeee\\ufe9f\\ufef4\\ufe8e \\ufe8d\\ufedf\\ufee4\\ufecc\\ufee0\\ufeee\\ufee3\\ufe8e\\ufe95\",\"\\ufeed\\ufeaf\\ufe8d\\ufead\\ufee9 \\ufe8d\\ufedf\\ufeaa\\ufe8d\\ufea7\\ufee0\\ufef4\\ufe94\",\"\\ufeed\\ufeaf\\ufe8d\\ufead\\ufee9 \\ufe8d\\ufedf\\ufeaa\\ufe8d\\ufea7\\ufee0\\ufef4\\ufe94\",\"\\ufeed\\ufeaf\\ufe8d\\ufead\\ufee9 \\ufe8d\\ufedf\\ufeaa\\ufe8d\\ufea7\\ufee0\\ufef4\\ufe94\",\"\\ufeed\\ufeaf\\ufe8d\\ufead\\ufee9 \\ufe8d\\ufedf\\ufeaa\\ufe8d\\ufea7\\ufee0\\ufef4\\ufe94\",\"\\ufe8d\\ufedf\\ufeec\\ufef4\\ufe8c\\ufe94 \\ufe8d\\ufedf\\ufeec\\ufee8\\ufeaa\\ufeb3\\ufef4\\ufe94 \\ufedf\\ufee0\\ufed8\\ufeee\\ufe8d\\ufe95 \\ufe8d\\ufedf\\ufee4\\ufeb4\\ufee0\\ufea4\\ufe94\",\"\\ufe8d\\ufedf\\ufeec\\ufef4\\ufe8c\\ufe94 \\ufe8d\\ufedf\\ufeec\\ufee8\\ufeaa\\ufeb3\\ufef4\\ufe94 \\ufedf\\ufee0\\ufed8\\ufeee\\ufe8d\\ufe95 \\ufe8d\\ufedf\\ufee4\\ufeb4\\ufee0\\ufea4\\ufe94\",\"\\ufe8d\\ufedf\\ufeec\\ufef4\\ufe8c\\ufe94 \\ufe8d\\ufedf\\ufeec\\ufee8\\ufeaa\\ufeb3\\ufef4\\ufe94 \\ufedf\\ufee0\\ufed8\\ufeee\\ufe8d\\ufe95 \\ufe8d\\ufedf\\ufee4\\ufeb4\\ufee0\\ufea4\\ufe94\",\"\\ufe8d\\ufedf\\ufeec\\ufef4\\ufe8c\\ufe94 \\ufe8d\\ufedf\\ufeec\\ufee8\\ufeaa\\ufeb3\\ufef4\\ufe94 \\ufedf\\ufee0\\ufed8\\ufeee\\ufe8d\\ufe95 \\ufe8d\\ufedf\\ufee4\\ufeb4\\ufee0\\ufea4\\ufe94\",\"\\ufe8d\\ufedf\\ufeec\\ufef4\\ufe8c\\ufe94 \\ufe8d\\ufedf\\ufeec\\ufee8\\ufeaa\\ufeb3\\ufef4\\ufe94 \\ufedf\\ufee0\\ufed8\\ufeee\\ufe8d\\ufe95 \\ufe8d\\ufedf\\ufee4\\ufeb4\\ufee0\\ufea4\\ufe94\",\"\\ufe8d\\ufedf\\ufeec\\ufef4\\ufe8c\\ufe94 \\ufe8d\\ufedf\\ufeec\\ufee8\\ufeaa\\ufeb3\\ufef4\\ufe94 \\ufedf\\ufee0\\ufed8\\ufeee\\ufe8d\\ufe95 \\ufe8d\\ufedf\\ufee4\\ufeb4\\ufee0\\ufea4\\ufe94\",\"\\ufeed\\ufeaf\\ufe8d\\ufead\\ufe93 \\ufe8d\\ufef7\\ufeed\\ufed7\\ufe8e\\ufed1\",\"\\ufeed\\ufeaf\\ufe8d\\ufead\\ufe93 \\ufe8d\\ufedf\\ufe98\\ufee8\\ufee4\\ufef4\\ufe94 \\ufe8d\\ufedf\\ufee4\\ufea4\\ufee0\\ufef4\\ufe94\",\"\\ufeed\\ufeaf\\ufe8d\\ufead\\ufe93 \\ufe8d\\ufedf\\ufee8\\ufed8\\ufede\",\"\\ufe8d\\ufedf\\ufeec\\ufef4\\ufe8c\\ufe94 \\ufe8d\\ufedf\\ufeec\\ufee8\\ufeaa\\ufeb3\\ufef4\\ufe94 \\ufedf\\ufee0\\ufed8\\ufeee\\ufe8d\\ufe95 \\ufe8d\\ufedf\\ufee4\\ufeb4\\ufee0\\ufea4\\ufe94\",\"\\ufe8d\\ufedf\\ufeec\\ufef4\\ufe8c\\ufe94 \\ufe8d\\ufedf\\ufeec\\ufee8\\ufeaa\\ufeb3\\ufef4\\ufe94 \\ufedf\\ufee0\\ufed8\\ufeee\\ufe8d\\ufe95 \\ufe8d\\ufedf\\ufee4\\ufeb4\\ufee0\\ufea4\\ufe94\",\"\\ufe8d\\ufedf\\ufeec\\ufef4\\ufe8c\\ufe94 \\ufe8d\\ufedf\\ufeec\\ufee8\\ufeaa\\ufeb3\\ufef4\\ufe94 \\ufedf\\ufee0\\ufed8\\ufeee\\ufe8d\\ufe95 \\ufe8d\\ufedf\\ufee4\\ufeb4\\ufee0\\ufea4\\ufe94\",\"\\ufe8d\\ufedf\\ufeec\\ufef4\\ufe8c\\ufe94 \\ufe8d\\ufedf\\ufeec\\ufee8\\ufeaa\\ufeb3\\ufef4\\ufe94 \\ufedf\\ufee0\\ufed8\\ufeee\\ufe8d\\ufe95 \\ufe8d\\ufedf\\ufee4\\ufeb4\\ufee0\\ufea4\\ufe94\",\"\\ufeed\\ufeaf\\ufe8d\\ufead\\ufe93 \\ufe8d\\ufef7\\ufeed\\ufed7\\ufe8e\\ufed1\",\"\\ufeed\\ufeaf\\ufe8d\\ufead\\ufe93 \\ufe8d\\ufef9\\ufe97\\ufebc\\ufe8e\\ufefb\\ufe95 \\ufeed\\ufe97\\ufedc\\ufee8\\ufeee\\ufedf\\ufeee\\ufe9f\\ufef4\\ufe8e \\ufe8d\\ufedf\\ufee4\\ufecc\\ufee0\\ufeee\\ufee3\\ufe8e\\ufe95\",\"\\ufeed\\ufeaf\\ufe8d\\ufead\\ufe93 \\ufe8d\\ufef9\\ufe97\\ufebc\\ufe8e\\ufefb\\ufe95 \\ufeed\\ufe97\\ufedc\\ufee8\\ufeee\\ufedf\\ufeee\\ufe9f\\ufef4\\ufe8e \\ufe8d\\ufedf\\ufee4\\ufecc\\ufee0\\ufeee\\ufee3\\ufe8e\\ufe95\",\"\\ufeed\\ufeaf\\ufe8d\\ufead\\ufe93 \\ufe8d\\ufef9\\ufe97\\ufebc\\ufe8e\\ufefb\\ufe95 \\ufeed\\ufe97\\ufedc\\ufee8\\ufeee\\ufedf\\ufeee\\ufe9f\\ufef4\\ufe8e \\ufe8d\\ufedf\\ufee4\\ufecc\\ufee0\\ufeee\\ufee3\\ufe8e\\ufe95\",\"\\ufeed\\ufeaf\\ufe8d\\ufead\\ufe93 \\ufe8d\\ufef9\\ufe97\\ufebc\\ufe8e\\ufefb\\ufe95 \\ufeed\\ufe97\\ufedc\\ufee8\\ufeee\\ufedf\\ufeee\\ufe9f\\ufef4\\ufe8e \\ufe8d\\ufedf\\ufee4\\ufecc\\ufee0\\ufeee\\ufee3\\ufe8e\\ufe95\",\"\\ufeed\\ufeaf\\ufe8d\\ufead\\ufe93 \\ufe8d\\ufef9\\ufe97\\ufebc\\ufe8e\\ufefb\\ufe95 \\ufeed\\ufe97\\ufedc\\ufee8\\ufeee\\ufedf\\ufeee\\ufe9f\\ufef4\\ufe8e \\ufe8d\\ufedf\\ufee4\\ufecc\\ufee0\\ufeee\\ufee3\\ufe8e\\ufe95\",\"\\ufeed\\ufeaf\\ufe8d\\ufead\\ufe93 \\ufe8d\\ufef9\\ufeb3\\ufedc\\ufe8e\\ufee5 \\ufeed\\ufe8d\\ufedf\\ufee4\\ufeae\\ufe8d\\ufed3\\ufed6 \\ufeed\\ufe8d\\ufedf\\ufee4\\ufea0\\ufe98\\ufee4\\ufecc\\ufe8e\\ufe95 \\ufe8d\\ufedf\\ufecc\\ufee4\\ufeae\\ufe8d\\ufee7\\ufef4\\ufe94\",\"\\ufeed\\ufeaf\\ufe8d\\ufead\\ufe93 \\ufe8d\\ufef9\\ufeb3\\ufedc\\ufe8e\\ufee5 \\ufeed\\ufe8d\\ufedf\\ufee4\\ufeae\\ufe8d\\ufed3\\ufed6 \\ufeed\\ufe8d\\ufedf\\ufee4\\ufea0\\ufe98\\ufee4\\ufecc\\ufe8e\\ufe95 \\ufe8d\\ufedf\\ufecc\\ufee4\\ufeae\\ufe8d\\ufee7\\ufef4\\ufe94\",\"\\ufeed\\ufeaf\\ufe8d\\ufead\\ufe93 \\ufe8d\\ufedf\\ufe98\\ufea0\\ufe8e\\ufead\\ufe93 \\ufeed\\ufe8d\\ufedf\\ufebc\\ufee8\\ufe8e\\ufecb\\ufe94\",\"\\ufeed\\ufeaf\\ufe8d\\ufead\\ufe93 \\ufe8d\\ufedf\\ufe98\\ufec0\\ufe8e\\ufee3\\ufee6 \\ufe8d\\ufefb\\ufe9f\\ufe98\\ufee4\\ufe8e\\ufecb\\ufef0\",\"\\ufeed\\ufeaf\\ufe8d\\ufead\\ufe93 \\ufe8d\\ufedf\\ufe98\\ufec0\\ufe8e\\ufee3\\ufee6 \\ufe8d\\ufefb\\ufe9f\\ufe98\\ufee4\\ufe8e\\ufecb\\ufef0\",\"\\ufeed\\ufeaf\\ufe8d\\ufead\\ufe93 \\ufe8d\\ufedf\\ufe98\\ufec0\\ufe8e\\ufee3\\ufee6 \\ufe8d\\ufefb\\ufe9f\\ufe98\\ufee4\\ufe8e\\ufecb\\ufef0\",\"\\ufeed\\ufeaf\\ufe8d\\ufead\\ufe93 \\ufe8d\\ufedf\\ufe98\\ufec0\\ufe8e\\ufee3\\ufee6 \\ufe8d\\ufefb\\ufe9f\\ufe98\\ufee4\\ufe8e\\ufecb\\ufef0\",\"\\ufeed\\ufeaf\\ufe8d\\ufead\\ufe93 \\ufe8d\\ufedf\\ufebc\\ufea4\\ufe94 \\ufeed\\ufe8d\\ufedf\\ufeb4\\ufedc\\ufe8e\\ufee5\",\"\\ufeed\\ufeaf\\ufe8d\\ufead\\ufe93 \\ufe8d\\ufedf\\ufe98\\ufee8\\ufee4\\ufef4\\ufe94 \\ufe8d\\ufedf\\ufee4\\ufea4\\ufee0\\ufef4\\ufe94\",\"\\ufeed\\ufeaf\\ufe8d\\ufead\\ufe93 \\ufe8d\\ufedf\\ufe98\\ufee8\\ufee4\\ufef4\\ufe94 \\ufe8d\\ufedf\\ufee4\\ufea4\\ufee0\\ufef4\\ufe94\",\"\\ufeed\\ufeaf\\ufe8d\\ufead\\ufe93 \\ufe8d\\ufef9\\ufeb3\\ufedc\\ufe8e\\ufee5 \\ufeed\\ufe8d\\ufedf\\ufee4\\ufeae\\ufe8d\\ufed3\\ufed6 \\ufeed\\ufe8d\\ufedf\\ufee4\\ufea0\\ufe98\\ufee4\\ufecc\\ufe8e\\ufe95 \\ufe8d\\ufedf\\ufecc\\ufee4\\ufeae\\ufe8d\\ufee7\\ufef4\\ufe94\",\"\\ufeed\\ufeaf\\ufe8d\\ufead\\ufe93 \\ufe8d\\ufef9\\ufeb3\\ufedc\\ufe8e\\ufee5 \\ufeed\\ufe8d\\ufedf\\ufee4\\ufeae\\ufe8d\\ufed3\\ufed6 \\ufeed\\ufe8d\\ufedf\\ufee4\\ufea0\\ufe98\\ufee4\\ufecc\\ufe8e\\ufe95 \\ufe8d\\ufedf\\ufecc\\ufee4\\ufeae\\ufe8d\\ufee7\\ufef4\\ufe94\",\"\\ufeed\\ufeaf\\ufe8d\\ufead\\ufe93 \\ufe8d\\ufedf\\ufe98\\ufee8\\ufee4\\ufef4\\ufe94 \\ufe8d\\ufedf\\ufee4\\ufea4\\ufee0\\ufef4\\ufe94\",\"\\ufeed\\ufeaf\\ufe8d\\ufead\\ufe93 \\ufe8d\\ufedf\\ufee4\\ufeee\\ufe8d\\ufead\\ufea9 \\ufe8d\\ufedf\\ufee4\\ufe8e\\ufe8b\\ufef4\\ufe94 \\ufeed\\ufe8d\\ufedf\\ufeae\\ufeef\",\"\\ufeed\\ufeaf\\ufe8d\\ufead\\ufe93 \\ufe8d\\ufedf\\ufe98\\ufee8\\ufee4\\ufef4\\ufe94 \\ufe8d\\ufedf\\ufee4\\ufea4\\ufee0\\ufef4\\ufe94\",\"\\ufeed\\ufeaf\\ufe8d\\ufead\\ufe93 \\ufe8d\\ufedf\\ufe98\\ufee8\\ufee4\\ufef4\\ufe94 \\ufe8d\\ufedf\\ufee4\\ufea4\\ufee0\\ufef4\\ufe94\",\"\\ufeed\\ufeaf\\ufe8d\\ufead\\ufe93 \\ufe8d\\ufedf\\ufe98\\ufee8\\ufee4\\ufef4\\ufe94 \\ufe8d\\ufedf\\ufee4\\ufea4\\ufee0\\ufef4\\ufe94\",\"\\ufeed\\ufeaf\\ufe8d\\ufead\\ufe93 \\ufe8d\\ufedf\\ufe98\\ufec0\\ufe8e\\ufee3\\ufee6 \\ufe8d\\ufefb\\ufe9f\\ufe98\\ufee4\\ufe8e\\ufecb\\ufef0\",\"\\ufeed\\ufeaf\\ufe8d\\ufead\\ufe93 \\ufe8d\\ufedf\\ufe98\\ufee8\\ufee4\\ufef4\\ufe94 \\ufe8d\\ufedf\\ufee4\\ufea4\\ufee0\\ufef4\\ufe94\",\"\\ufeed\\ufeaf\\ufe8d\\ufead\\ufe93 \\ufe8d\\ufedf\\ufe98\\ufee8\\ufee4\\ufef4\\ufe94 \\ufe8d\\ufedf\\ufee4\\ufea4\\ufee0\\ufef4\\ufe94\",\"\\ufeed\\ufeaf\\ufe8d\\ufead\\ufe93 \\ufe8d\\ufedf\\ufe98\\ufee8\\ufee4\\ufef4\\ufe94 \\ufe8d\\ufedf\\ufee4\\ufea4\\ufee0\\ufef4\\ufe94\"],\"legendgroup\":\"\",\"name\":\"\",\"showlegend\":true,\"type\":\"pie\"}],                        {\"template\":{\"data\":{\"bar\":[{\"error_x\":{\"color\":\"#2a3f5f\"},\"error_y\":{\"color\":\"#2a3f5f\"},\"marker\":{\"line\":{\"color\":\"#E5ECF6\",\"width\":0.5},\"pattern\":{\"fillmode\":\"overlay\",\"size\":10,\"solidity\":0.2}},\"type\":\"bar\"}],\"barpolar\":[{\"marker\":{\"line\":{\"color\":\"#E5ECF6\",\"width\":0.5},\"pattern\":{\"fillmode\":\"overlay\",\"size\":10,\"solidity\":0.2}},\"type\":\"barpolar\"}],\"carpet\":[{\"aaxis\":{\"endlinecolor\":\"#2a3f5f\",\"gridcolor\":\"white\",\"linecolor\":\"white\",\"minorgridcolor\":\"white\",\"startlinecolor\":\"#2a3f5f\"},\"baxis\":{\"endlinecolor\":\"#2a3f5f\",\"gridcolor\":\"white\",\"linecolor\":\"white\",\"minorgridcolor\":\"white\",\"startlinecolor\":\"#2a3f5f\"},\"type\":\"carpet\"}],\"choropleth\":[{\"colorbar\":{\"outlinewidth\":0,\"ticks\":\"\"},\"type\":\"choropleth\"}],\"contour\":[{\"colorbar\":{\"outlinewidth\":0,\"ticks\":\"\"},\"colorscale\":[[0.0,\"#0d0887\"],[0.1111111111111111,\"#46039f\"],[0.2222222222222222,\"#7201a8\"],[0.3333333333333333,\"#9c179e\"],[0.4444444444444444,\"#bd3786\"],[0.5555555555555556,\"#d8576b\"],[0.6666666666666666,\"#ed7953\"],[0.7777777777777778,\"#fb9f3a\"],[0.8888888888888888,\"#fdca26\"],[1.0,\"#f0f921\"]],\"type\":\"contour\"}],\"contourcarpet\":[{\"colorbar\":{\"outlinewidth\":0,\"ticks\":\"\"},\"type\":\"contourcarpet\"}],\"heatmap\":[{\"colorbar\":{\"outlinewidth\":0,\"ticks\":\"\"},\"colorscale\":[[0.0,\"#0d0887\"],[0.1111111111111111,\"#46039f\"],[0.2222222222222222,\"#7201a8\"],[0.3333333333333333,\"#9c179e\"],[0.4444444444444444,\"#bd3786\"],[0.5555555555555556,\"#d8576b\"],[0.6666666666666666,\"#ed7953\"],[0.7777777777777778,\"#fb9f3a\"],[0.8888888888888888,\"#fdca26\"],[1.0,\"#f0f921\"]],\"type\":\"heatmap\"}],\"heatmapgl\":[{\"colorbar\":{\"outlinewidth\":0,\"ticks\":\"\"},\"colorscale\":[[0.0,\"#0d0887\"],[0.1111111111111111,\"#46039f\"],[0.2222222222222222,\"#7201a8\"],[0.3333333333333333,\"#9c179e\"],[0.4444444444444444,\"#bd3786\"],[0.5555555555555556,\"#d8576b\"],[0.6666666666666666,\"#ed7953\"],[0.7777777777777778,\"#fb9f3a\"],[0.8888888888888888,\"#fdca26\"],[1.0,\"#f0f921\"]],\"type\":\"heatmapgl\"}],\"histogram\":[{\"marker\":{\"pattern\":{\"fillmode\":\"overlay\",\"size\":10,\"solidity\":0.2}},\"type\":\"histogram\"}],\"histogram2d\":[{\"colorbar\":{\"outlinewidth\":0,\"ticks\":\"\"},\"colorscale\":[[0.0,\"#0d0887\"],[0.1111111111111111,\"#46039f\"],[0.2222222222222222,\"#7201a8\"],[0.3333333333333333,\"#9c179e\"],[0.4444444444444444,\"#bd3786\"],[0.5555555555555556,\"#d8576b\"],[0.6666666666666666,\"#ed7953\"],[0.7777777777777778,\"#fb9f3a\"],[0.8888888888888888,\"#fdca26\"],[1.0,\"#f0f921\"]],\"type\":\"histogram2d\"}],\"histogram2dcontour\":[{\"colorbar\":{\"outlinewidth\":0,\"ticks\":\"\"},\"colorscale\":[[0.0,\"#0d0887\"],[0.1111111111111111,\"#46039f\"],[0.2222222222222222,\"#7201a8\"],[0.3333333333333333,\"#9c179e\"],[0.4444444444444444,\"#bd3786\"],[0.5555555555555556,\"#d8576b\"],[0.6666666666666666,\"#ed7953\"],[0.7777777777777778,\"#fb9f3a\"],[0.8888888888888888,\"#fdca26\"],[1.0,\"#f0f921\"]],\"type\":\"histogram2dcontour\"}],\"mesh3d\":[{\"colorbar\":{\"outlinewidth\":0,\"ticks\":\"\"},\"type\":\"mesh3d\"}],\"parcoords\":[{\"line\":{\"colorbar\":{\"outlinewidth\":0,\"ticks\":\"\"}},\"type\":\"parcoords\"}],\"pie\":[{\"automargin\":true,\"type\":\"pie\"}],\"scatter\":[{\"marker\":{\"colorbar\":{\"outlinewidth\":0,\"ticks\":\"\"}},\"type\":\"scatter\"}],\"scatter3d\":[{\"line\":{\"colorbar\":{\"outlinewidth\":0,\"ticks\":\"\"}},\"marker\":{\"colorbar\":{\"outlinewidth\":0,\"ticks\":\"\"}},\"type\":\"scatter3d\"}],\"scattercarpet\":[{\"marker\":{\"colorbar\":{\"outlinewidth\":0,\"ticks\":\"\"}},\"type\":\"scattercarpet\"}],\"scattergeo\":[{\"marker\":{\"colorbar\":{\"outlinewidth\":0,\"ticks\":\"\"}},\"type\":\"scattergeo\"}],\"scattergl\":[{\"marker\":{\"colorbar\":{\"outlinewidth\":0,\"ticks\":\"\"}},\"type\":\"scattergl\"}],\"scattermapbox\":[{\"marker\":{\"colorbar\":{\"outlinewidth\":0,\"ticks\":\"\"}},\"type\":\"scattermapbox\"}],\"scatterpolar\":[{\"marker\":{\"colorbar\":{\"outlinewidth\":0,\"ticks\":\"\"}},\"type\":\"scatterpolar\"}],\"scatterpolargl\":[{\"marker\":{\"colorbar\":{\"outlinewidth\":0,\"ticks\":\"\"}},\"type\":\"scatterpolargl\"}],\"scatterternary\":[{\"marker\":{\"colorbar\":{\"outlinewidth\":0,\"ticks\":\"\"}},\"type\":\"scatterternary\"}],\"surface\":[{\"colorbar\":{\"outlinewidth\":0,\"ticks\":\"\"},\"colorscale\":[[0.0,\"#0d0887\"],[0.1111111111111111,\"#46039f\"],[0.2222222222222222,\"#7201a8\"],[0.3333333333333333,\"#9c179e\"],[0.4444444444444444,\"#bd3786\"],[0.5555555555555556,\"#d8576b\"],[0.6666666666666666,\"#ed7953\"],[0.7777777777777778,\"#fb9f3a\"],[0.8888888888888888,\"#fdca26\"],[1.0,\"#f0f921\"]],\"type\":\"surface\"}],\"table\":[{\"cells\":{\"fill\":{\"color\":\"#EBF0F8\"},\"line\":{\"color\":\"white\"}},\"header\":{\"fill\":{\"color\":\"#C8D4E3\"},\"line\":{\"color\":\"white\"}},\"type\":\"table\"}]},\"layout\":{\"annotationdefaults\":{\"arrowcolor\":\"#2a3f5f\",\"arrowhead\":0,\"arrowwidth\":1},\"autotypenumbers\":\"strict\",\"coloraxis\":{\"colorbar\":{\"outlinewidth\":0,\"ticks\":\"\"}},\"colorscale\":{\"diverging\":[[0,\"#8e0152\"],[0.1,\"#c51b7d\"],[0.2,\"#de77ae\"],[0.3,\"#f1b6da\"],[0.4,\"#fde0ef\"],[0.5,\"#f7f7f7\"],[0.6,\"#e6f5d0\"],[0.7,\"#b8e186\"],[0.8,\"#7fbc41\"],[0.9,\"#4d9221\"],[1,\"#276419\"]],\"sequential\":[[0.0,\"#0d0887\"],[0.1111111111111111,\"#46039f\"],[0.2222222222222222,\"#7201a8\"],[0.3333333333333333,\"#9c179e\"],[0.4444444444444444,\"#bd3786\"],[0.5555555555555556,\"#d8576b\"],[0.6666666666666666,\"#ed7953\"],[0.7777777777777778,\"#fb9f3a\"],[0.8888888888888888,\"#fdca26\"],[1.0,\"#f0f921\"]],\"sequentialminus\":[[0.0,\"#0d0887\"],[0.1111111111111111,\"#46039f\"],[0.2222222222222222,\"#7201a8\"],[0.3333333333333333,\"#9c179e\"],[0.4444444444444444,\"#bd3786\"],[0.5555555555555556,\"#d8576b\"],[0.6666666666666666,\"#ed7953\"],[0.7777777777777778,\"#fb9f3a\"],[0.8888888888888888,\"#fdca26\"],[1.0,\"#f0f921\"]]},\"colorway\":[\"#636efa\",\"#EF553B\",\"#00cc96\",\"#ab63fa\",\"#FFA15A\",\"#19d3f3\",\"#FF6692\",\"#B6E880\",\"#FF97FF\",\"#FECB52\"],\"font\":{\"color\":\"#2a3f5f\"},\"geo\":{\"bgcolor\":\"white\",\"lakecolor\":\"white\",\"landcolor\":\"#E5ECF6\",\"showlakes\":true,\"showland\":true,\"subunitcolor\":\"white\"},\"hoverlabel\":{\"align\":\"left\"},\"hovermode\":\"closest\",\"mapbox\":{\"style\":\"light\"},\"paper_bgcolor\":\"white\",\"plot_bgcolor\":\"#E5ECF6\",\"polar\":{\"angularaxis\":{\"gridcolor\":\"white\",\"linecolor\":\"white\",\"ticks\":\"\"},\"bgcolor\":\"#E5ECF6\",\"radialaxis\":{\"gridcolor\":\"white\",\"linecolor\":\"white\",\"ticks\":\"\"}},\"scene\":{\"xaxis\":{\"backgroundcolor\":\"#E5ECF6\",\"gridcolor\":\"white\",\"gridwidth\":2,\"linecolor\":\"white\",\"showbackground\":true,\"ticks\":\"\",\"zerolinecolor\":\"white\"},\"yaxis\":{\"backgroundcolor\":\"#E5ECF6\",\"gridcolor\":\"white\",\"gridwidth\":2,\"linecolor\":\"white\",\"showbackground\":true,\"ticks\":\"\",\"zerolinecolor\":\"white\"},\"zaxis\":{\"backgroundcolor\":\"#E5ECF6\",\"gridcolor\":\"white\",\"gridwidth\":2,\"linecolor\":\"white\",\"showbackground\":true,\"ticks\":\"\",\"zerolinecolor\":\"white\"}},\"shapedefaults\":{\"line\":{\"color\":\"#2a3f5f\"}},\"ternary\":{\"aaxis\":{\"gridcolor\":\"white\",\"linecolor\":\"white\",\"ticks\":\"\"},\"baxis\":{\"gridcolor\":\"white\",\"linecolor\":\"white\",\"ticks\":\"\"},\"bgcolor\":\"#E5ECF6\",\"caxis\":{\"gridcolor\":\"white\",\"linecolor\":\"white\",\"ticks\":\"\"}},\"title\":{\"x\":0.05},\"xaxis\":{\"automargin\":true,\"gridcolor\":\"white\",\"linecolor\":\"white\",\"ticks\":\"\",\"title\":{\"standoff\":15},\"zerolinecolor\":\"white\",\"zerolinewidth\":2},\"yaxis\":{\"automargin\":true,\"gridcolor\":\"white\",\"linecolor\":\"white\",\"ticks\":\"\",\"title\":{\"standoff\":15},\"zerolinecolor\":\"white\",\"zerolinewidth\":2}}},\"legend\":{\"tracegroupgap\":0},\"margin\":{\"t\":60},\"piecolorway\":[\"rgb(136, 204, 238)\",\"rgb(204, 102, 119)\",\"rgb(221, 204, 119)\",\"rgb(17, 119, 51)\",\"rgb(51, 34, 136)\",\"rgb(170, 68, 153)\",\"rgb(68, 170, 153)\",\"rgb(153, 153, 51)\",\"rgb(136, 34, 85)\",\"rgb(102, 17, 0)\",\"rgb(136, 136, 136)\"]},                        {\"responsive\": true}                    ).then(function(){\n",
              "                            \n",
              "var gd = document.getElementById('8be76e0a-4818-4999-972c-f113abe2d4cb');\n",
              "var x = new MutationObserver(function (mutations, observer) {{\n",
              "        var display = window.getComputedStyle(gd).display;\n",
              "        if (!display || display === 'none') {{\n",
              "            console.log([gd, 'removed!']);\n",
              "            Plotly.purge(gd);\n",
              "            observer.disconnect();\n",
              "        }}\n",
              "}});\n",
              "\n",
              "// Listen for the removal of the full notebook cells\n",
              "var notebookContainer = gd.closest('#notebook-container');\n",
              "if (notebookContainer) {{\n",
              "    x.observe(notebookContainer, {childList: true});\n",
              "}}\n",
              "\n",
              "// Listen for the clearing of the current output cell\n",
              "var outputEl = gd.closest('.output');\n",
              "if (outputEl) {{\n",
              "    x.observe(outputEl, {childList: true});\n",
              "}}\n",
              "\n",
              "                        })                };                            </script>        </div>\n",
              "</body>\n",
              "</html>"
            ]
          },
          "metadata": {}
        },
        {
          "output_type": "display_data",
          "data": {
            "text/plain": [
              "<Figure size 1368x1368 with 0 Axes>"
            ]
          },
          "metadata": {}
        }
      ]
    },
    {
      "cell_type": "code",
      "source": [
        "def CountPlot(col):\n",
        "    global df\n",
        "    # بياخد نسخه من الداتا و بيعمل بروسيس علي الكولوم الي احنا شغالين علية بس و لما الداله بتخلص شغل بتتمسح \n",
        "    df[col] = df[col].astype(str).apply(lambda x : arabic_reshaper.reshape(x)[::-1])\n",
        "    plt.figure(figsize=(22,20))\n",
        "    fig = px.pie(df,names=\"البرنامج\" , \n",
        "                   color_discrete_sequence= px.colors.qualitative.Safe)\n",
        "    fig.show()\n",
        "CountPlot('البرنامج')"
      ],
      "metadata": {
        "colab": {
          "base_uri": "https://localhost:8080/",
          "height": 559
        },
        "id": "cu6V5qhGqPn5",
        "outputId": "ee413e0f-c967-4828-bbe6-1a81a710052c"
      },
      "execution_count": null,
      "outputs": [
        {
          "output_type": "display_data",
          "data": {
            "text/html": [
              "<html>\n",
              "<head><meta charset=\"utf-8\" /></head>\n",
              "<body>\n",
              "    <div>            <script src=\"https://cdnjs.cloudflare.com/ajax/libs/mathjax/2.7.5/MathJax.js?config=TeX-AMS-MML_SVG\"></script><script type=\"text/javascript\">if (window.MathJax) {MathJax.Hub.Config({SVG: {font: \"STIX-Web\"}});}</script>                <script type=\"text/javascript\">window.PlotlyConfig = {MathJaxConfig: 'local'};</script>\n",
              "        <script src=\"https://cdn.plot.ly/plotly-2.8.3.min.js\"></script>                <div id=\"37a22e9c-de55-41dd-974c-93219e6f05b0\" class=\"plotly-graph-div\" style=\"height:525px; width:100%;\"></div>            <script type=\"text/javascript\">                                    window.PLOTLYENV=window.PLOTLYENV || {};                                    if (document.getElementById(\"37a22e9c-de55-41dd-974c-93219e6f05b0\")) {                    Plotly.newPlot(                        \"37a22e9c-de55-41dd-974c-93219e6f05b0\",                        [{\"domain\":{\"x\":[0.0,1.0],\"y\":[0.0,1.0]},\"hovertemplate\":\"\\u0627\\u0644\\u0628\\u0631\\u0646\\u0627\\u0645\\u062c=%{label}<extra></extra>\",\"labels\":[\"\\ufe97\\ufecc\\ufeb0\\ufef3\\ufeb0 \\ufed7\\ufeaa\\ufead\\ufe8d\\ufe95 \\ufe8d\\ufedf\\ufeb8\\ufe92\\ufe8e\\ufe8f\",\"\\ufe87\\ufe97\\ufe8e\\ufea3\\ufe94 \\ufe8d\\ufedf\\ufe98\\ufee4\\ufeee\\ufef3\\ufede \\ufedf\\ufee0\\ufee4\\ufeb8\\ufeae\\ufeed\\ufecb\\ufe8e\\ufe95 \\ufe8d\\ufedf\\ufee4\\ufe98\\ufeee\\ufeb3\\ufec4\\ufe94 \\ufeed\\ufe8d\\ufedf\\ufebc\\ufed0\\ufef4\\ufeae\\ufe93 \\ufeed\\ufee3\\ufe98\\ufee8\\ufe8e\\ufeeb\\ufef4\\ufe94 \\ufe8d\\ufedf\\ufebc\\ufed0\\ufeae\",\"\\ufe87\\ufe97\\ufe8e\\ufea3\\ufe94 \\ufe8d\\ufedf\\ufe98\\ufee4\\ufeee\\ufef3\\ufede \\ufedf\\ufee0\\ufee4\\ufeb8\\ufeae\\ufeed\\ufecb\\ufe8e\\ufe95 \\ufe8d\\ufedf\\ufee4\\ufe98\\ufeee\\ufeb3\\ufec4\\ufe94 \\ufeed\\ufe8d\\ufedf\\ufebc\\ufed0\\ufef4\\ufeae\\ufe93 \\ufeed\\ufee3\\ufe98\\ufee8\\ufe8e\\ufeeb\\ufef4\\ufe94 \\ufe8d\\ufedf\\ufebc\\ufed0\\ufeae\",\"\\ufe97\\ufeee\\ufed3\\ufef4\\ufeae \\ufe8d\\ufedf\\ufeb4\\ufedc\\ufee6 \\ufe8d\\ufedf\\ufefc\\ufe8b\\ufed6\",\"\\ufe97\\ufec4\\ufeee\\ufef3\\ufeae \\ufe8d\\ufedf\\ufea8\\ufeaa\\ufee3\\ufe8e\\ufe95 \\ufe8d\\ufedf\\ufebc\\ufea4\\ufef4\\ufe94\",\"\\ufe97\\ufec4\\ufeee\\ufef3\\ufeae \\ufe8d\\ufedf\\ufea8\\ufeaa\\ufee3\\ufe8e\\ufe95 \\ufe8d\\ufedf\\ufebc\\ufea4\\ufef4\\ufe94\",\"\\ufe97\\ufec4\\ufeee\\ufef3\\ufeae \\ufe8d\\ufedf\\ufea8\\ufeaa\\ufee3\\ufe8e\\ufe95 \\ufe8d\\ufedf\\ufebc\\ufea4\\ufef4\\ufe94\",\"\\ufe97\\ufec4\\ufeee\\ufef3\\ufeae \\ufea7\\ufeaa\\ufee3\\ufe8e\\ufe95 \\ufe8d\\ufedf\\ufee8\\ufed8\\ufede\",\"\\ufe97\\ufec4\\ufeee\\ufef3\\ufeae \\ufea7\\ufeaa\\ufee3\\ufe8e\\ufe95 \\ufe8d\\ufedf\\ufee8\\ufed8\\ufede\",\"\\ufe97\\ufec4\\ufeee\\ufef3\\ufeae \\ufea7\\ufeaa\\ufee3\\ufe8e\\ufe95 \\ufe8d\\ufedf\\ufee8\\ufed8\\ufede\",\"\\ufe97\\ufec4\\ufeee\\ufef3\\ufeae \\ufea7\\ufeaa\\ufee3\\ufe8e\\ufe95 \\ufe8d\\ufedf\\ufee8\\ufed8\\ufede\",\"\\ufe97\\ufec4\\ufeee\\ufef3\\ufeae \\ufea7\\ufeaa\\ufee3\\ufe8e\\ufe95 \\ufe8d\\ufedf\\ufee8\\ufed8\\ufede\",\"\\ufe97\\ufec4\\ufeee\\ufef3\\ufeae \\ufea7\\ufeaa\\ufee3\\ufe8e\\ufe95 \\ufe8d\\ufedf\\ufee8\\ufed8\\ufede\",\"\\ufe97\\ufeee\\ufebb\\ufef4\\ufede \\ufea7\\ufeaa\\ufee3\\ufe8e\\ufe95 \\ufe8d\\ufedf\\ufebc\\ufeae\\ufed1 \\ufe8d\\ufedf\\ufebc\\ufea4\\ufef0\",\"\\ufe97\\ufec4\\ufeee\\ufef3\\ufeae \\ufe8d\\ufedf\\ufea8\\ufeaa\\ufee3\\ufe8e\\ufe95 \\ufe8d\\ufedf\\ufeb0\\ufead\\ufe8d\\ufecb\\ufef4\\ufe94 \\ufeed\\ufea7\\ufeaa\\ufee3\\ufe8e\\ufe95 \\ufe8d\\ufedf\\ufeae\\ufef1\",\"\\ufe97\\ufec4\\ufeee\\ufef3\\ufeae \\ufe8d\\ufedf\\ufea8\\ufeaa\\ufee3\\ufe8e\\ufe95 \\ufe8d\\ufedf\\ufee4\\ufea4\\ufee0\\ufef4\\ufe94\",\"\\ufe97\\ufec4\\ufeee\\ufef3\\ufeae \\ufe8d\\ufedf\\ufea8\\ufeaa\\ufee3\\ufe8e\\ufe95 \\ufe8d\\ufedf\\ufeb0\\ufead\\ufe8d\\ufecb\\ufef4\\ufe94 \\ufeed\\ufea7\\ufeaa\\ufee3\\ufe8e\\ufe95 \\ufe8d\\ufedf\\ufeae\\ufef1\",\"\\ufe97\\ufec4\\ufeee\\ufef3\\ufeae \\ufe8d\\ufedf\\ufea8\\ufeaa\\ufee3\\ufe8e\\ufe95 \\ufe8d\\ufedf\\ufee4\\ufea4\\ufee0\\ufef4\\ufe94\",\"\\ufe97\\ufec4\\ufeee\\ufef3\\ufeae \\ufea7\\ufeaa\\ufee3\\ufe8e\\ufe95 \\ufe8d\\ufedf\\ufee8\\ufed8\\ufede\",\"\\ufe97\\ufec4\\ufeee\\ufef3\\ufeae \\ufea7\\ufeaa\\ufee3\\ufe8e\\ufe95 \\ufe8d\\ufedf\\ufee8\\ufed8\\ufede\",\"\\ufe97\\ufec4\\ufeee\\ufef3\\ufeae \\ufea7\\ufeaa\\ufee3\\ufe8e\\ufe95 \\ufe8d\\ufedf\\ufee8\\ufed8\\ufede\",\"\\ufe97\\ufec4\\ufeee\\ufef3\\ufeae \\ufe8d\\ufedf\\ufea8\\ufeaa\\ufee3\\ufe8e\\ufe95 \\ufe8d\\ufedf\\ufeb0\\ufead\\ufe8d\\ufecb\\ufef4\\ufe94 \\ufeed\\ufea7\\ufeaa\\ufee3\\ufe8e\\ufe95 \\ufe8d\\ufedf\\ufeae\\ufef1\",\"\\ufe97\\ufec4\\ufeee\\ufef3\\ufeae \\ufea7\\ufeaa\\ufee3\\ufe8e\\ufe95 \\ufe8d\\ufedf\\ufee8\\ufed8\\ufede\",\"\\ufe97\\ufec4\\ufeee\\ufef3\\ufeae \\ufea7\\ufeaa\\ufee3\\ufe8e\\ufe95 \\ufe8d\\ufedf\\ufee8\\ufed8\\ufede\",\"\\ufe97\\ufec4\\ufeee\\ufef3\\ufeae \\ufea7\\ufeaa\\ufee3\\ufe8e\\ufe95 \\ufe8d\\ufedf\\ufee8\\ufed8\\ufede\",\"\\ufe97\\ufec4\\ufeee\\ufef3\\ufeae \\ufea7\\ufeaa\\ufee3\\ufe8e\\ufe95 \\ufe8d\\ufedf\\ufee8\\ufed8\\ufede\",\"\\ufe97\\ufec4\\ufeee\\ufef3\\ufeae \\ufe8d\\ufedf\\ufea8\\ufeaa\\ufee3\\ufe8e\\ufe95 \\ufe8d\\ufedf\\ufee4\\ufea4\\ufee0\\ufef4\\ufe94\",\"\\ufe97\\ufec4\\ufeee\\ufef3\\ufeae \\ufea7\\ufeaa\\ufee3\\ufe8e\\ufe95 \\ufe8d\\ufedf\\ufee8\\ufed8\\ufede\",\"\\ufe97\\ufec4\\ufeee\\ufef3\\ufeae \\ufea7\\ufeaa\\ufee3\\ufe8e\\ufe95 \\ufe8d\\ufedf\\ufee8\\ufed8\\ufede\",\"\\ufe87\\ufe97\\ufe8e\\ufea3\\ufe94 \\ufe8d\\ufedf\\ufe98\\ufee4\\ufeee\\ufef3\\ufede \\ufedf\\ufee0\\ufee4\\ufeb8\\ufeae\\ufeed\\ufecb\\ufe8e\\ufe95 \\ufe8d\\ufedf\\ufee4\\ufe98\\ufeee\\ufeb3\\ufec4\\ufe94 \\ufeed\\ufe8d\\ufedf\\ufebc\\ufed0\\ufef4\\ufeae\\ufe93 \\ufeed\\ufee3\\ufe98\\ufee8\\ufe8e\\ufeeb\\ufef4\\ufe94 \\ufe8d\\ufedf\\ufebc\\ufed0\\ufeae\",\"\\ufe87\\ufe97\\ufe8e\\ufea3\\ufe94 \\ufe8d\\ufedf\\ufe98\\ufee4\\ufeee\\ufef3\\ufede \\ufedf\\ufee0\\ufee4\\ufeb8\\ufeae\\ufeed\\ufecb\\ufe8e\\ufe95 \\ufe8d\\ufedf\\ufee4\\ufe98\\ufeee\\ufeb3\\ufec4\\ufe94 \\ufeed\\ufe8d\\ufedf\\ufebc\\ufed0\\ufef4\\ufeae\\ufe93 \\ufeed\\ufee3\\ufe98\\ufee8\\ufe8e\\ufeeb\\ufef4\\ufe94 \\ufe8d\\ufedf\\ufebc\\ufed0\\ufeae\",\"\\ufe87\\ufe97\\ufe8e\\ufea3\\ufe94 \\ufe8d\\ufedf\\ufe98\\ufee4\\ufeee\\ufef3\\ufede \\ufedf\\ufee0\\ufee4\\ufeb8\\ufeae\\ufeed\\ufecb\\ufe8e\\ufe95 \\ufe8d\\ufedf\\ufee4\\ufe98\\ufeee\\ufeb3\\ufec4\\ufe94 \\ufeed\\ufe8d\\ufedf\\ufebc\\ufed0\\ufef4\\ufeae\\ufe93 \\ufeed\\ufee3\\ufe98\\ufee8\\ufe8e\\ufeeb\\ufef4\\ufe94 \\ufe8d\\ufedf\\ufebc\\ufed0\\ufeae\",\"\\ufe87\\ufe97\\ufe8e\\ufea3\\ufe94 \\ufe8d\\ufedf\\ufe98\\ufee4\\ufeee\\ufef3\\ufede \\ufedf\\ufee0\\ufee4\\ufeb8\\ufeae\\ufeed\\ufecb\\ufe8e\\ufe95 \\ufe8d\\ufedf\\ufee4\\ufe98\\ufeee\\ufeb3\\ufec4\\ufe94 \\ufeed\\ufe8d\\ufedf\\ufebc\\ufed0\\ufef4\\ufeae\\ufe93 \\ufeed\\ufee3\\ufe98\\ufee8\\ufe8e\\ufeeb\\ufef4\\ufe94 \\ufe8d\\ufedf\\ufebc\\ufed0\\ufeae\",\"\\ufe97\\ufeee\\ufed3\\ufef4\\ufeae \\ufe8d\\ufedf\\ufeb4\\ufedc\\ufee6 \\ufe8d\\ufedf\\ufefc\\ufe8b\\ufed6\",\"\\ufe97\\ufeee\\ufed3\\ufef4\\ufeae \\ufe8d\\ufedf\\ufeb4\\ufedc\\ufee6 \\ufe8d\\ufedf\\ufefc\\ufe8b\\ufed6\",\"\\ufe97\\ufeee\\ufed3\\ufef4\\ufeae \\ufe8d\\ufedf\\ufeb4\\ufedc\\ufee6 \\ufe8d\\ufedf\\ufefc\\ufe8b\\ufed6\",\"\\ufe97\\ufec4\\ufeee\\ufef3\\ufeae \\ufea7\\ufeaa\\ufee3\\ufe8e\\ufe95 \\ufe8d\\ufedf\\ufea4\\ufee4\\ufe8e\\ufef3\\ufe94 \\ufeed\\ufe8d\\ufedf\\ufeae\\ufecb\\ufe8e\\ufef3\\ufe94 \\ufe8d\\ufefb\\ufe9f\\ufe98\\ufee4\\ufe8e\\ufecb\\ufef4\\ufe94\",\"\\ufe97\\ufeee\\ufed3\\ufef4\\ufeae \\ufe8d\\ufedf\\ufeb4\\ufedc\\ufee6 \\ufe8d\\ufedf\\ufefc\\ufe8b\\ufed6\",\"\\ufe97\\ufec4\\ufeee\\ufef3\\ufeae \\ufe8d\\ufedf\\ufea8\\ufeaa\\ufee3\\ufe8e\\ufe95 \\ufe8d\\ufedf\\ufe98\\ufecc\\ufee0\\ufef4\\ufee4\\ufef4\\ufe94\",\"\\ufe97\\ufec4\\ufeee\\ufef3\\ufeae \\ufe8d\\ufedf\\ufea8\\ufeaa\\ufee3\\ufe8e\\ufe95 \\ufe8d\\ufedf\\ufebc\\ufea4\\ufef4\\ufe94\",\"\\ufe97\\ufec4\\ufeee\\ufef3\\ufeae \\ufe8d\\ufedf\\ufea8\\ufeaa\\ufee3\\ufe8e\\ufe95 \\ufe8d\\ufedf\\ufeb8\\ufe92\\ufe8e\\ufe91\\ufef4\\ufe94 \\ufeed\\ufe8d\\ufedf\\ufeae\\ufef3\\ufe8e\\ufebf\\ufef4\\ufe94\",\"\\ufe97\\ufec4\\ufeee\\ufef3\\ufeae \\ufe8d\\ufedf\\ufea8\\ufeaa\\ufee3\\ufe8e\\ufe95 \\ufe8d\\ufedf\\ufe98\\ufecc\\ufee0\\ufef4\\ufee4\\ufef4\\ufe94\",\"\\ufe97\\ufec4\\ufeee\\ufef3\\ufeae \\ufe8d\\ufedf\\ufea8\\ufeaa\\ufee3\\ufe8e\\ufe95 \\ufe8d\\ufedf\\ufe98\\ufecc\\ufee0\\ufef4\\ufee4\\ufef4\\ufe94\",\"\\ufe97\\ufec4\\ufeee\\ufef3\\ufeae \\ufe8d\\ufedf\\ufea8\\ufeaa\\ufee3\\ufe8e\\ufe95 \\ufe8d\\ufedf\\ufe98\\ufecc\\ufee0\\ufef4\\ufee4\\ufef4\\ufe94\",\"\\ufe97\\ufee8\\ufee4\\ufef4\\ufe94 \\ufe8d\\ufef7\\ufeb3\\ufeae\\ufe93 \\ufe8d\\ufedf\\ufee4\\ufebc\\ufeae\\ufef3\\ufe94\",\"\\ufe97\\ufec4\\ufeee\\ufef3\\ufeae \\ufe8d\\ufedf\\ufea8\\ufeaa\\ufee3\\ufe8e\\ufe95 \\ufe8d\\ufedf\\ufe98\\ufecc\\ufee0\\ufef4\\ufee4\\ufef4\\ufe94\",\"\\ufe97\\ufec4\\ufeee\\ufef3\\ufeae \\ufe8d\\ufedf\\ufea8\\ufeaa\\ufee3\\ufe8e\\ufe95 \\ufe8d\\ufedf\\ufe98\\ufecc\\ufee0\\ufef4\\ufee4\\ufef4\\ufe94\",\"\\ufe97\\ufec4\\ufeee\\ufef3\\ufeae \\ufe8d\\ufedf\\ufea8\\ufeaa\\ufee3\\ufe8e\\ufe95 \\ufe8d\\ufedf\\ufebc\\ufea4\\ufef4\\ufe94\",\"\\ufe97\\ufec4\\ufeee\\ufef3\\ufeae \\ufe8d\\ufedf\\ufea8\\ufeaa\\ufee3\\ufe8e\\ufe95 \\ufe8d\\ufedf\\ufe98\\ufecc\\ufee0\\ufef4\\ufee4\\ufef4\\ufe94\",\"\\ufe97\\ufec4\\ufeee\\ufef3\\ufeae \\ufea7\\ufeaa\\ufee3\\ufe8e\\ufe95 \\ufe8d\\ufedf\\ufee8\\ufed8\\ufede\",\"\\ufe97\\ufec4\\ufeee\\ufef3\\ufeae \\ufeb7\\ufe92\\ufedc\\ufe8e\\ufe95 \\ufe8d\\ufef9\\ufe97\\ufebc\\ufe8e\\ufefb\\ufe95\",\"\\ufe97\\ufec4\\ufeee\\ufef3\\ufeae \\ufe8d\\ufedf\\ufea8\\ufeaa\\ufee3\\ufe8e\\ufe95 \\ufe8d\\ufef7\\ufee3\\ufee8\\ufef4\\ufe94\",\"\\ufe97\\ufec4\\ufeee\\ufef3\\ufeae \\ufe8d\\ufedf\\ufea8\\ufeaa\\ufee3\\ufe8e\\ufe95 \\ufe8d\\ufef7\\ufee3\\ufee8\\ufef4\\ufe94\",\"\\ufe97\\ufec4\\ufeee\\ufef3\\ufeae \\ufe8d\\ufedf\\ufea8\\ufeaa\\ufee3\\ufe8e\\ufe95 \\ufe8d\\ufef7\\ufee3\\ufee8\\ufef4\\ufe94\",\"\\ufe97\\ufec4\\ufeee\\ufef3\\ufeae \\ufe8d\\ufedf\\ufea8\\ufeaa\\ufee3\\ufe8e\\ufe95 \\ufe8d\\ufef7\\ufee3\\ufee8\\ufef4\\ufe94\",\"\\ufe97\\ufeee\\ufebb\\ufef4\\ufede \\ufea7\\ufeaa\\ufee3\\ufe8e\\ufe95 \\ufe8d\\ufedf\\ufebc\\ufeae\\ufed1 \\ufe8d\\ufedf\\ufebc\\ufea4\\ufef0\",\"\\ufe97\\ufeee\\ufebb\\ufef4\\ufede \\ufea7\\ufeaa\\ufee3\\ufe8e\\ufe95 \\ufe8d\\ufedf\\ufebc\\ufeae\\ufed1 \\ufe8d\\ufedf\\ufebc\\ufea4\\ufef0\",\"\\ufe97\\ufeee\\ufebb\\ufef4\\ufede \\ufea7\\ufeaa\\ufee3\\ufe8e\\ufe95 \\ufe8d\\ufedf\\ufebc\\ufeae\\ufed1 \\ufe8d\\ufedf\\ufebc\\ufea4\\ufef0\",\"\\ufe97\\ufeee\\ufebb\\ufef4\\ufede \\ufea7\\ufeaa\\ufee3\\ufe8e\\ufe95 \\ufee3\\ufef4\\ufe8e\\ufee9 \\ufe8d\\ufedf\\ufeb8\\ufeae\\ufe8f\",\"\\ufe97\\ufeee\\ufebb\\ufef4\\ufede \\ufea7\\ufeaa\\ufee3\\ufe8e\\ufe95 \\ufee3\\ufef4\\ufe8e\\ufee9 \\ufe8d\\ufedf\\ufeb8\\ufeae\\ufe8f\",\"\\ufe97\\ufec4\\ufeee\\ufef3\\ufeae \\ufea7\\ufeaa\\ufee3\\ufe8e\\ufe95 \\ufe8d\\ufedf\\ufedc\\ufeec\\ufeae\\ufe91\\ufe8e\\ufe80\",\"\\ufe97\\ufec4\\ufeee\\ufef3\\ufeae \\ufe8d\\ufedf\\ufea8\\ufeaa\\ufee3\\ufe8e\\ufe95 \\ufe8d\\ufedf\\ufee4\\ufea4\\ufee0\\ufef4\\ufe94\",\"\\ufe97\\ufec4\\ufeee\\ufef3\\ufeae \\ufe8d\\ufedf\\ufea8\\ufeaa\\ufee3\\ufe8e\\ufe95 \\ufe8d\\ufedf\\ufee4\\ufea4\\ufee0\\ufef4\\ufe94\",\"\\ufe97\\ufec4\\ufeee\\ufef3\\ufeae \\ufea7\\ufeaa\\ufee3\\ufe8e\\ufe95 \\ufe8d\\ufedf\\ufee8\\ufed8\\ufede\",\"\\ufe97\\ufec4\\ufeee\\ufef3\\ufeae \\ufe8d\\ufedf\\ufea8\\ufeaa\\ufee3\\ufe8e\\ufe95 \\ufe8d\\ufedf\\ufea4\\ufedc\\ufeee\\ufee3\\ufef4\\ufe94\",\"\\ufe97\\ufeee\\ufebb\\ufef4\\ufede \\ufea7\\ufeaa\\ufee3\\ufe8e\\ufe95 \\ufe8d\\ufedf\\ufebc\\ufeae\\ufed1 \\ufe8d\\ufedf\\ufebc\\ufea4\\ufef0\",\"\\ufe97\\ufeee\\ufebb\\ufef4\\ufede \\ufea7\\ufeaa\\ufee3\\ufe8e\\ufe95 \\ufe8d\\ufedf\\ufebc\\ufeae\\ufed1 \\ufe8d\\ufedf\\ufebc\\ufea4\\ufef0\",\"\\ufe97\\ufeee\\ufebb\\ufef4\\ufede \\ufea7\\ufeaa\\ufee3\\ufe8e\\ufe95 \\ufe8d\\ufedf\\ufebc\\ufeae\\ufed1 \\ufe8d\\ufedf\\ufebc\\ufea4\\ufef0\",\"\\ufe97\\ufec4\\ufeee\\ufef3\\ufeae \\ufe8d\\ufedf\\ufea8\\ufeaa\\ufee3\\ufe8e\\ufe95 \\ufe8d\\ufedf\\ufee4\\ufea4\\ufee0\\ufef4\\ufe94\",\"\\ufe97\\ufec4\\ufeee\\ufef3\\ufeae \\ufeb7\\ufe92\\ufedc\\ufe8e\\ufe95 \\ufe8d\\ufef9\\ufe97\\ufebc\\ufe8e\\ufefb\\ufe95\",\"\\ufe97\\ufec4\\ufeee\\ufef3\\ufeae \\ufeb7\\ufe92\\ufedc\\ufe8e\\ufe95 \\ufe8d\\ufef9\\ufe97\\ufebc\\ufe8e\\ufefb\\ufe95\",\"\\ufe97\\ufec4\\ufeee\\ufef3\\ufeae \\ufeb7\\ufe92\\ufedc\\ufe8e\\ufe95 \\ufe8d\\ufef9\\ufe97\\ufebc\\ufe8e\\ufefb\\ufe95\",\"\\ufe97\\ufec4\\ufeee\\ufef3\\ufeae \\ufeb7\\ufe92\\ufedc\\ufe8e\\ufe95 \\ufe8d\\ufef9\\ufe97\\ufebc\\ufe8e\\ufefb\\ufe95\",\"\\ufe97\\ufec4\\ufeee\\ufef3\\ufeae \\ufeb7\\ufe92\\ufedc\\ufe8e\\ufe95 \\ufe8d\\ufef9\\ufe97\\ufebc\\ufe8e\\ufefb\\ufe95\",\"\\ufe97\\ufeee\\ufebb\\ufef4\\ufede \\ufea7\\ufeaa\\ufee3\\ufe8e\\ufe95 \\ufe8d\\ufedf\\ufebc\\ufeae\\ufed1 \\ufe8d\\ufedf\\ufebc\\ufea4\\ufef0\",\"\\ufe97\\ufeee\\ufebb\\ufef4\\ufede \\ufea7\\ufeaa\\ufee3\\ufe8e\\ufe95 \\ufe8d\\ufedf\\ufebc\\ufeae\\ufed1 \\ufe8d\\ufedf\\ufebc\\ufea4\\ufef0\",\"\\ufe87\\ufe97\\ufe8e\\ufea3\\ufe94 \\ufe8d\\ufedf\\ufe98\\ufee4\\ufeee\\ufef3\\ufede \\ufedf\\ufee0\\ufee4\\ufeb8\\ufeae\\ufeed\\ufecb\\ufe8e\\ufe95 \\ufe8d\\ufedf\\ufee4\\ufe98\\ufeee\\ufeb3\\ufec4\\ufe94 \\ufeed\\ufe8d\\ufedf\\ufebc\\ufed0\\ufef4\\ufeae\\ufe93 \\ufeed\\ufee3\\ufe98\\ufee8\\ufe8e\\ufeeb\\ufef4\\ufe94 \\ufe8d\\ufedf\\ufebc\\ufed0\\ufeae\",\"\\ufe97\\ufeee\\ufed3\\ufef4\\ufeae \\ufe8d\\ufedf\\ufeb4\\ufedc\\ufee6 \\ufe8d\\ufedf\\ufefc\\ufe8b\\ufed6\",\"\\ufe97\\ufec4\\ufeee\\ufef3\\ufeae \\ufea7\\ufeaa\\ufee3\\ufe8e\\ufe95 \\ufe8d\\ufedf\\ufea4\\ufee4\\ufe8e\\ufef3\\ufe94 \\ufeed\\ufe8d\\ufedf\\ufeae\\ufecb\\ufe8e\\ufef3\\ufe94 \\ufe8d\\ufefb\\ufe9f\\ufe98\\ufee4\\ufe8e\\ufecb\\ufef4\\ufe94\",\"\\ufe97\\ufeee\\ufed3\\ufef4\\ufeae \\ufe8d\\ufedf\\ufeb4\\ufedc\\ufee6 \\ufe8d\\ufedf\\ufefc\\ufe8b\\ufed6\",\"\\ufe97\\ufec4\\ufeee\\ufef3\\ufeae \\ufea7\\ufeaa\\ufee3\\ufe8e\\ufe95 \\ufe8d\\ufedf\\ufea4\\ufee4\\ufe8e\\ufef3\\ufe94 \\ufeed\\ufe8d\\ufedf\\ufeae\\ufecb\\ufe8e\\ufef3\\ufe94 \\ufe8d\\ufefb\\ufe9f\\ufe98\\ufee4\\ufe8e\\ufecb\\ufef4\\ufe94\",\"\\ufe97\\ufec4\\ufeee\\ufef3\\ufeae \\ufe8d\\ufedf\\ufea8\\ufeaa\\ufee3\\ufe8e\\ufe95 \\ufe8d\\ufedf\\ufebc\\ufea4\\ufef4\\ufe94\",\"\\ufe97\\ufec4\\ufeee\\ufef3\\ufeae \\ufe8d\\ufedf\\ufea8\\ufeaa\\ufee3\\ufe8e\\ufe95 \\ufe8d\\ufedf\\ufee4\\ufea4\\ufee0\\ufef4\\ufe94\",\"\\ufe97\\ufec4\\ufeee\\ufef3\\ufeae \\ufea7\\ufeaa\\ufee3\\ufe8e\\ufe95 \\ufe8d\\ufedf\\ufedc\\ufeec\\ufeae\\ufe91\\ufe8e\\ufe80\",\"\\ufe97\\ufeee\\ufebb\\ufef4\\ufede \\ufea7\\ufeaa\\ufee3\\ufe8e\\ufe95 \\ufe8d\\ufedf\\ufebc\\ufeae\\ufed1 \\ufe8d\\ufedf\\ufebc\\ufea4\\ufef0\",\"\\ufe97\\ufeee\\ufebb\\ufef4\\ufede \\ufea7\\ufeaa\\ufee3\\ufe8e\\ufe95 \\ufee3\\ufef4\\ufe8e\\ufee9 \\ufe8d\\ufedf\\ufeb8\\ufeae\\ufe8f\",\"\\ufe97\\ufec4\\ufeee\\ufef3\\ufeae \\ufea7\\ufeaa\\ufee3\\ufe8e\\ufe95 \\ufe8d\\ufedf\\ufedc\\ufeec\\ufeae\\ufe91\\ufe8e\\ufe80\",\"\\ufe97\\ufec4\\ufeee\\ufef3\\ufeae \\ufe8d\\ufedf\\ufea8\\ufeaa\\ufee3\\ufe8e\\ufe95 \\ufe8d\\ufedf\\ufeb0\\ufead\\ufe8d\\ufecb\\ufef4\\ufe94 \\ufeed\\ufea7\\ufeaa\\ufee3\\ufe8e\\ufe95 \\ufe8d\\ufedf\\ufeae\\ufef1\",\"\\ufe97\\ufec4\\ufeee\\ufef3\\ufeae \\ufe8d\\ufedf\\ufea8\\ufeaa\\ufee3\\ufe8e\\ufe95 \\ufe8d\\ufedf\\ufee4\\ufea4\\ufee0\\ufef4\\ufe94\",\"\\ufe97\\ufeee\\ufebb\\ufef4\\ufede \\ufea7\\ufeaa\\ufee3\\ufe8e\\ufe95 \\ufee3\\ufef4\\ufe8e\\ufee9 \\ufe8d\\ufedf\\ufeb8\\ufeae\\ufe8f\",\"\\ufe97\\ufeee\\ufebb\\ufef4\\ufede \\ufea7\\ufeaa\\ufee3\\ufe8e\\ufe95 \\ufee3\\ufef4\\ufe8e\\ufee9 \\ufe8d\\ufedf\\ufeb8\\ufeae\\ufe8f\",\"\\ufe97\\ufec4\\ufeee\\ufef3\\ufeae \\ufe8d\\ufedf\\ufea8\\ufeaa\\ufee3\\ufe8e\\ufe95 \\ufe8d\\ufedf\\ufeb0\\ufead\\ufe8d\\ufecb\\ufef4\\ufe94 \\ufeed\\ufea7\\ufeaa\\ufee3\\ufe8e\\ufe95 \\ufe8d\\ufedf\\ufeae\\ufef1\",\"\\ufe97\\ufeee\\ufebb\\ufef4\\ufede \\ufea7\\ufeaa\\ufee3\\ufe8e\\ufe95 \\ufee3\\ufef4\\ufe8e\\ufee9 \\ufe8d\\ufedf\\ufeb8\\ufeae\\ufe8f\",\"\\ufe97\\ufec4\\ufeee\\ufef3\\ufeae \\ufe8d\\ufedf\\ufea8\\ufeaa\\ufee3\\ufe8e\\ufe95 \\ufe8d\\ufedf\\ufee4\\ufea4\\ufee0\\ufef4\\ufe94\",\"\\ufe97\\ufec4\\ufeee\\ufef3\\ufeae \\ufea7\\ufeaa\\ufee3\\ufe8e\\ufe95 \\ufe8d\\ufedf\\ufedc\\ufeec\\ufeae\\ufe91\\ufe8e\\ufe80\"],\"legendgroup\":\"\",\"name\":\"\",\"showlegend\":true,\"type\":\"pie\"}],                        {\"template\":{\"data\":{\"bar\":[{\"error_x\":{\"color\":\"#2a3f5f\"},\"error_y\":{\"color\":\"#2a3f5f\"},\"marker\":{\"line\":{\"color\":\"#E5ECF6\",\"width\":0.5},\"pattern\":{\"fillmode\":\"overlay\",\"size\":10,\"solidity\":0.2}},\"type\":\"bar\"}],\"barpolar\":[{\"marker\":{\"line\":{\"color\":\"#E5ECF6\",\"width\":0.5},\"pattern\":{\"fillmode\":\"overlay\",\"size\":10,\"solidity\":0.2}},\"type\":\"barpolar\"}],\"carpet\":[{\"aaxis\":{\"endlinecolor\":\"#2a3f5f\",\"gridcolor\":\"white\",\"linecolor\":\"white\",\"minorgridcolor\":\"white\",\"startlinecolor\":\"#2a3f5f\"},\"baxis\":{\"endlinecolor\":\"#2a3f5f\",\"gridcolor\":\"white\",\"linecolor\":\"white\",\"minorgridcolor\":\"white\",\"startlinecolor\":\"#2a3f5f\"},\"type\":\"carpet\"}],\"choropleth\":[{\"colorbar\":{\"outlinewidth\":0,\"ticks\":\"\"},\"type\":\"choropleth\"}],\"contour\":[{\"colorbar\":{\"outlinewidth\":0,\"ticks\":\"\"},\"colorscale\":[[0.0,\"#0d0887\"],[0.1111111111111111,\"#46039f\"],[0.2222222222222222,\"#7201a8\"],[0.3333333333333333,\"#9c179e\"],[0.4444444444444444,\"#bd3786\"],[0.5555555555555556,\"#d8576b\"],[0.6666666666666666,\"#ed7953\"],[0.7777777777777778,\"#fb9f3a\"],[0.8888888888888888,\"#fdca26\"],[1.0,\"#f0f921\"]],\"type\":\"contour\"}],\"contourcarpet\":[{\"colorbar\":{\"outlinewidth\":0,\"ticks\":\"\"},\"type\":\"contourcarpet\"}],\"heatmap\":[{\"colorbar\":{\"outlinewidth\":0,\"ticks\":\"\"},\"colorscale\":[[0.0,\"#0d0887\"],[0.1111111111111111,\"#46039f\"],[0.2222222222222222,\"#7201a8\"],[0.3333333333333333,\"#9c179e\"],[0.4444444444444444,\"#bd3786\"],[0.5555555555555556,\"#d8576b\"],[0.6666666666666666,\"#ed7953\"],[0.7777777777777778,\"#fb9f3a\"],[0.8888888888888888,\"#fdca26\"],[1.0,\"#f0f921\"]],\"type\":\"heatmap\"}],\"heatmapgl\":[{\"colorbar\":{\"outlinewidth\":0,\"ticks\":\"\"},\"colorscale\":[[0.0,\"#0d0887\"],[0.1111111111111111,\"#46039f\"],[0.2222222222222222,\"#7201a8\"],[0.3333333333333333,\"#9c179e\"],[0.4444444444444444,\"#bd3786\"],[0.5555555555555556,\"#d8576b\"],[0.6666666666666666,\"#ed7953\"],[0.7777777777777778,\"#fb9f3a\"],[0.8888888888888888,\"#fdca26\"],[1.0,\"#f0f921\"]],\"type\":\"heatmapgl\"}],\"histogram\":[{\"marker\":{\"pattern\":{\"fillmode\":\"overlay\",\"size\":10,\"solidity\":0.2}},\"type\":\"histogram\"}],\"histogram2d\":[{\"colorbar\":{\"outlinewidth\":0,\"ticks\":\"\"},\"colorscale\":[[0.0,\"#0d0887\"],[0.1111111111111111,\"#46039f\"],[0.2222222222222222,\"#7201a8\"],[0.3333333333333333,\"#9c179e\"],[0.4444444444444444,\"#bd3786\"],[0.5555555555555556,\"#d8576b\"],[0.6666666666666666,\"#ed7953\"],[0.7777777777777778,\"#fb9f3a\"],[0.8888888888888888,\"#fdca26\"],[1.0,\"#f0f921\"]],\"type\":\"histogram2d\"}],\"histogram2dcontour\":[{\"colorbar\":{\"outlinewidth\":0,\"ticks\":\"\"},\"colorscale\":[[0.0,\"#0d0887\"],[0.1111111111111111,\"#46039f\"],[0.2222222222222222,\"#7201a8\"],[0.3333333333333333,\"#9c179e\"],[0.4444444444444444,\"#bd3786\"],[0.5555555555555556,\"#d8576b\"],[0.6666666666666666,\"#ed7953\"],[0.7777777777777778,\"#fb9f3a\"],[0.8888888888888888,\"#fdca26\"],[1.0,\"#f0f921\"]],\"type\":\"histogram2dcontour\"}],\"mesh3d\":[{\"colorbar\":{\"outlinewidth\":0,\"ticks\":\"\"},\"type\":\"mesh3d\"}],\"parcoords\":[{\"line\":{\"colorbar\":{\"outlinewidth\":0,\"ticks\":\"\"}},\"type\":\"parcoords\"}],\"pie\":[{\"automargin\":true,\"type\":\"pie\"}],\"scatter\":[{\"marker\":{\"colorbar\":{\"outlinewidth\":0,\"ticks\":\"\"}},\"type\":\"scatter\"}],\"scatter3d\":[{\"line\":{\"colorbar\":{\"outlinewidth\":0,\"ticks\":\"\"}},\"marker\":{\"colorbar\":{\"outlinewidth\":0,\"ticks\":\"\"}},\"type\":\"scatter3d\"}],\"scattercarpet\":[{\"marker\":{\"colorbar\":{\"outlinewidth\":0,\"ticks\":\"\"}},\"type\":\"scattercarpet\"}],\"scattergeo\":[{\"marker\":{\"colorbar\":{\"outlinewidth\":0,\"ticks\":\"\"}},\"type\":\"scattergeo\"}],\"scattergl\":[{\"marker\":{\"colorbar\":{\"outlinewidth\":0,\"ticks\":\"\"}},\"type\":\"scattergl\"}],\"scattermapbox\":[{\"marker\":{\"colorbar\":{\"outlinewidth\":0,\"ticks\":\"\"}},\"type\":\"scattermapbox\"}],\"scatterpolar\":[{\"marker\":{\"colorbar\":{\"outlinewidth\":0,\"ticks\":\"\"}},\"type\":\"scatterpolar\"}],\"scatterpolargl\":[{\"marker\":{\"colorbar\":{\"outlinewidth\":0,\"ticks\":\"\"}},\"type\":\"scatterpolargl\"}],\"scatterternary\":[{\"marker\":{\"colorbar\":{\"outlinewidth\":0,\"ticks\":\"\"}},\"type\":\"scatterternary\"}],\"surface\":[{\"colorbar\":{\"outlinewidth\":0,\"ticks\":\"\"},\"colorscale\":[[0.0,\"#0d0887\"],[0.1111111111111111,\"#46039f\"],[0.2222222222222222,\"#7201a8\"],[0.3333333333333333,\"#9c179e\"],[0.4444444444444444,\"#bd3786\"],[0.5555555555555556,\"#d8576b\"],[0.6666666666666666,\"#ed7953\"],[0.7777777777777778,\"#fb9f3a\"],[0.8888888888888888,\"#fdca26\"],[1.0,\"#f0f921\"]],\"type\":\"surface\"}],\"table\":[{\"cells\":{\"fill\":{\"color\":\"#EBF0F8\"},\"line\":{\"color\":\"white\"}},\"header\":{\"fill\":{\"color\":\"#C8D4E3\"},\"line\":{\"color\":\"white\"}},\"type\":\"table\"}]},\"layout\":{\"annotationdefaults\":{\"arrowcolor\":\"#2a3f5f\",\"arrowhead\":0,\"arrowwidth\":1},\"autotypenumbers\":\"strict\",\"coloraxis\":{\"colorbar\":{\"outlinewidth\":0,\"ticks\":\"\"}},\"colorscale\":{\"diverging\":[[0,\"#8e0152\"],[0.1,\"#c51b7d\"],[0.2,\"#de77ae\"],[0.3,\"#f1b6da\"],[0.4,\"#fde0ef\"],[0.5,\"#f7f7f7\"],[0.6,\"#e6f5d0\"],[0.7,\"#b8e186\"],[0.8,\"#7fbc41\"],[0.9,\"#4d9221\"],[1,\"#276419\"]],\"sequential\":[[0.0,\"#0d0887\"],[0.1111111111111111,\"#46039f\"],[0.2222222222222222,\"#7201a8\"],[0.3333333333333333,\"#9c179e\"],[0.4444444444444444,\"#bd3786\"],[0.5555555555555556,\"#d8576b\"],[0.6666666666666666,\"#ed7953\"],[0.7777777777777778,\"#fb9f3a\"],[0.8888888888888888,\"#fdca26\"],[1.0,\"#f0f921\"]],\"sequentialminus\":[[0.0,\"#0d0887\"],[0.1111111111111111,\"#46039f\"],[0.2222222222222222,\"#7201a8\"],[0.3333333333333333,\"#9c179e\"],[0.4444444444444444,\"#bd3786\"],[0.5555555555555556,\"#d8576b\"],[0.6666666666666666,\"#ed7953\"],[0.7777777777777778,\"#fb9f3a\"],[0.8888888888888888,\"#fdca26\"],[1.0,\"#f0f921\"]]},\"colorway\":[\"#636efa\",\"#EF553B\",\"#00cc96\",\"#ab63fa\",\"#FFA15A\",\"#19d3f3\",\"#FF6692\",\"#B6E880\",\"#FF97FF\",\"#FECB52\"],\"font\":{\"color\":\"#2a3f5f\"},\"geo\":{\"bgcolor\":\"white\",\"lakecolor\":\"white\",\"landcolor\":\"#E5ECF6\",\"showlakes\":true,\"showland\":true,\"subunitcolor\":\"white\"},\"hoverlabel\":{\"align\":\"left\"},\"hovermode\":\"closest\",\"mapbox\":{\"style\":\"light\"},\"paper_bgcolor\":\"white\",\"plot_bgcolor\":\"#E5ECF6\",\"polar\":{\"angularaxis\":{\"gridcolor\":\"white\",\"linecolor\":\"white\",\"ticks\":\"\"},\"bgcolor\":\"#E5ECF6\",\"radialaxis\":{\"gridcolor\":\"white\",\"linecolor\":\"white\",\"ticks\":\"\"}},\"scene\":{\"xaxis\":{\"backgroundcolor\":\"#E5ECF6\",\"gridcolor\":\"white\",\"gridwidth\":2,\"linecolor\":\"white\",\"showbackground\":true,\"ticks\":\"\",\"zerolinecolor\":\"white\"},\"yaxis\":{\"backgroundcolor\":\"#E5ECF6\",\"gridcolor\":\"white\",\"gridwidth\":2,\"linecolor\":\"white\",\"showbackground\":true,\"ticks\":\"\",\"zerolinecolor\":\"white\"},\"zaxis\":{\"backgroundcolor\":\"#E5ECF6\",\"gridcolor\":\"white\",\"gridwidth\":2,\"linecolor\":\"white\",\"showbackground\":true,\"ticks\":\"\",\"zerolinecolor\":\"white\"}},\"shapedefaults\":{\"line\":{\"color\":\"#2a3f5f\"}},\"ternary\":{\"aaxis\":{\"gridcolor\":\"white\",\"linecolor\":\"white\",\"ticks\":\"\"},\"baxis\":{\"gridcolor\":\"white\",\"linecolor\":\"white\",\"ticks\":\"\"},\"bgcolor\":\"#E5ECF6\",\"caxis\":{\"gridcolor\":\"white\",\"linecolor\":\"white\",\"ticks\":\"\"}},\"title\":{\"x\":0.05},\"xaxis\":{\"automargin\":true,\"gridcolor\":\"white\",\"linecolor\":\"white\",\"ticks\":\"\",\"title\":{\"standoff\":15},\"zerolinecolor\":\"white\",\"zerolinewidth\":2},\"yaxis\":{\"automargin\":true,\"gridcolor\":\"white\",\"linecolor\":\"white\",\"ticks\":\"\",\"title\":{\"standoff\":15},\"zerolinecolor\":\"white\",\"zerolinewidth\":2}}},\"legend\":{\"tracegroupgap\":0},\"margin\":{\"t\":60},\"piecolorway\":[\"rgb(136, 204, 238)\",\"rgb(204, 102, 119)\",\"rgb(221, 204, 119)\",\"rgb(17, 119, 51)\",\"rgb(51, 34, 136)\",\"rgb(170, 68, 153)\",\"rgb(68, 170, 153)\",\"rgb(153, 153, 51)\",\"rgb(136, 34, 85)\",\"rgb(102, 17, 0)\",\"rgb(136, 136, 136)\"]},                        {\"responsive\": true}                    ).then(function(){\n",
              "                            \n",
              "var gd = document.getElementById('37a22e9c-de55-41dd-974c-93219e6f05b0');\n",
              "var x = new MutationObserver(function (mutations, observer) {{\n",
              "        var display = window.getComputedStyle(gd).display;\n",
              "        if (!display || display === 'none') {{\n",
              "            console.log([gd, 'removed!']);\n",
              "            Plotly.purge(gd);\n",
              "            observer.disconnect();\n",
              "        }}\n",
              "}});\n",
              "\n",
              "// Listen for the removal of the full notebook cells\n",
              "var notebookContainer = gd.closest('#notebook-container');\n",
              "if (notebookContainer) {{\n",
              "    x.observe(notebookContainer, {childList: true});\n",
              "}}\n",
              "\n",
              "// Listen for the clearing of the current output cell\n",
              "var outputEl = gd.closest('.output');\n",
              "if (outputEl) {{\n",
              "    x.observe(outputEl, {childList: true});\n",
              "}}\n",
              "\n",
              "                        })                };                            </script>        </div>\n",
              "</body>\n",
              "</html>"
            ]
          },
          "metadata": {}
        },
        {
          "output_type": "display_data",
          "data": {
            "text/plain": [
              "<Figure size 1584x1440 with 0 Axes>"
            ]
          },
          "metadata": {}
        }
      ]
    },
    {
      "cell_type": "code",
      "source": [
        "#@title Default title text\n",
        "def CountPlot(col):\n",
        "    global df\n",
        "    # بياخد نسخه من الداتا و بيعمل بروسيس علي الكولوم الي احنا شغالين علية بس و لما الداله بتخلص شغل بتتمسح \n",
        "    df[col] = df[col].astype(str).apply(lambda x : arabic_reshaper.reshape(x)[::-1])\n",
        "    plt.figure(figsize=(19,19))\n",
        "    fig=px.pie(df,names=\"محور\" , color_discrete_sequence= px.colors.qualitative.Safe)\n",
        "    \n",
        "    fig.show()\n",
        "CountPlot('محور')"
      ],
      "metadata": {
        "id": "cL0Ni7T8qnCa",
        "colab": {
          "base_uri": "https://localhost:8080/",
          "height": 559
        },
        "cellView": "code",
        "outputId": "3b96d898-67b9-41a9-edba-b0b307516b60"
      },
      "execution_count": null,
      "outputs": [
        {
          "output_type": "display_data",
          "data": {
            "text/html": [
              "<html>\n",
              "<head><meta charset=\"utf-8\" /></head>\n",
              "<body>\n",
              "    <div>            <script src=\"https://cdnjs.cloudflare.com/ajax/libs/mathjax/2.7.5/MathJax.js?config=TeX-AMS-MML_SVG\"></script><script type=\"text/javascript\">if (window.MathJax) {MathJax.Hub.Config({SVG: {font: \"STIX-Web\"}});}</script>                <script type=\"text/javascript\">window.PlotlyConfig = {MathJaxConfig: 'local'};</script>\n",
              "        <script src=\"https://cdn.plot.ly/plotly-2.8.3.min.js\"></script>                <div id=\"9945dc4f-8d1e-41bd-9cd1-392aa18fdf3f\" class=\"plotly-graph-div\" style=\"height:525px; width:100%;\"></div>            <script type=\"text/javascript\">                                    window.PLOTLYENV=window.PLOTLYENV || {};                                    if (document.getElementById(\"9945dc4f-8d1e-41bd-9cd1-392aa18fdf3f\")) {                    Plotly.newPlot(                        \"9945dc4f-8d1e-41bd-9cd1-392aa18fdf3f\",                        [{\"domain\":{\"x\":[0.0,1.0],\"y\":[0.0,1.0]},\"hovertemplate\":\"\\u0645\\u062d\\u0648\\u0631=%{label}<extra></extra>\",\"labels\":[\"\\ufe8d\\ufedf\\ufe98\\ufee8\\ufee4\\ufef4\\ufe94 \\ufe8d\\ufef9\\ufed7\\ufe98\\ufebc\\ufe8e\\ufea9\\ufef3\\ufe94 \\ufeed\\ufe8d\\ufedf\\ufe98\\ufeb8\\ufed0\\ufef4\\ufede\",\"\\ufe8d\\ufedf\\ufe98\\ufee8\\ufee4\\ufef4\\ufe94 \\ufe8d\\ufef9\\ufed7\\ufe98\\ufebc\\ufe8e\\ufea9\\ufef3\\ufe94 \\ufeed\\ufe8d\\ufedf\\ufe98\\ufeb8\\ufed0\\ufef4\\ufede\",\"\\ufe8d\\ufedf\\ufe98\\ufee8\\ufee4\\ufef4\\ufe94 \\ufe8d\\ufef9\\ufed7\\ufe98\\ufebc\\ufe8e\\ufea9\\ufef3\\ufe94 \\ufeed\\ufe8d\\ufedf\\ufe98\\ufeb8\\ufed0\\ufef4\\ufede\",\"\\ufe97\\ufea4\\ufeb4\\ufef4\\ufee6 \\ufe8d\\ufedf\\ufee4\\ufecc\\ufef4\\ufeb8\\ufe94 \\ufeed\\ufe8d\\ufef9\\ufeb3\\ufe98\\ufe9c\\ufee4\\ufe8e\\ufead \\ufed3\\ufef2 \\ufe8d\\ufedf\\ufe92\\ufeb8\\ufeae\",\"\\ufe97\\ufea4\\ufeb4\\ufef4\\ufee6 \\ufe9f\\ufeee\\ufea9\\ufe93 \\ufea7\\ufeaa\\ufee3\\ufe8e\\ufe95 \\ufe8d\\ufedf\\ufe98\\ufee8\\ufee4\\ufef4\\ufe94 \\ufe8d\\ufedf\\ufe92\\ufeb8\\ufeae\\ufef3\\ufe94\",\"\\ufe97\\ufea4\\ufeb4\\ufef4\\ufee6 \\ufe9f\\ufeee\\ufea9\\ufe93 \\ufea7\\ufeaa\\ufee3\\ufe8e\\ufe95 \\ufe8d\\ufedf\\ufe98\\ufee8\\ufee4\\ufef4\\ufe94 \\ufe8d\\ufedf\\ufe92\\ufeb8\\ufeae\\ufef3\\ufe94\",\"\\ufe97\\ufea4\\ufeb4\\ufef4\\ufee6 \\ufe9f\\ufeee\\ufea9\\ufe93 \\ufea7\\ufeaa\\ufee3\\ufe8e\\ufe95 \\ufe8d\\ufedf\\ufe98\\ufee8\\ufee4\\ufef4\\ufe94 \\ufe8d\\ufedf\\ufe92\\ufeb8\\ufeae\\ufef3\\ufe94\",\"\\ufe97\\ufea4\\ufeb4\\ufef4\\ufee6 \\ufee3\\ufeb4\\ufe98\\ufeee\\ufef1 \\ufea7\\ufeaa\\ufee3\\ufe8e\\ufe95 \\ufe8d\\ufedf\\ufe92\\ufee8\\ufef4\\ufe94 \\ufe8d\\ufef7\\ufeb3\\ufe8e\\ufeb3\\ufef4\\ufe94 \\ufeed\\ufe8d\\ufedf\\ufecc\\ufee4\\ufeae\\ufe8d\\ufee7\\ufef4\\ufe94\",\"\\ufe97\\ufea4\\ufeb4\\ufef4\\ufee6 \\ufee3\\ufeb4\\ufe98\\ufeee\\ufef1 \\ufea7\\ufeaa\\ufee3\\ufe8e\\ufe95 \\ufe8d\\ufedf\\ufe92\\ufee8\\ufef4\\ufe94 \\ufe8d\\ufef7\\ufeb3\\ufe8e\\ufeb3\\ufef4\\ufe94 \\ufeed\\ufe8d\\ufedf\\ufecc\\ufee4\\ufeae\\ufe8d\\ufee7\\ufef4\\ufe94\",\"\\ufe97\\ufea4\\ufeb4\\ufef4\\ufee6 \\ufee3\\ufeb4\\ufe98\\ufeee\\ufef1 \\ufea7\\ufeaa\\ufee3\\ufe8e\\ufe95 \\ufe8d\\ufedf\\ufe92\\ufee8\\ufef4\\ufe94 \\ufe8d\\ufef7\\ufeb3\\ufe8e\\ufeb3\\ufef4\\ufe94 \\ufeed\\ufe8d\\ufedf\\ufecc\\ufee4\\ufeae\\ufe8d\\ufee7\\ufef4\\ufe94\",\"\\ufe97\\ufea4\\ufeb4\\ufef4\\ufee6 \\ufee3\\ufeb4\\ufe98\\ufeee\\ufef1 \\ufea7\\ufeaa\\ufee3\\ufe8e\\ufe95 \\ufe8d\\ufedf\\ufe92\\ufee8\\ufef4\\ufe94 \\ufe8d\\ufef7\\ufeb3\\ufe8e\\ufeb3\\ufef4\\ufe94 \\ufeed\\ufe8d\\ufedf\\ufecc\\ufee4\\ufeae\\ufe8d\\ufee7\\ufef4\\ufe94\",\"\\ufe97\\ufea4\\ufeb4\\ufef4\\ufee6 \\ufee3\\ufeb4\\ufe98\\ufeee\\ufef1 \\ufea7\\ufeaa\\ufee3\\ufe8e\\ufe95 \\ufe8d\\ufedf\\ufe92\\ufee8\\ufef4\\ufe94 \\ufe8d\\ufef7\\ufeb3\\ufe8e\\ufeb3\\ufef4\\ufe94 \\ufeed\\ufe8d\\ufedf\\ufecc\\ufee4\\ufeae\\ufe8d\\ufee7\\ufef4\\ufe94\",\"\\ufe97\\ufea4\\ufeb4\\ufef4\\ufee6 \\ufee3\\ufeb4\\ufe98\\ufeee\\ufef1 \\ufea7\\ufeaa\\ufee3\\ufe8e\\ufe95 \\ufe8d\\ufedf\\ufe92\\ufee8\\ufef4\\ufe94 \\ufe8d\\ufef7\\ufeb3\\ufe8e\\ufeb3\\ufef4\\ufe94 \\ufeed\\ufe8d\\ufedf\\ufecc\\ufee4\\ufeae\\ufe8d\\ufee7\\ufef4\\ufe94\",\"\\ufe97\\ufea4\\ufeb4\\ufef4\\ufee6 \\ufee3\\ufeb4\\ufe98\\ufeee\\ufef1 \\ufea7\\ufeaa\\ufee3\\ufe8e\\ufe95 \\ufe8d\\ufedf\\ufe92\\ufee8\\ufef4\\ufe94 \\ufe8d\\ufef7\\ufeb3\\ufe8e\\ufeb3\\ufef4\\ufe94 \\ufeed\\ufe8d\\ufedf\\ufecc\\ufee4\\ufeae\\ufe8d\\ufee7\\ufef4\\ufe94\",\"\\ufe97\\ufea4\\ufeb4\\ufef4\\ufee6 \\ufee3\\ufeb4\\ufe98\\ufeee\\ufef1 \\ufea7\\ufeaa\\ufee3\\ufe8e\\ufe95 \\ufe8d\\ufedf\\ufe92\\ufee8\\ufef4\\ufe94 \\ufe8d\\ufef7\\ufeb3\\ufe8e\\ufeb3\\ufef4\\ufe94 \\ufeed\\ufe8d\\ufedf\\ufecc\\ufee4\\ufeae\\ufe8d\\ufee7\\ufef4\\ufe94\",\"\\ufe97\\ufea4\\ufeb4\\ufef4\\ufee6 \\ufee3\\ufeb4\\ufe98\\ufeee\\ufef1 \\ufea7\\ufeaa\\ufee3\\ufe8e\\ufe95 \\ufe8d\\ufedf\\ufe92\\ufee8\\ufef4\\ufe94 \\ufe8d\\ufef7\\ufeb3\\ufe8e\\ufeb3\\ufef4\\ufe94 \\ufeed\\ufe8d\\ufedf\\ufecc\\ufee4\\ufeae\\ufe8d\\ufee7\\ufef4\\ufe94\",\"\\ufe97\\ufea4\\ufeb4\\ufef4\\ufee6 \\ufee3\\ufeb4\\ufe98\\ufeee\\ufef1 \\ufea7\\ufeaa\\ufee3\\ufe8e\\ufe95 \\ufe8d\\ufedf\\ufe92\\ufee8\\ufef4\\ufe94 \\ufe8d\\ufef7\\ufeb3\\ufe8e\\ufeb3\\ufef4\\ufe94 \\ufeed\\ufe8d\\ufedf\\ufecc\\ufee4\\ufeae\\ufe8d\\ufee7\\ufef4\\ufe94\",\"\\ufe97\\ufea4\\ufeb4\\ufef4\\ufee6 \\ufee3\\ufeb4\\ufe98\\ufeee\\ufef1 \\ufea7\\ufeaa\\ufee3\\ufe8e\\ufe95 \\ufe8d\\ufedf\\ufe92\\ufee8\\ufef4\\ufe94 \\ufe8d\\ufef7\\ufeb3\\ufe8e\\ufeb3\\ufef4\\ufe94 \\ufeed\\ufe8d\\ufedf\\ufecc\\ufee4\\ufeae\\ufe8d\\ufee7\\ufef4\\ufe94\",\"\\ufe97\\ufea4\\ufeb4\\ufef4\\ufee6 \\ufee3\\ufeb4\\ufe98\\ufeee\\ufef1 \\ufea7\\ufeaa\\ufee3\\ufe8e\\ufe95 \\ufe8d\\ufedf\\ufe92\\ufee8\\ufef4\\ufe94 \\ufe8d\\ufef7\\ufeb3\\ufe8e\\ufeb3\\ufef4\\ufe94 \\ufeed\\ufe8d\\ufedf\\ufecc\\ufee4\\ufeae\\ufe8d\\ufee7\\ufef4\\ufe94\",\"\\ufe97\\ufea4\\ufeb4\\ufef4\\ufee6 \\ufee3\\ufeb4\\ufe98\\ufeee\\ufef1 \\ufea7\\ufeaa\\ufee3\\ufe8e\\ufe95 \\ufe8d\\ufedf\\ufe92\\ufee8\\ufef4\\ufe94 \\ufe8d\\ufef7\\ufeb3\\ufe8e\\ufeb3\\ufef4\\ufe94 \\ufeed\\ufe8d\\ufedf\\ufecc\\ufee4\\ufeae\\ufe8d\\ufee7\\ufef4\\ufe94\",\"\\ufe97\\ufea4\\ufeb4\\ufef4\\ufee6 \\ufee3\\ufeb4\\ufe98\\ufeee\\ufef1 \\ufea7\\ufeaa\\ufee3\\ufe8e\\ufe95 \\ufe8d\\ufedf\\ufe92\\ufee8\\ufef4\\ufe94 \\ufe8d\\ufef7\\ufeb3\\ufe8e\\ufeb3\\ufef4\\ufe94 \\ufeed\\ufe8d\\ufedf\\ufecc\\ufee4\\ufeae\\ufe8d\\ufee7\\ufef4\\ufe94\",\"\\ufe97\\ufea4\\ufeb4\\ufef4\\ufee6 \\ufee3\\ufeb4\\ufe98\\ufeee\\ufef1 \\ufea7\\ufeaa\\ufee3\\ufe8e\\ufe95 \\ufe8d\\ufedf\\ufe92\\ufee8\\ufef4\\ufe94 \\ufe8d\\ufef7\\ufeb3\\ufe8e\\ufeb3\\ufef4\\ufe94 \\ufeed\\ufe8d\\ufedf\\ufecc\\ufee4\\ufeae\\ufe8d\\ufee7\\ufef4\\ufe94\",\"\\ufe97\\ufea4\\ufeb4\\ufef4\\ufee6 \\ufee3\\ufeb4\\ufe98\\ufeee\\ufef1 \\ufea7\\ufeaa\\ufee3\\ufe8e\\ufe95 \\ufe8d\\ufedf\\ufe92\\ufee8\\ufef4\\ufe94 \\ufe8d\\ufef7\\ufeb3\\ufe8e\\ufeb3\\ufef4\\ufe94 \\ufeed\\ufe8d\\ufedf\\ufecc\\ufee4\\ufeae\\ufe8d\\ufee7\\ufef4\\ufe94\",\"\\ufe97\\ufea4\\ufeb4\\ufef4\\ufee6 \\ufee3\\ufeb4\\ufe98\\ufeee\\ufef1 \\ufea7\\ufeaa\\ufee3\\ufe8e\\ufe95 \\ufe8d\\ufedf\\ufe92\\ufee8\\ufef4\\ufe94 \\ufe8d\\ufef7\\ufeb3\\ufe8e\\ufeb3\\ufef4\\ufe94 \\ufeed\\ufe8d\\ufedf\\ufecc\\ufee4\\ufeae\\ufe8d\\ufee7\\ufef4\\ufe94\",\"\\ufe97\\ufea4\\ufeb4\\ufef4\\ufee6 \\ufee3\\ufeb4\\ufe98\\ufeee\\ufef1 \\ufea7\\ufeaa\\ufee3\\ufe8e\\ufe95 \\ufe8d\\ufedf\\ufe92\\ufee8\\ufef4\\ufe94 \\ufe8d\\ufef7\\ufeb3\\ufe8e\\ufeb3\\ufef4\\ufe94 \\ufeed\\ufe8d\\ufedf\\ufecc\\ufee4\\ufeae\\ufe8d\\ufee7\\ufef4\\ufe94\",\"\\ufe97\\ufea4\\ufeb4\\ufef4\\ufee6 \\ufee3\\ufeb4\\ufe98\\ufeee\\ufef1 \\ufea7\\ufeaa\\ufee3\\ufe8e\\ufe95 \\ufe8d\\ufedf\\ufe92\\ufee8\\ufef4\\ufe94 \\ufe8d\\ufef7\\ufeb3\\ufe8e\\ufeb3\\ufef4\\ufe94 \\ufeed\\ufe8d\\ufedf\\ufecc\\ufee4\\ufeae\\ufe8d\\ufee7\\ufef4\\ufe94\",\"\\ufe97\\ufea4\\ufeb4\\ufef4\\ufee6 \\ufee3\\ufeb4\\ufe98\\ufeee\\ufef1 \\ufea7\\ufeaa\\ufee3\\ufe8e\\ufe95 \\ufe8d\\ufedf\\ufe92\\ufee8\\ufef4\\ufe94 \\ufe8d\\ufef7\\ufeb3\\ufe8e\\ufeb3\\ufef4\\ufe94 \\ufeed\\ufe8d\\ufedf\\ufecc\\ufee4\\ufeae\\ufe8d\\ufee7\\ufef4\\ufe94\",\"\\ufe97\\ufea4\\ufeb4\\ufef4\\ufee6 \\ufee3\\ufeb4\\ufe98\\ufeee\\ufef1 \\ufea7\\ufeaa\\ufee3\\ufe8e\\ufe95 \\ufe8d\\ufedf\\ufe92\\ufee8\\ufef4\\ufe94 \\ufe8d\\ufef7\\ufeb3\\ufe8e\\ufeb3\\ufef4\\ufe94 \\ufeed\\ufe8d\\ufedf\\ufecc\\ufee4\\ufeae\\ufe8d\\ufee7\\ufef4\\ufe94\",\"\\ufe97\\ufea4\\ufeb4\\ufef4\\ufee6 \\ufee3\\ufeb4\\ufe98\\ufeee\\ufef1 \\ufea7\\ufeaa\\ufee3\\ufe8e\\ufe95 \\ufe8d\\ufedf\\ufe92\\ufee8\\ufef4\\ufe94 \\ufe8d\\ufef7\\ufeb3\\ufe8e\\ufeb3\\ufef4\\ufe94 \\ufeed\\ufe8d\\ufedf\\ufecc\\ufee4\\ufeae\\ufe8d\\ufee7\\ufef4\\ufe94\",\"\\ufe8d\\ufedf\\ufe98\\ufee8\\ufee4\\ufef4\\ufe94 \\ufe8d\\ufef9\\ufed7\\ufe98\\ufebc\\ufe8e\\ufea9\\ufef3\\ufe94 \\ufeed\\ufe8d\\ufedf\\ufe98\\ufeb8\\ufed0\\ufef4\\ufede\",\"\\ufe8d\\ufedf\\ufe98\\ufee8\\ufee4\\ufef4\\ufe94 \\ufe8d\\ufef9\\ufed7\\ufe98\\ufebc\\ufe8e\\ufea9\\ufef3\\ufe94 \\ufeed\\ufe8d\\ufedf\\ufe98\\ufeb8\\ufed0\\ufef4\\ufede\",\"\\ufe8d\\ufedf\\ufe98\\ufee8\\ufee4\\ufef4\\ufe94 \\ufe8d\\ufef9\\ufed7\\ufe98\\ufebc\\ufe8e\\ufea9\\ufef3\\ufe94 \\ufeed\\ufe8d\\ufedf\\ufe98\\ufeb8\\ufed0\\ufef4\\ufede\",\"\\ufe8d\\ufedf\\ufe98\\ufee8\\ufee4\\ufef4\\ufe94 \\ufe8d\\ufef9\\ufed7\\ufe98\\ufebc\\ufe8e\\ufea9\\ufef3\\ufe94 \\ufeed\\ufe8d\\ufedf\\ufe98\\ufeb8\\ufed0\\ufef4\\ufede\",\"\\ufe97\\ufea4\\ufeb4\\ufef4\\ufee6 \\ufe8d\\ufedf\\ufee4\\ufecc\\ufef4\\ufeb8\\ufe94 \\ufeed\\ufe8d\\ufef9\\ufeb3\\ufe98\\ufe9c\\ufee4\\ufe8e\\ufead \\ufed3\\ufef2 \\ufe8d\\ufedf\\ufe92\\ufeb8\\ufeae\",\"\\ufe97\\ufea4\\ufeb4\\ufef4\\ufee6 \\ufe8d\\ufedf\\ufee4\\ufecc\\ufef4\\ufeb8\\ufe94 \\ufeed\\ufe8d\\ufef9\\ufeb3\\ufe98\\ufe9c\\ufee4\\ufe8e\\ufead \\ufed3\\ufef2 \\ufe8d\\ufedf\\ufe92\\ufeb8\\ufeae\",\"\\ufe97\\ufea4\\ufeb4\\ufef4\\ufee6 \\ufe8d\\ufedf\\ufee4\\ufecc\\ufef4\\ufeb8\\ufe94 \\ufeed\\ufe8d\\ufef9\\ufeb3\\ufe98\\ufe9c\\ufee4\\ufe8e\\ufead \\ufed3\\ufef2 \\ufe8d\\ufedf\\ufe92\\ufeb8\\ufeae\",\"\\ufe97\\ufea4\\ufeb4\\ufef4\\ufee6 \\ufe8d\\ufedf\\ufee4\\ufecc\\ufef4\\ufeb8\\ufe94 \\ufeed\\ufe8d\\ufef9\\ufeb3\\ufe98\\ufe9c\\ufee4\\ufe8e\\ufead \\ufed3\\ufef2 \\ufe8d\\ufedf\\ufe92\\ufeb8\\ufeae\",\"\\ufe97\\ufea4\\ufeb4\\ufef4\\ufee6 \\ufe8d\\ufedf\\ufee4\\ufecc\\ufef4\\ufeb8\\ufe94 \\ufeed\\ufe8d\\ufef9\\ufeb3\\ufe98\\ufe9c\\ufee4\\ufe8e\\ufead \\ufed3\\ufef2 \\ufe8d\\ufedf\\ufe92\\ufeb8\\ufeae\",\"\\ufe97\\ufea4\\ufeb4\\ufef4\\ufee6 \\ufe9f\\ufeee\\ufea9\\ufe93 \\ufea7\\ufeaa\\ufee3\\ufe8e\\ufe95 \\ufe8d\\ufedf\\ufe98\\ufee8\\ufee4\\ufef4\\ufe94 \\ufe8d\\ufedf\\ufe92\\ufeb8\\ufeae\\ufef3\\ufe94\",\"\\ufe97\\ufea4\\ufeb4\\ufef4\\ufee6 \\ufe9f\\ufeee\\ufea9\\ufe93 \\ufea7\\ufeaa\\ufee3\\ufe8e\\ufe95 \\ufe8d\\ufedf\\ufe98\\ufee8\\ufee4\\ufef4\\ufe94 \\ufe8d\\ufedf\\ufe92\\ufeb8\\ufeae\\ufef3\\ufe94\",\"\\ufe97\\ufea4\\ufeb4\\ufef4\\ufee6 \\ufe9f\\ufeee\\ufea9\\ufe93 \\ufea7\\ufeaa\\ufee3\\ufe8e\\ufe95 \\ufe8d\\ufedf\\ufe98\\ufee8\\ufee4\\ufef4\\ufe94 \\ufe8d\\ufedf\\ufe92\\ufeb8\\ufeae\\ufef3\\ufe94\",\"\\ufe97\\ufea4\\ufeb4\\ufef4\\ufee6 \\ufe9f\\ufeee\\ufea9\\ufe93 \\ufea7\\ufeaa\\ufee3\\ufe8e\\ufe95 \\ufe8d\\ufedf\\ufe98\\ufee8\\ufee4\\ufef4\\ufe94 \\ufe8d\\ufedf\\ufe92\\ufeb8\\ufeae\\ufef3\\ufe94\",\"\\ufe97\\ufea4\\ufeb4\\ufef4\\ufee6 \\ufe9f\\ufeee\\ufea9\\ufe93 \\ufea7\\ufeaa\\ufee3\\ufe8e\\ufe95 \\ufe8d\\ufedf\\ufe98\\ufee8\\ufee4\\ufef4\\ufe94 \\ufe8d\\ufedf\\ufe92\\ufeb8\\ufeae\\ufef3\\ufe94\",\"\\ufe97\\ufea4\\ufeb4\\ufef4\\ufee6 \\ufe9f\\ufeee\\ufea9\\ufe93 \\ufea7\\ufeaa\\ufee3\\ufe8e\\ufe95 \\ufe8d\\ufedf\\ufe98\\ufee8\\ufee4\\ufef4\\ufe94 \\ufe8d\\ufedf\\ufe92\\ufeb8\\ufeae\\ufef3\\ufe94\",\"\\ufe97\\ufea4\\ufeb4\\ufef4\\ufee6 \\ufe9f\\ufeee\\ufea9\\ufe93 \\ufea7\\ufeaa\\ufee3\\ufe8e\\ufe95 \\ufe8d\\ufedf\\ufe98\\ufee8\\ufee4\\ufef4\\ufe94 \\ufe8d\\ufedf\\ufe92\\ufeb8\\ufeae\\ufef3\\ufe94\",\"\\ufe97\\ufea4\\ufeb4\\ufef4\\ufee6 \\ufe9f\\ufeee\\ufea9\\ufe93 \\ufea7\\ufeaa\\ufee3\\ufe8e\\ufe95 \\ufe8d\\ufedf\\ufe98\\ufee8\\ufee4\\ufef4\\ufe94 \\ufe8d\\ufedf\\ufe92\\ufeb8\\ufeae\\ufef3\\ufe94\",\"\\ufe97\\ufea4\\ufeb4\\ufef4\\ufee6 \\ufe9f\\ufeee\\ufea9\\ufe93 \\ufea7\\ufeaa\\ufee3\\ufe8e\\ufe95 \\ufe8d\\ufedf\\ufe98\\ufee8\\ufee4\\ufef4\\ufe94 \\ufe8d\\ufedf\\ufe92\\ufeb8\\ufeae\\ufef3\\ufe94\",\"\\ufe97\\ufea4\\ufeb4\\ufef4\\ufee6 \\ufe9f\\ufeee\\ufea9\\ufe93 \\ufea7\\ufeaa\\ufee3\\ufe8e\\ufe95 \\ufe8d\\ufedf\\ufe98\\ufee8\\ufee4\\ufef4\\ufe94 \\ufe8d\\ufedf\\ufe92\\ufeb8\\ufeae\\ufef3\\ufe94\",\"\\ufe97\\ufea4\\ufeb4\\ufef4\\ufee6 \\ufe9f\\ufeee\\ufea9\\ufe93 \\ufea7\\ufeaa\\ufee3\\ufe8e\\ufe95 \\ufe8d\\ufedf\\ufe98\\ufee8\\ufee4\\ufef4\\ufe94 \\ufe8d\\ufedf\\ufe92\\ufeb8\\ufeae\\ufef3\\ufe94\",\"\\ufe97\\ufea4\\ufeb4\\ufef4\\ufee6 \\ufee3\\ufeb4\\ufe98\\ufeee\\ufef1 \\ufea7\\ufeaa\\ufee3\\ufe8e\\ufe95 \\ufe8d\\ufedf\\ufe92\\ufee8\\ufef4\\ufe94 \\ufe8d\\ufef7\\ufeb3\\ufe8e\\ufeb3\\ufef4\\ufe94 \\ufeed\\ufe8d\\ufedf\\ufecc\\ufee4\\ufeae\\ufe8d\\ufee7\\ufef4\\ufe94\",\"\\ufe97\\ufea4\\ufeb4\\ufef4\\ufee6 \\ufee3\\ufeb4\\ufe98\\ufeee\\ufef1 \\ufea7\\ufeaa\\ufee3\\ufe8e\\ufe95 \\ufe8d\\ufedf\\ufe92\\ufee8\\ufef4\\ufe94 \\ufe8d\\ufef7\\ufeb3\\ufe8e\\ufeb3\\ufef4\\ufe94 \\ufeed\\ufe8d\\ufedf\\ufecc\\ufee4\\ufeae\\ufe8d\\ufee7\\ufef4\\ufe94\",\"\\ufe97\\ufea4\\ufeb4\\ufef4\\ufee6 \\ufee3\\ufeb4\\ufe98\\ufeee\\ufef1 \\ufea7\\ufeaa\\ufee3\\ufe8e\\ufe95 \\ufe8d\\ufedf\\ufe92\\ufee8\\ufef4\\ufe94 \\ufe8d\\ufef7\\ufeb3\\ufe8e\\ufeb3\\ufef4\\ufe94 \\ufeed\\ufe8d\\ufedf\\ufecc\\ufee4\\ufeae\\ufe8d\\ufee7\\ufef4\\ufe94\",\"\\ufe97\\ufea4\\ufeb4\\ufef4\\ufee6 \\ufee3\\ufeb4\\ufe98\\ufeee\\ufef1 \\ufea7\\ufeaa\\ufee3\\ufe8e\\ufe95 \\ufe8d\\ufedf\\ufe92\\ufee8\\ufef4\\ufe94 \\ufe8d\\ufef7\\ufeb3\\ufe8e\\ufeb3\\ufef4\\ufe94 \\ufeed\\ufe8d\\ufedf\\ufecc\\ufee4\\ufeae\\ufe8d\\ufee7\\ufef4\\ufe94\",\"\\ufe97\\ufea4\\ufeb4\\ufef4\\ufee6 \\ufee3\\ufeb4\\ufe98\\ufeee\\ufef1 \\ufea7\\ufeaa\\ufee3\\ufe8e\\ufe95 \\ufe8d\\ufedf\\ufe92\\ufee8\\ufef4\\ufe94 \\ufe8d\\ufef7\\ufeb3\\ufe8e\\ufeb3\\ufef4\\ufe94 \\ufeed\\ufe8d\\ufedf\\ufecc\\ufee4\\ufeae\\ufe8d\\ufee7\\ufef4\\ufe94\",\"\\ufe97\\ufea4\\ufeb4\\ufef4\\ufee6 \\ufee3\\ufeb4\\ufe98\\ufeee\\ufef1 \\ufea7\\ufeaa\\ufee3\\ufe8e\\ufe95 \\ufe8d\\ufedf\\ufe92\\ufee8\\ufef4\\ufe94 \\ufe8d\\ufef7\\ufeb3\\ufe8e\\ufeb3\\ufef4\\ufe94 \\ufeed\\ufe8d\\ufedf\\ufecc\\ufee4\\ufeae\\ufe8d\\ufee7\\ufef4\\ufe94\",\"\\ufe97\\ufea4\\ufeb4\\ufef4\\ufee6 \\ufee3\\ufeb4\\ufe98\\ufeee\\ufef1 \\ufea7\\ufeaa\\ufee3\\ufe8e\\ufe95 \\ufe8d\\ufedf\\ufe92\\ufee8\\ufef4\\ufe94 \\ufe8d\\ufef7\\ufeb3\\ufe8e\\ufeb3\\ufef4\\ufe94 \\ufeed\\ufe8d\\ufedf\\ufecc\\ufee4\\ufeae\\ufe8d\\ufee7\\ufef4\\ufe94\",\"\\ufe97\\ufea4\\ufeb4\\ufef4\\ufee6 \\ufee3\\ufeb4\\ufe98\\ufeee\\ufef1 \\ufea7\\ufeaa\\ufee3\\ufe8e\\ufe95 \\ufe8d\\ufedf\\ufe92\\ufee8\\ufef4\\ufe94 \\ufe8d\\ufef7\\ufeb3\\ufe8e\\ufeb3\\ufef4\\ufe94 \\ufeed\\ufe8d\\ufedf\\ufecc\\ufee4\\ufeae\\ufe8d\\ufee7\\ufef4\\ufe94\",\"\\ufe97\\ufea4\\ufeb4\\ufef4\\ufee6 \\ufee3\\ufeb4\\ufe98\\ufeee\\ufef1 \\ufea7\\ufeaa\\ufee3\\ufe8e\\ufe95 \\ufe8d\\ufedf\\ufe92\\ufee8\\ufef4\\ufe94 \\ufe8d\\ufef7\\ufeb3\\ufe8e\\ufeb3\\ufef4\\ufe94 \\ufeed\\ufe8d\\ufedf\\ufecc\\ufee4\\ufeae\\ufe8d\\ufee7\\ufef4\\ufe94\",\"\\ufe97\\ufea4\\ufeb4\\ufef4\\ufee6 \\ufee3\\ufeb4\\ufe98\\ufeee\\ufef1 \\ufea7\\ufeaa\\ufee3\\ufe8e\\ufe95 \\ufe8d\\ufedf\\ufe92\\ufee8\\ufef4\\ufe94 \\ufe8d\\ufef7\\ufeb3\\ufe8e\\ufeb3\\ufef4\\ufe94 \\ufeed\\ufe8d\\ufedf\\ufecc\\ufee4\\ufeae\\ufe8d\\ufee7\\ufef4\\ufe94\",\"\\ufe97\\ufea4\\ufeb4\\ufef4\\ufee6 \\ufee3\\ufeb4\\ufe98\\ufeee\\ufef1 \\ufea7\\ufeaa\\ufee3\\ufe8e\\ufe95 \\ufe8d\\ufedf\\ufe92\\ufee8\\ufef4\\ufe94 \\ufe8d\\ufef7\\ufeb3\\ufe8e\\ufeb3\\ufef4\\ufe94 \\ufeed\\ufe8d\\ufedf\\ufecc\\ufee4\\ufeae\\ufe8d\\ufee7\\ufef4\\ufe94\",\"\\ufe97\\ufea4\\ufeb4\\ufef4\\ufee6 \\ufee3\\ufeb4\\ufe98\\ufeee\\ufef1 \\ufea7\\ufeaa\\ufee3\\ufe8e\\ufe95 \\ufe8d\\ufedf\\ufe92\\ufee8\\ufef4\\ufe94 \\ufe8d\\ufef7\\ufeb3\\ufe8e\\ufeb3\\ufef4\\ufe94 \\ufeed\\ufe8d\\ufedf\\ufecc\\ufee4\\ufeae\\ufe8d\\ufee7\\ufef4\\ufe94\",\"\\ufe97\\ufea4\\ufeb4\\ufef4\\ufee6 \\ufee3\\ufeb4\\ufe98\\ufeee\\ufef1 \\ufea7\\ufeaa\\ufee3\\ufe8e\\ufe95 \\ufe8d\\ufedf\\ufe92\\ufee8\\ufef4\\ufe94 \\ufe8d\\ufef7\\ufeb3\\ufe8e\\ufeb3\\ufef4\\ufe94 \\ufeed\\ufe8d\\ufedf\\ufecc\\ufee4\\ufeae\\ufe8d\\ufee7\\ufef4\\ufe94\",\"\\ufe97\\ufea4\\ufeb4\\ufef4\\ufee6 \\ufee3\\ufeb4\\ufe98\\ufeee\\ufef1 \\ufea7\\ufeaa\\ufee3\\ufe8e\\ufe95 \\ufe8d\\ufedf\\ufe92\\ufee8\\ufef4\\ufe94 \\ufe8d\\ufef7\\ufeb3\\ufe8e\\ufeb3\\ufef4\\ufe94 \\ufeed\\ufe8d\\ufedf\\ufecc\\ufee4\\ufeae\\ufe8d\\ufee7\\ufef4\\ufe94\",\"\\ufe97\\ufea4\\ufeb4\\ufef4\\ufee6 \\ufee3\\ufeb4\\ufe98\\ufeee\\ufef1 \\ufea7\\ufeaa\\ufee3\\ufe8e\\ufe95 \\ufe8d\\ufedf\\ufe92\\ufee8\\ufef4\\ufe94 \\ufe8d\\ufef7\\ufeb3\\ufe8e\\ufeb3\\ufef4\\ufe94 \\ufeed\\ufe8d\\ufedf\\ufecc\\ufee4\\ufeae\\ufe8d\\ufee7\\ufef4\\ufe94\",\"\\ufe97\\ufea4\\ufeb4\\ufef4\\ufee6 \\ufee3\\ufeb4\\ufe98\\ufeee\\ufef1 \\ufea7\\ufeaa\\ufee3\\ufe8e\\ufe95 \\ufe8d\\ufedf\\ufe92\\ufee8\\ufef4\\ufe94 \\ufe8d\\ufef7\\ufeb3\\ufe8e\\ufeb3\\ufef4\\ufe94 \\ufeed\\ufe8d\\ufedf\\ufecc\\ufee4\\ufeae\\ufe8d\\ufee7\\ufef4\\ufe94\",\"\\ufe97\\ufea4\\ufeb4\\ufef4\\ufee6 \\ufee3\\ufeb4\\ufe98\\ufeee\\ufef1 \\ufea7\\ufeaa\\ufee3\\ufe8e\\ufe95 \\ufe8d\\ufedf\\ufe92\\ufee8\\ufef4\\ufe94 \\ufe8d\\ufef7\\ufeb3\\ufe8e\\ufeb3\\ufef4\\ufe94 \\ufeed\\ufe8d\\ufedf\\ufecc\\ufee4\\ufeae\\ufe8d\\ufee7\\ufef4\\ufe94\",\"\\ufe97\\ufea4\\ufeb4\\ufef4\\ufee6 \\ufee3\\ufeb4\\ufe98\\ufeee\\ufef1 \\ufea7\\ufeaa\\ufee3\\ufe8e\\ufe95 \\ufe8d\\ufedf\\ufe92\\ufee8\\ufef4\\ufe94 \\ufe8d\\ufef7\\ufeb3\\ufe8e\\ufeb3\\ufef4\\ufe94 \\ufeed\\ufe8d\\ufedf\\ufecc\\ufee4\\ufeae\\ufe8d\\ufee7\\ufef4\\ufe94\",\"\\ufe97\\ufea4\\ufeb4\\ufef4\\ufee6 \\ufee3\\ufeb4\\ufe98\\ufeee\\ufef1 \\ufea7\\ufeaa\\ufee3\\ufe8e\\ufe95 \\ufe8d\\ufedf\\ufe92\\ufee8\\ufef4\\ufe94 \\ufe8d\\ufef7\\ufeb3\\ufe8e\\ufeb3\\ufef4\\ufe94 \\ufeed\\ufe8d\\ufedf\\ufecc\\ufee4\\ufeae\\ufe8d\\ufee7\\ufef4\\ufe94\",\"\\ufe97\\ufea4\\ufeb4\\ufef4\\ufee6 \\ufee3\\ufeb4\\ufe98\\ufeee\\ufef1 \\ufea7\\ufeaa\\ufee3\\ufe8e\\ufe95 \\ufe8d\\ufedf\\ufe92\\ufee8\\ufef4\\ufe94 \\ufe8d\\ufef7\\ufeb3\\ufe8e\\ufeb3\\ufef4\\ufe94 \\ufeed\\ufe8d\\ufedf\\ufecc\\ufee4\\ufeae\\ufe8d\\ufee7\\ufef4\\ufe94\",\"\\ufe97\\ufea4\\ufeb4\\ufef4\\ufee6 \\ufee3\\ufeb4\\ufe98\\ufeee\\ufef1 \\ufea7\\ufeaa\\ufee3\\ufe8e\\ufe95 \\ufe8d\\ufedf\\ufe92\\ufee8\\ufef4\\ufe94 \\ufe8d\\ufef7\\ufeb3\\ufe8e\\ufeb3\\ufef4\\ufe94 \\ufeed\\ufe8d\\ufedf\\ufecc\\ufee4\\ufeae\\ufe8d\\ufee7\\ufef4\\ufe94\",\"\\ufe97\\ufea4\\ufeb4\\ufef4\\ufee6 \\ufee3\\ufeb4\\ufe98\\ufeee\\ufef1 \\ufea7\\ufeaa\\ufee3\\ufe8e\\ufe95 \\ufe8d\\ufedf\\ufe92\\ufee8\\ufef4\\ufe94 \\ufe8d\\ufef7\\ufeb3\\ufe8e\\ufeb3\\ufef4\\ufe94 \\ufeed\\ufe8d\\ufedf\\ufecc\\ufee4\\ufeae\\ufe8d\\ufee7\\ufef4\\ufe94\",\"\\ufe97\\ufea4\\ufeb4\\ufef4\\ufee6 \\ufee3\\ufeb4\\ufe98\\ufeee\\ufef1 \\ufea7\\ufeaa\\ufee3\\ufe8e\\ufe95 \\ufe8d\\ufedf\\ufe92\\ufee8\\ufef4\\ufe94 \\ufe8d\\ufef7\\ufeb3\\ufe8e\\ufeb3\\ufef4\\ufe94 \\ufeed\\ufe8d\\ufedf\\ufecc\\ufee4\\ufeae\\ufe8d\\ufee7\\ufef4\\ufe94\",\"\\ufe97\\ufea4\\ufeb4\\ufef4\\ufee6 \\ufee3\\ufeb4\\ufe98\\ufeee\\ufef1 \\ufea7\\ufeaa\\ufee3\\ufe8e\\ufe95 \\ufe8d\\ufedf\\ufe92\\ufee8\\ufef4\\ufe94 \\ufe8d\\ufef7\\ufeb3\\ufe8e\\ufeb3\\ufef4\\ufe94 \\ufeed\\ufe8d\\ufedf\\ufecc\\ufee4\\ufeae\\ufe8d\\ufee7\\ufef4\\ufe94\",\"\\ufe97\\ufea4\\ufeb4\\ufef4\\ufee6 \\ufee3\\ufeb4\\ufe98\\ufeee\\ufef1 \\ufea7\\ufeaa\\ufee3\\ufe8e\\ufe95 \\ufe8d\\ufedf\\ufe92\\ufee8\\ufef4\\ufe94 \\ufe8d\\ufef7\\ufeb3\\ufe8e\\ufeb3\\ufef4\\ufe94 \\ufeed\\ufe8d\\ufedf\\ufecc\\ufee4\\ufeae\\ufe8d\\ufee7\\ufef4\\ufe94\",\"\\ufe97\\ufea4\\ufeb4\\ufef4\\ufee6 \\ufee3\\ufeb4\\ufe98\\ufeee\\ufef1 \\ufea7\\ufeaa\\ufee3\\ufe8e\\ufe95 \\ufe8d\\ufedf\\ufe92\\ufee8\\ufef4\\ufe94 \\ufe8d\\ufef7\\ufeb3\\ufe8e\\ufeb3\\ufef4\\ufe94 \\ufeed\\ufe8d\\ufedf\\ufecc\\ufee4\\ufeae\\ufe8d\\ufee7\\ufef4\\ufe94\",\"\\ufe97\\ufea4\\ufeb4\\ufef4\\ufee6 \\ufee3\\ufeb4\\ufe98\\ufeee\\ufef1 \\ufea7\\ufeaa\\ufee3\\ufe8e\\ufe95 \\ufe8d\\ufedf\\ufe92\\ufee8\\ufef4\\ufe94 \\ufe8d\\ufef7\\ufeb3\\ufe8e\\ufeb3\\ufef4\\ufe94 \\ufeed\\ufe8d\\ufedf\\ufecc\\ufee4\\ufeae\\ufe8d\\ufee7\\ufef4\\ufe94\",\"\\ufe8d\\ufedf\\ufe98\\ufee8\\ufee4\\ufef4\\ufe94 \\ufe8d\\ufef9\\ufed7\\ufe98\\ufebc\\ufe8e\\ufea9\\ufef3\\ufe94 \\ufeed\\ufe8d\\ufedf\\ufe98\\ufeb8\\ufed0\\ufef4\\ufede\",\"\\ufe97\\ufea4\\ufeb4\\ufef4\\ufee6 \\ufe8d\\ufedf\\ufee4\\ufecc\\ufef4\\ufeb8\\ufe94 \\ufeed\\ufe8d\\ufef9\\ufeb3\\ufe98\\ufe9c\\ufee4\\ufe8e\\ufead \\ufed3\\ufef2 \\ufe8d\\ufedf\\ufe92\\ufeb8\\ufeae\",\"\\ufe97\\ufea4\\ufeb4\\ufef4\\ufee6 \\ufe8d\\ufedf\\ufee4\\ufecc\\ufef4\\ufeb8\\ufe94 \\ufeed\\ufe8d\\ufef9\\ufeb3\\ufe98\\ufe9c\\ufee4\\ufe8e\\ufead \\ufed3\\ufef2 \\ufe8d\\ufedf\\ufe92\\ufeb8\\ufeae\",\"\\ufe97\\ufea4\\ufeb4\\ufef4\\ufee6 \\ufe8d\\ufedf\\ufee4\\ufecc\\ufef4\\ufeb8\\ufe94 \\ufeed\\ufe8d\\ufef9\\ufeb3\\ufe98\\ufe9c\\ufee4\\ufe8e\\ufead \\ufed3\\ufef2 \\ufe8d\\ufedf\\ufe92\\ufeb8\\ufeae\",\"\\ufe97\\ufea4\\ufeb4\\ufef4\\ufee6 \\ufe8d\\ufedf\\ufee4\\ufecc\\ufef4\\ufeb8\\ufe94 \\ufeed\\ufe8d\\ufef9\\ufeb3\\ufe98\\ufe9c\\ufee4\\ufe8e\\ufead \\ufed3\\ufef2 \\ufe8d\\ufedf\\ufe92\\ufeb8\\ufeae\",\"\\ufe97\\ufea4\\ufeb4\\ufef4\\ufee6 \\ufe9f\\ufeee\\ufea9\\ufe93 \\ufea7\\ufeaa\\ufee3\\ufe8e\\ufe95 \\ufe8d\\ufedf\\ufe98\\ufee8\\ufee4\\ufef4\\ufe94 \\ufe8d\\ufedf\\ufe92\\ufeb8\\ufeae\\ufef3\\ufe94\",\"\\ufe97\\ufea4\\ufeb4\\ufef4\\ufee6 \\ufee3\\ufeb4\\ufe98\\ufeee\\ufef1 \\ufea7\\ufeaa\\ufee3\\ufe8e\\ufe95 \\ufe8d\\ufedf\\ufe92\\ufee8\\ufef4\\ufe94 \\ufe8d\\ufef7\\ufeb3\\ufe8e\\ufeb3\\ufef4\\ufe94 \\ufeed\\ufe8d\\ufedf\\ufecc\\ufee4\\ufeae\\ufe8d\\ufee7\\ufef4\\ufe94\",\"\\ufe97\\ufea4\\ufeb4\\ufef4\\ufee6 \\ufee3\\ufeb4\\ufe98\\ufeee\\ufef1 \\ufea7\\ufeaa\\ufee3\\ufe8e\\ufe95 \\ufe8d\\ufedf\\ufe92\\ufee8\\ufef4\\ufe94 \\ufe8d\\ufef7\\ufeb3\\ufe8e\\ufeb3\\ufef4\\ufe94 \\ufeed\\ufe8d\\ufedf\\ufecc\\ufee4\\ufeae\\ufe8d\\ufee7\\ufef4\\ufe94\",\"\\ufe97\\ufea4\\ufeb4\\ufef4\\ufee6 \\ufee3\\ufeb4\\ufe98\\ufeee\\ufef1 \\ufea7\\ufeaa\\ufee3\\ufe8e\\ufe95 \\ufe8d\\ufedf\\ufe92\\ufee8\\ufef4\\ufe94 \\ufe8d\\ufef7\\ufeb3\\ufe8e\\ufeb3\\ufef4\\ufe94 \\ufeed\\ufe8d\\ufedf\\ufecc\\ufee4\\ufeae\\ufe8d\\ufee7\\ufef4\\ufe94\",\"\\ufe97\\ufea4\\ufeb4\\ufef4\\ufee6 \\ufee3\\ufeb4\\ufe98\\ufeee\\ufef1 \\ufea7\\ufeaa\\ufee3\\ufe8e\\ufe95 \\ufe8d\\ufedf\\ufe92\\ufee8\\ufef4\\ufe94 \\ufe8d\\ufef7\\ufeb3\\ufe8e\\ufeb3\\ufef4\\ufe94 \\ufeed\\ufe8d\\ufedf\\ufecc\\ufee4\\ufeae\\ufe8d\\ufee7\\ufef4\\ufe94\",\"\\ufe97\\ufea4\\ufeb4\\ufef4\\ufee6 \\ufee3\\ufeb4\\ufe98\\ufeee\\ufef1 \\ufea7\\ufeaa\\ufee3\\ufe8e\\ufe95 \\ufe8d\\ufedf\\ufe92\\ufee8\\ufef4\\ufe94 \\ufe8d\\ufef7\\ufeb3\\ufe8e\\ufeb3\\ufef4\\ufe94 \\ufeed\\ufe8d\\ufedf\\ufecc\\ufee4\\ufeae\\ufe8d\\ufee7\\ufef4\\ufe94\",\"\\ufe97\\ufea4\\ufeb4\\ufef4\\ufee6 \\ufee3\\ufeb4\\ufe98\\ufeee\\ufef1 \\ufea7\\ufeaa\\ufee3\\ufe8e\\ufe95 \\ufe8d\\ufedf\\ufe92\\ufee8\\ufef4\\ufe94 \\ufe8d\\ufef7\\ufeb3\\ufe8e\\ufeb3\\ufef4\\ufe94 \\ufeed\\ufe8d\\ufedf\\ufecc\\ufee4\\ufeae\\ufe8d\\ufee7\\ufef4\\ufe94\",\"\\ufe97\\ufea4\\ufeb4\\ufef4\\ufee6 \\ufee3\\ufeb4\\ufe98\\ufeee\\ufef1 \\ufea7\\ufeaa\\ufee3\\ufe8e\\ufe95 \\ufe8d\\ufedf\\ufe92\\ufee8\\ufef4\\ufe94 \\ufe8d\\ufef7\\ufeb3\\ufe8e\\ufeb3\\ufef4\\ufe94 \\ufeed\\ufe8d\\ufedf\\ufecc\\ufee4\\ufeae\\ufe8d\\ufee7\\ufef4\\ufe94\",\"\\ufe97\\ufea4\\ufeb4\\ufef4\\ufee6 \\ufee3\\ufeb4\\ufe98\\ufeee\\ufef1 \\ufea7\\ufeaa\\ufee3\\ufe8e\\ufe95 \\ufe8d\\ufedf\\ufe92\\ufee8\\ufef4\\ufe94 \\ufe8d\\ufef7\\ufeb3\\ufe8e\\ufeb3\\ufef4\\ufe94 \\ufeed\\ufe8d\\ufedf\\ufecc\\ufee4\\ufeae\\ufe8d\\ufee7\\ufef4\\ufe94\",\"\\ufe97\\ufea4\\ufeb4\\ufef4\\ufee6 \\ufee3\\ufeb4\\ufe98\\ufeee\\ufef1 \\ufea7\\ufeaa\\ufee3\\ufe8e\\ufe95 \\ufe8d\\ufedf\\ufe92\\ufee8\\ufef4\\ufe94 \\ufe8d\\ufef7\\ufeb3\\ufe8e\\ufeb3\\ufef4\\ufe94 \\ufeed\\ufe8d\\ufedf\\ufecc\\ufee4\\ufeae\\ufe8d\\ufee7\\ufef4\\ufe94\",\"\\ufe97\\ufea4\\ufeb4\\ufef4\\ufee6 \\ufee3\\ufeb4\\ufe98\\ufeee\\ufef1 \\ufea7\\ufeaa\\ufee3\\ufe8e\\ufe95 \\ufe8d\\ufedf\\ufe92\\ufee8\\ufef4\\ufe94 \\ufe8d\\ufef7\\ufeb3\\ufe8e\\ufeb3\\ufef4\\ufe94 \\ufeed\\ufe8d\\ufedf\\ufecc\\ufee4\\ufeae\\ufe8d\\ufee7\\ufef4\\ufe94\",\"\\ufe97\\ufea4\\ufeb4\\ufef4\\ufee6 \\ufee3\\ufeb4\\ufe98\\ufeee\\ufef1 \\ufea7\\ufeaa\\ufee3\\ufe8e\\ufe95 \\ufe8d\\ufedf\\ufe92\\ufee8\\ufef4\\ufe94 \\ufe8d\\ufef7\\ufeb3\\ufe8e\\ufeb3\\ufef4\\ufe94 \\ufeed\\ufe8d\\ufedf\\ufecc\\ufee4\\ufeae\\ufe8d\\ufee7\\ufef4\\ufe94\",\"\\ufe97\\ufea4\\ufeb4\\ufef4\\ufee6 \\ufee3\\ufeb4\\ufe98\\ufeee\\ufef1 \\ufea7\\ufeaa\\ufee3\\ufe8e\\ufe95 \\ufe8d\\ufedf\\ufe92\\ufee8\\ufef4\\ufe94 \\ufe8d\\ufef7\\ufeb3\\ufe8e\\ufeb3\\ufef4\\ufe94 \\ufeed\\ufe8d\\ufedf\\ufecc\\ufee4\\ufeae\\ufe8d\\ufee7\\ufef4\\ufe94\",\"\\ufe97\\ufea4\\ufeb4\\ufef4\\ufee6 \\ufee3\\ufeb4\\ufe98\\ufeee\\ufef1 \\ufea7\\ufeaa\\ufee3\\ufe8e\\ufe95 \\ufe8d\\ufedf\\ufe92\\ufee8\\ufef4\\ufe94 \\ufe8d\\ufef7\\ufeb3\\ufe8e\\ufeb3\\ufef4\\ufe94 \\ufeed\\ufe8d\\ufedf\\ufecc\\ufee4\\ufeae\\ufe8d\\ufee7\\ufef4\\ufe94\"],\"legendgroup\":\"\",\"name\":\"\",\"showlegend\":true,\"type\":\"pie\"}],                        {\"template\":{\"data\":{\"bar\":[{\"error_x\":{\"color\":\"#2a3f5f\"},\"error_y\":{\"color\":\"#2a3f5f\"},\"marker\":{\"line\":{\"color\":\"#E5ECF6\",\"width\":0.5},\"pattern\":{\"fillmode\":\"overlay\",\"size\":10,\"solidity\":0.2}},\"type\":\"bar\"}],\"barpolar\":[{\"marker\":{\"line\":{\"color\":\"#E5ECF6\",\"width\":0.5},\"pattern\":{\"fillmode\":\"overlay\",\"size\":10,\"solidity\":0.2}},\"type\":\"barpolar\"}],\"carpet\":[{\"aaxis\":{\"endlinecolor\":\"#2a3f5f\",\"gridcolor\":\"white\",\"linecolor\":\"white\",\"minorgridcolor\":\"white\",\"startlinecolor\":\"#2a3f5f\"},\"baxis\":{\"endlinecolor\":\"#2a3f5f\",\"gridcolor\":\"white\",\"linecolor\":\"white\",\"minorgridcolor\":\"white\",\"startlinecolor\":\"#2a3f5f\"},\"type\":\"carpet\"}],\"choropleth\":[{\"colorbar\":{\"outlinewidth\":0,\"ticks\":\"\"},\"type\":\"choropleth\"}],\"contour\":[{\"colorbar\":{\"outlinewidth\":0,\"ticks\":\"\"},\"colorscale\":[[0.0,\"#0d0887\"],[0.1111111111111111,\"#46039f\"],[0.2222222222222222,\"#7201a8\"],[0.3333333333333333,\"#9c179e\"],[0.4444444444444444,\"#bd3786\"],[0.5555555555555556,\"#d8576b\"],[0.6666666666666666,\"#ed7953\"],[0.7777777777777778,\"#fb9f3a\"],[0.8888888888888888,\"#fdca26\"],[1.0,\"#f0f921\"]],\"type\":\"contour\"}],\"contourcarpet\":[{\"colorbar\":{\"outlinewidth\":0,\"ticks\":\"\"},\"type\":\"contourcarpet\"}],\"heatmap\":[{\"colorbar\":{\"outlinewidth\":0,\"ticks\":\"\"},\"colorscale\":[[0.0,\"#0d0887\"],[0.1111111111111111,\"#46039f\"],[0.2222222222222222,\"#7201a8\"],[0.3333333333333333,\"#9c179e\"],[0.4444444444444444,\"#bd3786\"],[0.5555555555555556,\"#d8576b\"],[0.6666666666666666,\"#ed7953\"],[0.7777777777777778,\"#fb9f3a\"],[0.8888888888888888,\"#fdca26\"],[1.0,\"#f0f921\"]],\"type\":\"heatmap\"}],\"heatmapgl\":[{\"colorbar\":{\"outlinewidth\":0,\"ticks\":\"\"},\"colorscale\":[[0.0,\"#0d0887\"],[0.1111111111111111,\"#46039f\"],[0.2222222222222222,\"#7201a8\"],[0.3333333333333333,\"#9c179e\"],[0.4444444444444444,\"#bd3786\"],[0.5555555555555556,\"#d8576b\"],[0.6666666666666666,\"#ed7953\"],[0.7777777777777778,\"#fb9f3a\"],[0.8888888888888888,\"#fdca26\"],[1.0,\"#f0f921\"]],\"type\":\"heatmapgl\"}],\"histogram\":[{\"marker\":{\"pattern\":{\"fillmode\":\"overlay\",\"size\":10,\"solidity\":0.2}},\"type\":\"histogram\"}],\"histogram2d\":[{\"colorbar\":{\"outlinewidth\":0,\"ticks\":\"\"},\"colorscale\":[[0.0,\"#0d0887\"],[0.1111111111111111,\"#46039f\"],[0.2222222222222222,\"#7201a8\"],[0.3333333333333333,\"#9c179e\"],[0.4444444444444444,\"#bd3786\"],[0.5555555555555556,\"#d8576b\"],[0.6666666666666666,\"#ed7953\"],[0.7777777777777778,\"#fb9f3a\"],[0.8888888888888888,\"#fdca26\"],[1.0,\"#f0f921\"]],\"type\":\"histogram2d\"}],\"histogram2dcontour\":[{\"colorbar\":{\"outlinewidth\":0,\"ticks\":\"\"},\"colorscale\":[[0.0,\"#0d0887\"],[0.1111111111111111,\"#46039f\"],[0.2222222222222222,\"#7201a8\"],[0.3333333333333333,\"#9c179e\"],[0.4444444444444444,\"#bd3786\"],[0.5555555555555556,\"#d8576b\"],[0.6666666666666666,\"#ed7953\"],[0.7777777777777778,\"#fb9f3a\"],[0.8888888888888888,\"#fdca26\"],[1.0,\"#f0f921\"]],\"type\":\"histogram2dcontour\"}],\"mesh3d\":[{\"colorbar\":{\"outlinewidth\":0,\"ticks\":\"\"},\"type\":\"mesh3d\"}],\"parcoords\":[{\"line\":{\"colorbar\":{\"outlinewidth\":0,\"ticks\":\"\"}},\"type\":\"parcoords\"}],\"pie\":[{\"automargin\":true,\"type\":\"pie\"}],\"scatter\":[{\"marker\":{\"colorbar\":{\"outlinewidth\":0,\"ticks\":\"\"}},\"type\":\"scatter\"}],\"scatter3d\":[{\"line\":{\"colorbar\":{\"outlinewidth\":0,\"ticks\":\"\"}},\"marker\":{\"colorbar\":{\"outlinewidth\":0,\"ticks\":\"\"}},\"type\":\"scatter3d\"}],\"scattercarpet\":[{\"marker\":{\"colorbar\":{\"outlinewidth\":0,\"ticks\":\"\"}},\"type\":\"scattercarpet\"}],\"scattergeo\":[{\"marker\":{\"colorbar\":{\"outlinewidth\":0,\"ticks\":\"\"}},\"type\":\"scattergeo\"}],\"scattergl\":[{\"marker\":{\"colorbar\":{\"outlinewidth\":0,\"ticks\":\"\"}},\"type\":\"scattergl\"}],\"scattermapbox\":[{\"marker\":{\"colorbar\":{\"outlinewidth\":0,\"ticks\":\"\"}},\"type\":\"scattermapbox\"}],\"scatterpolar\":[{\"marker\":{\"colorbar\":{\"outlinewidth\":0,\"ticks\":\"\"}},\"type\":\"scatterpolar\"}],\"scatterpolargl\":[{\"marker\":{\"colorbar\":{\"outlinewidth\":0,\"ticks\":\"\"}},\"type\":\"scatterpolargl\"}],\"scatterternary\":[{\"marker\":{\"colorbar\":{\"outlinewidth\":0,\"ticks\":\"\"}},\"type\":\"scatterternary\"}],\"surface\":[{\"colorbar\":{\"outlinewidth\":0,\"ticks\":\"\"},\"colorscale\":[[0.0,\"#0d0887\"],[0.1111111111111111,\"#46039f\"],[0.2222222222222222,\"#7201a8\"],[0.3333333333333333,\"#9c179e\"],[0.4444444444444444,\"#bd3786\"],[0.5555555555555556,\"#d8576b\"],[0.6666666666666666,\"#ed7953\"],[0.7777777777777778,\"#fb9f3a\"],[0.8888888888888888,\"#fdca26\"],[1.0,\"#f0f921\"]],\"type\":\"surface\"}],\"table\":[{\"cells\":{\"fill\":{\"color\":\"#EBF0F8\"},\"line\":{\"color\":\"white\"}},\"header\":{\"fill\":{\"color\":\"#C8D4E3\"},\"line\":{\"color\":\"white\"}},\"type\":\"table\"}]},\"layout\":{\"annotationdefaults\":{\"arrowcolor\":\"#2a3f5f\",\"arrowhead\":0,\"arrowwidth\":1},\"autotypenumbers\":\"strict\",\"coloraxis\":{\"colorbar\":{\"outlinewidth\":0,\"ticks\":\"\"}},\"colorscale\":{\"diverging\":[[0,\"#8e0152\"],[0.1,\"#c51b7d\"],[0.2,\"#de77ae\"],[0.3,\"#f1b6da\"],[0.4,\"#fde0ef\"],[0.5,\"#f7f7f7\"],[0.6,\"#e6f5d0\"],[0.7,\"#b8e186\"],[0.8,\"#7fbc41\"],[0.9,\"#4d9221\"],[1,\"#276419\"]],\"sequential\":[[0.0,\"#0d0887\"],[0.1111111111111111,\"#46039f\"],[0.2222222222222222,\"#7201a8\"],[0.3333333333333333,\"#9c179e\"],[0.4444444444444444,\"#bd3786\"],[0.5555555555555556,\"#d8576b\"],[0.6666666666666666,\"#ed7953\"],[0.7777777777777778,\"#fb9f3a\"],[0.8888888888888888,\"#fdca26\"],[1.0,\"#f0f921\"]],\"sequentialminus\":[[0.0,\"#0d0887\"],[0.1111111111111111,\"#46039f\"],[0.2222222222222222,\"#7201a8\"],[0.3333333333333333,\"#9c179e\"],[0.4444444444444444,\"#bd3786\"],[0.5555555555555556,\"#d8576b\"],[0.6666666666666666,\"#ed7953\"],[0.7777777777777778,\"#fb9f3a\"],[0.8888888888888888,\"#fdca26\"],[1.0,\"#f0f921\"]]},\"colorway\":[\"#636efa\",\"#EF553B\",\"#00cc96\",\"#ab63fa\",\"#FFA15A\",\"#19d3f3\",\"#FF6692\",\"#B6E880\",\"#FF97FF\",\"#FECB52\"],\"font\":{\"color\":\"#2a3f5f\"},\"geo\":{\"bgcolor\":\"white\",\"lakecolor\":\"white\",\"landcolor\":\"#E5ECF6\",\"showlakes\":true,\"showland\":true,\"subunitcolor\":\"white\"},\"hoverlabel\":{\"align\":\"left\"},\"hovermode\":\"closest\",\"mapbox\":{\"style\":\"light\"},\"paper_bgcolor\":\"white\",\"plot_bgcolor\":\"#E5ECF6\",\"polar\":{\"angularaxis\":{\"gridcolor\":\"white\",\"linecolor\":\"white\",\"ticks\":\"\"},\"bgcolor\":\"#E5ECF6\",\"radialaxis\":{\"gridcolor\":\"white\",\"linecolor\":\"white\",\"ticks\":\"\"}},\"scene\":{\"xaxis\":{\"backgroundcolor\":\"#E5ECF6\",\"gridcolor\":\"white\",\"gridwidth\":2,\"linecolor\":\"white\",\"showbackground\":true,\"ticks\":\"\",\"zerolinecolor\":\"white\"},\"yaxis\":{\"backgroundcolor\":\"#E5ECF6\",\"gridcolor\":\"white\",\"gridwidth\":2,\"linecolor\":\"white\",\"showbackground\":true,\"ticks\":\"\",\"zerolinecolor\":\"white\"},\"zaxis\":{\"backgroundcolor\":\"#E5ECF6\",\"gridcolor\":\"white\",\"gridwidth\":2,\"linecolor\":\"white\",\"showbackground\":true,\"ticks\":\"\",\"zerolinecolor\":\"white\"}},\"shapedefaults\":{\"line\":{\"color\":\"#2a3f5f\"}},\"ternary\":{\"aaxis\":{\"gridcolor\":\"white\",\"linecolor\":\"white\",\"ticks\":\"\"},\"baxis\":{\"gridcolor\":\"white\",\"linecolor\":\"white\",\"ticks\":\"\"},\"bgcolor\":\"#E5ECF6\",\"caxis\":{\"gridcolor\":\"white\",\"linecolor\":\"white\",\"ticks\":\"\"}},\"title\":{\"x\":0.05},\"xaxis\":{\"automargin\":true,\"gridcolor\":\"white\",\"linecolor\":\"white\",\"ticks\":\"\",\"title\":{\"standoff\":15},\"zerolinecolor\":\"white\",\"zerolinewidth\":2},\"yaxis\":{\"automargin\":true,\"gridcolor\":\"white\",\"linecolor\":\"white\",\"ticks\":\"\",\"title\":{\"standoff\":15},\"zerolinecolor\":\"white\",\"zerolinewidth\":2}}},\"legend\":{\"tracegroupgap\":0},\"margin\":{\"t\":60},\"piecolorway\":[\"rgb(136, 204, 238)\",\"rgb(204, 102, 119)\",\"rgb(221, 204, 119)\",\"rgb(17, 119, 51)\",\"rgb(51, 34, 136)\",\"rgb(170, 68, 153)\",\"rgb(68, 170, 153)\",\"rgb(153, 153, 51)\",\"rgb(136, 34, 85)\",\"rgb(102, 17, 0)\",\"rgb(136, 136, 136)\"]},                        {\"responsive\": true}                    ).then(function(){\n",
              "                            \n",
              "var gd = document.getElementById('9945dc4f-8d1e-41bd-9cd1-392aa18fdf3f');\n",
              "var x = new MutationObserver(function (mutations, observer) {{\n",
              "        var display = window.getComputedStyle(gd).display;\n",
              "        if (!display || display === 'none') {{\n",
              "            console.log([gd, 'removed!']);\n",
              "            Plotly.purge(gd);\n",
              "            observer.disconnect();\n",
              "        }}\n",
              "}});\n",
              "\n",
              "// Listen for the removal of the full notebook cells\n",
              "var notebookContainer = gd.closest('#notebook-container');\n",
              "if (notebookContainer) {{\n",
              "    x.observe(notebookContainer, {childList: true});\n",
              "}}\n",
              "\n",
              "// Listen for the clearing of the current output cell\n",
              "var outputEl = gd.closest('.output');\n",
              "if (outputEl) {{\n",
              "    x.observe(outputEl, {childList: true});\n",
              "}}\n",
              "\n",
              "                        })                };                            </script>        </div>\n",
              "</body>\n",
              "</html>"
            ]
          },
          "metadata": {}
        },
        {
          "output_type": "display_data",
          "data": {
            "text/plain": [
              "<Figure size 1368x1368 with 0 Axes>"
            ]
          },
          "metadata": {}
        }
      ]
    },
    {
      "cell_type": "code",
      "source": [
        "def CountPlot(col):\n",
        "    global df\n",
        "    # بياخد نسخه من الداتا و بيعمل بروسيس علي الكولوم الي احنا شغالين علية بس و لما الداله بتخلص شغل بتتمسح \n",
        "    df[col] = df[col].astype(str).apply(lambda x : arabic_reshaper.reshape(x)[::-1])\n",
        "    plt.figure(figsize=(27,10))\n",
        "    sns.countplot(data=df,y=col, palette='YlGn')\n",
        "    plt.ylabel(arabic_reshaper.reshape(col)[::-1])\n",
        "    plt.show()\n",
        "CountPlot('مؤشر الأداء علي مستوي المخرجات')"
      ],
      "metadata": {
        "colab": {
          "base_uri": "https://localhost:8080/",
          "height": 395
        },
        "id": "8sFWKZRSREkp",
        "outputId": "7d3c9f94-2c4f-4828-ada7-e8b4d17edaaf"
      },
      "execution_count": null,
      "outputs": [
        {
          "output_type": "display_data",
          "data": {
            "text/plain": [
              "<Figure size 1944x720 with 1 Axes>"
            ],
            "image/png": "[encoded data removed]"
          },
          "metadata": {
            "needs_background": "light"
          }
        }
      ]
    },
    {
      "cell_type": "code",
      "source": [
        ""
      ],
      "metadata": {
        "id": "QoEr2yGM1Hge"
      },
      "execution_count": null,
      "outputs": []
    }
  ]
}