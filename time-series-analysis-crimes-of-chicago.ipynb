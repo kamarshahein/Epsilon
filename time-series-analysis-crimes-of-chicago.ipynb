{
 "cells": [
  {
   "cell_type": "code",
   "execution_count": 1,
   "id": "d9139f39",
   "metadata": {
    "execution": {
     "iopub.execute_input": "2022-06-03T23:19:53.855848Z",
     "iopub.status.busy": "2022-06-03T23:19:53.855413Z",
     "iopub.status.idle": "2022-06-03T23:19:54.960513Z",
     "shell.execute_reply": "2022-06-03T23:19:54.959580Z"
    },
    "papermill": {
     "duration": 1.124587,
     "end_time": "2022-06-03T23:19:54.962980",
     "exception": false,
     "start_time": "2022-06-03T23:19:53.838393",
     "status": "completed"
    },
    "tags": []
   },
   "outputs": [],
   "source": [
    "import pandas as pd\n",
    "import numpy as np\n",
    "import seaborn as sns\n",
    "import matplotlib.pyplot as plt\n"
   ]
  },
  {
   "cell_type": "code",
   "execution_count": 2,
   "id": "2393c05a",
   "metadata": {
    "execution": {
     "iopub.execute_input": "2022-06-03T23:19:54.992277Z",
     "iopub.status.busy": "2022-06-03T23:19:54.991859Z",
     "iopub.status.idle": "2022-06-03T23:19:55.913468Z",
     "shell.execute_reply": "2022-06-03T23:19:55.912490Z"
    },
    "papermill": {
     "duration": 0.938563,
     "end_time": "2022-06-03T23:19:55.915722",
     "exception": false,
     "start_time": "2022-06-03T23:19:54.977159",
     "status": "completed"
    },
    "tags": []
   },
   "outputs": [
    {
     "data": {
      "text/plain": [
       "<Figure size 1280x960 with 0 Axes>"
      ]
     },
     "metadata": {},
     "output_type": "display_data"
    }
   ],
   "source": [
    "from sklearn.metrics import mean_squared_error\n",
    "from math import sqrt\n",
    "import matplotlib.pyplot as plt\n",
    "%matplotlib inline\n",
    "from matplotlib.pylab import rcParams\n",
    "rcParams['figure.figsize'] = 15, 6\n",
    "from patsy import dmatrices\n",
    "from pandas import Series\n",
    "from matplotlib import pyplot\n",
    "from datetime import datetime\n",
    "from matplotlib.pyplot import figure\n",
    "\n",
    "import statsmodels.api as sm\n",
    "\n",
    "figure(num=None, figsize=(16, 12), dpi=80, facecolor='w', edgecolor='k')\n",
    "\n",
    "from statsmodels.tsa.holtwinters import ExponentialSmoothing, SimpleExpSmoothing, Holt\n",
    "\n",
    "import sys\n",
    "import warnings\n",
    "import itertools\n",
    "warnings.filterwarnings(\"ignore\")\n",
    "\n",
    "\n",
    "import statsmodels.tsa.api as smt\n",
    "import statsmodels.formula.api as smf\n",
    "\n",
    "from statsmodels.tsa.stattools import adfuller\n",
    "\n",
    "\n",
    "from statsmodels.tsa.arima_model import ARIMA"
   ]
  },
  {
   "cell_type": "code",
   "execution_count": 3,
   "id": "78e403dc",
   "metadata": {
    "execution": {
     "iopub.execute_input": "2022-06-03T23:19:55.946381Z",
     "iopub.status.busy": "2022-06-03T23:19:55.945813Z",
     "iopub.status.idle": "2022-06-03T23:21:04.361218Z",
     "shell.execute_reply": "2022-06-03T23:21:04.359639Z"
    },
    "papermill": {
     "duration": 68.452314,
     "end_time": "2022-06-03T23:21:04.383064",
     "exception": false,
     "start_time": "2022-06-03T23:19:55.930750",
     "status": "completed"
    },
    "tags": []
   },
   "outputs": [
    {
     "name": "stderr",
     "output_type": "stream",
     "text": [
      "b'Skipping line 1513591: expected 23 fields, saw 24\\n'\n",
      "b'Skipping line 533719: expected 23 fields, saw 24\\n'\n",
      "b'Skipping line 1149094: expected 23 fields, saw 41\\n'\n"
     ]
    },
    {
     "data": {
      "text/plain": [
       "(7941282, 23)"
      ]
     },
     "execution_count": 3,
     "metadata": {},
     "output_type": "execute_result"
    }
   ],
   "source": [
    "dt_1 = pd.read_csv('../input/crimes-in-chicago/Chicago_Crimes_2001_to_2004.csv' , error_bad_lines=False)\n",
    "dt_2 = pd.read_csv('../input/crimes-in-chicago/Chicago_Crimes_2005_to_2007.csv' , error_bad_lines=False)\n",
    "dt_3 = pd.read_csv('../input/crimes-in-chicago/Chicago_Crimes_2008_to_2011.csv' , error_bad_lines=False)\n",
    "dt_4 = pd.read_csv('../input/crimes-in-chicago/Chicago_Crimes_2012_to_2017.csv' , error_bad_lines=False)\n",
    "\n",
    "dt = pd.concat([dt_1,dt_2,dt_3,dt_4] , ignore_index=False , axis=0)\n",
    "\n",
    "del dt_1\n",
    "del dt_2\n",
    "del dt_3\n",
    "del dt_4\n",
    "\n",
    "dt.shape"
   ]
  },
  {
   "cell_type": "markdown",
   "id": "633b3958",
   "metadata": {
    "papermill": {
     "duration": 0.013983,
     "end_time": "2022-06-03T23:21:04.411215",
     "exception": false,
     "start_time": "2022-06-03T23:21:04.397232",
     "status": "completed"
    },
    "tags": []
   },
   "source": [
    "## Data Overview"
   ]
  },
  {
   "cell_type": "code",
   "execution_count": 4,
   "id": "82e1865e",
   "metadata": {
    "execution": {
     "iopub.execute_input": "2022-06-03T23:21:04.441611Z",
     "iopub.status.busy": "2022-06-03T23:21:04.441203Z",
     "iopub.status.idle": "2022-06-03T23:21:48.707007Z",
     "shell.execute_reply": "2022-06-03T23:21:48.705982Z"
    },
    "papermill": {
     "duration": 44.284201,
     "end_time": "2022-06-03T23:21:48.709294",
     "exception": false,
     "start_time": "2022-06-03T23:21:04.425093",
     "status": "completed"
    },
    "tags": []
   },
   "outputs": [],
   "source": [
    "dt= dt.drop_duplicates()"
   ]
  },
  {
   "cell_type": "code",
   "execution_count": 5,
   "id": "3b9e9f90",
   "metadata": {
    "execution": {
     "iopub.execute_input": "2022-06-03T23:21:48.739763Z",
     "iopub.status.busy": "2022-06-03T23:21:48.739364Z",
     "iopub.status.idle": "2022-06-03T23:21:51.585844Z",
     "shell.execute_reply": "2022-06-03T23:21:51.585035Z"
    },
    "papermill": {
     "duration": 2.864058,
     "end_time": "2022-06-03T23:21:51.587796",
     "exception": false,
     "start_time": "2022-06-03T23:21:48.723738",
     "status": "completed"
    },
    "tags": []
   },
   "outputs": [
    {
     "data": {
      "text/html": [
       "<div>\n",
       "<style scoped>\n",
       "    .dataframe tbody tr th:only-of-type {\n",
       "        vertical-align: middle;\n",
       "    }\n",
       "\n",
       "    .dataframe tbody tr th {\n",
       "        vertical-align: top;\n",
       "    }\n",
       "\n",
       "    .dataframe thead th {\n",
       "        text-align: right;\n",
       "    }\n",
       "</style>\n",
       "<table border=\"1\" class=\"dataframe\">\n",
       "  <thead>\n",
       "    <tr style=\"text-align: right;\">\n",
       "      <th></th>\n",
       "      <th>count</th>\n",
       "      <th>mean</th>\n",
       "      <th>std</th>\n",
       "      <th>min</th>\n",
       "      <th>25%</th>\n",
       "      <th>50%</th>\n",
       "      <th>75%</th>\n",
       "      <th>max</th>\n",
       "    </tr>\n",
       "  </thead>\n",
       "  <tbody>\n",
       "    <tr>\n",
       "      <th>Unnamed: 0</th>\n",
       "      <td>6200659.000</td>\n",
       "      <td>3102108.699</td>\n",
       "      <td>1797966.913</td>\n",
       "      <td>0.000</td>\n",
       "      <td>1550164.500</td>\n",
       "      <td>3100329.000</td>\n",
       "      <td>4620646.500</td>\n",
       "      <td>6254267.000</td>\n",
       "    </tr>\n",
       "    <tr>\n",
       "      <th>ID</th>\n",
       "      <td>6200659.000</td>\n",
       "      <td>5850207.444</td>\n",
       "      <td>2819653.480</td>\n",
       "      <td>634.000</td>\n",
       "      <td>3323775.500</td>\n",
       "      <td>5834427.000</td>\n",
       "      <td>8286458.500</td>\n",
       "      <td>10827880.000</td>\n",
       "    </tr>\n",
       "    <tr>\n",
       "      <th>Beat</th>\n",
       "      <td>6200659.000</td>\n",
       "      <td>1195.910</td>\n",
       "      <td>703.716</td>\n",
       "      <td>111.000</td>\n",
       "      <td>623.000</td>\n",
       "      <td>1111.000</td>\n",
       "      <td>1732.000</td>\n",
       "      <td>2535.000</td>\n",
       "    </tr>\n",
       "    <tr>\n",
       "      <th>District</th>\n",
       "      <td>6200610.000</td>\n",
       "      <td>11.312</td>\n",
       "      <td>6.944</td>\n",
       "      <td>1.000</td>\n",
       "      <td>6.000</td>\n",
       "      <td>10.000</td>\n",
       "      <td>17.000</td>\n",
       "      <td>31.000</td>\n",
       "    </tr>\n",
       "    <tr>\n",
       "      <th>Ward</th>\n",
       "      <td>5555999.000</td>\n",
       "      <td>22.625</td>\n",
       "      <td>13.804</td>\n",
       "      <td>1.000</td>\n",
       "      <td>10.000</td>\n",
       "      <td>22.000</td>\n",
       "      <td>34.000</td>\n",
       "      <td>50.000</td>\n",
       "    </tr>\n",
       "    <tr>\n",
       "      <th>Community Area</th>\n",
       "      <td>5554821.000</td>\n",
       "      <td>37.673</td>\n",
       "      <td>21.543</td>\n",
       "      <td>0.000</td>\n",
       "      <td>23.000</td>\n",
       "      <td>32.000</td>\n",
       "      <td>58.000</td>\n",
       "      <td>77.000</td>\n",
       "    </tr>\n",
       "    <tr>\n",
       "      <th>X Coordinate</th>\n",
       "      <td>6116436.000</td>\n",
       "      <td>1164469.172</td>\n",
       "      <td>17422.256</td>\n",
       "      <td>0.000</td>\n",
       "      <td>1152908.000</td>\n",
       "      <td>1165916.000</td>\n",
       "      <td>1176338.000</td>\n",
       "      <td>1205119.000</td>\n",
       "    </tr>\n",
       "    <tr>\n",
       "      <th>Year</th>\n",
       "      <td>6200659.000</td>\n",
       "      <td>2007.618</td>\n",
       "      <td>4.559</td>\n",
       "      <td>41.790</td>\n",
       "      <td>2004.000</td>\n",
       "      <td>2007.000</td>\n",
       "      <td>2011.000</td>\n",
       "      <td>2017.000</td>\n",
       "    </tr>\n",
       "    <tr>\n",
       "      <th>Longitude</th>\n",
       "      <td>6116435.000</td>\n",
       "      <td>-87.672</td>\n",
       "      <td>0.063</td>\n",
       "      <td>-91.687</td>\n",
       "      <td>-87.714</td>\n",
       "      <td>-87.666</td>\n",
       "      <td>-87.629</td>\n",
       "      <td>-87.525</td>\n",
       "    </tr>\n",
       "  </tbody>\n",
       "</table>\n",
       "</div>"
      ],
      "text/plain": [
       "                     count        mean         std     min         25%  \\\n",
       "Unnamed: 0     6200659.000 3102108.699 1797966.913   0.000 1550164.500   \n",
       "ID             6200659.000 5850207.444 2819653.480 634.000 3323775.500   \n",
       "Beat           6200659.000    1195.910     703.716 111.000     623.000   \n",
       "District       6200610.000      11.312       6.944   1.000       6.000   \n",
       "Ward           5555999.000      22.625      13.804   1.000      10.000   \n",
       "Community Area 5554821.000      37.673      21.543   0.000      23.000   \n",
       "X Coordinate   6116436.000 1164469.172   17422.256   0.000 1152908.000   \n",
       "Year           6200659.000    2007.618       4.559  41.790    2004.000   \n",
       "Longitude      6116435.000     -87.672       0.063 -91.687     -87.714   \n",
       "\n",
       "                       50%         75%          max  \n",
       "Unnamed: 0     3100329.000 4620646.500  6254267.000  \n",
       "ID             5834427.000 8286458.500 10827880.000  \n",
       "Beat              1111.000    1732.000     2535.000  \n",
       "District            10.000      17.000       31.000  \n",
       "Ward                22.000      34.000       50.000  \n",
       "Community Area      32.000      58.000       77.000  \n",
       "X Coordinate   1165916.000 1176338.000  1205119.000  \n",
       "Year              2007.000    2011.000     2017.000  \n",
       "Longitude          -87.666     -87.629      -87.525  "
      ]
     },
     "execution_count": 5,
     "metadata": {},
     "output_type": "execute_result"
    }
   ],
   "source": [
    "pd.set_option('display.float_format', lambda x: '%.3f' % x)\n",
    "dt.describe().T"
   ]
  },
  {
   "cell_type": "code",
   "execution_count": 6,
   "id": "fca0069d",
   "metadata": {
    "execution": {
     "iopub.execute_input": "2022-06-03T23:21:51.618882Z",
     "iopub.status.busy": "2022-06-03T23:21:51.618491Z",
     "iopub.status.idle": "2022-06-03T23:22:17.890420Z",
     "shell.execute_reply": "2022-06-03T23:22:17.889456Z"
    },
    "papermill": {
     "duration": 26.29059,
     "end_time": "2022-06-03T23:22:17.892593",
     "exception": false,
     "start_time": "2022-06-03T23:21:51.602003",
     "status": "completed"
    },
    "tags": []
   },
   "outputs": [
    {
     "data": {
      "text/html": [
       "<div>\n",
       "<style scoped>\n",
       "    .dataframe tbody tr th:only-of-type {\n",
       "        vertical-align: middle;\n",
       "    }\n",
       "\n",
       "    .dataframe tbody tr th {\n",
       "        vertical-align: top;\n",
       "    }\n",
       "\n",
       "    .dataframe thead th {\n",
       "        text-align: right;\n",
       "    }\n",
       "</style>\n",
       "<table border=\"1\" class=\"dataframe\">\n",
       "  <thead>\n",
       "    <tr style=\"text-align: right;\">\n",
       "      <th></th>\n",
       "      <th>count</th>\n",
       "      <th>unique</th>\n",
       "      <th>top</th>\n",
       "      <th>freq</th>\n",
       "    </tr>\n",
       "  </thead>\n",
       "  <tbody>\n",
       "    <tr>\n",
       "      <th>Case Number</th>\n",
       "      <td>6200655</td>\n",
       "      <td>6170472</td>\n",
       "      <td>HZ140230</td>\n",
       "      <td>6</td>\n",
       "    </tr>\n",
       "    <tr>\n",
       "      <th>Date</th>\n",
       "      <td>6200659</td>\n",
       "      <td>2451622</td>\n",
       "      <td>01/01/2008 12:01:00 AM</td>\n",
       "      <td>286</td>\n",
       "    </tr>\n",
       "    <tr>\n",
       "      <th>Block</th>\n",
       "      <td>6200659</td>\n",
       "      <td>58776</td>\n",
       "      <td>100XX W OHARE ST</td>\n",
       "      <td>14621</td>\n",
       "    </tr>\n",
       "    <tr>\n",
       "      <th>IUCR</th>\n",
       "      <td>6200659</td>\n",
       "      <td>398</td>\n",
       "      <td>0820</td>\n",
       "      <td>500673</td>\n",
       "    </tr>\n",
       "    <tr>\n",
       "      <th>Primary Type</th>\n",
       "      <td>6200659</td>\n",
       "      <td>35</td>\n",
       "      <td>THEFT</td>\n",
       "      <td>1290528</td>\n",
       "    </tr>\n",
       "    <tr>\n",
       "      <th>Description</th>\n",
       "      <td>6200659</td>\n",
       "      <td>376</td>\n",
       "      <td>SIMPLE</td>\n",
       "      <td>738512</td>\n",
       "    </tr>\n",
       "    <tr>\n",
       "      <th>Location Description</th>\n",
       "      <td>6198691</td>\n",
       "      <td>172</td>\n",
       "      <td>STREET</td>\n",
       "      <td>1646361</td>\n",
       "    </tr>\n",
       "    <tr>\n",
       "      <th>FBI Code</th>\n",
       "      <td>6200659</td>\n",
       "      <td>26</td>\n",
       "      <td>06</td>\n",
       "      <td>1290528</td>\n",
       "    </tr>\n",
       "    <tr>\n",
       "      <th>Y Coordinate</th>\n",
       "      <td>6116436.000</td>\n",
       "      <td>152135.000</td>\n",
       "      <td>1934241.000</td>\n",
       "      <td>12353.000</td>\n",
       "    </tr>\n",
       "    <tr>\n",
       "      <th>Updated On</th>\n",
       "      <td>6200659</td>\n",
       "      <td>1310</td>\n",
       "      <td>04/15/2016 08:55:02 AM</td>\n",
       "      <td>2655452</td>\n",
       "    </tr>\n",
       "    <tr>\n",
       "      <th>Latitude</th>\n",
       "      <td>6116436.000</td>\n",
       "      <td>864638.000</td>\n",
       "      <td>41.976</td>\n",
       "      <td>12342.000</td>\n",
       "    </tr>\n",
       "    <tr>\n",
       "      <th>Location</th>\n",
       "      <td>6116435</td>\n",
       "      <td>840085</td>\n",
       "      <td>(41.976290414, -87.905227221)</td>\n",
       "      <td>12345</td>\n",
       "    </tr>\n",
       "  </tbody>\n",
       "</table>\n",
       "</div>"
      ],
      "text/plain": [
       "                           count     unique                            top  \\\n",
       "Case Number              6200655    6170472                       HZ140230   \n",
       "Date                     6200659    2451622         01/01/2008 12:01:00 AM   \n",
       "Block                    6200659      58776               100XX W OHARE ST   \n",
       "IUCR                     6200659        398                           0820   \n",
       "Primary Type             6200659         35                          THEFT   \n",
       "Description              6200659        376                         SIMPLE   \n",
       "Location Description     6198691        172                         STREET   \n",
       "FBI Code                 6200659         26                             06   \n",
       "Y Coordinate         6116436.000 152135.000                    1934241.000   \n",
       "Updated On               6200659       1310         04/15/2016 08:55:02 AM   \n",
       "Latitude             6116436.000 864638.000                         41.976   \n",
       "Location                 6116435     840085  (41.976290414, -87.905227221)   \n",
       "\n",
       "                          freq  \n",
       "Case Number                  6  \n",
       "Date                       286  \n",
       "Block                    14621  \n",
       "IUCR                    500673  \n",
       "Primary Type           1290528  \n",
       "Description             738512  \n",
       "Location Description   1646361  \n",
       "FBI Code               1290528  \n",
       "Y Coordinate         12353.000  \n",
       "Updated On             2655452  \n",
       "Latitude             12342.000  \n",
       "Location                 12345  "
      ]
     },
     "execution_count": 6,
     "metadata": {},
     "output_type": "execute_result"
    }
   ],
   "source": [
    "dt.describe(include='object').T"
   ]
  },
  {
   "cell_type": "markdown",
   "id": "fea45883",
   "metadata": {
    "papermill": {
     "duration": 0.015842,
     "end_time": "2022-06-03T23:22:17.923688",
     "exception": false,
     "start_time": "2022-06-03T23:22:17.907846",
     "status": "completed"
    },
    "tags": []
   },
   "source": [
    "__The most commone crime type is \"Theft\".__ <br> __And the commone time for crimes that happens in the New Year Eve \"01/01/2012 12:01 AM\".__"
   ]
  },
  {
   "cell_type": "markdown",
   "id": "e07d1498",
   "metadata": {
    "papermill": {
     "duration": 0.014789,
     "end_time": "2022-06-03T23:22:17.954346",
     "exception": false,
     "start_time": "2022-06-03T23:22:17.939557",
     "status": "completed"
    },
    "tags": []
   },
   "source": [
    "## Datetime converter and Data concate"
   ]
  },
  {
   "cell_type": "code",
   "execution_count": 7,
   "id": "feff5019",
   "metadata": {
    "execution": {
     "iopub.execute_input": "2022-06-03T23:22:17.986122Z",
     "iopub.status.busy": "2022-06-03T23:22:17.985689Z",
     "iopub.status.idle": "2022-06-03T23:22:18.156165Z",
     "shell.execute_reply": "2022-06-03T23:22:18.154975Z"
    },
    "papermill": {
     "duration": 0.188946,
     "end_time": "2022-06-03T23:22:18.158432",
     "exception": false,
     "start_time": "2022-06-03T23:22:17.969486",
     "status": "completed"
    },
    "tags": []
   },
   "outputs": [
    {
     "data": {
      "text/plain": [
       "0    01/01/2004 12:01:00 AM\n",
       "0    04/02/2006 01:00:00 PM\n",
       "0    10/07/2008 12:39:00 PM\n",
       "0    05/03/2016 11:40:00 PM\n",
       "Name: Date, dtype: object"
      ]
     },
     "execution_count": 7,
     "metadata": {},
     "output_type": "execute_result"
    }
   ],
   "source": [
    "dt['Date'][0]"
   ]
  },
  {
   "cell_type": "code",
   "execution_count": 8,
   "id": "dc4987a4",
   "metadata": {
    "execution": {
     "iopub.execute_input": "2022-06-03T23:22:18.189460Z",
     "iopub.status.busy": "2022-06-03T23:22:18.189075Z",
     "iopub.status.idle": "2022-06-03T23:22:40.166304Z",
     "shell.execute_reply": "2022-06-03T23:22:40.165226Z"
    },
    "papermill": {
     "duration": 21.995291,
     "end_time": "2022-06-03T23:22:40.168459",
     "exception": false,
     "start_time": "2022-06-03T23:22:18.173168",
     "status": "completed"
    },
    "tags": []
   },
   "outputs": [],
   "source": [
    "dt.Date = pd.to_datetime(dt.Date, format='%m/%d/%Y %I:%M:%S %p')\n",
    "dt.index = pd.DatetimeIndex(dt.Date)"
   ]
  },
  {
   "cell_type": "code",
   "execution_count": 9,
   "id": "7695223e",
   "metadata": {
    "execution": {
     "iopub.execute_input": "2022-06-03T23:22:40.199485Z",
     "iopub.status.busy": "2022-06-03T23:22:40.199113Z",
     "iopub.status.idle": "2022-06-03T23:22:40.230586Z",
     "shell.execute_reply": "2022-06-03T23:22:40.229671Z"
    },
    "papermill": {
     "duration": 0.048991,
     "end_time": "2022-06-03T23:22:40.232555",
     "exception": false,
     "start_time": "2022-06-03T23:22:40.183564",
     "status": "completed"
    },
    "tags": []
   },
   "outputs": [
    {
     "data": {
      "text/html": [
       "<div>\n",
       "<style scoped>\n",
       "    .dataframe tbody tr th:only-of-type {\n",
       "        vertical-align: middle;\n",
       "    }\n",
       "\n",
       "    .dataframe tbody tr th {\n",
       "        vertical-align: top;\n",
       "    }\n",
       "\n",
       "    .dataframe thead th {\n",
       "        text-align: right;\n",
       "    }\n",
       "</style>\n",
       "<table border=\"1\" class=\"dataframe\">\n",
       "  <thead>\n",
       "    <tr style=\"text-align: right;\">\n",
       "      <th></th>\n",
       "      <th>Unnamed: 0</th>\n",
       "      <th>ID</th>\n",
       "      <th>Case Number</th>\n",
       "      <th>Date</th>\n",
       "      <th>Block</th>\n",
       "      <th>IUCR</th>\n",
       "      <th>Primary Type</th>\n",
       "      <th>Description</th>\n",
       "      <th>Location Description</th>\n",
       "      <th>Arrest</th>\n",
       "      <th>...</th>\n",
       "      <th>Ward</th>\n",
       "      <th>Community Area</th>\n",
       "      <th>FBI Code</th>\n",
       "      <th>X Coordinate</th>\n",
       "      <th>Y Coordinate</th>\n",
       "      <th>Year</th>\n",
       "      <th>Updated On</th>\n",
       "      <th>Latitude</th>\n",
       "      <th>Longitude</th>\n",
       "      <th>Location</th>\n",
       "    </tr>\n",
       "    <tr>\n",
       "      <th>Date</th>\n",
       "      <th></th>\n",
       "      <th></th>\n",
       "      <th></th>\n",
       "      <th></th>\n",
       "      <th></th>\n",
       "      <th></th>\n",
       "      <th></th>\n",
       "      <th></th>\n",
       "      <th></th>\n",
       "      <th></th>\n",
       "      <th></th>\n",
       "      <th></th>\n",
       "      <th></th>\n",
       "      <th></th>\n",
       "      <th></th>\n",
       "      <th></th>\n",
       "      <th></th>\n",
       "      <th></th>\n",
       "      <th></th>\n",
       "      <th></th>\n",
       "      <th></th>\n",
       "    </tr>\n",
       "  </thead>\n",
       "  <tbody>\n",
       "    <tr>\n",
       "      <th>2004-01-01 00:01:00</th>\n",
       "      <td>879</td>\n",
       "      <td>4786321</td>\n",
       "      <td>HM399414</td>\n",
       "      <td>2004-01-01 00:01:00</td>\n",
       "      <td>082XX S COLES AVE</td>\n",
       "      <td>0840</td>\n",
       "      <td>THEFT</td>\n",
       "      <td>FINANCIAL ID THEFT: OVER $300</td>\n",
       "      <td>RESIDENCE</td>\n",
       "      <td>False</td>\n",
       "      <td>...</td>\n",
       "      <td>7.000</td>\n",
       "      <td>46.000</td>\n",
       "      <td>06</td>\n",
       "      <td>NaN</td>\n",
       "      <td>NaN</td>\n",
       "      <td>2004.000</td>\n",
       "      <td>08/17/2015 03:03:40 PM</td>\n",
       "      <td>NaN</td>\n",
       "      <td>NaN</td>\n",
       "      <td>NaN</td>\n",
       "    </tr>\n",
       "    <tr>\n",
       "      <th>2003-03-01 00:00:00</th>\n",
       "      <td>2544</td>\n",
       "      <td>4676906</td>\n",
       "      <td>HM278933</td>\n",
       "      <td>2003-03-01 00:00:00</td>\n",
       "      <td>004XX W 42ND PL</td>\n",
       "      <td>2825</td>\n",
       "      <td>OTHER OFFENSE</td>\n",
       "      <td>HARASSMENT BY TELEPHONE</td>\n",
       "      <td>RESIDENCE</td>\n",
       "      <td>False</td>\n",
       "      <td>...</td>\n",
       "      <td>11.000</td>\n",
       "      <td>61.000</td>\n",
       "      <td>26</td>\n",
       "      <td>1173974.000</td>\n",
       "      <td>1876757.000</td>\n",
       "      <td>2003.000</td>\n",
       "      <td>04/15/2016 08:55:02 AM</td>\n",
       "      <td>41.817</td>\n",
       "      <td>-87.637</td>\n",
       "      <td>(41.817229156, -87.637328162)</td>\n",
       "    </tr>\n",
       "    <tr>\n",
       "      <th>2004-06-20 11:00:00</th>\n",
       "      <td>2919</td>\n",
       "      <td>4789749</td>\n",
       "      <td>HM402220</td>\n",
       "      <td>2004-06-20 11:00:00</td>\n",
       "      <td>025XX N KIMBALL AVE</td>\n",
       "      <td>1752</td>\n",
       "      <td>OFFENSE INVOLVING CHILDREN</td>\n",
       "      <td>AGG CRIM SEX ABUSE FAM MEMBER</td>\n",
       "      <td>RESIDENCE</td>\n",
       "      <td>False</td>\n",
       "      <td>...</td>\n",
       "      <td>35.000</td>\n",
       "      <td>22.000</td>\n",
       "      <td>20</td>\n",
       "      <td>NaN</td>\n",
       "      <td>NaN</td>\n",
       "      <td>2004.000</td>\n",
       "      <td>08/17/2015 03:03:40 PM</td>\n",
       "      <td>NaN</td>\n",
       "      <td>NaN</td>\n",
       "      <td>NaN</td>\n",
       "    </tr>\n",
       "    <tr>\n",
       "      <th>2004-12-30 20:00:00</th>\n",
       "      <td>2927</td>\n",
       "      <td>4789765</td>\n",
       "      <td>HM402058</td>\n",
       "      <td>2004-12-30 20:00:00</td>\n",
       "      <td>045XX W MONTANA ST</td>\n",
       "      <td>0840</td>\n",
       "      <td>THEFT</td>\n",
       "      <td>FINANCIAL ID THEFT: OVER $300</td>\n",
       "      <td>OTHER</td>\n",
       "      <td>False</td>\n",
       "      <td>...</td>\n",
       "      <td>31.000</td>\n",
       "      <td>20.000</td>\n",
       "      <td>06</td>\n",
       "      <td>NaN</td>\n",
       "      <td>NaN</td>\n",
       "      <td>2004.000</td>\n",
       "      <td>08/17/2015 03:03:40 PM</td>\n",
       "      <td>NaN</td>\n",
       "      <td>NaN</td>\n",
       "      <td>NaN</td>\n",
       "    </tr>\n",
       "    <tr>\n",
       "      <th>2003-05-01 01:00:00</th>\n",
       "      <td>3302</td>\n",
       "      <td>4677901</td>\n",
       "      <td>HM275615</td>\n",
       "      <td>2003-05-01 01:00:00</td>\n",
       "      <td>111XX S NORMAL AVE</td>\n",
       "      <td>0841</td>\n",
       "      <td>THEFT</td>\n",
       "      <td>FINANCIAL ID THEFT:$300 &amp;UNDER</td>\n",
       "      <td>RESIDENCE</td>\n",
       "      <td>False</td>\n",
       "      <td>...</td>\n",
       "      <td>34.000</td>\n",
       "      <td>49.000</td>\n",
       "      <td>06</td>\n",
       "      <td>1174948.000</td>\n",
       "      <td>1831051.000</td>\n",
       "      <td>2003.000</td>\n",
       "      <td>04/15/2016 08:55:02 AM</td>\n",
       "      <td>41.692</td>\n",
       "      <td>-87.635</td>\n",
       "      <td>(41.691784636, -87.635115968)</td>\n",
       "    </tr>\n",
       "  </tbody>\n",
       "</table>\n",
       "<p>5 rows × 23 columns</p>\n",
       "</div>"
      ],
      "text/plain": [
       "                     Unnamed: 0       ID Case Number                Date  \\\n",
       "Date                                                                       \n",
       "2004-01-01 00:01:00         879  4786321    HM399414 2004-01-01 00:01:00   \n",
       "2003-03-01 00:00:00        2544  4676906    HM278933 2003-03-01 00:00:00   \n",
       "2004-06-20 11:00:00        2919  4789749    HM402220 2004-06-20 11:00:00   \n",
       "2004-12-30 20:00:00        2927  4789765    HM402058 2004-12-30 20:00:00   \n",
       "2003-05-01 01:00:00        3302  4677901    HM275615 2003-05-01 01:00:00   \n",
       "\n",
       "                                   Block  IUCR                Primary Type  \\\n",
       "Date                                                                         \n",
       "2004-01-01 00:01:00    082XX S COLES AVE  0840                       THEFT   \n",
       "2003-03-01 00:00:00      004XX W 42ND PL  2825               OTHER OFFENSE   \n",
       "2004-06-20 11:00:00  025XX N KIMBALL AVE  1752  OFFENSE INVOLVING CHILDREN   \n",
       "2004-12-30 20:00:00   045XX W MONTANA ST  0840                       THEFT   \n",
       "2003-05-01 01:00:00   111XX S NORMAL AVE  0841                       THEFT   \n",
       "\n",
       "                                        Description Location Description  \\\n",
       "Date                                                                       \n",
       "2004-01-01 00:01:00   FINANCIAL ID THEFT: OVER $300            RESIDENCE   \n",
       "2003-03-01 00:00:00         HARASSMENT BY TELEPHONE            RESIDENCE   \n",
       "2004-06-20 11:00:00   AGG CRIM SEX ABUSE FAM MEMBER            RESIDENCE   \n",
       "2004-12-30 20:00:00   FINANCIAL ID THEFT: OVER $300                OTHER   \n",
       "2003-05-01 01:00:00  FINANCIAL ID THEFT:$300 &UNDER            RESIDENCE   \n",
       "\n",
       "                     Arrest  ...   Ward  Community Area  FBI Code  \\\n",
       "Date                         ...                                    \n",
       "2004-01-01 00:01:00   False  ...  7.000          46.000        06   \n",
       "2003-03-01 00:00:00   False  ... 11.000          61.000        26   \n",
       "2004-06-20 11:00:00   False  ... 35.000          22.000        20   \n",
       "2004-12-30 20:00:00   False  ... 31.000          20.000        06   \n",
       "2003-05-01 01:00:00   False  ... 34.000          49.000        06   \n",
       "\n",
       "                     X Coordinate  Y Coordinate     Year  \\\n",
       "Date                                                       \n",
       "2004-01-01 00:01:00           NaN           NaN 2004.000   \n",
       "2003-03-01 00:00:00   1173974.000   1876757.000 2003.000   \n",
       "2004-06-20 11:00:00           NaN           NaN 2004.000   \n",
       "2004-12-30 20:00:00           NaN           NaN 2004.000   \n",
       "2003-05-01 01:00:00   1174948.000   1831051.000 2003.000   \n",
       "\n",
       "                                 Updated On Latitude  Longitude  \\\n",
       "Date                                                              \n",
       "2004-01-01 00:01:00  08/17/2015 03:03:40 PM      NaN        NaN   \n",
       "2003-03-01 00:00:00  04/15/2016 08:55:02 AM   41.817    -87.637   \n",
       "2004-06-20 11:00:00  08/17/2015 03:03:40 PM      NaN        NaN   \n",
       "2004-12-30 20:00:00  08/17/2015 03:03:40 PM      NaN        NaN   \n",
       "2003-05-01 01:00:00  04/15/2016 08:55:02 AM   41.692    -87.635   \n",
       "\n",
       "                                          Location  \n",
       "Date                                                \n",
       "2004-01-01 00:01:00                            NaN  \n",
       "2003-03-01 00:00:00  (41.817229156, -87.637328162)  \n",
       "2004-06-20 11:00:00                            NaN  \n",
       "2004-12-30 20:00:00                            NaN  \n",
       "2003-05-01 01:00:00  (41.691784636, -87.635115968)  \n",
       "\n",
       "[5 rows x 23 columns]"
      ]
     },
     "execution_count": 9,
     "metadata": {},
     "output_type": "execute_result"
    }
   ],
   "source": [
    "dt.head()"
   ]
  },
  {
   "cell_type": "markdown",
   "id": "12de4d11",
   "metadata": {
    "papermill": {
     "duration": 0.014392,
     "end_time": "2022-06-03T23:22:40.261869",
     "exception": false,
     "start_time": "2022-06-03T23:22:40.247477",
     "status": "completed"
    },
    "tags": []
   },
   "source": [
    "## Fill Missing in Location"
   ]
  },
  {
   "cell_type": "code",
   "execution_count": 10,
   "id": "8f8b9c24",
   "metadata": {
    "execution": {
     "iopub.execute_input": "2022-06-03T23:22:40.292719Z",
     "iopub.status.busy": "2022-06-03T23:22:40.292307Z",
     "iopub.status.idle": "2022-06-03T23:22:41.472444Z",
     "shell.execute_reply": "2022-06-03T23:22:41.471477Z"
    },
    "papermill": {
     "duration": 1.198329,
     "end_time": "2022-06-03T23:22:41.474836",
     "exception": false,
     "start_time": "2022-06-03T23:22:40.276507",
     "status": "completed"
    },
    "scrolled": true,
    "tags": []
   },
   "outputs": [],
   "source": [
    "dt.dropna(subset=['District'] , inplace=True )"
   ]
  },
  {
   "cell_type": "code",
   "execution_count": 11,
   "id": "38f393a3",
   "metadata": {
    "execution": {
     "iopub.execute_input": "2022-06-03T23:22:41.506241Z",
     "iopub.status.busy": "2022-06-03T23:22:41.505859Z",
     "iopub.status.idle": "2022-06-03T23:22:44.923545Z",
     "shell.execute_reply": "2022-06-03T23:22:44.922658Z"
    },
    "papermill": {
     "duration": 3.436015,
     "end_time": "2022-06-03T23:22:44.925619",
     "exception": false,
     "start_time": "2022-06-03T23:22:41.489604",
     "status": "completed"
    },
    "tags": []
   },
   "outputs": [
    {
     "data": {
      "image/png": "[encoded data removed]",
      "text/plain": [
       "<Figure size 640x800 with 2 Axes>"
      ]
     },
     "metadata": {
      "needs_background": "light"
     },
     "output_type": "display_data"
    }
   ],
   "source": [
    "plt.figure(figsize=(8, 10), dpi=80)\n",
    "plt.title('Missing Value Status',fontweight='bold')\n",
    "ax = sns.heatmap(dt.isna().sum().to_frame(),annot=True,fmt='d',cmap='vlag')\n",
    "ax.set_xlabel('Amount Missing')\n",
    "plt.show()"
   ]
  },
  {
   "cell_type": "code",
   "execution_count": 12,
   "id": "56455af0",
   "metadata": {
    "execution": {
     "iopub.execute_input": "2022-06-03T23:22:44.959062Z",
     "iopub.status.busy": "2022-06-03T23:22:44.958306Z",
     "iopub.status.idle": "2022-06-03T23:22:49.240999Z",
     "shell.execute_reply": "2022-06-03T23:22:49.240227Z"
    },
    "papermill": {
     "duration": 4.301855,
     "end_time": "2022-06-03T23:22:49.243116",
     "exception": false,
     "start_time": "2022-06-03T23:22:44.941261",
     "status": "completed"
    },
    "tags": []
   },
   "outputs": [],
   "source": [
    "dt.dropna(inplace=True )"
   ]
  },
  {
   "cell_type": "code",
   "execution_count": 13,
   "id": "565b96a0",
   "metadata": {
    "execution": {
     "iopub.execute_input": "2022-06-03T23:22:49.277201Z",
     "iopub.status.busy": "2022-06-03T23:22:49.275370Z",
     "iopub.status.idle": "2022-06-03T23:22:56.004852Z",
     "shell.execute_reply": "2022-06-03T23:22:56.004033Z"
    },
    "papermill": {
     "duration": 6.748394,
     "end_time": "2022-06-03T23:22:56.006969",
     "exception": false,
     "start_time": "2022-06-03T23:22:49.258575",
     "status": "completed"
    },
    "tags": []
   },
   "outputs": [],
   "source": [
    "chicago_dt = dt.resample('M').size().reset_index()"
   ]
  },
  {
   "cell_type": "code",
   "execution_count": 14,
   "id": "1a5db2e8",
   "metadata": {
    "execution": {
     "iopub.execute_input": "2022-06-03T23:22:56.040179Z",
     "iopub.status.busy": "2022-06-03T23:22:56.039612Z",
     "iopub.status.idle": "2022-06-03T23:22:56.050831Z",
     "shell.execute_reply": "2022-06-03T23:22:56.049842Z"
    },
    "papermill": {
     "duration": 0.02989,
     "end_time": "2022-06-03T23:22:56.052909",
     "exception": false,
     "start_time": "2022-06-03T23:22:56.023019",
     "status": "completed"
    },
    "tags": []
   },
   "outputs": [
    {
     "data": {
      "text/html": [
       "<div>\n",
       "<style scoped>\n",
       "    .dataframe tbody tr th:only-of-type {\n",
       "        vertical-align: middle;\n",
       "    }\n",
       "\n",
       "    .dataframe tbody tr th {\n",
       "        vertical-align: top;\n",
       "    }\n",
       "\n",
       "    .dataframe thead th {\n",
       "        text-align: right;\n",
       "    }\n",
       "</style>\n",
       "<table border=\"1\" class=\"dataframe\">\n",
       "  <thead>\n",
       "    <tr style=\"text-align: right;\">\n",
       "      <th></th>\n",
       "      <th>Date</th>\n",
       "      <th>0</th>\n",
       "    </tr>\n",
       "  </thead>\n",
       "  <tbody>\n",
       "    <tr>\n",
       "      <th>0</th>\n",
       "      <td>2001-01-31</td>\n",
       "      <td>397</td>\n",
       "    </tr>\n",
       "    <tr>\n",
       "      <th>1</th>\n",
       "      <td>2001-02-28</td>\n",
       "      <td>177</td>\n",
       "    </tr>\n",
       "    <tr>\n",
       "      <th>2</th>\n",
       "      <td>2001-03-31</td>\n",
       "      <td>197</td>\n",
       "    </tr>\n",
       "    <tr>\n",
       "      <th>3</th>\n",
       "      <td>2001-04-30</td>\n",
       "      <td>237</td>\n",
       "    </tr>\n",
       "    <tr>\n",
       "      <th>4</th>\n",
       "      <td>2001-05-31</td>\n",
       "      <td>219</td>\n",
       "    </tr>\n",
       "    <tr>\n",
       "      <th>...</th>\n",
       "      <td>...</td>\n",
       "      <td>...</td>\n",
       "    </tr>\n",
       "    <tr>\n",
       "      <th>188</th>\n",
       "      <td>2016-09-30</td>\n",
       "      <td>22402</td>\n",
       "    </tr>\n",
       "    <tr>\n",
       "      <th>189</th>\n",
       "      <td>2016-10-31</td>\n",
       "      <td>22530</td>\n",
       "    </tr>\n",
       "    <tr>\n",
       "      <th>190</th>\n",
       "      <td>2016-11-30</td>\n",
       "      <td>20428</td>\n",
       "    </tr>\n",
       "    <tr>\n",
       "      <th>191</th>\n",
       "      <td>2016-12-31</td>\n",
       "      <td>19070</td>\n",
       "    </tr>\n",
       "    <tr>\n",
       "      <th>192</th>\n",
       "      <td>2017-01-31</td>\n",
       "      <td>30</td>\n",
       "    </tr>\n",
       "  </tbody>\n",
       "</table>\n",
       "<p>193 rows × 2 columns</p>\n",
       "</div>"
      ],
      "text/plain": [
       "          Date      0\n",
       "0   2001-01-31    397\n",
       "1   2001-02-28    177\n",
       "2   2001-03-31    197\n",
       "3   2001-04-30    237\n",
       "4   2001-05-31    219\n",
       "..         ...    ...\n",
       "188 2016-09-30  22402\n",
       "189 2016-10-31  22530\n",
       "190 2016-11-30  20428\n",
       "191 2016-12-31  19070\n",
       "192 2017-01-31     30\n",
       "\n",
       "[193 rows x 2 columns]"
      ]
     },
     "execution_count": 14,
     "metadata": {},
     "output_type": "execute_result"
    }
   ],
   "source": [
    "chicago_dt"
   ]
  },
  {
   "cell_type": "code",
   "execution_count": 15,
   "id": "9bb55d00",
   "metadata": {
    "execution": {
     "iopub.execute_input": "2022-06-03T23:22:56.086154Z",
     "iopub.status.busy": "2022-06-03T23:22:56.085498Z",
     "iopub.status.idle": "2022-06-03T23:22:56.092508Z",
     "shell.execute_reply": "2022-06-03T23:22:56.091850Z"
    },
    "papermill": {
     "duration": 0.02533,
     "end_time": "2022-06-03T23:22:56.094291",
     "exception": false,
     "start_time": "2022-06-03T23:22:56.068961",
     "status": "completed"
    },
    "tags": []
   },
   "outputs": [],
   "source": [
    "chicago_dt['Date'] = pd.to_datetime(chicago_dt['Date'])\n"
   ]
  },
  {
   "cell_type": "code",
   "execution_count": 16,
   "id": "bdd8b600",
   "metadata": {
    "execution": {
     "iopub.execute_input": "2022-06-03T23:22:56.128768Z",
     "iopub.status.busy": "2022-06-03T23:22:56.127869Z",
     "iopub.status.idle": "2022-06-03T23:22:56.140036Z",
     "shell.execute_reply": "2022-06-03T23:22:56.139225Z"
    },
    "papermill": {
     "duration": 0.031198,
     "end_time": "2022-06-03T23:22:56.141972",
     "exception": false,
     "start_time": "2022-06-03T23:22:56.110774",
     "status": "completed"
    },
    "tags": []
   },
   "outputs": [
    {
     "data": {
      "text/html": [
       "<div>\n",
       "<style scoped>\n",
       "    .dataframe tbody tr th:only-of-type {\n",
       "        vertical-align: middle;\n",
       "    }\n",
       "\n",
       "    .dataframe tbody tr th {\n",
       "        vertical-align: top;\n",
       "    }\n",
       "\n",
       "    .dataframe thead th {\n",
       "        text-align: right;\n",
       "    }\n",
       "</style>\n",
       "<table border=\"1\" class=\"dataframe\">\n",
       "  <thead>\n",
       "    <tr style=\"text-align: right;\">\n",
       "      <th></th>\n",
       "      <th>Date</th>\n",
       "      <th>0</th>\n",
       "    </tr>\n",
       "  </thead>\n",
       "  <tbody>\n",
       "    <tr>\n",
       "      <th>0</th>\n",
       "      <td>2001-01-31</td>\n",
       "      <td>397</td>\n",
       "    </tr>\n",
       "    <tr>\n",
       "      <th>1</th>\n",
       "      <td>2001-02-28</td>\n",
       "      <td>177</td>\n",
       "    </tr>\n",
       "    <tr>\n",
       "      <th>2</th>\n",
       "      <td>2001-03-31</td>\n",
       "      <td>197</td>\n",
       "    </tr>\n",
       "    <tr>\n",
       "      <th>3</th>\n",
       "      <td>2001-04-30</td>\n",
       "      <td>237</td>\n",
       "    </tr>\n",
       "    <tr>\n",
       "      <th>4</th>\n",
       "      <td>2001-05-31</td>\n",
       "      <td>219</td>\n",
       "    </tr>\n",
       "    <tr>\n",
       "      <th>...</th>\n",
       "      <td>...</td>\n",
       "      <td>...</td>\n",
       "    </tr>\n",
       "    <tr>\n",
       "      <th>188</th>\n",
       "      <td>2016-09-30</td>\n",
       "      <td>22402</td>\n",
       "    </tr>\n",
       "    <tr>\n",
       "      <th>189</th>\n",
       "      <td>2016-10-31</td>\n",
       "      <td>22530</td>\n",
       "    </tr>\n",
       "    <tr>\n",
       "      <th>190</th>\n",
       "      <td>2016-11-30</td>\n",
       "      <td>20428</td>\n",
       "    </tr>\n",
       "    <tr>\n",
       "      <th>191</th>\n",
       "      <td>2016-12-31</td>\n",
       "      <td>19070</td>\n",
       "    </tr>\n",
       "    <tr>\n",
       "      <th>192</th>\n",
       "      <td>2017-01-31</td>\n",
       "      <td>30</td>\n",
       "    </tr>\n",
       "  </tbody>\n",
       "</table>\n",
       "<p>193 rows × 2 columns</p>\n",
       "</div>"
      ],
      "text/plain": [
       "          Date      0\n",
       "0   2001-01-31    397\n",
       "1   2001-02-28    177\n",
       "2   2001-03-31    197\n",
       "3   2001-04-30    237\n",
       "4   2001-05-31    219\n",
       "..         ...    ...\n",
       "188 2016-09-30  22402\n",
       "189 2016-10-31  22530\n",
       "190 2016-11-30  20428\n",
       "191 2016-12-31  19070\n",
       "192 2017-01-31     30\n",
       "\n",
       "[193 rows x 2 columns]"
      ]
     },
     "execution_count": 16,
     "metadata": {},
     "output_type": "execute_result"
    }
   ],
   "source": [
    "chicago_dt"
   ]
  },
  {
   "cell_type": "code",
   "execution_count": 17,
   "id": "1bd9d2da",
   "metadata": {
    "execution": {
     "iopub.execute_input": "2022-06-03T23:22:56.175607Z",
     "iopub.status.busy": "2022-06-03T23:22:56.174731Z",
     "iopub.status.idle": "2022-06-03T23:22:56.180578Z",
     "shell.execute_reply": "2022-06-03T23:22:56.179592Z"
    },
    "papermill": {
     "duration": 0.024641,
     "end_time": "2022-06-03T23:22:56.182444",
     "exception": false,
     "start_time": "2022-06-03T23:22:56.157803",
     "status": "completed"
    },
    "tags": []
   },
   "outputs": [],
   "source": [
    "chicago_dt = chicago_dt.rename(columns={ 0:'Number of crimes'})"
   ]
  },
  {
   "cell_type": "code",
   "execution_count": 18,
   "id": "59ceea16",
   "metadata": {
    "execution": {
     "iopub.execute_input": "2022-06-03T23:22:56.215311Z",
     "iopub.status.busy": "2022-06-03T23:22:56.214890Z",
     "iopub.status.idle": "2022-06-03T23:22:56.227395Z",
     "shell.execute_reply": "2022-06-03T23:22:56.226457Z"
    },
    "papermill": {
     "duration": 0.031125,
     "end_time": "2022-06-03T23:22:56.229218",
     "exception": false,
     "start_time": "2022-06-03T23:22:56.198093",
     "status": "completed"
    },
    "tags": []
   },
   "outputs": [
    {
     "data": {
      "text/html": [
       "<div>\n",
       "<style scoped>\n",
       "    .dataframe tbody tr th:only-of-type {\n",
       "        vertical-align: middle;\n",
       "    }\n",
       "\n",
       "    .dataframe tbody tr th {\n",
       "        vertical-align: top;\n",
       "    }\n",
       "\n",
       "    .dataframe thead th {\n",
       "        text-align: right;\n",
       "    }\n",
       "</style>\n",
       "<table border=\"1\" class=\"dataframe\">\n",
       "  <thead>\n",
       "    <tr style=\"text-align: right;\">\n",
       "      <th></th>\n",
       "      <th>Date</th>\n",
       "      <th>Number of crimes</th>\n",
       "    </tr>\n",
       "  </thead>\n",
       "  <tbody>\n",
       "    <tr>\n",
       "      <th>0</th>\n",
       "      <td>2001-01-31</td>\n",
       "      <td>397</td>\n",
       "    </tr>\n",
       "    <tr>\n",
       "      <th>1</th>\n",
       "      <td>2001-02-28</td>\n",
       "      <td>177</td>\n",
       "    </tr>\n",
       "    <tr>\n",
       "      <th>2</th>\n",
       "      <td>2001-03-31</td>\n",
       "      <td>197</td>\n",
       "    </tr>\n",
       "    <tr>\n",
       "      <th>3</th>\n",
       "      <td>2001-04-30</td>\n",
       "      <td>237</td>\n",
       "    </tr>\n",
       "    <tr>\n",
       "      <th>4</th>\n",
       "      <td>2001-05-31</td>\n",
       "      <td>219</td>\n",
       "    </tr>\n",
       "    <tr>\n",
       "      <th>...</th>\n",
       "      <td>...</td>\n",
       "      <td>...</td>\n",
       "    </tr>\n",
       "    <tr>\n",
       "      <th>188</th>\n",
       "      <td>2016-09-30</td>\n",
       "      <td>22402</td>\n",
       "    </tr>\n",
       "    <tr>\n",
       "      <th>189</th>\n",
       "      <td>2016-10-31</td>\n",
       "      <td>22530</td>\n",
       "    </tr>\n",
       "    <tr>\n",
       "      <th>190</th>\n",
       "      <td>2016-11-30</td>\n",
       "      <td>20428</td>\n",
       "    </tr>\n",
       "    <tr>\n",
       "      <th>191</th>\n",
       "      <td>2016-12-31</td>\n",
       "      <td>19070</td>\n",
       "    </tr>\n",
       "    <tr>\n",
       "      <th>192</th>\n",
       "      <td>2017-01-31</td>\n",
       "      <td>30</td>\n",
       "    </tr>\n",
       "  </tbody>\n",
       "</table>\n",
       "<p>193 rows × 2 columns</p>\n",
       "</div>"
      ],
      "text/plain": [
       "          Date  Number of crimes\n",
       "0   2001-01-31               397\n",
       "1   2001-02-28               177\n",
       "2   2001-03-31               197\n",
       "3   2001-04-30               237\n",
       "4   2001-05-31               219\n",
       "..         ...               ...\n",
       "188 2016-09-30             22402\n",
       "189 2016-10-31             22530\n",
       "190 2016-11-30             20428\n",
       "191 2016-12-31             19070\n",
       "192 2017-01-31                30\n",
       "\n",
       "[193 rows x 2 columns]"
      ]
     },
     "execution_count": 18,
     "metadata": {},
     "output_type": "execute_result"
    }
   ],
   "source": [
    "chicago_dt"
   ]
  },
  {
   "cell_type": "code",
   "execution_count": 19,
   "id": "b5527fe7",
   "metadata": {
    "execution": {
     "iopub.execute_input": "2022-06-03T23:22:56.263077Z",
     "iopub.status.busy": "2022-06-03T23:22:56.262206Z",
     "iopub.status.idle": "2022-06-03T23:22:56.267736Z",
     "shell.execute_reply": "2022-06-03T23:22:56.266759Z"
    },
    "papermill": {
     "duration": 0.024451,
     "end_time": "2022-06-03T23:22:56.269769",
     "exception": false,
     "start_time": "2022-06-03T23:22:56.245318",
     "status": "completed"
    },
    "tags": []
   },
   "outputs": [],
   "source": [
    "chicago_dt.set_index('Date', inplace=True)"
   ]
  },
  {
   "cell_type": "code",
   "execution_count": 20,
   "id": "bdb14b36",
   "metadata": {
    "execution": {
     "iopub.execute_input": "2022-06-03T23:22:56.303347Z",
     "iopub.status.busy": "2022-06-03T23:22:56.302330Z",
     "iopub.status.idle": "2022-06-03T23:22:56.324233Z",
     "shell.execute_reply": "2022-06-03T23:22:56.323011Z"
    },
    "papermill": {
     "duration": 0.041143,
     "end_time": "2022-06-03T23:22:56.326722",
     "exception": false,
     "start_time": "2022-06-03T23:22:56.285579",
     "status": "completed"
    },
    "tags": []
   },
   "outputs": [
    {
     "name": "stdout",
     "output_type": "stream",
     "text": [
      "<class 'pandas.core.frame.DataFrame'>\n",
      "DatetimeIndex: 193 entries, 2001-01-31 to 2017-01-31\n",
      "Data columns (total 1 columns):\n",
      " #   Column            Non-Null Count  Dtype\n",
      "---  ------            --------------  -----\n",
      " 0   Number of crimes  193 non-null    int64\n",
      "dtypes: int64(1)\n",
      "memory usage: 3.0 KB\n"
     ]
    },
    {
     "data": {
      "text/html": [
       "<div>\n",
       "<style scoped>\n",
       "    .dataframe tbody tr th:only-of-type {\n",
       "        vertical-align: middle;\n",
       "    }\n",
       "\n",
       "    .dataframe tbody tr th {\n",
       "        vertical-align: top;\n",
       "    }\n",
       "\n",
       "    .dataframe thead th {\n",
       "        text-align: right;\n",
       "    }\n",
       "</style>\n",
       "<table border=\"1\" class=\"dataframe\">\n",
       "  <thead>\n",
       "    <tr style=\"text-align: right;\">\n",
       "      <th></th>\n",
       "      <th>Number of crimes</th>\n",
       "    </tr>\n",
       "    <tr>\n",
       "      <th>Date</th>\n",
       "      <th></th>\n",
       "    </tr>\n",
       "  </thead>\n",
       "  <tbody>\n",
       "    <tr>\n",
       "      <th>2001-01-31</th>\n",
       "      <td>397</td>\n",
       "    </tr>\n",
       "    <tr>\n",
       "      <th>2001-02-28</th>\n",
       "      <td>177</td>\n",
       "    </tr>\n",
       "    <tr>\n",
       "      <th>2001-03-31</th>\n",
       "      <td>197</td>\n",
       "    </tr>\n",
       "    <tr>\n",
       "      <th>2001-04-30</th>\n",
       "      <td>237</td>\n",
       "    </tr>\n",
       "    <tr>\n",
       "      <th>2001-05-31</th>\n",
       "      <td>219</td>\n",
       "    </tr>\n",
       "    <tr>\n",
       "      <th>...</th>\n",
       "      <td>...</td>\n",
       "    </tr>\n",
       "    <tr>\n",
       "      <th>2016-09-30</th>\n",
       "      <td>22402</td>\n",
       "    </tr>\n",
       "    <tr>\n",
       "      <th>2016-10-31</th>\n",
       "      <td>22530</td>\n",
       "    </tr>\n",
       "    <tr>\n",
       "      <th>2016-11-30</th>\n",
       "      <td>20428</td>\n",
       "    </tr>\n",
       "    <tr>\n",
       "      <th>2016-12-31</th>\n",
       "      <td>19070</td>\n",
       "    </tr>\n",
       "    <tr>\n",
       "      <th>2017-01-31</th>\n",
       "      <td>30</td>\n",
       "    </tr>\n",
       "  </tbody>\n",
       "</table>\n",
       "<p>193 rows × 1 columns</p>\n",
       "</div>"
      ],
      "text/plain": [
       "            Number of crimes\n",
       "Date                        \n",
       "2001-01-31               397\n",
       "2001-02-28               177\n",
       "2001-03-31               197\n",
       "2001-04-30               237\n",
       "2001-05-31               219\n",
       "...                      ...\n",
       "2016-09-30             22402\n",
       "2016-10-31             22530\n",
       "2016-11-30             20428\n",
       "2016-12-31             19070\n",
       "2017-01-31                30\n",
       "\n",
       "[193 rows x 1 columns]"
      ]
     },
     "execution_count": 20,
     "metadata": {},
     "output_type": "execute_result"
    }
   ],
   "source": [
    "chicago_dt.info()\n",
    "chicago_dt"
   ]
  },
  {
   "cell_type": "code",
   "execution_count": 21,
   "id": "fa1e44b7",
   "metadata": {
    "execution": {
     "iopub.execute_input": "2022-06-03T23:22:56.361751Z",
     "iopub.status.busy": "2022-06-03T23:22:56.361037Z",
     "iopub.status.idle": "2022-06-03T23:22:56.366273Z",
     "shell.execute_reply": "2022-06-03T23:22:56.365383Z"
    },
    "papermill": {
     "duration": 0.024344,
     "end_time": "2022-06-03T23:22:56.368141",
     "exception": false,
     "start_time": "2022-06-03T23:22:56.343797",
     "status": "completed"
    },
    "tags": []
   },
   "outputs": [],
   "source": [
    "chicago_dt['Number of crimes'] = chicago_dt['Number of crimes'].apply(int)"
   ]
  },
  {
   "cell_type": "code",
   "execution_count": 22,
   "id": "940fb8a1",
   "metadata": {
    "execution": {
     "iopub.execute_input": "2022-06-03T23:22:56.402091Z",
     "iopub.status.busy": "2022-06-03T23:22:56.401459Z",
     "iopub.status.idle": "2022-06-03T23:22:56.412161Z",
     "shell.execute_reply": "2022-06-03T23:22:56.411315Z"
    },
    "papermill": {
     "duration": 0.02997,
     "end_time": "2022-06-03T23:22:56.414085",
     "exception": false,
     "start_time": "2022-06-03T23:22:56.384115",
     "status": "completed"
    },
    "tags": []
   },
   "outputs": [
    {
     "data": {
      "text/html": [
       "<div>\n",
       "<style scoped>\n",
       "    .dataframe tbody tr th:only-of-type {\n",
       "        vertical-align: middle;\n",
       "    }\n",
       "\n",
       "    .dataframe tbody tr th {\n",
       "        vertical-align: top;\n",
       "    }\n",
       "\n",
       "    .dataframe thead th {\n",
       "        text-align: right;\n",
       "    }\n",
       "</style>\n",
       "<table border=\"1\" class=\"dataframe\">\n",
       "  <thead>\n",
       "    <tr style=\"text-align: right;\">\n",
       "      <th></th>\n",
       "      <th>Number of crimes</th>\n",
       "    </tr>\n",
       "    <tr>\n",
       "      <th>Date</th>\n",
       "      <th></th>\n",
       "    </tr>\n",
       "  </thead>\n",
       "  <tbody>\n",
       "    <tr>\n",
       "      <th>2001-01-31</th>\n",
       "      <td>397</td>\n",
       "    </tr>\n",
       "    <tr>\n",
       "      <th>2001-02-28</th>\n",
       "      <td>177</td>\n",
       "    </tr>\n",
       "    <tr>\n",
       "      <th>2001-03-31</th>\n",
       "      <td>197</td>\n",
       "    </tr>\n",
       "    <tr>\n",
       "      <th>2001-04-30</th>\n",
       "      <td>237</td>\n",
       "    </tr>\n",
       "    <tr>\n",
       "      <th>2001-05-31</th>\n",
       "      <td>219</td>\n",
       "    </tr>\n",
       "    <tr>\n",
       "      <th>...</th>\n",
       "      <td>...</td>\n",
       "    </tr>\n",
       "    <tr>\n",
       "      <th>2016-09-30</th>\n",
       "      <td>22402</td>\n",
       "    </tr>\n",
       "    <tr>\n",
       "      <th>2016-10-31</th>\n",
       "      <td>22530</td>\n",
       "    </tr>\n",
       "    <tr>\n",
       "      <th>2016-11-30</th>\n",
       "      <td>20428</td>\n",
       "    </tr>\n",
       "    <tr>\n",
       "      <th>2016-12-31</th>\n",
       "      <td>19070</td>\n",
       "    </tr>\n",
       "    <tr>\n",
       "      <th>2017-01-31</th>\n",
       "      <td>30</td>\n",
       "    </tr>\n",
       "  </tbody>\n",
       "</table>\n",
       "<p>192 rows × 1 columns</p>\n",
       "</div>"
      ],
      "text/plain": [
       "            Number of crimes\n",
       "Date                        \n",
       "2001-01-31               397\n",
       "2001-02-28               177\n",
       "2001-03-31               197\n",
       "2001-04-30               237\n",
       "2001-05-31               219\n",
       "...                      ...\n",
       "2016-09-30             22402\n",
       "2016-10-31             22530\n",
       "2016-11-30             20428\n",
       "2016-12-31             19070\n",
       "2017-01-31                30\n",
       "\n",
       "[192 rows x 1 columns]"
      ]
     },
     "execution_count": 22,
     "metadata": {},
     "output_type": "execute_result"
    }
   ],
   "source": [
    "chicago_dt.drop_duplicates()"
   ]
  },
  {
   "cell_type": "markdown",
   "id": "37001a45",
   "metadata": {
    "papermill": {
     "duration": 0.016132,
     "end_time": "2022-06-03T23:22:56.447100",
     "exception": false,
     "start_time": "2022-06-03T23:22:56.430968",
     "status": "completed"
    },
    "tags": []
   },
   "source": [
    "## Steps of Time series analysis"
   ]
  },
  {
   "cell_type": "markdown",
   "id": "6a84dc41",
   "metadata": {
    "papermill": {
     "duration": 0.016487,
     "end_time": "2022-06-03T23:22:56.480757",
     "exception": false,
     "start_time": "2022-06-03T23:22:56.464270",
     "status": "completed"
    },
    "tags": []
   },
   "source": [
    "### 1- Time series plot"
   ]
  },
  {
   "cell_type": "code",
   "execution_count": 23,
   "id": "1700abc6",
   "metadata": {
    "execution": {
     "iopub.execute_input": "2022-06-03T23:22:56.515941Z",
     "iopub.status.busy": "2022-06-03T23:22:56.515278Z",
     "iopub.status.idle": "2022-06-03T23:22:56.803015Z",
     "shell.execute_reply": "2022-06-03T23:22:56.801775Z"
    },
    "papermill": {
     "duration": 0.308029,
     "end_time": "2022-06-03T23:22:56.805381",
     "exception": false,
     "start_time": "2022-06-03T23:22:56.497352",
     "status": "completed"
    },
    "tags": []
   },
   "outputs": [
    {
     "data": {
      "image/png": "[encoded data removed]",
      "text/plain": [
       "<Figure size 1368x576 with 1 Axes>"
      ]
     },
     "metadata": {
      "needs_background": "light"
     },
     "output_type": "display_data"
    }
   ],
   "source": [
    "#Time series plot \n",
    "chicago_dt.plot(figsize=(19,8) , ylabel='Number of crimes')\n",
    "plt.show()"
   ]
  },
  {
   "cell_type": "markdown",
   "id": "61d37028",
   "metadata": {
    "papermill": {
     "duration": 0.016859,
     "end_time": "2022-06-03T23:22:56.839597",
     "exception": false,
     "start_time": "2022-06-03T23:22:56.822738",
     "status": "completed"
    },
    "tags": []
   },
   "source": [
    "#### the series shows the series is not stationary"
   ]
  },
  {
   "cell_type": "markdown",
   "id": "57c1eef1",
   "metadata": {
    "papermill": {
     "duration": 0.017051,
     "end_time": "2022-06-03T23:22:56.874367",
     "exception": false,
     "start_time": "2022-06-03T23:22:56.857316",
     "status": "completed"
    },
    "tags": []
   },
   "source": [
    "### 2- Trends, Seasonl, Residual components plot"
   ]
  },
  {
   "cell_type": "code",
   "execution_count": 24,
   "id": "7e0972ae",
   "metadata": {
    "execution": {
     "iopub.execute_input": "2022-06-03T23:22:56.910768Z",
     "iopub.status.busy": "2022-06-03T23:22:56.910305Z",
     "iopub.status.idle": "2022-06-03T23:22:56.923120Z",
     "shell.execute_reply": "2022-06-03T23:22:56.922421Z"
    },
    "papermill": {
     "duration": 0.033444,
     "end_time": "2022-06-03T23:22:56.924994",
     "exception": false,
     "start_time": "2022-06-03T23:22:56.891550",
     "status": "completed"
    },
    "tags": []
   },
   "outputs": [],
   "source": [
    "from statsmodels.tsa.seasonal import seasonal_decompose\n",
    "decomposition_mul = seasonal_decompose(chicago_dt,model='multiplicative')\n",
    "decomposition_add = seasonal_decompose(chicago_dt,model='additive')\n",
    "#Decomposition of time series using multiplicative model \n",
    "trend_mul = decomposition_mul.trend\n",
    "seasonal_mul = decomposition_mul.seasonal\n",
    "residual_mul = decomposition_mul.resid\n",
    "#Decomposition of time series using additive model \n",
    "trend_add = decomposition_add.trend\n",
    "seasonal_add = decomposition_add.seasonal\n",
    "residual_add = decomposition_add.resid"
   ]
  },
  {
   "cell_type": "code",
   "execution_count": 25,
   "id": "44cb0b89",
   "metadata": {
    "execution": {
     "iopub.execute_input": "2022-06-03T23:22:56.961477Z",
     "iopub.status.busy": "2022-06-03T23:22:56.960810Z",
     "iopub.status.idle": "2022-06-03T23:22:57.596051Z",
     "shell.execute_reply": "2022-06-03T23:22:57.595004Z"
    },
    "papermill": {
     "duration": 0.656169,
     "end_time": "2022-06-03T23:22:57.598343",
     "exception": false,
     "start_time": "2022-06-03T23:22:56.942174",
     "status": "completed"
    },
    "tags": []
   },
   "outputs": [
    {
     "data": {
      "image/png": "[encoded data removed]",
      "text/plain": [
       "<Figure size 1080x720 with 4 Axes>"
      ]
     },
     "metadata": {
      "needs_background": "light"
     },
     "output_type": "display_data"
    }
   ],
   "source": [
    "fig, axes = plt.subplots(4, 1)\n",
    "fig.set_figheight(10)\n",
    "fig.set_figwidth(15)\n",
    "\n",
    "axes[0].plot(chicago_dt, label='Original')\n",
    "axes[0].legend()\n",
    "\n",
    "axes[1].plot(trend_mul, label='Trend',color=\"orange\")\n",
    "axes[1].legend()\n",
    "\n",
    "axes[2].plot(seasonal_mul, label='Seasonality',color='r')\n",
    "axes[2].legend()\n",
    "\n",
    "axes[3].plot(residual_mul, label='Residuals',color='g')\n",
    "axes[3].legend()\n",
    "\n",
    "plt.show()"
   ]
  },
  {
   "cell_type": "markdown",
   "id": "335dc5da",
   "metadata": {
    "papermill": {
     "duration": 0.019716,
     "end_time": "2022-06-03T23:22:57.636936",
     "exception": false,
     "start_time": "2022-06-03T23:22:57.617220",
     "status": "completed"
    },
    "tags": []
   },
   "source": [
    "### 3- Test of staionarity"
   ]
  },
  {
   "cell_type": "code",
   "execution_count": 26,
   "id": "b4cc7489",
   "metadata": {
    "execution": {
     "iopub.execute_input": "2022-06-03T23:22:57.678514Z",
     "iopub.status.busy": "2022-06-03T23:22:57.677618Z",
     "iopub.status.idle": "2022-06-03T23:22:57.685631Z",
     "shell.execute_reply": "2022-06-03T23:22:57.684896Z"
    },
    "papermill": {
     "duration": 0.030298,
     "end_time": "2022-06-03T23:22:57.687645",
     "exception": false,
     "start_time": "2022-06-03T23:22:57.657347",
     "status": "completed"
    },
    "tags": []
   },
   "outputs": [],
   "source": [
    "from statsmodels.tsa.stattools import adfuller\n",
    "\n",
    "def test_stationarity(timeseries):\n",
    "    \n",
    "    #Determining rolling statistics\n",
    "    rolmean = timeseries.rolling(window = 12).mean()\n",
    "    rolstd = timeseries.rolling(window = 12).std()\n",
    "    \n",
    "    #plotting rolling statistics\n",
    "    orig = plt.plot(timeseries, color = 'blue', label = 'Original')\n",
    "    mean = plt.plot(rolmean, color = 'red', label = 'Rolling Mean')\n",
    "    st = plt.plot(rolstd, color = 'black', label = 'Rolling Std')\n",
    "    plt.legend(loc = 'best' ,fontsize=12)\n",
    "    plt.title('Rolling  Mean & Standard Deviation')\n",
    "\n",
    "    plt.show()\n",
    "    \n",
    "    #Dickey_Fuller test:\n",
    "    print('Results of Dickey-Fuller Test:')\n",
    "    dftest = adfuller(timeseries)\n",
    "    dfoutput = pd.Series(dftest[0:4], index = ['Test Statistic', 'p-value', '#Lags Used', 'Number of Observations Used'])\n",
    "    for key, value in dftest[4].items():\n",
    "        dfoutput['Critical Value (%s)' %key] = value\n",
    "    print(dfoutput)"
   ]
  },
  {
   "cell_type": "code",
   "execution_count": 27,
   "id": "07de7069",
   "metadata": {
    "execution": {
     "iopub.execute_input": "2022-06-03T23:22:57.727726Z",
     "iopub.status.busy": "2022-06-03T23:22:57.727337Z",
     "iopub.status.idle": "2022-06-03T23:22:58.019171Z",
     "shell.execute_reply": "2022-06-03T23:22:58.017739Z"
    },
    "papermill": {
     "duration": 0.315532,
     "end_time": "2022-06-03T23:22:58.022145",
     "exception": false,
     "start_time": "2022-06-03T23:22:57.706613",
     "status": "completed"
    },
    "tags": []
   },
   "outputs": [
    {
     "data": {
      "image/png": "[encoded data removed]",
      "text/plain": [
       "<Figure size 1080x432 with 1 Axes>"
      ]
     },
     "metadata": {
      "needs_background": "light"
     },
     "output_type": "display_data"
    },
    {
     "name": "stdout",
     "output_type": "stream",
     "text": [
      "Results of Dickey-Fuller Test:\n",
      "Test Statistic                 -3.974\n",
      "p-value                         0.002\n",
      "#Lags Used                     14.000\n",
      "Number of Observations Used   178.000\n",
      "Critical Value (1%)            -3.468\n",
      "Critical Value (5%)            -2.878\n",
      "Critical Value (10%)           -2.576\n",
      "dtype: float64\n"
     ]
    }
   ],
   "source": [
    "test_stationarity(chicago_dt['Number of crimes'])\n",
    "plt.rcParams['figure.figsize'] = [15, 15]"
   ]
  },
  {
   "cell_type": "markdown",
   "id": "a3665614",
   "metadata": {
    "papermill": {
     "duration": 0.020177,
     "end_time": "2022-06-03T23:22:58.062758",
     "exception": false,
     "start_time": "2022-06-03T23:22:58.042581",
     "status": "completed"
    },
    "tags": []
   },
   "source": [
    "#### p-value is bigger than 0.05 thats mean time series is not stationary"
   ]
  },
  {
   "cell_type": "markdown",
   "id": "8786de55",
   "metadata": {
    "papermill": {
     "duration": 0.01963,
     "end_time": "2022-06-03T23:22:58.102429",
     "exception": false,
     "start_time": "2022-06-03T23:22:58.082799",
     "status": "completed"
    },
    "tags": []
   },
   "source": [
    "### 4-  Make the Series Stationary (Eliminate trend and seasonality)"
   ]
  },
  {
   "cell_type": "code",
   "execution_count": 28,
   "id": "4dcf6897",
   "metadata": {
    "execution": {
     "iopub.execute_input": "2022-06-03T23:22:58.145790Z",
     "iopub.status.busy": "2022-06-03T23:22:58.144839Z",
     "iopub.status.idle": "2022-06-03T23:22:58.452372Z",
     "shell.execute_reply": "2022-06-03T23:22:58.451099Z"
    },
    "papermill": {
     "duration": 0.331632,
     "end_time": "2022-06-03T23:22:58.454737",
     "exception": false,
     "start_time": "2022-06-03T23:22:58.123105",
     "status": "completed"
    },
    "tags": []
   },
   "outputs": [
    {
     "data": {
      "image/png": "[encoded data removed]",
      "text/plain": [
       "<Figure size 1080x1080 with 1 Axes>"
      ]
     },
     "metadata": {
      "needs_background": "light"
     },
     "output_type": "display_data"
    },
    {
     "name": "stdout",
     "output_type": "stream",
     "text": [
      "Results of Dickey-Fuller Test:\n",
      "Test Statistic                 -2.800\n",
      "p-value                         0.058\n",
      "#Lags Used                     13.000\n",
      "Number of Observations Used   178.000\n",
      "Critical Value (1%)            -3.468\n",
      "Critical Value (5%)            -2.878\n",
      "Critical Value (10%)           -2.576\n",
      "dtype: float64\n"
     ]
    }
   ],
   "source": [
    "chicago_dt1 = chicago_dt.diff(periods=1)\n",
    "chicago_dt1.dropna(inplace=True)\n",
    "test_stationarity(chicago_dt1)"
   ]
  },
  {
   "cell_type": "markdown",
   "id": "72bfed43",
   "metadata": {
    "papermill": {
     "duration": 0.022429,
     "end_time": "2022-06-03T23:22:58.499690",
     "exception": false,
     "start_time": "2022-06-03T23:22:58.477261",
     "status": "completed"
    },
    "tags": []
   },
   "source": [
    "### Double Exponential (Holt)"
   ]
  },
  {
   "cell_type": "code",
   "execution_count": 29,
   "id": "139b536f",
   "metadata": {
    "execution": {
     "iopub.execute_input": "2022-06-03T23:22:58.546164Z",
     "iopub.status.busy": "2022-06-03T23:22:58.545427Z",
     "iopub.status.idle": "2022-06-03T23:22:58.551121Z",
     "shell.execute_reply": "2022-06-03T23:22:58.550409Z"
    },
    "papermill": {
     "duration": 0.030755,
     "end_time": "2022-06-03T23:22:58.553071",
     "exception": false,
     "start_time": "2022-06-03T23:22:58.522316",
     "status": "completed"
    },
    "tags": []
   },
   "outputs": [],
   "source": [
    "train=chicago_dt[0:int(len(chicago_dt)*0.80)] \n",
    "test=chicago_dt[int(len(chicago_dt)*0.80):]\n",
    "\n",
    "#Split the data for 21 month test\n",
    "\n",
    "train_log = np.log10(train['Number of crimes'])"
   ]
  },
  {
   "cell_type": "code",
   "execution_count": 30,
   "id": "82720d6c",
   "metadata": {
    "execution": {
     "iopub.execute_input": "2022-06-03T23:22:58.597824Z",
     "iopub.status.busy": "2022-06-03T23:22:58.597223Z",
     "iopub.status.idle": "2022-06-03T23:22:58.601558Z",
     "shell.execute_reply": "2022-06-03T23:22:58.600858Z"
    },
    "papermill": {
     "duration": 0.028883,
     "end_time": "2022-06-03T23:22:58.603414",
     "exception": false,
     "start_time": "2022-06-03T23:22:58.574531",
     "status": "completed"
    },
    "tags": []
   },
   "outputs": [],
   "source": [
    "def mean_absolute_percentage_error(y_true, y_pred): \n",
    "    y_true, y_pred = np.array(y_true), np.array(y_pred)\n",
    "    return np.mean(np.abs((y_true - y_pred) / y_true)) * 100"
   ]
  },
  {
   "cell_type": "code",
   "execution_count": 31,
   "id": "723d207e",
   "metadata": {
    "execution": {
     "iopub.execute_input": "2022-06-03T23:22:58.648525Z",
     "iopub.status.busy": "2022-06-03T23:22:58.647867Z",
     "iopub.status.idle": "2022-06-03T23:22:58.745453Z",
     "shell.execute_reply": "2022-06-03T23:22:58.744382Z"
    },
    "papermill": {
     "duration": 0.123068,
     "end_time": "2022-06-03T23:22:58.748000",
     "exception": false,
     "start_time": "2022-06-03T23:22:58.624932",
     "status": "completed"
    },
    "tags": []
   },
   "outputs": [],
   "source": [
    "model_chicago = ExponentialSmoothing(np.asarray(train['Number of crimes']),seasonal_periods=24, trend='add',seasonal='mul').fit(optimized=True)"
   ]
  },
  {
   "cell_type": "code",
   "execution_count": 32,
   "id": "0c165287",
   "metadata": {
    "execution": {
     "iopub.execute_input": "2022-06-03T23:22:58.793750Z",
     "iopub.status.busy": "2022-06-03T23:22:58.792759Z",
     "iopub.status.idle": "2022-06-03T23:22:58.797069Z",
     "shell.execute_reply": "2022-06-03T23:22:58.796370Z"
    },
    "papermill": {
     "duration": 0.029206,
     "end_time": "2022-06-03T23:22:58.798971",
     "exception": false,
     "start_time": "2022-06-03T23:22:58.769765",
     "status": "completed"
    },
    "tags": []
   },
   "outputs": [],
   "source": [
    "chicago_Holt = test.copy()"
   ]
  },
  {
   "cell_type": "code",
   "execution_count": 33,
   "id": "c46ca3ef",
   "metadata": {
    "execution": {
     "iopub.execute_input": "2022-06-03T23:22:58.843827Z",
     "iopub.status.busy": "2022-06-03T23:22:58.843053Z",
     "iopub.status.idle": "2022-06-03T23:22:58.856000Z",
     "shell.execute_reply": "2022-06-03T23:22:58.855327Z"
    },
    "papermill": {
     "duration": 0.037708,
     "end_time": "2022-06-03T23:22:58.857997",
     "exception": false,
     "start_time": "2022-06-03T23:22:58.820289",
     "status": "completed"
    },
    "tags": []
   },
   "outputs": [],
   "source": [
    "chicago_Holt['Holt']=model_chicago.forecast(len(test['Number of crimes']))"
   ]
  },
  {
   "cell_type": "code",
   "execution_count": 34,
   "id": "85d4f5ba",
   "metadata": {
    "execution": {
     "iopub.execute_input": "2022-06-03T23:22:58.902286Z",
     "iopub.status.busy": "2022-06-03T23:22:58.901884Z",
     "iopub.status.idle": "2022-06-03T23:22:58.908575Z",
     "shell.execute_reply": "2022-06-03T23:22:58.907718Z"
    },
    "papermill": {
     "duration": 0.031243,
     "end_time": "2022-06-03T23:22:58.910619",
     "exception": false,
     "start_time": "2022-06-03T23:22:58.879376",
     "status": "completed"
    },
    "tags": []
   },
   "outputs": [
    {
     "data": {
      "text/plain": [
       "233.12233403486437"
      ]
     },
     "execution_count": 34,
     "metadata": {},
     "output_type": "execute_result"
    }
   ],
   "source": [
    "mean_absolute_percentage_error(test['Number of crimes'],chicago_Holt['Holt'])"
   ]
  },
  {
   "cell_type": "code",
   "execution_count": 35,
   "id": "b4b7bf78",
   "metadata": {
    "execution": {
     "iopub.execute_input": "2022-06-03T23:22:58.957666Z",
     "iopub.status.busy": "2022-06-03T23:22:58.957265Z",
     "iopub.status.idle": "2022-06-03T23:22:58.963593Z",
     "shell.execute_reply": "2022-06-03T23:22:58.962859Z"
    },
    "papermill": {
     "duration": 0.032219,
     "end_time": "2022-06-03T23:22:58.965564",
     "exception": false,
     "start_time": "2022-06-03T23:22:58.933345",
     "status": "completed"
    },
    "tags": []
   },
   "outputs": [
    {
     "data": {
      "text/plain": [
       "{'smoothing_level': 0.995,\n",
       " 'smoothing_trend': 0.21321428571428575,\n",
       " 'smoothing_seasonal': 0.0050000000000000044,\n",
       " 'damping_trend': nan,\n",
       " 'initial_level': 13287.3361111111,\n",
       " 'initial_trend': 1664.0055555555573,\n",
       " 'initial_seasons': array([0.93573237, 0.83306442, 1.00298223, 1.00424746, 1.0746364 ,\n",
       "        1.05250293, 1.11140574, 1.10882837, 1.0577304 , 1.07474564,\n",
       "        0.97131408, 0.8898469 , 0.71797968, 0.59779254, 0.55712305,\n",
       "        0.68260623, 1.2301252 , 1.2509191 , 1.30507388, 1.25399813,\n",
       "        1.16316912, 1.16014457, 1.01042102, 0.95361054]),\n",
       " 'use_boxcox': False,\n",
       " 'lamda': None,\n",
       " 'remove_bias': False}"
      ]
     },
     "execution_count": 35,
     "metadata": {},
     "output_type": "execute_result"
    }
   ],
   "source": [
    "model_chicago.params"
   ]
  },
  {
   "cell_type": "code",
   "execution_count": 36,
   "id": "15341c15",
   "metadata": {
    "execution": {
     "iopub.execute_input": "2022-06-03T23:22:59.012390Z",
     "iopub.status.busy": "2022-06-03T23:22:59.011781Z",
     "iopub.status.idle": "2022-06-03T23:22:59.486650Z",
     "shell.execute_reply": "2022-06-03T23:22:59.485632Z"
    },
    "papermill": {
     "duration": 0.500999,
     "end_time": "2022-06-03T23:22:59.489064",
     "exception": false,
     "start_time": "2022-06-03T23:22:58.988065",
     "status": "completed"
    },
    "tags": []
   },
   "outputs": [
    {
     "data": {
      "text/plain": [
       "<matplotlib.legend.Legend at 0x7fc09c210f90>"
      ]
     },
     "execution_count": 36,
     "metadata": {},
     "output_type": "execute_result"
    },
    {
     "data": {
      "image/png": "[encoded data removed]",
      "text/plain": [
       "<Figure size 1152x576 with 1 Axes>"
      ]
     },
     "metadata": {
      "needs_background": "light"
     },
     "output_type": "display_data"
    }
   ],
   "source": [
    "chicago_Holt['Pax'] = model_chicago.forecast(len(test['Number of crimes']))\n",
    "plt.figure(figsize=(16,8))\n",
    "plt.plot(train['Number of crimes'], label='Train')\n",
    "plt.plot(test['Number of crimes'], label='Test')\n",
    "plt.plot(chicago_Holt['Holt'], label='Holt Trend Add Seasonal Mul')\n",
    "plt.legend(loc=0)"
   ]
  },
  {
   "cell_type": "code",
   "execution_count": 37,
   "id": "d3e1e1f4",
   "metadata": {
    "execution": {
     "iopub.execute_input": "2022-06-03T23:22:59.536121Z",
     "iopub.status.busy": "2022-06-03T23:22:59.535733Z",
     "iopub.status.idle": "2022-06-03T23:22:59.888199Z",
     "shell.execute_reply": "2022-06-03T23:22:59.887255Z"
    },
    "papermill": {
     "duration": 0.378616,
     "end_time": "2022-06-03T23:22:59.890265",
     "exception": false,
     "start_time": "2022-06-03T23:22:59.511649",
     "status": "completed"
    },
    "tags": []
   },
   "outputs": [
    {
     "data": {
      "image/png": "[encoded data removed]",
      "text/plain": [
       "<Figure size 864x288 with 2 Axes>"
      ]
     },
     "metadata": {
      "needs_background": "light"
     },
     "output_type": "display_data"
    }
   ],
   "source": [
    "fig, axes = plt.subplots(1, 2)\n",
    "fig.set_figwidth(12)\n",
    "fig.set_figheight(4)\n",
    "smt.graphics.plot_acf(chicago_dt1, lags=20, ax=axes[0])\n",
    "smt.graphics.plot_pacf(chicago_dt1, lags=20, ax=axes[1])\n",
    "plt.tight_layout()"
   ]
  },
  {
   "cell_type": "code",
   "execution_count": 38,
   "id": "64185226",
   "metadata": {
    "execution": {
     "iopub.execute_input": "2022-06-03T23:22:59.939673Z",
     "iopub.status.busy": "2022-06-03T23:22:59.939270Z",
     "iopub.status.idle": "2022-06-03T23:22:59.944774Z",
     "shell.execute_reply": "2022-06-03T23:22:59.944018Z"
    },
    "papermill": {
     "duration": 0.033239,
     "end_time": "2022-06-03T23:22:59.946738",
     "exception": false,
     "start_time": "2022-06-03T23:22:59.913499",
     "status": "completed"
    },
    "tags": []
   },
   "outputs": [],
   "source": [
    "# Define the p, d and q parameters to take any value between 0 and 2\n",
    "p = d = q = range(0, 2)\n",
    "\n",
    "# Generate all different combinations of p, d and q triplets\n",
    "pdq = list(itertools.product(p, d, q))\n",
    "\n",
    "# Generate all different combinations of seasonal p, q and q triplets\n",
    "seasonal_pdq = [(x[0], x[1], x[2], 12) for x in list(itertools.product(p, d, q))]"
   ]
  },
  {
   "cell_type": "code",
   "execution_count": 39,
   "id": "d362f65c",
   "metadata": {
    "execution": {
     "iopub.execute_input": "2022-06-03T23:22:59.997299Z",
     "iopub.status.busy": "2022-06-03T23:22:59.996346Z",
     "iopub.status.idle": "2022-06-03T23:23:00.001570Z",
     "shell.execute_reply": "2022-06-03T23:23:00.000856Z"
    },
    "papermill": {
     "duration": 0.032703,
     "end_time": "2022-06-03T23:23:00.003417",
     "exception": false,
     "start_time": "2022-06-03T23:22:59.970714",
     "status": "completed"
    },
    "tags": []
   },
   "outputs": [],
   "source": [
    "best_aic = np.inf\n",
    "best_pdq = None\n",
    "best_seasonal_pdq = None\n",
    "temp_model = None\n",
    "train_log = np.log10(train['Number of crimes'])"
   ]
  },
  {
   "cell_type": "code",
   "execution_count": 40,
   "id": "20e3f863",
   "metadata": {
    "execution": {
     "iopub.execute_input": "2022-06-03T23:23:00.053013Z",
     "iopub.status.busy": "2022-06-03T23:23:00.052380Z",
     "iopub.status.idle": "2022-06-03T23:23:33.233660Z",
     "shell.execute_reply": "2022-06-03T23:23:33.232421Z"
    },
    "papermill": {
     "duration": 33.259448,
     "end_time": "2022-06-03T23:23:33.286395",
     "exception": false,
     "start_time": "2022-06-03T23:23:00.026947",
     "status": "completed"
    },
    "tags": []
   },
   "outputs": [
    {
     "name": "stdout",
     "output_type": "stream",
     "text": [
      "Best SARIMAX(1, 1, 1)x(1, 0, 1, 12)12 model - AIC:-183.67884503543524\n"
     ]
    }
   ],
   "source": [
    "for param in pdq: #Non-Seasonal\n",
    "    for param_seasonal in seasonal_pdq:\n",
    "        \n",
    "        try:\n",
    "            temp_model = sm.tsa.statespace.SARIMAX(train_log,\n",
    "                                             order = param,\n",
    "                                             seasonal_order = param_seasonal)\n",
    "            results = temp_model.fit(disp=0)\n",
    "\n",
    "            # print(\"SARIMAX{}x{}12 - AIC:{}\".format(param, param_seasonal, results.aic))\n",
    "            if results.aic < best_aic:\n",
    "                best_aic = results.aic\n",
    "                best_pdq = param\n",
    "                best_seasonal_pdq = param_seasonal #Store the best param values : AIC, P, D, Q [Non-S / Seas]\n",
    "        except:\n",
    "            #print(\"Unexpected error:\", sys.exc_info()[0])\n",
    "            continue\n",
    "print(\"Best SARIMAX{}x{}12 model - AIC:{}\".format(best_pdq, best_seasonal_pdq, best_aic))"
   ]
  },
  {
   "cell_type": "code",
   "execution_count": 41,
   "id": "556203a7",
   "metadata": {
    "execution": {
     "iopub.execute_input": "2022-06-03T23:23:33.361054Z",
     "iopub.status.busy": "2022-06-03T23:23:33.360581Z",
     "iopub.status.idle": "2022-06-03T23:23:33.493974Z",
     "shell.execute_reply": "2022-06-03T23:23:33.491879Z"
    },
    "papermill": {
     "duration": 0.162716,
     "end_time": "2022-06-03T23:23:33.498005",
     "exception": false,
     "start_time": "2022-06-03T23:23:33.335289",
     "status": "completed"
    },
    "tags": []
   },
   "outputs": [
    {
     "name": "stdout",
     "output_type": "stream",
     "text": [
      "Optimization terminated successfully.\n",
      "         Current function value: -0.000000\n",
      "         Iterations: 2\n",
      "         Function evaluations: 3\n",
      "         Gradient evaluations: 3\n",
      "==============================================================================\n",
      "                 coef    std err          z      P>|z|      [0.025      0.975]\n",
      "------------------------------------------------------------------------------\n",
      "ar.L1         -0.3271      0.075     -4.371      0.000      -0.474      -0.180\n",
      "ma.L1         -0.1902      0.063     -3.008      0.003      -0.314      -0.066\n",
      "ar.S.L12       0.0186      0.417      0.045      0.964      -0.798       0.835\n",
      "ma.S.L12       0.0318      0.412      0.077      0.938      -0.776       0.839\n",
      "sigma2         0.0161      0.001     31.457      0.000       0.015       0.017\n",
      "==============================================================================\n"
     ]
    }
   ],
   "source": [
    "mod = sm.tsa.statespace.SARIMAX(train_log,\n",
    "                                order=(1,1,1),\n",
    "                                seasonal_order=(1, 0, 1, 12),\n",
    "                                enforce_stationarity=True)\n",
    "\n",
    "best_results = mod.fit(method='cg')\n",
    "\n",
    "print(best_results.summary().tables[1])"
   ]
  },
  {
   "cell_type": "code",
   "execution_count": 42,
   "id": "f210fbc3",
   "metadata": {
    "execution": {
     "iopub.execute_input": "2022-06-03T23:23:33.589246Z",
     "iopub.status.busy": "2022-06-03T23:23:33.588791Z",
     "iopub.status.idle": "2022-06-03T23:23:33.601822Z",
     "shell.execute_reply": "2022-06-03T23:23:33.601009Z"
    },
    "papermill": {
     "duration": 0.056738,
     "end_time": "2022-06-03T23:23:33.603800",
     "exception": false,
     "start_time": "2022-06-03T23:23:33.547062",
     "status": "completed"
    },
    "tags": []
   },
   "outputs": [
    {
     "data": {
      "text/html": [
       "<table class=\"simpletable\">\n",
       "<tr>\n",
       "      <td></td>        <th>coef</th>     <th>std err</th>      <th>z</th>      <th>P>|z|</th>  <th>[0.025</th>    <th>0.975]</th>  \n",
       "</tr>\n",
       "<tr>\n",
       "  <th>ar.L1</th>    <td>   -0.3271</td> <td>    0.075</td> <td>   -4.371</td> <td> 0.000</td> <td>   -0.474</td> <td>   -0.180</td>\n",
       "</tr>\n",
       "<tr>\n",
       "  <th>ma.L1</th>    <td>   -0.1902</td> <td>    0.063</td> <td>   -3.008</td> <td> 0.003</td> <td>   -0.314</td> <td>   -0.066</td>\n",
       "</tr>\n",
       "<tr>\n",
       "  <th>ar.S.L12</th> <td>    0.0186</td> <td>    0.417</td> <td>    0.045</td> <td> 0.964</td> <td>   -0.798</td> <td>    0.835</td>\n",
       "</tr>\n",
       "<tr>\n",
       "  <th>ma.S.L12</th> <td>    0.0318</td> <td>    0.412</td> <td>    0.077</td> <td> 0.938</td> <td>   -0.776</td> <td>    0.839</td>\n",
       "</tr>\n",
       "<tr>\n",
       "  <th>sigma2</th>   <td>    0.0161</td> <td>    0.001</td> <td>   31.457</td> <td> 0.000</td> <td>    0.015</td> <td>    0.017</td>\n",
       "</tr>\n",
       "</table>"
      ],
      "text/plain": [
       "<class 'statsmodels.iolib.table.SimpleTable'>"
      ]
     },
     "execution_count": 42,
     "metadata": {},
     "output_type": "execute_result"
    }
   ],
   "source": [
    "best_results.summary().tables[1]"
   ]
  },
  {
   "cell_type": "code",
   "execution_count": 43,
   "id": "eb629f03",
   "metadata": {
    "execution": {
     "iopub.execute_input": "2022-06-03T23:23:33.654544Z",
     "iopub.status.busy": "2022-06-03T23:23:33.654169Z",
     "iopub.status.idle": "2022-06-03T23:23:33.664865Z",
     "shell.execute_reply": "2022-06-03T23:23:33.663962Z"
    },
    "papermill": {
     "duration": 0.038428,
     "end_time": "2022-06-03T23:23:33.666901",
     "exception": false,
     "start_time": "2022-06-03T23:23:33.628473",
     "status": "completed"
    },
    "tags": []
   },
   "outputs": [
    {
     "data": {
      "text/html": [
       "<div>\n",
       "<style scoped>\n",
       "    .dataframe tbody tr th:only-of-type {\n",
       "        vertical-align: middle;\n",
       "    }\n",
       "\n",
       "    .dataframe tbody tr th {\n",
       "        vertical-align: top;\n",
       "    }\n",
       "\n",
       "    .dataframe thead th {\n",
       "        text-align: right;\n",
       "    }\n",
       "</style>\n",
       "<table border=\"1\" class=\"dataframe\">\n",
       "  <thead>\n",
       "    <tr style=\"text-align: right;\">\n",
       "      <th></th>\n",
       "      <th>Number of crimes</th>\n",
       "    </tr>\n",
       "    <tr>\n",
       "      <th>Date</th>\n",
       "      <th></th>\n",
       "    </tr>\n",
       "  </thead>\n",
       "  <tbody>\n",
       "    <tr>\n",
       "      <th>2013-10-31</th>\n",
       "      <td>25187</td>\n",
       "    </tr>\n",
       "    <tr>\n",
       "      <th>2013-11-30</th>\n",
       "      <td>23192</td>\n",
       "    </tr>\n",
       "    <tr>\n",
       "      <th>2013-12-31</th>\n",
       "      <td>21214</td>\n",
       "    </tr>\n",
       "    <tr>\n",
       "      <th>2014-01-31</th>\n",
       "      <td>19676</td>\n",
       "    </tr>\n",
       "    <tr>\n",
       "      <th>2014-02-28</th>\n",
       "      <td>17892</td>\n",
       "    </tr>\n",
       "    <tr>\n",
       "      <th>2014-03-31</th>\n",
       "      <td>22005</td>\n",
       "    </tr>\n",
       "    <tr>\n",
       "      <th>2014-04-30</th>\n",
       "      <td>22519</td>\n",
       "    </tr>\n",
       "    <tr>\n",
       "      <th>2014-05-31</th>\n",
       "      <td>24413</td>\n",
       "    </tr>\n",
       "    <tr>\n",
       "      <th>2014-06-30</th>\n",
       "      <td>24867</td>\n",
       "    </tr>\n",
       "    <tr>\n",
       "      <th>2014-07-31</th>\n",
       "      <td>26025</td>\n",
       "    </tr>\n",
       "    <tr>\n",
       "      <th>2014-08-31</th>\n",
       "      <td>25297</td>\n",
       "    </tr>\n",
       "    <tr>\n",
       "      <th>2014-09-30</th>\n",
       "      <td>23224</td>\n",
       "    </tr>\n",
       "    <tr>\n",
       "      <th>2014-10-31</th>\n",
       "      <td>23191</td>\n",
       "    </tr>\n",
       "    <tr>\n",
       "      <th>2014-11-30</th>\n",
       "      <td>20007</td>\n",
       "    </tr>\n",
       "    <tr>\n",
       "      <th>2014-12-31</th>\n",
       "      <td>20213</td>\n",
       "    </tr>\n",
       "    <tr>\n",
       "      <th>2015-01-31</th>\n",
       "      <td>20299</td>\n",
       "    </tr>\n",
       "    <tr>\n",
       "      <th>2015-02-28</th>\n",
       "      <td>16061</td>\n",
       "    </tr>\n",
       "    <tr>\n",
       "      <th>2015-03-31</th>\n",
       "      <td>21244</td>\n",
       "    </tr>\n",
       "    <tr>\n",
       "      <th>2015-04-30</th>\n",
       "      <td>21457</td>\n",
       "    </tr>\n",
       "    <tr>\n",
       "      <th>2015-05-31</th>\n",
       "      <td>23349</td>\n",
       "    </tr>\n",
       "    <tr>\n",
       "      <th>2015-06-30</th>\n",
       "      <td>22922</td>\n",
       "    </tr>\n",
       "    <tr>\n",
       "      <th>2015-07-31</th>\n",
       "      <td>23905</td>\n",
       "    </tr>\n",
       "    <tr>\n",
       "      <th>2015-08-31</th>\n",
       "      <td>24464</td>\n",
       "    </tr>\n",
       "    <tr>\n",
       "      <th>2015-09-30</th>\n",
       "      <td>22706</td>\n",
       "    </tr>\n",
       "    <tr>\n",
       "      <th>2015-10-31</th>\n",
       "      <td>22628</td>\n",
       "    </tr>\n",
       "    <tr>\n",
       "      <th>2015-11-30</th>\n",
       "      <td>20130</td>\n",
       "    </tr>\n",
       "    <tr>\n",
       "      <th>2015-12-31</th>\n",
       "      <td>20445</td>\n",
       "    </tr>\n",
       "    <tr>\n",
       "      <th>2016-01-31</th>\n",
       "      <td>19059</td>\n",
       "    </tr>\n",
       "    <tr>\n",
       "      <th>2016-02-29</th>\n",
       "      <td>17031</td>\n",
       "    </tr>\n",
       "    <tr>\n",
       "      <th>2016-03-31</th>\n",
       "      <td>19171</td>\n",
       "    </tr>\n",
       "    <tr>\n",
       "      <th>2016-04-30</th>\n",
       "      <td>18941</td>\n",
       "    </tr>\n",
       "    <tr>\n",
       "      <th>2016-05-31</th>\n",
       "      <td>22379</td>\n",
       "    </tr>\n",
       "    <tr>\n",
       "      <th>2016-06-30</th>\n",
       "      <td>22744</td>\n",
       "    </tr>\n",
       "    <tr>\n",
       "      <th>2016-07-31</th>\n",
       "      <td>23432</td>\n",
       "    </tr>\n",
       "    <tr>\n",
       "      <th>2016-08-31</th>\n",
       "      <td>23545</td>\n",
       "    </tr>\n",
       "    <tr>\n",
       "      <th>2016-09-30</th>\n",
       "      <td>22402</td>\n",
       "    </tr>\n",
       "    <tr>\n",
       "      <th>2016-10-31</th>\n",
       "      <td>22530</td>\n",
       "    </tr>\n",
       "    <tr>\n",
       "      <th>2016-11-30</th>\n",
       "      <td>20428</td>\n",
       "    </tr>\n",
       "    <tr>\n",
       "      <th>2016-12-31</th>\n",
       "      <td>19070</td>\n",
       "    </tr>\n",
       "    <tr>\n",
       "      <th>2017-01-31</th>\n",
       "      <td>30</td>\n",
       "    </tr>\n",
       "  </tbody>\n",
       "</table>\n",
       "</div>"
      ],
      "text/plain": [
       "            Number of crimes\n",
       "Date                        \n",
       "2013-10-31             25187\n",
       "2013-11-30             23192\n",
       "2013-12-31             21214\n",
       "2014-01-31             19676\n",
       "2014-02-28             17892\n",
       "2014-03-31             22005\n",
       "2014-04-30             22519\n",
       "2014-05-31             24413\n",
       "2014-06-30             24867\n",
       "2014-07-31             26025\n",
       "2014-08-31             25297\n",
       "2014-09-30             23224\n",
       "2014-10-31             23191\n",
       "2014-11-30             20007\n",
       "2014-12-31             20213\n",
       "2015-01-31             20299\n",
       "2015-02-28             16061\n",
       "2015-03-31             21244\n",
       "2015-04-30             21457\n",
       "2015-05-31             23349\n",
       "2015-06-30             22922\n",
       "2015-07-31             23905\n",
       "2015-08-31             24464\n",
       "2015-09-30             22706\n",
       "2015-10-31             22628\n",
       "2015-11-30             20130\n",
       "2015-12-31             20445\n",
       "2016-01-31             19059\n",
       "2016-02-29             17031\n",
       "2016-03-31             19171\n",
       "2016-04-30             18941\n",
       "2016-05-31             22379\n",
       "2016-06-30             22744\n",
       "2016-07-31             23432\n",
       "2016-08-31             23545\n",
       "2016-09-30             22402\n",
       "2016-10-31             22530\n",
       "2016-11-30             20428\n",
       "2016-12-31             19070\n",
       "2017-01-31                30"
      ]
     },
     "execution_count": 43,
     "metadata": {},
     "output_type": "execute_result"
    }
   ],
   "source": [
    "chicago_dt.tail(40)"
   ]
  },
  {
   "cell_type": "code",
   "execution_count": 44,
   "id": "ad2abf36",
   "metadata": {
    "execution": {
     "iopub.execute_input": "2022-06-03T23:23:33.726555Z",
     "iopub.status.busy": "2022-06-03T23:23:33.725815Z",
     "iopub.status.idle": "2022-06-03T23:23:33.737755Z",
     "shell.execute_reply": "2022-06-03T23:23:33.737067Z"
    },
    "papermill": {
     "duration": 0.046024,
     "end_time": "2022-06-03T23:23:33.739736",
     "exception": false,
     "start_time": "2022-06-03T23:23:33.693712",
     "status": "completed"
    },
    "tags": []
   },
   "outputs": [],
   "source": [
    "pred_dynamic = best_results.get_prediction(start=pd.to_datetime('2013-11-30'), dynamic=True, full_results=True)"
   ]
  },
  {
   "cell_type": "code",
   "execution_count": 45,
   "id": "38e9f93e",
   "metadata": {
    "execution": {
     "iopub.execute_input": "2022-06-03T23:23:33.789423Z",
     "iopub.status.busy": "2022-06-03T23:23:33.788392Z",
     "iopub.status.idle": "2022-06-03T23:23:33.793123Z",
     "shell.execute_reply": "2022-06-03T23:23:33.792502Z"
    },
    "papermill": {
     "duration": 0.031304,
     "end_time": "2022-06-03T23:23:33.794857",
     "exception": false,
     "start_time": "2022-06-03T23:23:33.763553",
     "status": "completed"
    },
    "tags": []
   },
   "outputs": [],
   "source": [
    "pred_dynamic_ci = pred_dynamic.conf_int()"
   ]
  },
  {
   "cell_type": "code",
   "execution_count": 46,
   "id": "bbebe5c3",
   "metadata": {
    "execution": {
     "iopub.execute_input": "2022-06-03T23:23:33.844016Z",
     "iopub.status.busy": "2022-06-03T23:23:33.843088Z",
     "iopub.status.idle": "2022-06-03T23:23:33.849216Z",
     "shell.execute_reply": "2022-06-03T23:23:33.848238Z"
    },
    "papermill": {
     "duration": 0.032624,
     "end_time": "2022-06-03T23:23:33.850969",
     "exception": false,
     "start_time": "2022-06-03T23:23:33.818345",
     "status": "completed"
    },
    "tags": []
   },
   "outputs": [
    {
     "data": {
      "text/plain": [
       "<statsmodels.tsa.statespace.mlemodel.PredictionResultsWrapper at 0x7fc05eca1dd0>"
      ]
     },
     "execution_count": 46,
     "metadata": {},
     "output_type": "execute_result"
    }
   ],
   "source": [
    "pred_dynamic"
   ]
  },
  {
   "cell_type": "code",
   "execution_count": 47,
   "id": "07d6374f",
   "metadata": {
    "execution": {
     "iopub.execute_input": "2022-06-03T23:23:33.900653Z",
     "iopub.status.busy": "2022-06-03T23:23:33.900071Z",
     "iopub.status.idle": "2022-06-03T23:23:33.910313Z",
     "shell.execute_reply": "2022-06-03T23:23:33.909634Z"
    },
    "papermill": {
     "duration": 0.037617,
     "end_time": "2022-06-03T23:23:33.912281",
     "exception": false,
     "start_time": "2022-06-03T23:23:33.874664",
     "status": "completed"
    },
    "tags": []
   },
   "outputs": [],
   "source": [
    "pred99 = best_results.get_forecast(steps=24, alpha=0.1)"
   ]
  },
  {
   "cell_type": "code",
   "execution_count": 48,
   "id": "95e8a1e7",
   "metadata": {
    "execution": {
     "iopub.execute_input": "2022-06-03T23:23:33.963380Z",
     "iopub.status.busy": "2022-06-03T23:23:33.962506Z",
     "iopub.status.idle": "2022-06-03T23:23:33.970066Z",
     "shell.execute_reply": "2022-06-03T23:23:33.969330Z"
    },
    "papermill": {
     "duration": 0.035312,
     "end_time": "2022-06-03T23:23:33.972121",
     "exception": false,
     "start_time": "2022-06-03T23:23:33.936809",
     "status": "completed"
    },
    "tags": []
   },
   "outputs": [],
   "source": [
    "# Extract the predicted and true values of our time series\n",
    "crimes_ts_forecasted = pred_dynamic.predicted_mean\n",
    "testCopy = test.copy()\n",
    "testCopy['Crimes_Forecast'] = np.power(10, pred99.predicted_mean)"
   ]
  },
  {
   "cell_type": "code",
   "execution_count": 49,
   "id": "ca3087f1",
   "metadata": {
    "execution": {
     "iopub.execute_input": "2022-06-03T23:23:34.021459Z",
     "iopub.status.busy": "2022-06-03T23:23:34.020820Z",
     "iopub.status.idle": "2022-06-03T23:23:34.026829Z",
     "shell.execute_reply": "2022-06-03T23:23:34.026202Z"
    },
    "papermill": {
     "duration": 0.032656,
     "end_time": "2022-06-03T23:23:34.028658",
     "exception": false,
     "start_time": "2022-06-03T23:23:33.996002",
     "status": "completed"
    },
    "tags": []
   },
   "outputs": [
    {
     "name": "stdout",
     "output_type": "stream",
     "text": [
      "The Root Mean Squared Error of our forecasts is 4088.951\n"
     ]
    }
   ],
   "source": [
    "# Compute the root mean square error\n",
    "mse = ((testCopy['Number of crimes'] - testCopy['Crimes_Forecast'])** 2).mean()\n",
    "rmse = np.sqrt(mse)\n",
    "print('The Root Mean Squared Error of our forecasts is {}'.format(round(rmse, 3)))"
   ]
  },
  {
   "cell_type": "code",
   "execution_count": 50,
   "id": "aacfab02",
   "metadata": {
    "execution": {
     "iopub.execute_input": "2022-06-03T23:23:34.077851Z",
     "iopub.status.busy": "2022-06-03T23:23:34.077242Z",
     "iopub.status.idle": "2022-06-03T23:23:34.082722Z",
     "shell.execute_reply": "2022-06-03T23:23:34.082011Z"
    },
    "papermill": {
     "duration": 0.032441,
     "end_time": "2022-06-03T23:23:34.084648",
     "exception": false,
     "start_time": "2022-06-03T23:23:34.052207",
     "status": "completed"
    },
    "tags": []
   },
   "outputs": [],
   "source": [
    "mape = np.mean(np.abs(testCopy['Number of crimes'] - testCopy['Crimes_Forecast'])/np.abs(testCopy['Number of crimes']))"
   ]
  },
  {
   "cell_type": "code",
   "execution_count": 51,
   "id": "196c890d",
   "metadata": {
    "execution": {
     "iopub.execute_input": "2022-06-03T23:23:34.135456Z",
     "iopub.status.busy": "2022-06-03T23:23:34.135057Z",
     "iopub.status.idle": "2022-06-03T23:23:34.140259Z",
     "shell.execute_reply": "2022-06-03T23:23:34.139576Z"
    },
    "papermill": {
     "duration": 0.032566,
     "end_time": "2022-06-03T23:23:34.141879",
     "exception": false,
     "start_time": "2022-06-03T23:23:34.109313",
     "status": "completed"
    },
    "tags": []
   },
   "outputs": [
    {
     "data": {
      "text/plain": [
       "0.16830805803475216"
      ]
     },
     "execution_count": 51,
     "metadata": {},
     "output_type": "execute_result"
    }
   ],
   "source": [
    "mape"
   ]
  },
  {
   "cell_type": "markdown",
   "id": "068b6d34",
   "metadata": {
    "papermill": {
     "duration": 0.023776,
     "end_time": "2022-06-03T23:23:34.189211",
     "exception": false,
     "start_time": "2022-06-03T23:23:34.165435",
     "status": "completed"
    },
    "tags": []
   },
   "source": [
    "#### Around 16.8% MAPE implies the model is about 83.2% accurate in predicting the next observations. "
   ]
  },
  {
   "cell_type": "code",
   "execution_count": 52,
   "id": "412d2e80",
   "metadata": {
    "execution": {
     "iopub.execute_input": "2022-06-03T23:23:34.238669Z",
     "iopub.status.busy": "2022-06-03T23:23:34.238045Z",
     "iopub.status.idle": "2022-06-03T23:23:34.490463Z",
     "shell.execute_reply": "2022-06-03T23:23:34.489690Z"
    },
    "papermill": {
     "duration": 0.279379,
     "end_time": "2022-06-03T23:23:34.492341",
     "exception": false,
     "start_time": "2022-06-03T23:23:34.212962",
     "status": "completed"
    },
    "tags": []
   },
   "outputs": [
    {
     "data": {
      "image/png": "[encoded data removed]",
      "text/plain": [
       "<Figure size 720x432 with 1 Axes>"
      ]
     },
     "metadata": {
      "needs_background": "light"
     },
     "output_type": "display_data"
    }
   ],
   "source": [
    "axis = train['Number of crimes'].plot(label='Train Crimes', figsize=(10, 6))\n",
    "testCopy['Number of crimes'].plot(ax=axis, label='Test Crimes', alpha=0.7)\n",
    "testCopy['Crimes_Forecast'].plot(ax=axis, label='Forecasted ', alpha=0.7)\n",
    "axis.set_xlabel('Years')\n",
    "axis.set_ylabel('Crimes')\n",
    "plt.legend(loc='best')\n",
    "plt.show()\n",
    "plt.close()"
   ]
  },
  {
   "cell_type": "markdown",
   "id": "a1a56267",
   "metadata": {
    "papermill": {
     "duration": 0.024822,
     "end_time": "2022-06-03T23:23:34.541581",
     "exception": false,
     "start_time": "2022-06-03T23:23:34.516759",
     "status": "completed"
    },
    "tags": []
   },
   "source": [
    "## Forecast crimes using the best fit ARIMA model"
   ]
  },
  {
   "cell_type": "code",
   "execution_count": 53,
   "id": "cb6d5566",
   "metadata": {
    "execution": {
     "iopub.execute_input": "2022-06-03T23:23:34.594556Z",
     "iopub.status.busy": "2022-06-03T23:23:34.593872Z",
     "iopub.status.idle": "2022-06-03T23:23:34.614472Z",
     "shell.execute_reply": "2022-06-03T23:23:34.613657Z"
    },
    "papermill": {
     "duration": 0.049841,
     "end_time": "2022-06-03T23:23:34.616564",
     "exception": false,
     "start_time": "2022-06-03T23:23:34.566723",
     "status": "completed"
    },
    "tags": []
   },
   "outputs": [],
   "source": [
    "# Get forecast 36 steps (3 years) ahead in future\n",
    "n_steps = 36\n",
    "pred_uc_99 = best_results.get_forecast(steps=36, alpha=0.01) # alpha=0.01 signifies 99% confidence interval\n",
    "pred_uc_95 = best_results.get_forecast(steps=36, alpha=0.05) # alpha=0.05 95% CI\n",
    "\n",
    "# Get confidence intervals 95% & 99% of the forecasts\n",
    "pred_ci_99 = pred_uc_99.conf_int()\n",
    "pred_ci_95 = pred_uc_95.conf_int()"
   ]
  },
  {
   "cell_type": "code",
   "execution_count": 54,
   "id": "bdad1c0e",
   "metadata": {
    "execution": {
     "iopub.execute_input": "2022-06-03T23:23:34.668530Z",
     "iopub.status.busy": "2022-06-03T23:23:34.667881Z",
     "iopub.status.idle": "2022-06-03T23:23:34.695463Z",
     "shell.execute_reply": "2022-06-03T23:23:34.694805Z"
    },
    "papermill": {
     "duration": 0.055727,
     "end_time": "2022-06-03T23:23:34.697356",
     "exception": false,
     "start_time": "2022-06-03T23:23:34.641629",
     "status": "completed"
    },
    "tags": []
   },
   "outputs": [
    {
     "data": {
      "text/html": [
       "<div>\n",
       "<style scoped>\n",
       "    .dataframe tbody tr th:only-of-type {\n",
       "        vertical-align: middle;\n",
       "    }\n",
       "\n",
       "    .dataframe tbody tr th {\n",
       "        vertical-align: top;\n",
       "    }\n",
       "\n",
       "    .dataframe thead th {\n",
       "        text-align: right;\n",
       "    }\n",
       "</style>\n",
       "<table border=\"1\" class=\"dataframe\">\n",
       "  <thead>\n",
       "    <tr style=\"text-align: right;\">\n",
       "      <th></th>\n",
       "      <th>forecast</th>\n",
       "      <th>lower_ci_95</th>\n",
       "      <th>upper_ci_95</th>\n",
       "      <th>lower_ci_99</th>\n",
       "      <th>upper_ci_99</th>\n",
       "    </tr>\n",
       "  </thead>\n",
       "  <tbody>\n",
       "    <tr>\n",
       "      <th>2017-02-01</th>\n",
       "      <td>25783.687</td>\n",
       "      <td>14538.327</td>\n",
       "      <td>45727.304</td>\n",
       "      <td>14538.327</td>\n",
       "      <td>45727.304</td>\n",
       "    </tr>\n",
       "    <tr>\n",
       "      <th>2017-03-01</th>\n",
       "      <td>25517.325</td>\n",
       "      <td>13506.275</td>\n",
       "      <td>48209.730</td>\n",
       "      <td>13506.275</td>\n",
       "      <td>48209.730</td>\n",
       "    </tr>\n",
       "    <tr>\n",
       "      <th>2017-04-01</th>\n",
       "      <td>25595.153</td>\n",
       "      <td>12239.432</td>\n",
       "      <td>53524.697</td>\n",
       "      <td>12239.432</td>\n",
       "      <td>53524.697</td>\n",
       "    </tr>\n",
       "    <tr>\n",
       "      <th>2017-05-01</th>\n",
       "      <td>25359.770</td>\n",
       "      <td>11246.933</td>\n",
       "      <td>57181.628</td>\n",
       "      <td>11246.933</td>\n",
       "      <td>57181.628</td>\n",
       "    </tr>\n",
       "    <tr>\n",
       "      <th>2017-06-01</th>\n",
       "      <td>25557.086</td>\n",
       "      <td>10536.611</td>\n",
       "      <td>61990.011</td>\n",
       "      <td>10536.611</td>\n",
       "      <td>61990.011</td>\n",
       "    </tr>\n",
       "  </tbody>\n",
       "</table>\n",
       "</div>"
      ],
      "text/plain": [
       "            forecast  lower_ci_95  upper_ci_95  lower_ci_99  upper_ci_99\n",
       "2017-02-01 25783.687    14538.327    45727.304    14538.327    45727.304\n",
       "2017-03-01 25517.325    13506.275    48209.730    13506.275    48209.730\n",
       "2017-04-01 25595.153    12239.432    53524.697    12239.432    53524.697\n",
       "2017-05-01 25359.770    11246.933    57181.628    11246.933    57181.628\n",
       "2017-06-01 25557.086    10536.611    61990.011    10536.611    61990.011"
      ]
     },
     "execution_count": 54,
     "metadata": {},
     "output_type": "execute_result"
    }
   ],
   "source": [
    "n_steps = 36\n",
    "idx = pd.date_range(chicago_dt.index[-1], periods=n_steps, freq='MS')\n",
    "fc_95 = pd.DataFrame(np.column_stack([np.power(10, pred_uc_95.predicted_mean), np.power(10, pred_ci_95)]), \n",
    "                     index=idx, columns=['forecast', 'lower_ci_95', 'upper_ci_95'])\n",
    "fc_99 = pd.DataFrame(np.column_stack([np.power(10, pred_ci_99)]), \n",
    "                     index=idx, columns=['lower_ci_99', 'upper_ci_99'])\n",
    "fc_all = fc_95.combine_first(fc_99)\n",
    "fc_all = fc_all[['forecast', 'lower_ci_95', 'upper_ci_95', 'lower_ci_99', 'upper_ci_99']] # just reordering columns\n",
    "fc_all.head()"
   ]
  },
  {
   "cell_type": "code",
   "execution_count": 55,
   "id": "d1bfaccb",
   "metadata": {
    "execution": {
     "iopub.execute_input": "2022-06-03T23:23:34.750708Z",
     "iopub.status.busy": "2022-06-03T23:23:34.750183Z",
     "iopub.status.idle": "2022-06-03T23:23:35.001997Z",
     "shell.execute_reply": "2022-06-03T23:23:35.000986Z"
    },
    "papermill": {
     "duration": 0.282021,
     "end_time": "2022-06-03T23:23:35.004382",
     "exception": false,
     "start_time": "2022-06-03T23:23:34.722361",
     "status": "completed"
    },
    "tags": []
   },
   "outputs": [
    {
     "data": {
      "image/png": "[encoded data removed]",
      "text/plain": [
       "<Figure size 576x288 with 1 Axes>"
      ]
     },
     "metadata": {
      "needs_background": "light"
     },
     "output_type": "display_data"
    }
   ],
   "source": [
    "# plot the forecast along with the confidence band\n",
    "axis = chicago_dt['Number of crimes'].plot(label='Observed', figsize=(8, 4))\n",
    "fc_all['forecast'].plot(ax=axis, label='Forecast', alpha=0.7)\n",
    "axis.fill_between(fc_all.index, fc_all['lower_ci_95'], fc_all['upper_ci_95'], color='k', alpha=.15)\n",
    "axis.set_xlabel('Years')\n",
    "axis.set_ylabel('Tractor Sales')\n",
    "plt.legend(loc='best')\n",
    "plt.show()"
   ]
  },
  {
   "cell_type": "markdown",
   "id": "667de33f",
   "metadata": {
    "papermill": {
     "duration": 0.025938,
     "end_time": "2022-06-03T23:23:35.056203",
     "exception": false,
     "start_time": "2022-06-03T23:23:35.030265",
     "status": "completed"
    },
    "tags": []
   },
   "source": [
    "### Plot ACF and PACF for residuals of ARIMA model¶\n"
   ]
  },
  {
   "cell_type": "code",
   "execution_count": 56,
   "id": "92dfd2fe",
   "metadata": {
    "execution": {
     "iopub.execute_input": "2022-06-03T23:23:35.110563Z",
     "iopub.status.busy": "2022-06-03T23:23:35.110001Z",
     "iopub.status.idle": "2022-06-03T23:23:35.770091Z",
     "shell.execute_reply": "2022-06-03T23:23:35.769109Z"
    },
    "papermill": {
     "duration": 0.689828,
     "end_time": "2022-06-03T23:23:35.772177",
     "exception": false,
     "start_time": "2022-06-03T23:23:35.082349",
     "status": "completed"
    },
    "tags": []
   },
   "outputs": [
    {
     "data": {
      "image/png": "[encoded data removed]",
      "text/plain": [
       "<Figure size 1152x864 with 4 Axes>"
      ]
     },
     "metadata": {
      "needs_background": "light"
     },
     "output_type": "display_data"
    }
   ],
   "source": [
    "best_results.plot_diagnostics(lags=30, figsize=(16,12))\n",
    "plt.show()"
   ]
  },
  {
   "cell_type": "markdown",
   "id": "ddab60c5",
   "metadata": {
    "papermill": {
     "duration": 0.028599,
     "end_time": "2022-06-03T23:23:35.828375",
     "exception": false,
     "start_time": "2022-06-03T23:23:35.799776",
     "status": "completed"
    },
    "tags": []
   },
   "source": [
    "### Overall, the model seems to be a good fit. "
   ]
  },
  {
   "cell_type": "code",
   "execution_count": 57,
   "id": "922799ee",
   "metadata": {
    "execution": {
     "iopub.execute_input": "2022-06-03T23:23:35.887780Z",
     "iopub.status.busy": "2022-06-03T23:23:35.887387Z",
     "iopub.status.idle": "2022-06-03T23:23:35.890844Z",
     "shell.execute_reply": "2022-06-03T23:23:35.890156Z"
    },
    "papermill": {
     "duration": 0.037023,
     "end_time": "2022-06-03T23:23:35.893139",
     "exception": false,
     "start_time": "2022-06-03T23:23:35.856116",
     "status": "completed"
    },
    "tags": []
   },
   "outputs": [],
   "source": [
    "#======================================="
   ]
  },
  {
   "cell_type": "code",
   "execution_count": 58,
   "id": "fa5132a6",
   "metadata": {
    "execution": {
     "iopub.execute_input": "2022-06-03T23:23:35.952872Z",
     "iopub.status.busy": "2022-06-03T23:23:35.952241Z",
     "iopub.status.idle": "2022-06-03T23:23:49.707643Z",
     "shell.execute_reply": "2022-06-03T23:23:49.705407Z"
    },
    "papermill": {
     "duration": 13.788012,
     "end_time": "2022-06-03T23:23:49.710040",
     "exception": false,
     "start_time": "2022-06-03T23:23:35.922028",
     "status": "completed"
    },
    "tags": []
   },
   "outputs": [
    {
     "name": "stdout",
     "output_type": "stream",
     "text": [
      "Collecting pmdarima\r\n",
      "  Downloading pmdarima-1.8.5-cp37-cp37m-manylinux_2_17_x86_64.manylinux2014_x86_64.manylinux_2_24_x86_64.whl (1.4 MB)\r\n",
      "\u001b[2K     \u001b[90m━━━━━━━━━━━━━━━━━━━━━━━━━━━━━━━━━━━━━━━━\u001b[0m \u001b[32m1.4/1.4 MB\u001b[0m \u001b[31m1.5 MB/s\u001b[0m eta \u001b[36m0:00:00\u001b[0m\r\n",
      "\u001b[?25hRequirement already satisfied: scikit-learn>=0.22 in /opt/conda/lib/python3.7/site-packages (from pmdarima) (1.0.2)\r\n",
      "Requirement already satisfied: scipy>=1.3.2 in /opt/conda/lib/python3.7/site-packages (from pmdarima) (1.7.3)\r\n",
      "Requirement already satisfied: numpy>=1.19.3 in /opt/conda/lib/python3.7/site-packages (from pmdarima) (1.21.6)\r\n",
      "Requirement already satisfied: pandas>=0.19 in /opt/conda/lib/python3.7/site-packages (from pmdarima) (1.3.5)\r\n",
      "Requirement already satisfied: urllib3 in /opt/conda/lib/python3.7/site-packages (from pmdarima) (1.26.9)\r\n",
      "Requirement already satisfied: Cython!=0.29.18,>=0.29 in /opt/conda/lib/python3.7/site-packages (from pmdarima) (0.29.30)\r\n",
      "Requirement already satisfied: joblib>=0.11 in /opt/conda/lib/python3.7/site-packages (from pmdarima) (1.1.0)\r\n",
      "Requirement already satisfied: statsmodels!=0.12.0,>=0.11 in /opt/conda/lib/python3.7/site-packages (from pmdarima) (0.13.2)\r\n",
      "Requirement already satisfied: setuptools!=50.0.0,>=38.6.0 in /opt/conda/lib/python3.7/site-packages (from pmdarima) (59.8.0)\r\n",
      "Requirement already satisfied: python-dateutil>=2.7.3 in /opt/conda/lib/python3.7/site-packages (from pandas>=0.19->pmdarima) (2.8.2)\r\n",
      "Requirement already satisfied: pytz>=2017.3 in /opt/conda/lib/python3.7/site-packages (from pandas>=0.19->pmdarima) (2022.1)\r\n",
      "Requirement already satisfied: threadpoolctl>=2.0.0 in /opt/conda/lib/python3.7/site-packages (from scikit-learn>=0.22->pmdarima) (3.1.0)\r\n",
      "Requirement already satisfied: packaging>=21.3 in /opt/conda/lib/python3.7/site-packages (from statsmodels!=0.12.0,>=0.11->pmdarima) (21.3)\r\n",
      "Requirement already satisfied: patsy>=0.5.2 in /opt/conda/lib/python3.7/site-packages (from statsmodels!=0.12.0,>=0.11->pmdarima) (0.5.2)\r\n",
      "Requirement already satisfied: pyparsing!=3.0.5,>=2.0.2 in /opt/conda/lib/python3.7/site-packages (from packaging>=21.3->statsmodels!=0.12.0,>=0.11->pmdarima) (3.0.9)\r\n",
      "Requirement already satisfied: six in /opt/conda/lib/python3.7/site-packages (from patsy>=0.5.2->statsmodels!=0.12.0,>=0.11->pmdarima) (1.16.0)\r\n",
      "Installing collected packages: pmdarima\r\n",
      "Successfully installed pmdarima-1.8.5\r\n",
      "\u001b[33mWARNING: Running pip as the 'root' user can result in broken permissions and conflicting behaviour with the system package manager. It is recommended to use a virtual environment instead: https://pip.pypa.io/warnings/venv\u001b[0m\u001b[33m\r\n",
      "\u001b[0mNote: you may need to restart the kernel to use updated packages.\n"
     ]
    }
   ],
   "source": [
    "%pip install pmdarima"
   ]
  },
  {
   "cell_type": "code",
   "execution_count": 59,
   "id": "d4374be2",
   "metadata": {
    "execution": {
     "iopub.execute_input": "2022-06-03T23:23:49.772649Z",
     "iopub.status.busy": "2022-06-03T23:23:49.772007Z",
     "iopub.status.idle": "2022-06-03T23:23:49.897802Z",
     "shell.execute_reply": "2022-06-03T23:23:49.896579Z"
    },
    "papermill": {
     "duration": 0.159918,
     "end_time": "2022-06-03T23:23:49.900260",
     "exception": false,
     "start_time": "2022-06-03T23:23:49.740342",
     "status": "completed"
    },
    "tags": []
   },
   "outputs": [],
   "source": [
    "import pmdarima as pm"
   ]
  },
  {
   "cell_type": "code",
   "execution_count": 60,
   "id": "f2ac7752",
   "metadata": {
    "execution": {
     "iopub.execute_input": "2022-06-03T23:23:49.976886Z",
     "iopub.status.busy": "2022-06-03T23:23:49.976205Z",
     "iopub.status.idle": "2022-06-03T23:25:25.047565Z",
     "shell.execute_reply": "2022-06-03T23:25:25.046416Z"
    },
    "papermill": {
     "duration": 95.120658,
     "end_time": "2022-06-03T23:25:25.056438",
     "exception": false,
     "start_time": "2022-06-03T23:23:49.935780",
     "status": "completed"
    },
    "tags": []
   },
   "outputs": [
    {
     "name": "stdout",
     "output_type": "stream",
     "text": [
      "Performing stepwise search to minimize aic\n",
      " ARIMA(1,0,1)(0,1,1)[12] intercept   : AIC=3519.927, Time=2.42 sec\n",
      " ARIMA(0,0,0)(0,1,0)[12] intercept   : AIC=3893.635, Time=0.03 sec\n",
      " ARIMA(1,0,0)(1,1,0)[12] intercept   : AIC=3542.529, Time=1.71 sec\n",
      " ARIMA(0,0,1)(0,1,1)[12] intercept   : AIC=3701.610, Time=1.38 sec\n",
      " ARIMA(0,0,0)(0,1,0)[12]             : AIC=3894.278, Time=0.02 sec\n",
      " ARIMA(1,0,1)(0,1,0)[12] intercept   : AIC=3596.388, Time=0.11 sec\n",
      " ARIMA(1,0,1)(1,1,1)[12] intercept   : AIC=3513.456, Time=1.46 sec\n",
      " ARIMA(1,0,1)(1,1,0)[12] intercept   : AIC=3522.855, Time=1.73 sec\n",
      " ARIMA(1,0,1)(2,1,1)[12] intercept   : AIC=3517.601, Time=5.37 sec\n",
      " ARIMA(1,0,1)(1,1,2)[12] intercept   : AIC=3514.923, Time=4.92 sec\n",
      " ARIMA(1,0,1)(0,1,2)[12] intercept   : AIC=3515.875, Time=4.85 sec\n",
      " ARIMA(1,0,1)(2,1,0)[12] intercept   : AIC=3517.742, Time=3.79 sec\n",
      " ARIMA(1,0,1)(2,1,2)[12] intercept   : AIC=3519.312, Time=6.39 sec\n",
      " ARIMA(0,0,1)(1,1,1)[12] intercept   : AIC=3702.873, Time=2.38 sec\n",
      " ARIMA(1,0,0)(1,1,1)[12] intercept   : AIC=3526.896, Time=2.25 sec\n",
      " ARIMA(2,0,1)(1,1,1)[12] intercept   : AIC=3514.325, Time=2.05 sec\n",
      " ARIMA(1,0,2)(1,1,1)[12] intercept   : AIC=3514.404, Time=2.40 sec\n",
      " ARIMA(0,0,0)(1,1,1)[12] intercept   : AIC=3891.426, Time=0.40 sec\n",
      " ARIMA(0,0,2)(1,1,1)[12] intercept   : AIC=3676.072, Time=1.24 sec\n",
      " ARIMA(2,0,0)(1,1,1)[12] intercept   : AIC=3518.538, Time=2.32 sec\n",
      " ARIMA(2,0,2)(1,1,1)[12] intercept   : AIC=3517.420, Time=3.25 sec\n",
      " ARIMA(1,0,1)(1,1,1)[12]             : AIC=3511.472, Time=1.47 sec\n",
      " ARIMA(1,0,1)(0,1,1)[12]             : AIC=3516.391, Time=1.69 sec\n",
      " ARIMA(1,0,1)(1,1,0)[12]             : AIC=3520.873, Time=1.39 sec\n",
      " ARIMA(1,0,1)(2,1,1)[12]             : AIC=3513.561, Time=4.54 sec\n",
      " ARIMA(1,0,1)(1,1,2)[12]             : AIC=3515.454, Time=4.64 sec\n",
      " ARIMA(1,0,1)(0,1,0)[12]             : AIC=3594.430, Time=0.11 sec\n",
      " ARIMA(1,0,1)(0,1,2)[12]             : AIC=3513.797, Time=4.09 sec\n",
      " ARIMA(1,0,1)(2,1,0)[12]             : AIC=3515.773, Time=3.77 sec\n",
      " ARIMA(1,0,1)(2,1,2)[12]             : AIC=inf, Time=6.22 sec\n",
      " ARIMA(0,0,1)(1,1,1)[12]             : AIC=3703.170, Time=1.78 sec\n",
      " ARIMA(1,0,0)(1,1,1)[12]             : AIC=3524.988, Time=2.44 sec\n",
      " ARIMA(2,0,1)(1,1,1)[12]             : AIC=3512.337, Time=2.24 sec\n",
      " ARIMA(1,0,2)(1,1,1)[12]             : AIC=3512.040, Time=3.15 sec\n",
      " ARIMA(0,0,0)(1,1,1)[12]             : AIC=inf, Time=0.51 sec\n",
      " ARIMA(0,0,2)(1,1,1)[12]             : AIC=3627.313, Time=2.42 sec\n",
      " ARIMA(2,0,0)(1,1,1)[12]             : AIC=3519.840, Time=1.20 sec\n",
      " ARIMA(2,0,2)(1,1,1)[12]             : AIC=3513.180, Time=2.82 sec\n",
      "\n",
      "Best model:  ARIMA(1,0,1)(1,1,1)[12]          \n",
      "Total fit time: 95.031 seconds\n"
     ]
    },
    {
     "data": {
      "text/html": [
       "<table class=\"simpletable\">\n",
       "<caption>SARIMAX Results</caption>\n",
       "<tr>\n",
       "  <th>Dep. Variable:</th>                  <td>y</td>               <th>  No. Observations:  </th>    <td>193</td>   \n",
       "</tr>\n",
       "<tr>\n",
       "  <th>Model:</th>           <td>SARIMAX(1, 0, 1)x(1, 1, 1, 12)</td> <th>  Log Likelihood     </th> <td>-1750.736</td>\n",
       "</tr>\n",
       "<tr>\n",
       "  <th>Date:</th>                   <td>Fri, 03 Jun 2022</td>        <th>  AIC                </th> <td>3511.472</td> \n",
       "</tr>\n",
       "<tr>\n",
       "  <th>Time:</th>                       <td>23:25:25</td>            <th>  BIC                </th> <td>3527.465</td> \n",
       "</tr>\n",
       "<tr>\n",
       "  <th>Sample:</th>                         <td>0</td>               <th>  HQIC               </th> <td>3517.956</td> \n",
       "</tr>\n",
       "<tr>\n",
       "  <th></th>                             <td> - 193</td>             <th>                     </th>     <td> </td>    \n",
       "</tr>\n",
       "<tr>\n",
       "  <th>Covariance Type:</th>               <td>opg</td>              <th>                     </th>     <td> </td>    \n",
       "</tr>\n",
       "</table>\n",
       "<table class=\"simpletable\">\n",
       "<tr>\n",
       "      <td></td>        <th>coef</th>     <th>std err</th>      <th>z</th>      <th>P>|z|</th>  <th>[0.025</th>    <th>0.975]</th>  \n",
       "</tr>\n",
       "<tr>\n",
       "  <th>ar.L1</th>    <td>    0.9433</td> <td>    0.026</td> <td>   36.974</td> <td> 0.000</td> <td>    0.893</td> <td>    0.993</td>\n",
       "</tr>\n",
       "<tr>\n",
       "  <th>ma.L1</th>    <td>    0.3761</td> <td>    0.056</td> <td>    6.739</td> <td> 0.000</td> <td>    0.267</td> <td>    0.485</td>\n",
       "</tr>\n",
       "<tr>\n",
       "  <th>ar.S.L12</th> <td>   -0.3374</td> <td>    0.045</td> <td>   -7.424</td> <td> 0.000</td> <td>   -0.426</td> <td>   -0.248</td>\n",
       "</tr>\n",
       "<tr>\n",
       "  <th>ma.S.L12</th> <td>   -0.5451</td> <td>    0.055</td> <td>   -9.883</td> <td> 0.000</td> <td>   -0.653</td> <td>   -0.437</td>\n",
       "</tr>\n",
       "<tr>\n",
       "  <th>sigma2</th>   <td> 1.434e+07</td> <td> 6.71e+05</td> <td>   21.370</td> <td> 0.000</td> <td>  1.3e+07</td> <td> 1.57e+07</td>\n",
       "</tr>\n",
       "</table>\n",
       "<table class=\"simpletable\">\n",
       "<tr>\n",
       "  <th>Ljung-Box (L1) (Q):</th>     <td>0.18</td> <th>  Jarque-Bera (JB):  </th> <td>1369.47</td>\n",
       "</tr>\n",
       "<tr>\n",
       "  <th>Prob(Q):</th>                <td>0.67</td> <th>  Prob(JB):          </th>  <td>0.00</td>  \n",
       "</tr>\n",
       "<tr>\n",
       "  <th>Heteroskedasticity (H):</th> <td>0.22</td> <th>  Skew:              </th>  <td>0.98</td>  \n",
       "</tr>\n",
       "<tr>\n",
       "  <th>Prob(H) (two-sided):</th>    <td>0.00</td> <th>  Kurtosis:          </th>  <td>16.33</td> \n",
       "</tr>\n",
       "</table><br/><br/>Warnings:<br/>[1] Covariance matrix calculated using the outer product of gradients (complex-step)."
      ],
      "text/plain": [
       "<class 'statsmodels.iolib.summary.Summary'>\n",
       "\"\"\"\n",
       "                                     SARIMAX Results                                      \n",
       "==========================================================================================\n",
       "Dep. Variable:                                  y   No. Observations:                  193\n",
       "Model:             SARIMAX(1, 0, 1)x(1, 1, 1, 12)   Log Likelihood               -1750.736\n",
       "Date:                            Fri, 03 Jun 2022   AIC                           3511.472\n",
       "Time:                                    23:25:25   BIC                           3527.465\n",
       "Sample:                                         0   HQIC                          3517.956\n",
       "                                            - 193                                         \n",
       "Covariance Type:                              opg                                         \n",
       "==============================================================================\n",
       "                 coef    std err          z      P>|z|      [0.025      0.975]\n",
       "------------------------------------------------------------------------------\n",
       "ar.L1          0.9433      0.026     36.974      0.000       0.893       0.993\n",
       "ma.L1          0.3761      0.056      6.739      0.000       0.267       0.485\n",
       "ar.S.L12      -0.3374      0.045     -7.424      0.000      -0.426      -0.248\n",
       "ma.S.L12      -0.5451      0.055     -9.883      0.000      -0.653      -0.437\n",
       "sigma2      1.434e+07   6.71e+05     21.370      0.000     1.3e+07    1.57e+07\n",
       "===================================================================================\n",
       "Ljung-Box (L1) (Q):                   0.18   Jarque-Bera (JB):              1369.47\n",
       "Prob(Q):                              0.67   Prob(JB):                         0.00\n",
       "Heteroskedasticity (H):               0.22   Skew:                             0.98\n",
       "Prob(H) (two-sided):                  0.00   Kurtosis:                        16.33\n",
       "===================================================================================\n",
       "\n",
       "Warnings:\n",
       "[1] Covariance matrix calculated using the outer product of gradients (complex-step).\n",
       "\"\"\""
      ]
     },
     "execution_count": 60,
     "metadata": {},
     "output_type": "execute_result"
    }
   ],
   "source": [
    "# Seasonal - fit stepwise auto-ARIMA\n",
    "smodel = pm.auto_arima(chicago_dt, start_p=1, start_q=1,\n",
    "                         test='adf',\n",
    "                         max_p=3, max_q=3, m=12,\n",
    "                         start_P=0, seasonal=True,\n",
    "                         d=None, D=1, trace=True,\n",
    "                         error_action='ignore',  \n",
    "                         suppress_warnings=True, \n",
    "                         stepwise=True)\n",
    "\n",
    "smodel.summary()"
   ]
  },
  {
   "cell_type": "code",
   "execution_count": 61,
   "id": "50605137",
   "metadata": {
    "execution": {
     "iopub.execute_input": "2022-06-03T23:25:25.157371Z",
     "iopub.status.busy": "2022-06-03T23:25:25.156958Z",
     "iopub.status.idle": "2022-06-03T23:25:25.435805Z",
     "shell.execute_reply": "2022-06-03T23:25:25.434588Z"
    },
    "papermill": {
     "duration": 0.316154,
     "end_time": "2022-06-03T23:25:25.438513",
     "exception": false,
     "start_time": "2022-06-03T23:25:25.122359",
     "status": "completed"
    },
    "tags": []
   },
   "outputs": [
    {
     "data": {
      "image/png": "[encoded data removed]",
      "text/plain": [
       "<Figure size 1080x1080 with 1 Axes>"
      ]
     },
     "metadata": {
      "needs_background": "light"
     },
     "output_type": "display_data"
    }
   ],
   "source": [
    "# Forecast\n",
    "n_periods = 24\n",
    "fitted, confint = smodel.predict(n_periods=n_periods, return_conf_int=True)\n",
    "index_of_fc = pd.date_range(chicago_dt.index[-1], periods = n_periods, freq='MS')\n",
    "\n",
    "# make series for plotting purpose\n",
    "fitted_series = pd.Series(fitted, index=index_of_fc)\n",
    "lower_series = pd.Series(confint[:, 0], index=index_of_fc)\n",
    "upper_series = pd.Series(confint[:, 1], index=index_of_fc)\n",
    "\n",
    "# Plot\n",
    "plt.plot(chicago_dt)\n",
    "plt.plot(fitted_series, color='darkgreen')\n",
    "plt.fill_between(lower_series.index, \n",
    "                 lower_series, \n",
    "                 upper_series, \n",
    "                 color='k', alpha=.15)\n",
    "\n",
    "plt.title(\"SARIMA - Final Forecast of Drug Sales - Time Series Dataset\")\n",
    "plt.show()"
   ]
  },
  {
   "cell_type": "code",
   "execution_count": 62,
   "id": "05920bce",
   "metadata": {
    "execution": {
     "iopub.execute_input": "2022-06-03T23:25:25.507012Z",
     "iopub.status.busy": "2022-06-03T23:25:25.506596Z",
     "iopub.status.idle": "2022-06-03T23:25:25.510833Z",
     "shell.execute_reply": "2022-06-03T23:25:25.509783Z"
    },
    "papermill": {
     "duration": 0.04066,
     "end_time": "2022-06-03T23:25:25.512862",
     "exception": false,
     "start_time": "2022-06-03T23:25:25.472202",
     "status": "completed"
    },
    "tags": []
   },
   "outputs": [],
   "source": [
    "#==============================================="
   ]
  },
  {
   "cell_type": "code",
   "execution_count": 63,
   "id": "8e0f9626",
   "metadata": {
    "execution": {
     "iopub.execute_input": "2022-06-03T23:25:25.579674Z",
     "iopub.status.busy": "2022-06-03T23:25:25.579301Z",
     "iopub.status.idle": "2022-06-03T23:25:25.599414Z",
     "shell.execute_reply": "2022-06-03T23:25:25.598343Z"
    },
    "papermill": {
     "duration": 0.05619,
     "end_time": "2022-06-03T23:25:25.601717",
     "exception": false,
     "start_time": "2022-06-03T23:25:25.545527",
     "status": "completed"
    },
    "tags": []
   },
   "outputs": [],
   "source": [
    "# Compute Seasonal Index\n",
    "from statsmodels.tsa.seasonal import seasonal_decompose\n",
    "from dateutil.parser import parse\n",
    "\n",
    "# multiplicative seasonal component\n",
    "result_mul = seasonal_decompose(chicago_dt['Number of crimes'][-36:],   # 3 years\n",
    "                                model='multiplicative', \n",
    "                                extrapolate_trend='freq')\n",
    "\n",
    "seasonal_index = result_mul.seasonal[-12:].to_frame()\n",
    "seasonal_index['month'] = pd.to_datetime(seasonal_index.index).month\n",
    "\n",
    "# merge with the base data\n",
    "chicago_dt['month'] = chicago_dt.index.month\n",
    "df = pd.merge(chicago_dt, seasonal_index, how='left', on='month')\n",
    "df.columns = ['value', 'month', 'seasonal_index']\n",
    "df.index = chicago_dt.index  # reassign the index"
   ]
  },
  {
   "cell_type": "code",
   "execution_count": 64,
   "id": "031b7f2b",
   "metadata": {
    "execution": {
     "iopub.execute_input": "2022-06-03T23:25:25.670834Z",
     "iopub.status.busy": "2022-06-03T23:25:25.670410Z",
     "iopub.status.idle": "2022-06-03T23:27:16.415383Z",
     "shell.execute_reply": "2022-06-03T23:27:16.414163Z"
    },
    "papermill": {
     "duration": 110.784699,
     "end_time": "2022-06-03T23:27:16.421029",
     "exception": false,
     "start_time": "2022-06-03T23:25:25.636330",
     "status": "completed"
    },
    "tags": []
   },
   "outputs": [
    {
     "name": "stdout",
     "output_type": "stream",
     "text": [
      "Performing stepwise search to minimize aic\n",
      " ARIMA(1,0,1)(0,1,1)[12] intercept   : AIC=3521.943, Time=2.38 sec\n",
      " ARIMA(0,0,0)(0,1,0)[12] intercept   : AIC=3895.635, Time=0.07 sec\n",
      " ARIMA(1,0,0)(1,1,0)[12] intercept   : AIC=3544.523, Time=2.50 sec\n",
      " ARIMA(0,0,1)(0,1,1)[12] intercept   : AIC=3703.580, Time=1.86 sec\n",
      " ARIMA(0,0,0)(0,1,0)[12]             : AIC=4656.825, Time=0.06 sec\n",
      " ARIMA(1,0,1)(0,1,0)[12] intercept   : AIC=3598.388, Time=0.10 sec\n",
      " ARIMA(1,0,1)(1,1,1)[12] intercept   : AIC=3515.453, Time=1.80 sec\n",
      " ARIMA(1,0,1)(1,1,0)[12] intercept   : AIC=3524.851, Time=2.16 sec\n",
      " ARIMA(1,0,1)(2,1,1)[12] intercept   : AIC=3518.828, Time=6.82 sec\n",
      " ARIMA(1,0,1)(1,1,2)[12] intercept   : AIC=3516.944, Time=5.74 sec\n",
      " ARIMA(1,0,1)(0,1,2)[12] intercept   : AIC=3517.872, Time=5.49 sec\n",
      " ARIMA(1,0,1)(2,1,0)[12] intercept   : AIC=3519.736, Time=4.57 sec\n",
      " ARIMA(1,0,1)(2,1,2)[12] intercept   : AIC=3521.561, Time=6.90 sec\n",
      " ARIMA(0,0,1)(1,1,1)[12] intercept   : AIC=3704.842, Time=2.55 sec\n",
      " ARIMA(1,0,0)(1,1,1)[12] intercept   : AIC=3528.891, Time=3.08 sec\n",
      " ARIMA(2,0,1)(1,1,1)[12] intercept   : AIC=3516.323, Time=2.32 sec\n",
      " ARIMA(1,0,2)(1,1,1)[12] intercept   : AIC=3516.402, Time=3.02 sec\n",
      " ARIMA(0,0,0)(1,1,1)[12] intercept   : AIC=3893.426, Time=0.53 sec\n",
      " ARIMA(0,0,2)(1,1,1)[12] intercept   : AIC=3678.072, Time=1.46 sec\n",
      " ARIMA(2,0,0)(1,1,1)[12] intercept   : AIC=3520.536, Time=2.85 sec\n",
      " ARIMA(2,0,2)(1,1,1)[12] intercept   : AIC=3519.417, Time=3.78 sec\n",
      " ARIMA(1,0,1)(1,1,1)[12]             : AIC=3513.469, Time=1.59 sec\n",
      " ARIMA(1,0,1)(0,1,1)[12]             : AIC=3518.390, Time=2.15 sec\n",
      " ARIMA(1,0,1)(1,1,0)[12]             : AIC=3522.868, Time=1.77 sec\n",
      " ARIMA(1,0,1)(2,1,1)[12]             : AIC=inf, Time=nan sec\n",
      " ARIMA(1,0,1)(1,1,2)[12]             : AIC=3517.372, Time=5.16 sec\n",
      " ARIMA(1,0,1)(0,1,0)[12]             : AIC=3596.430, Time=0.16 sec\n",
      " ARIMA(1,0,1)(0,1,2)[12]             : AIC=3515.795, Time=3.93 sec\n",
      " ARIMA(1,0,1)(2,1,0)[12]             : AIC=3517.767, Time=4.50 sec\n",
      " ARIMA(1,0,1)(2,1,2)[12]             : AIC=inf, Time=6.36 sec\n",
      " ARIMA(0,0,1)(1,1,1)[12]             : AIC=3705.147, Time=2.06 sec\n",
      " ARIMA(1,0,0)(1,1,1)[12]             : AIC=3526.422, Time=2.76 sec\n",
      " ARIMA(2,0,1)(1,1,1)[12]             : AIC=3514.335, Time=2.54 sec\n",
      " ARIMA(1,0,2)(1,1,1)[12]             : AIC=3514.037, Time=3.68 sec\n",
      " ARIMA(0,0,0)(1,1,1)[12]             : AIC=inf, Time=0.84 sec\n",
      " ARIMA(0,0,2)(1,1,1)[12]             : AIC=3629.201, Time=2.61 sec\n",
      " ARIMA(2,0,0)(1,1,1)[12]             : AIC=3521.839, Time=1.45 sec\n",
      " ARIMA(2,0,2)(1,1,1)[12]             : AIC=3515.177, Time=3.18 sec\n",
      "\n",
      "Best model:  ARIMA(1,0,1)(1,1,1)[12]          \n",
      "Total fit time: 110.696 seconds\n"
     ]
    },
    {
     "data": {
      "text/html": [
       "<table class=\"simpletable\">\n",
       "<caption>SARIMAX Results</caption>\n",
       "<tr>\n",
       "  <th>Dep. Variable:</th>                  <td>y</td>               <th>  No. Observations:  </th>    <td>193</td>   \n",
       "</tr>\n",
       "<tr>\n",
       "  <th>Model:</th>           <td>SARIMAX(1, 0, 1)x(1, 1, 1, 12)</td> <th>  Log Likelihood     </th> <td>-1750.735</td>\n",
       "</tr>\n",
       "<tr>\n",
       "  <th>Date:</th>                   <td>Fri, 03 Jun 2022</td>        <th>  AIC                </th> <td>3513.469</td> \n",
       "</tr>\n",
       "<tr>\n",
       "  <th>Time:</th>                       <td>23:27:16</td>            <th>  BIC                </th> <td>3532.660</td> \n",
       "</tr>\n",
       "<tr>\n",
       "  <th>Sample:</th>                    <td>01-31-2001</td>           <th>  HQIC               </th> <td>3521.250</td> \n",
       "</tr>\n",
       "<tr>\n",
       "  <th></th>                          <td>- 01-31-2017</td>          <th>                     </th>     <td> </td>    \n",
       "</tr>\n",
       "<tr>\n",
       "  <th>Covariance Type:</th>               <td>opg</td>              <th>                     </th>     <td> </td>    \n",
       "</tr>\n",
       "</table>\n",
       "<table class=\"simpletable\">\n",
       "<tr>\n",
       "         <td></td>           <th>coef</th>     <th>std err</th>      <th>z</th>      <th>P>|z|</th>  <th>[0.025</th>    <th>0.975]</th>  \n",
       "</tr>\n",
       "<tr>\n",
       "  <th>seasonal_index</th> <td>    9.1168</td> <td> 8715.742</td> <td>    0.001</td> <td> 0.999</td> <td>-1.71e+04</td> <td> 1.71e+04</td>\n",
       "</tr>\n",
       "<tr>\n",
       "  <th>ar.L1</th>          <td>    0.9433</td> <td>    0.030</td> <td>   31.520</td> <td> 0.000</td> <td>    0.885</td> <td>    1.002</td>\n",
       "</tr>\n",
       "<tr>\n",
       "  <th>ma.L1</th>          <td>    0.3761</td> <td>    0.056</td> <td>    6.760</td> <td> 0.000</td> <td>    0.267</td> <td>    0.485</td>\n",
       "</tr>\n",
       "<tr>\n",
       "  <th>ar.S.L12</th>       <td>   -0.3375</td> <td>    0.046</td> <td>   -7.328</td> <td> 0.000</td> <td>   -0.428</td> <td>   -0.247</td>\n",
       "</tr>\n",
       "<tr>\n",
       "  <th>ma.S.L12</th>       <td>   -0.5451</td> <td>    0.056</td> <td>   -9.753</td> <td> 0.000</td> <td>   -0.655</td> <td>   -0.436</td>\n",
       "</tr>\n",
       "<tr>\n",
       "  <th>sigma2</th>         <td> 1.434e+07</td> <td>   56.839</td> <td> 2.52e+05</td> <td> 0.000</td> <td> 1.43e+07</td> <td> 1.43e+07</td>\n",
       "</tr>\n",
       "</table>\n",
       "<table class=\"simpletable\">\n",
       "<tr>\n",
       "  <th>Ljung-Box (L1) (Q):</th>     <td>0.18</td> <th>  Jarque-Bera (JB):  </th> <td>1369.37</td>\n",
       "</tr>\n",
       "<tr>\n",
       "  <th>Prob(Q):</th>                <td>0.67</td> <th>  Prob(JB):          </th>  <td>0.00</td>  \n",
       "</tr>\n",
       "<tr>\n",
       "  <th>Heteroskedasticity (H):</th> <td>0.22</td> <th>  Skew:              </th>  <td>0.98</td>  \n",
       "</tr>\n",
       "<tr>\n",
       "  <th>Prob(H) (two-sided):</th>    <td>0.00</td> <th>  Kurtosis:          </th>  <td>16.33</td> \n",
       "</tr>\n",
       "</table><br/><br/>Warnings:<br/>[1] Covariance matrix calculated using the outer product of gradients (complex-step).<br/>[2] Covariance matrix is singular or near-singular, with condition number 3.97e+25. Standard errors may be unstable."
      ],
      "text/plain": [
       "<class 'statsmodels.iolib.summary.Summary'>\n",
       "\"\"\"\n",
       "                                     SARIMAX Results                                      \n",
       "==========================================================================================\n",
       "Dep. Variable:                                  y   No. Observations:                  193\n",
       "Model:             SARIMAX(1, 0, 1)x(1, 1, 1, 12)   Log Likelihood               -1750.735\n",
       "Date:                            Fri, 03 Jun 2022   AIC                           3513.469\n",
       "Time:                                    23:27:16   BIC                           3532.660\n",
       "Sample:                                01-31-2001   HQIC                          3521.250\n",
       "                                     - 01-31-2017                                         \n",
       "Covariance Type:                              opg                                         \n",
       "==================================================================================\n",
       "                     coef    std err          z      P>|z|      [0.025      0.975]\n",
       "----------------------------------------------------------------------------------\n",
       "seasonal_index     9.1168   8715.742      0.001      0.999   -1.71e+04    1.71e+04\n",
       "ar.L1              0.9433      0.030     31.520      0.000       0.885       1.002\n",
       "ma.L1              0.3761      0.056      6.760      0.000       0.267       0.485\n",
       "ar.S.L12          -0.3375      0.046     -7.328      0.000      -0.428      -0.247\n",
       "ma.S.L12          -0.5451      0.056     -9.753      0.000      -0.655      -0.436\n",
       "sigma2          1.434e+07     56.839   2.52e+05      0.000    1.43e+07    1.43e+07\n",
       "===================================================================================\n",
       "Ljung-Box (L1) (Q):                   0.18   Jarque-Bera (JB):              1369.37\n",
       "Prob(Q):                              0.67   Prob(JB):                         0.00\n",
       "Heteroskedasticity (H):               0.22   Skew:                             0.98\n",
       "Prob(H) (two-sided):                  0.00   Kurtosis:                        16.33\n",
       "===================================================================================\n",
       "\n",
       "Warnings:\n",
       "[1] Covariance matrix calculated using the outer product of gradients (complex-step).\n",
       "[2] Covariance matrix is singular or near-singular, with condition number 3.97e+25. Standard errors may be unstable.\n",
       "\"\"\""
      ]
     },
     "execution_count": 64,
     "metadata": {},
     "output_type": "execute_result"
    }
   ],
   "source": [
    "# SARIMAX Model\n",
    "sxmodel = pm.auto_arima(chicago_dt[['Number of crimes']], exogenous=df[['seasonal_index']],\n",
    "                           start_p=1, start_q=1,\n",
    "                           test='adf',\n",
    "                           max_p=3, max_q=3, m=12,\n",
    "                           start_P=0, seasonal=True,\n",
    "                           d=None, D=1, trace=True,\n",
    "                           error_action='ignore',  \n",
    "                           suppress_warnings=True, \n",
    "                           stepwise=True)\n",
    "\n",
    "sxmodel.summary()"
   ]
  },
  {
   "cell_type": "code",
   "execution_count": null,
   "id": "ff3b1ffd",
   "metadata": {
    "papermill": {
     "duration": 0.034374,
     "end_time": "2022-06-03T23:27:16.510812",
     "exception": false,
     "start_time": "2022-06-03T23:27:16.476438",
     "status": "completed"
    },
    "tags": []
   },
   "outputs": [],
   "source": []
  }
 ],
 "metadata": {
  "kernelspec": {
   "display_name": "Python 3",
   "language": "python",
   "name": "python3"
  },
  "language_info": {
   "codemirror_mode": {
    "name": "ipython",
    "version": 3
   },
   "file_extension": ".py",
   "mimetype": "text/x-python",
   "name": "python",
   "nbconvert_exporter": "python",
   "pygments_lexer": "ipython3",
   "version": "3.7.12"
  },
  "papermill": {
   "default_parameters": {},
   "duration": 453.966208,
   "end_time": "2022-06-03T23:27:19.067713",
   "environment_variables": {},
   "exception": null,
   "input_path": "__notebook__.ipynb",
   "output_path": "__notebook__.ipynb",
   "parameters": {},
   "start_time": "2022-06-03T23:19:45.101505",
   "version": "2.3.4"
  }
 },
 "nbformat": 4,
 "nbformat_minor": 5
}
